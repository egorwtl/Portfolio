{
 "cells": [
  {
   "cell_type": "markdown",
   "metadata": {},
   "source": [
    "# Исследование объявлений о продаже квартир\n",
    "\n",
    "В вашем распоряжении данные сервиса Яндекс.Недвижимость — архив объявлений о продаже квартир в Санкт-Петербурге и соседних населённых пунктов за несколько лет. Нужно научиться определять рыночную стоимость объектов недвижимости. Ваша задача — установить параметры. Это позволит построить автоматизированную систему: она отследит аномалии и мошенническую деятельность. \n",
    "\n",
    "По каждой квартире на продажу доступны два вида данных. Первые вписаны пользователем, вторые — получены автоматически на основе картографических данных. Например, расстояние до центра, аэропорта, ближайшего парка и водоёма. "
   ]
  },
  {
   "cell_type": "markdown",
   "metadata": {},
   "source": [
    "**Откроем файл с данными и изучим общую информацию.**"
   ]
  },
  {
   "cell_type": "code",
   "execution_count": 1,
   "metadata": {},
   "outputs": [],
   "source": [
    "import pandas as pd"
   ]
  },
  {
   "cell_type": "code",
   "execution_count": 2,
   "metadata": {},
   "outputs": [
    {
     "data": {
      "text/html": [
       "<div>\n",
       "<style scoped>\n",
       "    .dataframe tbody tr th:only-of-type {\n",
       "        vertical-align: middle;\n",
       "    }\n",
       "\n",
       "    .dataframe tbody tr th {\n",
       "        vertical-align: top;\n",
       "    }\n",
       "\n",
       "    .dataframe thead th {\n",
       "        text-align: right;\n",
       "    }\n",
       "</style>\n",
       "<table border=\"1\" class=\"dataframe\">\n",
       "  <thead>\n",
       "    <tr style=\"text-align: right;\">\n",
       "      <th></th>\n",
       "      <th>total_images</th>\n",
       "      <th>last_price</th>\n",
       "      <th>total_area</th>\n",
       "      <th>first_day_exposition</th>\n",
       "      <th>rooms</th>\n",
       "      <th>ceiling_height</th>\n",
       "      <th>floors_total</th>\n",
       "      <th>living_area</th>\n",
       "      <th>floor</th>\n",
       "      <th>is_apartment</th>\n",
       "      <th>...</th>\n",
       "      <th>kitchen_area</th>\n",
       "      <th>balcony</th>\n",
       "      <th>locality_name</th>\n",
       "      <th>airports_nearest</th>\n",
       "      <th>cityCenters_nearest</th>\n",
       "      <th>parks_around3000</th>\n",
       "      <th>parks_nearest</th>\n",
       "      <th>ponds_around3000</th>\n",
       "      <th>ponds_nearest</th>\n",
       "      <th>days_exposition</th>\n",
       "    </tr>\n",
       "  </thead>\n",
       "  <tbody>\n",
       "    <tr>\n",
       "      <th>0</th>\n",
       "      <td>20</td>\n",
       "      <td>13000000.0</td>\n",
       "      <td>108.0</td>\n",
       "      <td>2019-03-07T00:00:00</td>\n",
       "      <td>3</td>\n",
       "      <td>2.70</td>\n",
       "      <td>16.0</td>\n",
       "      <td>51.0</td>\n",
       "      <td>8</td>\n",
       "      <td>NaN</td>\n",
       "      <td>...</td>\n",
       "      <td>25.0</td>\n",
       "      <td>NaN</td>\n",
       "      <td>Санкт-Петербург</td>\n",
       "      <td>18863.0</td>\n",
       "      <td>16028.0</td>\n",
       "      <td>1.0</td>\n",
       "      <td>482.0</td>\n",
       "      <td>2.0</td>\n",
       "      <td>755.0</td>\n",
       "      <td>NaN</td>\n",
       "    </tr>\n",
       "    <tr>\n",
       "      <th>1</th>\n",
       "      <td>7</td>\n",
       "      <td>3350000.0</td>\n",
       "      <td>40.4</td>\n",
       "      <td>2018-12-04T00:00:00</td>\n",
       "      <td>1</td>\n",
       "      <td>NaN</td>\n",
       "      <td>11.0</td>\n",
       "      <td>18.6</td>\n",
       "      <td>1</td>\n",
       "      <td>NaN</td>\n",
       "      <td>...</td>\n",
       "      <td>11.0</td>\n",
       "      <td>2.0</td>\n",
       "      <td>посёлок Шушары</td>\n",
       "      <td>12817.0</td>\n",
       "      <td>18603.0</td>\n",
       "      <td>0.0</td>\n",
       "      <td>NaN</td>\n",
       "      <td>0.0</td>\n",
       "      <td>NaN</td>\n",
       "      <td>81.0</td>\n",
       "    </tr>\n",
       "    <tr>\n",
       "      <th>2</th>\n",
       "      <td>10</td>\n",
       "      <td>5196000.0</td>\n",
       "      <td>56.0</td>\n",
       "      <td>2015-08-20T00:00:00</td>\n",
       "      <td>2</td>\n",
       "      <td>NaN</td>\n",
       "      <td>5.0</td>\n",
       "      <td>34.3</td>\n",
       "      <td>4</td>\n",
       "      <td>NaN</td>\n",
       "      <td>...</td>\n",
       "      <td>8.3</td>\n",
       "      <td>0.0</td>\n",
       "      <td>Санкт-Петербург</td>\n",
       "      <td>21741.0</td>\n",
       "      <td>13933.0</td>\n",
       "      <td>1.0</td>\n",
       "      <td>90.0</td>\n",
       "      <td>2.0</td>\n",
       "      <td>574.0</td>\n",
       "      <td>558.0</td>\n",
       "    </tr>\n",
       "    <tr>\n",
       "      <th>3</th>\n",
       "      <td>0</td>\n",
       "      <td>64900000.0</td>\n",
       "      <td>159.0</td>\n",
       "      <td>2015-07-24T00:00:00</td>\n",
       "      <td>3</td>\n",
       "      <td>NaN</td>\n",
       "      <td>14.0</td>\n",
       "      <td>NaN</td>\n",
       "      <td>9</td>\n",
       "      <td>NaN</td>\n",
       "      <td>...</td>\n",
       "      <td>NaN</td>\n",
       "      <td>0.0</td>\n",
       "      <td>Санкт-Петербург</td>\n",
       "      <td>28098.0</td>\n",
       "      <td>6800.0</td>\n",
       "      <td>2.0</td>\n",
       "      <td>84.0</td>\n",
       "      <td>3.0</td>\n",
       "      <td>234.0</td>\n",
       "      <td>424.0</td>\n",
       "    </tr>\n",
       "    <tr>\n",
       "      <th>4</th>\n",
       "      <td>2</td>\n",
       "      <td>10000000.0</td>\n",
       "      <td>100.0</td>\n",
       "      <td>2018-06-19T00:00:00</td>\n",
       "      <td>2</td>\n",
       "      <td>3.03</td>\n",
       "      <td>14.0</td>\n",
       "      <td>32.0</td>\n",
       "      <td>13</td>\n",
       "      <td>NaN</td>\n",
       "      <td>...</td>\n",
       "      <td>41.0</td>\n",
       "      <td>NaN</td>\n",
       "      <td>Санкт-Петербург</td>\n",
       "      <td>31856.0</td>\n",
       "      <td>8098.0</td>\n",
       "      <td>2.0</td>\n",
       "      <td>112.0</td>\n",
       "      <td>1.0</td>\n",
       "      <td>48.0</td>\n",
       "      <td>121.0</td>\n",
       "    </tr>\n",
       "  </tbody>\n",
       "</table>\n",
       "<p>5 rows × 22 columns</p>\n",
       "</div>"
      ],
      "text/plain": [
       "   total_images  last_price  total_area first_day_exposition  rooms  \\\n",
       "0            20  13000000.0       108.0  2019-03-07T00:00:00      3   \n",
       "1             7   3350000.0        40.4  2018-12-04T00:00:00      1   \n",
       "2            10   5196000.0        56.0  2015-08-20T00:00:00      2   \n",
       "3             0  64900000.0       159.0  2015-07-24T00:00:00      3   \n",
       "4             2  10000000.0       100.0  2018-06-19T00:00:00      2   \n",
       "\n",
       "   ceiling_height  floors_total  living_area  floor is_apartment  ...  \\\n",
       "0            2.70          16.0         51.0      8          NaN  ...   \n",
       "1             NaN          11.0         18.6      1          NaN  ...   \n",
       "2             NaN           5.0         34.3      4          NaN  ...   \n",
       "3             NaN          14.0          NaN      9          NaN  ...   \n",
       "4            3.03          14.0         32.0     13          NaN  ...   \n",
       "\n",
       "   kitchen_area  balcony    locality_name  airports_nearest  \\\n",
       "0          25.0      NaN  Санкт-Петербург           18863.0   \n",
       "1          11.0      2.0   посёлок Шушары           12817.0   \n",
       "2           8.3      0.0  Санкт-Петербург           21741.0   \n",
       "3           NaN      0.0  Санкт-Петербург           28098.0   \n",
       "4          41.0      NaN  Санкт-Петербург           31856.0   \n",
       "\n",
       "  cityCenters_nearest  parks_around3000  parks_nearest  ponds_around3000  \\\n",
       "0             16028.0               1.0          482.0               2.0   \n",
       "1             18603.0               0.0            NaN               0.0   \n",
       "2             13933.0               1.0           90.0               2.0   \n",
       "3              6800.0               2.0           84.0               3.0   \n",
       "4              8098.0               2.0          112.0               1.0   \n",
       "\n",
       "   ponds_nearest  days_exposition  \n",
       "0          755.0              NaN  \n",
       "1            NaN             81.0  \n",
       "2          574.0            558.0  \n",
       "3          234.0            424.0  \n",
       "4           48.0            121.0  \n",
       "\n",
       "[5 rows x 22 columns]"
      ]
     },
     "execution_count": 2,
     "metadata": {},
     "output_type": "execute_result"
    }
   ],
   "source": [
    "data = pd.read_csv('/datasets/real_estate_data.csv', sep='\\t')\n",
    "data.head()"
   ]
  },
  {
   "cell_type": "code",
   "execution_count": 3,
   "metadata": {},
   "outputs": [
    {
     "name": "stdout",
     "output_type": "stream",
     "text": [
      "<class 'pandas.core.frame.DataFrame'>\n",
      "RangeIndex: 23699 entries, 0 to 23698\n",
      "Data columns (total 22 columns):\n",
      " #   Column                Non-Null Count  Dtype  \n",
      "---  ------                --------------  -----  \n",
      " 0   total_images          23699 non-null  int64  \n",
      " 1   last_price            23699 non-null  float64\n",
      " 2   total_area            23699 non-null  float64\n",
      " 3   first_day_exposition  23699 non-null  object \n",
      " 4   rooms                 23699 non-null  int64  \n",
      " 5   ceiling_height        14504 non-null  float64\n",
      " 6   floors_total          23613 non-null  float64\n",
      " 7   living_area           21796 non-null  float64\n",
      " 8   floor                 23699 non-null  int64  \n",
      " 9   is_apartment          2775 non-null   object \n",
      " 10  studio                23699 non-null  bool   \n",
      " 11  open_plan             23699 non-null  bool   \n",
      " 12  kitchen_area          21421 non-null  float64\n",
      " 13  balcony               12180 non-null  float64\n",
      " 14  locality_name         23650 non-null  object \n",
      " 15  airports_nearest      18157 non-null  float64\n",
      " 16  cityCenters_nearest   18180 non-null  float64\n",
      " 17  parks_around3000      18181 non-null  float64\n",
      " 18  parks_nearest         8079 non-null   float64\n",
      " 19  ponds_around3000      18181 non-null  float64\n",
      " 20  ponds_nearest         9110 non-null   float64\n",
      " 21  days_exposition       20518 non-null  float64\n",
      "dtypes: bool(2), float64(14), int64(3), object(3)\n",
      "memory usage: 3.7+ MB\n"
     ]
    }
   ],
   "source": [
    "data.info()"
   ]
  },
  {
   "cell_type": "code",
   "execution_count": 4,
   "metadata": {},
   "outputs": [
    {
     "data": {
      "image/png": "[encoded data removed]",
      "text/plain": [
       "<Figure size 1080x1440 with 20 Axes>"
      ]
     },
     "metadata": {
      "needs_background": "light"
     },
     "output_type": "display_data"
    }
   ],
   "source": [
    "data.hist(figsize=(15, 20));"
   ]
  },
  {
   "cell_type": "markdown",
   "metadata": {},
   "source": [
    "### Предобработка данных"
   ]
  },
  {
   "cell_type": "code",
   "execution_count": 5,
   "metadata": {},
   "outputs": [
    {
     "data": {
      "text/plain": [
       "total_images                0\n",
       "last_price                  0\n",
       "total_area                  0\n",
       "first_day_exposition        0\n",
       "rooms                       0\n",
       "ceiling_height           9195\n",
       "floors_total               86\n",
       "living_area              1903\n",
       "floor                       0\n",
       "is_apartment            20924\n",
       "studio                      0\n",
       "open_plan                   0\n",
       "kitchen_area             2278\n",
       "balcony                 11519\n",
       "locality_name              49\n",
       "airports_nearest         5542\n",
       "cityCenters_nearest      5519\n",
       "parks_around3000         5518\n",
       "parks_nearest           15620\n",
       "ponds_around3000         5518\n",
       "ponds_nearest           14589\n",
       "days_exposition          3181\n",
       "dtype: int64"
      ]
     },
     "execution_count": 5,
     "metadata": {},
     "output_type": "execute_result"
    }
   ],
   "source": [
    "data.isna().sum()"
   ]
  },
  {
   "cell_type": "markdown",
   "metadata": {},
   "source": [
    "Пропуски еcть в большинстве столбцов: ceiling_height, floors_total, living_area, is_apartment, kitchen_area, balcony, locality_name, airports_nearest, cityCenters_nearest,  parks_around3000, parks_nearest, ponds_around3000, ponds_nearest, days_exposition. \n",
    "\n",
    "В столбцах ceiling_height, floors_total, is_apartment, locality_name, airports_nearest, cityCenters_nearest, parks_nearest, ponds_nearest логичную замену предложить невозможно. Пропуски в данных значениях можно считать случайными, потому что, например, хозяин квартиры не указал данное значение по каким-либо причинам или произошёл технический сбой, как например, в столбце is_apartment -- все пропущенные значения данного стобца можно заменить на False. Данные пропуски можно оставить незаполненными.\n",
    "\n",
    "Пропуски в days_exposition могли возникнуть из-за того, что объявление все же в продаже.\n",
    "Пропуски в столбцах living_area, kitchen_area легко восстановить по столбцу total_area.\n",
    "В столбцах parks_around3000, ponds_around3000 и balcony пропущенные значения можно объяснить отсутствием данного объекта и заполнить их нулём."
   ]
  },
  {
   "cell_type": "code",
   "execution_count": 6,
   "metadata": {},
   "outputs": [],
   "source": [
    "data['balcony'] = data['balcony'].fillna(0)\n",
    "data['parks_around3000'] = data['parks_around3000'].fillna(0)\n",
    "data['ponds_around3000'] = data['ponds_around3000'].fillna(0)"
   ]
  },
  {
   "cell_type": "code",
   "execution_count": 7,
   "metadata": {},
   "outputs": [],
   "source": [
    "data['kitchen_area'] = data['kitchen_area'].fillna((data['total_area']) - data['living_area'])\n",
    "data['living_area'] = data['living_area'].fillna((data['total_area']) - data['kitchen_area'])\n",
    "data['is_apartment'] = data['is_apartment'].fillna(False)"
   ]
  },
  {
   "cell_type": "code",
   "execution_count": 8,
   "metadata": {},
   "outputs": [
    {
     "data": {
      "text/plain": [
       "total_images                0\n",
       "last_price                  0\n",
       "total_area                  0\n",
       "first_day_exposition        0\n",
       "rooms                       0\n",
       "ceiling_height           9195\n",
       "floors_total               86\n",
       "living_area              1464\n",
       "floor                       0\n",
       "is_apartment                0\n",
       "studio                      0\n",
       "open_plan                   0\n",
       "kitchen_area             1464\n",
       "balcony                     0\n",
       "locality_name              49\n",
       "airports_nearest         5542\n",
       "cityCenters_nearest      5519\n",
       "parks_around3000            0\n",
       "parks_nearest           15620\n",
       "ponds_around3000            0\n",
       "ponds_nearest           14589\n",
       "days_exposition          3181\n",
       "dtype: int64"
      ]
     },
     "execution_count": 8,
     "metadata": {},
     "output_type": "execute_result"
    }
   ],
   "source": [
    "data.isna().sum()"
   ]
  },
  {
   "cell_type": "markdown",
   "metadata": {},
   "source": [
    "Столбец first_day_exposition можно перевести в формат datetime, так как там хранятся данные в формате дат, но формат данных object. Для упрощения последующей работы стоит перевести в формат datetime. Столбец is_apartment можно перевести в булев тип, так как там хранится информация и так булева типа, но воспринимаемая Питоном, как object, и это нужно исправить. Кроме того, нужно поменять тип balcony в целочисленный."
   ]
  },
  {
   "cell_type": "code",
   "execution_count": 9,
   "metadata": {},
   "outputs": [],
   "source": [
    "data['first_day_exposition'] = pd.to_datetime(data['first_day_exposition'], format='%Y-%m-%d %H:%M')\n",
    "data['is_apartment'] = data['is_apartment'].astype('bool')\n",
    "data['balcony'] = data['balcony'].astype('int')"
   ]
  },
  {
   "cell_type": "markdown",
   "metadata": {},
   "source": [
    "**Очистим данные в столбце locality_name от неявных повторов.**"
   ]
  },
  {
   "cell_type": "code",
   "execution_count": 10,
   "metadata": {},
   "outputs": [
    {
     "data": {
      "text/plain": [
       "array(['Санкт-Петербург', 'Шушары', 'Янино-1', 'Парголово', 'Мурино',\n",
       "       'Ломоносов', 'Сертолово', 'Петергоф', 'Пушкин', 'Кудрово',\n",
       "       'Коммунар', 'Колпино', 'Красный Бор', 'Гатчина', 'Федоровское',\n",
       "       'Выборг', 'Кронштадт', 'Кировск', 'Новое Девяткино',\n",
       "       'Металлострой', 'Лебяжье', 'Сиверский', 'Молодцово',\n",
       "       'Кузьмоловский', 'Новая Ропша', 'Павловск', 'Пикколово',\n",
       "       'Всеволожск', 'Волхов', 'Кингисепп', 'Приозерск', 'Сестрорецк',\n",
       "       'Куттузи', 'Аннино', 'Ефимовский', 'Плодовое', 'Заклинье',\n",
       "       'Торковичи', 'Первомайское', 'Красное Село', 'Понтонный',\n",
       "       'Сясьстрой', 'Старая', 'Лесколово', 'Новый Свет', 'Сланцы',\n",
       "       'Путилово', 'Ивангород', 'Шлиссельбург', 'Никольское',\n",
       "       'Зеленогорск', 'Сосновый Бор', 'Оржицы', 'Кальтино', 'Романовка',\n",
       "       'Бугры', 'Рощино', 'Кириши', 'Луга', 'Волосово', 'Отрадное',\n",
       "       'Павлово', 'Оредеж', 'Копорье', 'Молодежное', 'Тихвин', 'Победа',\n",
       "       'Нурма', 'Синявино', 'Тосно', 'Стрельна', 'Бокситогорск',\n",
       "       'Александровская', 'Лопухинка', 'Пикалево', 'Терволово',\n",
       "       'Советский', 'Подпорожье', 'Петровское', 'Токсово', 'Сельцо',\n",
       "       'Вырица', 'Кипень', 'Келози', 'Вартемяги', 'Тельмана',\n",
       "       'Севастьяново', 'Большая Ижора', nan, 'Агалатово', 'Новогорелово',\n",
       "       'Лесогорский', 'Лаголово', 'Цвелодубово', 'Рахья', 'Белогорка',\n",
       "       'Заводской', 'Новоселье', 'Большие Колпаны', 'Горбунки', 'Батово',\n",
       "       'Заневка', 'Иссад', 'Приморск', 'Мистолово', 'Новая Ладога',\n",
       "       'Зимитицы', 'Барышево', 'Разметелево', 'Свердлова', 'Пеники',\n",
       "       'Рябово', 'Пудомяги', 'Корнево', 'Низино', 'Бегуницы', 'Поляны',\n",
       "       'Мга', 'Елизаветино', 'Кузнечное', 'Колтуши', 'Запорожское',\n",
       "       'Гостилицы', 'Малое Карлино', 'Мичуринское', 'Морозова',\n",
       "       'Песочный', 'Сосново', 'Аро', 'Ильичево', 'Тайцы', 'Малое Верево',\n",
       "       'Извара', 'Вещево', 'Паша', 'Калитино', 'Ульяновка', 'Чудской Бор',\n",
       "       'Дубровка', 'Мины', 'Войсковицы', 'Коркино', 'Ропша',\n",
       "       'Приладожский', 'Щеглово', 'Гаврилово', 'Лодейное Поле',\n",
       "       'Рабитицы', 'Никольский', 'Кузьмолово', 'Малые Колпаны',\n",
       "       'Петро-Славянка', 'Назия', 'Репино', 'Углово', 'Старая Малукса',\n",
       "       'Меньково', 'Старые Бегуницы', 'Саперный', 'Семрино', 'Глажево',\n",
       "       'Кобринское', 'Гарболово', 'Юкки', 'Приветнинское', 'Мануйлово',\n",
       "       'Пчева', 'Цвылево', 'Мельниково', 'Пудость', 'Усть-Луга',\n",
       "       'Светогорск', 'Любань', 'Селезнево', 'Каменногорск', 'Кривко',\n",
       "       'Глебычево', 'Парицы', 'Жил', 'Войскорово', 'Стеклянный', 'Важины',\n",
       "       'Мыза-Ивановка', 'Русско-Высоцкое', 'Форносово', 'Старая Ладога',\n",
       "       'Житково', 'Виллози', 'Лампово', 'Шпаньково', 'Лаврики', 'Сумино',\n",
       "       'Возрождение', 'Старосиверская', 'Кикерино', 'Старое Хинколово',\n",
       "       'Пригородный', 'Торфяное', 'Будогощь', 'Суходолье',\n",
       "       'Красная Долина', 'Хапо-Ое', 'Дружная Горка', 'Лисий Нос',\n",
       "       'Яльгелево', 'Рождествено', 'Старополье', 'Левашово', 'Сяськелево',\n",
       "       'Камышовка', 'Лесная Поляна', 'Хязельки', 'Жилгородок', 'Ялгино',\n",
       "       'Новый Учхоз', 'Гончарово', 'Почап', 'Саперное',\n",
       "       'Платформа 69-й километр', 'Каложицы', 'Фалилеево', 'Пельгора',\n",
       "       'Торошковичи', 'Белоостров', 'Алексеевка', 'Серебрянский',\n",
       "       'Лукаши', 'Тарасово', 'Кингисеппский', 'Ушаки', 'Котлы', 'Сижно',\n",
       "       'Торосово', 'Форт Красная Горка', 'Новолисино', 'Громово',\n",
       "       'Глинка', 'Старая Пустошь', 'Коммунары', 'Починок', 'Вознесенье',\n",
       "       'Разбегаево', 'Гладкое', 'Тесово-4', 'Бор', 'Коробицыно',\n",
       "       'Большая Вруда', 'Курковицы', 'Кобралово', 'Суоранда',\n",
       "       'Кондратьево', 'Счастье', 'Реброво', 'Тойворово', 'Семиозерье',\n",
       "       'Лесное', 'Совхозный', 'Ленинское', 'Суйда', 'Нижние Осельки',\n",
       "       'Свирь', 'Перово', 'Высоцк', 'Шум', 'Котельский', 'Лужайка',\n",
       "       'Большая Пустомержа', 'Красносельское', 'Вахнова Кара', 'Пижма',\n",
       "       'Кивеннапа Север', 'Ромашки', 'Каськово', 'Куровицы', 'Плоское',\n",
       "       'Кирпичное', 'Ям-Тесово', 'Раздолье', 'Терпилицы', 'Шугозеро',\n",
       "       'Ваганово', 'Пушное', 'Садко', 'Усть-Ижора', 'Выскатка',\n",
       "       'Свирьстрой', 'Кисельня', 'Трубников Бор', 'Высокоключевой',\n",
       "       'Пансионат Зеленый Бор', 'Ненимяки', 'Снегиревка', 'Рапполово',\n",
       "       'Пустынка', 'Большой Сабск', 'Русско', 'Лупполово',\n",
       "       'Большое Рейзино', 'Малая Романовка', 'Дружноселье', 'Пчевжа',\n",
       "       'Володарское', 'Нижняя', 'Тихковицы', 'Борисова Грива',\n",
       "       'Дзержинского'], dtype=object)"
      ]
     },
     "execution_count": 10,
     "metadata": {},
     "output_type": "execute_result"
    }
   ],
   "source": [
    "data['locality_name'] = data['locality_name'].str.replace('ё', 'е')\n",
    "data['locality_name'] = data['locality_name'].str.replace('поселок городского типа','')\n",
    "data['locality_name'] = data['locality_name'].str.replace('поселок', '')\n",
    "data['locality_name'] = data['locality_name'].str.replace('деревня', '')\n",
    "data['locality_name'] = data['locality_name'].str.replace('садовое товарищество', '')\n",
    "data['locality_name'] = data['locality_name'].str.replace('село', '')\n",
    "data['locality_name'] = data['locality_name'].str.replace('городской', '')\n",
    "data['locality_name'] = data['locality_name'].str.replace('имени', '')\n",
    "data['locality_name'] = data['locality_name'].str.replace('станции', '')\n",
    "data['locality_name'] = data['locality_name'].str.replace('при железнодорожной', '')\n",
    "data['locality_name'] = data['locality_name'].str.replace('коттеджный', '')\n",
    "data['locality_name'] = data['locality_name'].str.replace('садоводческое некоммерческое товарищество', '')\n",
    "data['locality_name'] = data['locality_name'].str.strip()\n",
    "data['locality_name'].unique()"
   ]
  },
  {
   "cell_type": "code",
   "execution_count": 11,
   "metadata": {},
   "outputs": [
    {
     "name": "stdout",
     "output_type": "stream",
     "text": [
      "<class 'pandas.core.frame.DataFrame'>\n",
      "RangeIndex: 23699 entries, 0 to 23698\n",
      "Data columns (total 22 columns):\n",
      " #   Column                Non-Null Count  Dtype         \n",
      "---  ------                --------------  -----         \n",
      " 0   total_images          23699 non-null  int64         \n",
      " 1   last_price            23699 non-null  float64       \n",
      " 2   total_area            23699 non-null  float64       \n",
      " 3   first_day_exposition  23699 non-null  datetime64[ns]\n",
      " 4   rooms                 23699 non-null  int64         \n",
      " 5   ceiling_height        14504 non-null  float64       \n",
      " 6   floors_total          23613 non-null  float64       \n",
      " 7   living_area           22235 non-null  float64       \n",
      " 8   floor                 23699 non-null  int64         \n",
      " 9   is_apartment          23699 non-null  bool          \n",
      " 10  studio                23699 non-null  bool          \n",
      " 11  open_plan             23699 non-null  bool          \n",
      " 12  kitchen_area          22235 non-null  float64       \n",
      " 13  balcony               23699 non-null  int64         \n",
      " 14  locality_name         23650 non-null  object        \n",
      " 15  airports_nearest      18157 non-null  float64       \n",
      " 16  cityCenters_nearest   18180 non-null  float64       \n",
      " 17  parks_around3000      23699 non-null  float64       \n",
      " 18  parks_nearest         8079 non-null   float64       \n",
      " 19  ponds_around3000      23699 non-null  float64       \n",
      " 20  ponds_nearest         9110 non-null   float64       \n",
      " 21  days_exposition       20518 non-null  float64       \n",
      "dtypes: bool(3), datetime64[ns](1), float64(13), int64(4), object(1)\n",
      "memory usage: 3.5+ MB\n"
     ]
    }
   ],
   "source": [
    "data.info()"
   ]
  },
  {
   "cell_type": "code",
   "execution_count": 12,
   "metadata": {},
   "outputs": [
    {
     "data": {
      "text/html": [
       "<div>\n",
       "<style scoped>\n",
       "    .dataframe tbody tr th:only-of-type {\n",
       "        vertical-align: middle;\n",
       "    }\n",
       "\n",
       "    .dataframe tbody tr th {\n",
       "        vertical-align: top;\n",
       "    }\n",
       "\n",
       "    .dataframe thead th {\n",
       "        text-align: right;\n",
       "    }\n",
       "</style>\n",
       "<table border=\"1\" class=\"dataframe\">\n",
       "  <thead>\n",
       "    <tr style=\"text-align: right;\">\n",
       "      <th></th>\n",
       "      <th>total_images</th>\n",
       "      <th>last_price</th>\n",
       "      <th>total_area</th>\n",
       "      <th>rooms</th>\n",
       "      <th>ceiling_height</th>\n",
       "      <th>floors_total</th>\n",
       "      <th>living_area</th>\n",
       "      <th>floor</th>\n",
       "      <th>kitchen_area</th>\n",
       "      <th>balcony</th>\n",
       "      <th>airports_nearest</th>\n",
       "      <th>cityCenters_nearest</th>\n",
       "      <th>parks_around3000</th>\n",
       "      <th>parks_nearest</th>\n",
       "      <th>ponds_around3000</th>\n",
       "      <th>ponds_nearest</th>\n",
       "      <th>days_exposition</th>\n",
       "    </tr>\n",
       "  </thead>\n",
       "  <tbody>\n",
       "    <tr>\n",
       "      <th>count</th>\n",
       "      <td>23699.000000</td>\n",
       "      <td>2.369900e+04</td>\n",
       "      <td>23699.000000</td>\n",
       "      <td>23699.000000</td>\n",
       "      <td>14504.000000</td>\n",
       "      <td>23613.000000</td>\n",
       "      <td>22235.000000</td>\n",
       "      <td>23699.000000</td>\n",
       "      <td>22235.000000</td>\n",
       "      <td>23699.000000</td>\n",
       "      <td>18157.000000</td>\n",
       "      <td>18180.000000</td>\n",
       "      <td>23699.000000</td>\n",
       "      <td>8079.000000</td>\n",
       "      <td>23699.000000</td>\n",
       "      <td>9110.000000</td>\n",
       "      <td>20518.000000</td>\n",
       "    </tr>\n",
       "    <tr>\n",
       "      <th>mean</th>\n",
       "      <td>9.858475</td>\n",
       "      <td>6.541549e+06</td>\n",
       "      <td>60.348651</td>\n",
       "      <td>2.070636</td>\n",
       "      <td>2.771499</td>\n",
       "      <td>10.673824</td>\n",
       "      <td>34.909588</td>\n",
       "      <td>5.892358</td>\n",
       "      <td>10.864963</td>\n",
       "      <td>0.591080</td>\n",
       "      <td>28793.672193</td>\n",
       "      <td>14191.277833</td>\n",
       "      <td>0.469049</td>\n",
       "      <td>490.804555</td>\n",
       "      <td>0.590911</td>\n",
       "      <td>517.980900</td>\n",
       "      <td>180.888634</td>\n",
       "    </tr>\n",
       "    <tr>\n",
       "      <th>std</th>\n",
       "      <td>5.682529</td>\n",
       "      <td>1.088701e+07</td>\n",
       "      <td>35.654083</td>\n",
       "      <td>1.078405</td>\n",
       "      <td>1.261056</td>\n",
       "      <td>6.597173</td>\n",
       "      <td>23.117701</td>\n",
       "      <td>4.885249</td>\n",
       "      <td>6.804054</td>\n",
       "      <td>0.959298</td>\n",
       "      <td>12630.880622</td>\n",
       "      <td>8608.386210</td>\n",
       "      <td>0.748534</td>\n",
       "      <td>342.317995</td>\n",
       "      <td>0.883999</td>\n",
       "      <td>277.720643</td>\n",
       "      <td>219.727988</td>\n",
       "    </tr>\n",
       "    <tr>\n",
       "      <th>min</th>\n",
       "      <td>0.000000</td>\n",
       "      <td>1.219000e+04</td>\n",
       "      <td>12.000000</td>\n",
       "      <td>0.000000</td>\n",
       "      <td>1.000000</td>\n",
       "      <td>1.000000</td>\n",
       "      <td>2.000000</td>\n",
       "      <td>1.000000</td>\n",
       "      <td>0.000000</td>\n",
       "      <td>0.000000</td>\n",
       "      <td>0.000000</td>\n",
       "      <td>181.000000</td>\n",
       "      <td>0.000000</td>\n",
       "      <td>1.000000</td>\n",
       "      <td>0.000000</td>\n",
       "      <td>13.000000</td>\n",
       "      <td>1.000000</td>\n",
       "    </tr>\n",
       "    <tr>\n",
       "      <th>25%</th>\n",
       "      <td>6.000000</td>\n",
       "      <td>3.400000e+06</td>\n",
       "      <td>40.000000</td>\n",
       "      <td>1.000000</td>\n",
       "      <td>2.520000</td>\n",
       "      <td>5.000000</td>\n",
       "      <td>18.800000</td>\n",
       "      <td>2.000000</td>\n",
       "      <td>7.000000</td>\n",
       "      <td>0.000000</td>\n",
       "      <td>18585.000000</td>\n",
       "      <td>9238.000000</td>\n",
       "      <td>0.000000</td>\n",
       "      <td>288.000000</td>\n",
       "      <td>0.000000</td>\n",
       "      <td>294.000000</td>\n",
       "      <td>45.000000</td>\n",
       "    </tr>\n",
       "    <tr>\n",
       "      <th>50%</th>\n",
       "      <td>9.000000</td>\n",
       "      <td>4.650000e+06</td>\n",
       "      <td>52.000000</td>\n",
       "      <td>2.000000</td>\n",
       "      <td>2.650000</td>\n",
       "      <td>9.000000</td>\n",
       "      <td>30.040000</td>\n",
       "      <td>4.000000</td>\n",
       "      <td>9.300000</td>\n",
       "      <td>0.000000</td>\n",
       "      <td>26726.000000</td>\n",
       "      <td>13098.500000</td>\n",
       "      <td>0.000000</td>\n",
       "      <td>455.000000</td>\n",
       "      <td>0.000000</td>\n",
       "      <td>502.000000</td>\n",
       "      <td>95.000000</td>\n",
       "    </tr>\n",
       "    <tr>\n",
       "      <th>75%</th>\n",
       "      <td>14.000000</td>\n",
       "      <td>6.800000e+06</td>\n",
       "      <td>69.900000</td>\n",
       "      <td>3.000000</td>\n",
       "      <td>2.800000</td>\n",
       "      <td>16.000000</td>\n",
       "      <td>42.800000</td>\n",
       "      <td>8.000000</td>\n",
       "      <td>12.000000</td>\n",
       "      <td>1.000000</td>\n",
       "      <td>37273.000000</td>\n",
       "      <td>16293.000000</td>\n",
       "      <td>1.000000</td>\n",
       "      <td>612.000000</td>\n",
       "      <td>1.000000</td>\n",
       "      <td>729.000000</td>\n",
       "      <td>232.000000</td>\n",
       "    </tr>\n",
       "    <tr>\n",
       "      <th>max</th>\n",
       "      <td>50.000000</td>\n",
       "      <td>7.630000e+08</td>\n",
       "      <td>900.000000</td>\n",
       "      <td>19.000000</td>\n",
       "      <td>100.000000</td>\n",
       "      <td>60.000000</td>\n",
       "      <td>571.000000</td>\n",
       "      <td>33.000000</td>\n",
       "      <td>230.000000</td>\n",
       "      <td>5.000000</td>\n",
       "      <td>84869.000000</td>\n",
       "      <td>65968.000000</td>\n",
       "      <td>3.000000</td>\n",
       "      <td>3190.000000</td>\n",
       "      <td>3.000000</td>\n",
       "      <td>1344.000000</td>\n",
       "      <td>1580.000000</td>\n",
       "    </tr>\n",
       "  </tbody>\n",
       "</table>\n",
       "</div>"
      ],
      "text/plain": [
       "       total_images    last_price    total_area         rooms  ceiling_height  \\\n",
       "count  23699.000000  2.369900e+04  23699.000000  23699.000000    14504.000000   \n",
       "mean       9.858475  6.541549e+06     60.348651      2.070636        2.771499   \n",
       "std        5.682529  1.088701e+07     35.654083      1.078405        1.261056   \n",
       "min        0.000000  1.219000e+04     12.000000      0.000000        1.000000   \n",
       "25%        6.000000  3.400000e+06     40.000000      1.000000        2.520000   \n",
       "50%        9.000000  4.650000e+06     52.000000      2.000000        2.650000   \n",
       "75%       14.000000  6.800000e+06     69.900000      3.000000        2.800000   \n",
       "max       50.000000  7.630000e+08    900.000000     19.000000      100.000000   \n",
       "\n",
       "       floors_total   living_area         floor  kitchen_area       balcony  \\\n",
       "count  23613.000000  22235.000000  23699.000000  22235.000000  23699.000000   \n",
       "mean      10.673824     34.909588      5.892358     10.864963      0.591080   \n",
       "std        6.597173     23.117701      4.885249      6.804054      0.959298   \n",
       "min        1.000000      2.000000      1.000000      0.000000      0.000000   \n",
       "25%        5.000000     18.800000      2.000000      7.000000      0.000000   \n",
       "50%        9.000000     30.040000      4.000000      9.300000      0.000000   \n",
       "75%       16.000000     42.800000      8.000000     12.000000      1.000000   \n",
       "max       60.000000    571.000000     33.000000    230.000000      5.000000   \n",
       "\n",
       "       airports_nearest  cityCenters_nearest  parks_around3000  parks_nearest  \\\n",
       "count      18157.000000         18180.000000      23699.000000    8079.000000   \n",
       "mean       28793.672193         14191.277833          0.469049     490.804555   \n",
       "std        12630.880622          8608.386210          0.748534     342.317995   \n",
       "min            0.000000           181.000000          0.000000       1.000000   \n",
       "25%        18585.000000          9238.000000          0.000000     288.000000   \n",
       "50%        26726.000000         13098.500000          0.000000     455.000000   \n",
       "75%        37273.000000         16293.000000          1.000000     612.000000   \n",
       "max        84869.000000         65968.000000          3.000000    3190.000000   \n",
       "\n",
       "       ponds_around3000  ponds_nearest  days_exposition  \n",
       "count      23699.000000    9110.000000     20518.000000  \n",
       "mean           0.590911     517.980900       180.888634  \n",
       "std            0.883999     277.720643       219.727988  \n",
       "min            0.000000      13.000000         1.000000  \n",
       "25%            0.000000     294.000000        45.000000  \n",
       "50%            0.000000     502.000000        95.000000  \n",
       "75%            1.000000     729.000000       232.000000  \n",
       "max            3.000000    1344.000000      1580.000000  "
      ]
     },
     "execution_count": 12,
     "metadata": {},
     "output_type": "execute_result"
    }
   ],
   "source": [
    "data.describe()"
   ]
  },
  {
   "cell_type": "markdown",
   "metadata": {},
   "source": [
    "В столбце ceiling_height есть максимальное значение 100 метров, тогда как такая высота потолков нереальна, поэтому данные в этом столбце необходимо проверить. Все значения, что будут больше 19 (так как потолки меньше, чем 1.9 м тоже реальны), будем делить на 10.\n",
    "Максимальные значения в столбцах total_area, rooms, floors_total, living_area, floor, kitchen_area выбиваются из общих показателей и намного превышают 75% показателей, поэтому на них тоже необходимо обратить внимание."
   ]
  },
  {
   "cell_type": "code",
   "execution_count": 13,
   "metadata": {},
   "outputs": [],
   "source": [
    "data['ceiling_height'] = data['ceiling_height'].apply(lambda x: x/10 if x>19 else x)"
   ]
  },
  {
   "cell_type": "code",
   "execution_count": 14,
   "metadata": {},
   "outputs": [
    {
     "data": {
      "text/plain": [
       "<AxesSubplot:>"
      ]
     },
     "execution_count": 14,
     "metadata": {},
     "output_type": "execute_result"
    },
    {
     "data": {
      "image/png": "[encoded data removed]",
      "text/plain": [
       "<Figure size 432x288 with 1 Axes>"
      ]
     },
     "metadata": {
      "needs_background": "light"
     },
     "output_type": "display_data"
    }
   ],
   "source": [
    "data['total_area'].hist(bins=30)"
   ]
  },
  {
   "cell_type": "code",
   "execution_count": 15,
   "metadata": {},
   "outputs": [],
   "source": [
    "data = data[data.total_area < 200]"
   ]
  },
  {
   "cell_type": "code",
   "execution_count": 16,
   "metadata": {},
   "outputs": [
    {
     "data": {
      "text/plain": [
       "1436     330000000.0\n",
       "22831    289238400.0\n",
       "17912    135000000.0\n",
       "4996     124000000.0\n",
       "16647    122000000.0\n",
       "            ...     \n",
       "16219       450000.0\n",
       "16274       440000.0\n",
       "14911       430000.0\n",
       "17456       430000.0\n",
       "8793         12190.0\n",
       "Name: last_price, Length: 23468, dtype: float64"
      ]
     },
     "execution_count": 16,
     "metadata": {},
     "output_type": "execute_result"
    }
   ],
   "source": [
    "data['last_price'].sort_values(ascending=False)"
   ]
  },
  {
   "cell_type": "code",
   "execution_count": 17,
   "metadata": {},
   "outputs": [
    {
     "data": {
      "image/png": "[encoded data removed]",
      "text/plain": [
       "<Figure size 432x288 with 1 Axes>"
      ]
     },
     "metadata": {
      "needs_background": "light"
     },
     "output_type": "display_data"
    }
   ],
   "source": [
    "data['last_price'].hist(bins=500)\n",
    "data = data[data.last_price < 50000000]"
   ]
  },
  {
   "cell_type": "code",
   "execution_count": 18,
   "metadata": {},
   "outputs": [
    {
     "data": {
      "text/plain": [
       "20542    117.9\n",
       "869       89.0\n",
       "742       77.0\n",
       "14644     75.0\n",
       "17944     74.2\n",
       "         ...  \n",
       "23632      NaN\n",
       "23642      NaN\n",
       "23663      NaN\n",
       "23670      NaN\n",
       "23679      NaN\n",
       "Name: kitchen_area, Length: 23413, dtype: float64"
      ]
     },
     "execution_count": 18,
     "metadata": {},
     "output_type": "execute_result"
    }
   ],
   "source": [
    "data['rooms'].sort_values(ascending=False)\n",
    "data['floors_total'].sort_values(ascending=False)\n",
    "data['living_area'].sort_values(ascending=False)\n",
    "data['floor'].sort_values(ascending=False)\n",
    "data['kitchen_area'].sort_values(ascending=False)"
   ]
  },
  {
   "cell_type": "markdown",
   "metadata": {},
   "source": [
    "Проверив остальные значения, раннее выбранные как нестандартные, мы обнаружили, что редких и сильно выбающихся значений нет."
   ]
  },
  {
   "cell_type": "code",
   "execution_count": 19,
   "metadata": {},
   "outputs": [
    {
     "data": {
      "image/png": "[encoded data removed]",
      "text/plain": [
       "<Figure size 432x288 with 1 Axes>"
      ]
     },
     "metadata": {
      "needs_background": "light"
     },
     "output_type": "display_data"
    }
   ],
   "source": [
    "#код ревьюера\n",
    "data2 = pd.read_csv('/datasets/real_estate_data.csv', sep='\\t')\n",
    "(data2['total_area']).hist(bins=30);"
   ]
  },
  {
   "cell_type": "markdown",
   "metadata": {},
   "source": [
    "### Посчитайте и добавьте в таблицу новые столбцы"
   ]
  },
  {
   "cell_type": "code",
   "execution_count": 20,
   "metadata": {},
   "outputs": [],
   "source": [
    "data['price_sm'] = (data['last_price']) / (data['total_area'])\n",
    "data['day'] = data['first_day_exposition'].dt.weekday\n",
    "data['month'] = data['first_day_exposition'].dt.month\n",
    "data['year'] = data['first_day_exposition'].dt.year"
   ]
  },
  {
   "cell_type": "code",
   "execution_count": 21,
   "metadata": {},
   "outputs": [
    {
     "name": "stdout",
     "output_type": "stream",
     "text": [
      "0        другой\n",
      "1        первый\n",
      "2        другой\n",
      "4        другой\n",
      "5        другой\n",
      "          ...  \n",
      "23694    другой\n",
      "23695    другой\n",
      "23696    первый\n",
      "23697    другой\n",
      "23698    первый\n",
      "Name: floor_type, Length: 23413, dtype: object\n"
     ]
    }
   ],
   "source": [
    "def floor_definer(row):\n",
    "    floor = row['floor']\n",
    "    max_floor = row['floors_total']\n",
    "    if floor == max_floor:\n",
    "        return 'последний'\n",
    "    if floor == 1:\n",
    "        return 'первый'\n",
    "    return 'другой'\n",
    "\n",
    "data['floor_type'] = data.apply(floor_definer, axis=1)\n",
    "print(data['floor_type'])"
   ]
  },
  {
   "cell_type": "code",
   "execution_count": 22,
   "metadata": {},
   "outputs": [],
   "source": [
    "data['center_m'] = round((data['cityCenters_nearest']) / 1000)"
   ]
  },
  {
   "cell_type": "markdown",
   "metadata": {},
   "source": [
    "### Проведите исследовательский анализ данных"
   ]
  },
  {
   "cell_type": "code",
   "execution_count": 23,
   "metadata": {},
   "outputs": [],
   "source": [
    "import matplotlib.pyplot as plt"
   ]
  },
  {
   "cell_type": "code",
   "execution_count": 24,
   "metadata": {},
   "outputs": [
    {
     "data": {
      "image/png": "[encoded data removed]",
      "text/plain": [
       "<Figure size 432x288 with 1 Axes>"
      ]
     },
     "metadata": {
      "needs_background": "light"
     },
     "output_type": "display_data"
    }
   ],
   "source": [
    "data['total_area'].hist(bins=50) \n",
    "plt.show()"
   ]
  },
  {
   "cell_type": "markdown",
   "metadata": {},
   "source": [
    "Большинство продаваемых на рынке квартир не превышают общей площади в 100 квадратных метров, так как пик располагается в промежутке от 25 до 50 квадратных метров. Квартир с общей площадью, больше, чем 125 практически не обнаружено."
   ]
  },
  {
   "cell_type": "code",
   "execution_count": 25,
   "metadata": {},
   "outputs": [
    {
     "data": {
      "image/png": "[encoded data removed]",
      "text/plain": [
       "<Figure size 432x288 with 1 Axes>"
      ]
     },
     "metadata": {
      "needs_background": "light"
     },
     "output_type": "display_data"
    }
   ],
   "source": [
    "data['living_area'].hist(bins=40) \n",
    "plt.show()"
   ]
  },
  {
   "cell_type": "markdown",
   "metadata": {},
   "source": [
    "Большинство продаваемых на рынке квартир не превышают жилой площади в 50 квадратных метров. Квартир с жилой площадью, больше, чем 75 практически не обнаружено."
   ]
  },
  {
   "cell_type": "code",
   "execution_count": 26,
   "metadata": {},
   "outputs": [
    {
     "data": {
      "image/png": "[encoded data removed]",
      "text/plain": [
       "<Figure size 432x288 with 1 Axes>"
      ]
     },
     "metadata": {
      "needs_background": "light"
     },
     "output_type": "display_data"
    }
   ],
   "source": [
    "data['kitchen_area'].hist(bins=150) \n",
    "plt.show()"
   ]
  },
  {
   "cell_type": "markdown",
   "metadata": {},
   "source": [
    "Большинство продаваемых на рынке квартир не превышают площади кухни в 20 квадратных метров. Квартир с площадью кухни, больше, чем 40 практически не обнаружено."
   ]
  },
  {
   "cell_type": "code",
   "execution_count": 27,
   "metadata": {},
   "outputs": [
    {
     "data": {
      "image/png": "[encoded data removed]",
      "text/plain": [
       "<Figure size 432x288 with 1 Axes>"
      ]
     },
     "metadata": {
      "needs_background": "light"
     },
     "output_type": "display_data"
    }
   ],
   "source": [
    "data['last_price'].hist(bins=500) \n",
    "plt.show()"
   ]
  },
  {
   "cell_type": "code",
   "execution_count": 28,
   "metadata": {},
   "outputs": [
    {
     "data": {
      "image/png": "[encoded data removed]",
      "text/plain": [
       "<Figure size 432x288 with 1 Axes>"
      ]
     },
     "metadata": {
      "needs_background": "light"
     },
     "output_type": "display_data"
    }
   ],
   "source": [
    "data['rooms'].hist(bins=50) \n",
    "plt.show()"
   ]
  },
  {
   "cell_type": "markdown",
   "metadata": {},
   "source": [
    "В большинстве из продаваемых на рамке квартир не более 3 комнат. Квартир с более, чем шестью комнатами практически не обнаружено."
   ]
  },
  {
   "cell_type": "code",
   "execution_count": 29,
   "metadata": {},
   "outputs": [
    {
     "data": {
      "image/png": "[encoded data removed]",
      "text/plain": [
       "<Figure size 432x288 with 1 Axes>"
      ]
     },
     "metadata": {
      "needs_background": "light"
     },
     "output_type": "display_data"
    }
   ],
   "source": [
    "data['ceiling_height'].hist(bins=100) \n",
    "plt.show()"
   ]
  },
  {
   "cell_type": "markdown",
   "metadata": {},
   "source": [
    "Высота потолков продаваемых на рынке квартир ранжирует от 2 до 4 метров. Квартир с меньшей или большей высотностью практически не обнаружено."
   ]
  },
  {
   "cell_type": "code",
   "execution_count": 30,
   "metadata": {},
   "outputs": [
    {
     "data": {
      "image/png": "[encoded data removed]",
      "text/plain": [
       "<Figure size 432x288 with 1 Axes>"
      ]
     },
     "metadata": {
      "needs_background": "light"
     },
     "output_type": "display_data"
    }
   ],
   "source": [
    "data['floor'].hist(bins=60) \n",
    "plt.show()"
   ]
  },
  {
   "cell_type": "markdown",
   "metadata": {},
   "source": [
    "Большинство продаваемых на рынке квартир располагаются на 1-5 этажах и в дальнейшем мы наблюдаем тренд на постепенное снижение. Квартир, распологающихся выше, чем на 25 этаже, практически не обнаружено."
   ]
  },
  {
   "cell_type": "code",
   "execution_count": 31,
   "metadata": {},
   "outputs": [
    {
     "data": {
      "image/png": "[encoded data removed]",
      "text/plain": [
       "<Figure size 432x288 with 1 Axes>"
      ]
     },
     "metadata": {
      "needs_background": "light"
     },
     "output_type": "display_data"
    }
   ],
   "source": [
    "data['floor_type'].hist() \n",
    "plt.show()"
   ]
  },
  {
   "cell_type": "markdown",
   "metadata": {},
   "source": [
    "Большинство продаваемых на рынке квартир находятся не на первом или последнем этаже. Квартир на первом или последнем этаже чуть больше 2500 соответственно."
   ]
  },
  {
   "cell_type": "code",
   "execution_count": 32,
   "metadata": {},
   "outputs": [
    {
     "data": {
      "image/png": "[encoded data removed]",
      "text/plain": [
       "<Figure size 432x288 with 1 Axes>"
      ]
     },
     "metadata": {
      "needs_background": "light"
     },
     "output_type": "display_data"
    }
   ],
   "source": [
    "data['floors_total'].hist(bins=100) \n",
    "plt.show()"
   ]
  },
  {
   "cell_type": "markdown",
   "metadata": {},
   "source": [
    "Высотность большинства домов, где продаются квартиры, ранжируется от 1 до 10 этажей. Домов же с высотностью более 30 этажей практически не обнаружено."
   ]
  },
  {
   "cell_type": "code",
   "execution_count": 33,
   "metadata": {},
   "outputs": [
    {
     "data": {
      "image/png": "[encoded data removed]",
      "text/plain": [
       "<Figure size 432x288 with 1 Axes>"
      ]
     },
     "metadata": {
      "needs_background": "light"
     },
     "output_type": "display_data"
    }
   ],
   "source": [
    "data['cityCenters_nearest'].hist(bins=500) \n",
    "plt.show()"
   ]
  },
  {
   "cell_type": "markdown",
   "metadata": {},
   "source": [
    "Большинство продаваемых квартир находятся на расстоянии от центра города, не превышающее 20000 метров. Квартир же, располагаемых дальше, чем на расстоянии 55000 метров практически не обнаружено."
   ]
  },
  {
   "cell_type": "code",
   "execution_count": 34,
   "metadata": {},
   "outputs": [
    {
     "data": {
      "image/png": "[encoded data removed]",
      "text/plain": [
       "<Figure size 432x288 with 1 Axes>"
      ]
     },
     "metadata": {
      "needs_background": "light"
     },
     "output_type": "display_data"
    }
   ],
   "source": [
    "data['airports_nearest'].hist(bins=500) \n",
    "plt.show()"
   ]
  },
  {
   "cell_type": "markdown",
   "metadata": {},
   "source": [
    "Большинство продаваемых квартир находятся на расстоянии от 10000 до 40000 метров до ближайшего аэропорта. Квартир же, располагаемых дальше, чем на расстоянии 80000 метров до аэропорта практически не обнаружено."
   ]
  },
  {
   "cell_type": "code",
   "execution_count": 35,
   "metadata": {},
   "outputs": [
    {
     "data": {
      "image/png": "[encoded data removed]",
      "text/plain": [
       "<Figure size 432x288 with 1 Axes>"
      ]
     },
     "metadata": {
      "needs_background": "light"
     },
     "output_type": "display_data"
    }
   ],
   "source": [
    "data['parks_nearest'].hist(bins=300) \n",
    "plt.show()"
   ]
  },
  {
   "cell_type": "markdown",
   "metadata": {},
   "source": [
    "Большинство продаваемых квартир находятся на расстоянии до 1000 метров до ближайшего парка. Квартир же, располагаемых дальше, чем на расстоянии 2500 метров до парка практически не обнаружено."
   ]
  },
  {
   "cell_type": "code",
   "execution_count": 36,
   "metadata": {},
   "outputs": [
    {
     "data": {
      "image/png": "[encoded data removed]",
      "text/plain": [
       "<Figure size 432x288 with 1 Axes>"
      ]
     },
     "metadata": {
      "needs_background": "light"
     },
     "output_type": "display_data"
    }
   ],
   "source": [
    "data['day'].hist(bins=20) \n",
    "plt.show()"
   ]
  },
  {
   "cell_type": "markdown",
   "metadata": {},
   "source": [
    "Чаще квартиры выставляют на продажи в будни дни."
   ]
  },
  {
   "cell_type": "code",
   "execution_count": 37,
   "metadata": {},
   "outputs": [
    {
     "data": {
      "image/png": "[encoded data removed]",
      "text/plain": [
       "<Figure size 432x288 with 1 Axes>"
      ]
     },
     "metadata": {
      "needs_background": "light"
     },
     "output_type": "display_data"
    }
   ],
   "source": [
    "data['month'].hist(bins=30) \n",
    "plt.show()"
   ]
  },
  {
   "cell_type": "markdown",
   "metadata": {},
   "source": [
    "Чаще всего квартиры выставляют в весенний (февраль-апрель) и осенний (сентябрь, октябрь, ноябрь) периоды."
   ]
  },
  {
   "cell_type": "code",
   "execution_count": 38,
   "metadata": {},
   "outputs": [
    {
     "data": {
      "image/png": "[encoded data removed]",
      "text/plain": [
       "<Figure size 432x288 with 1 Axes>"
      ]
     },
     "metadata": {
      "needs_background": "light"
     },
     "output_type": "display_data"
    }
   ],
   "source": [
    "data['days_exposition'].hist(bins=150) \n",
    "plt.show()"
   ]
  },
  {
   "cell_type": "code",
   "execution_count": 39,
   "metadata": {},
   "outputs": [
    {
     "data": {
      "text/plain": [
       "count    20298.000000\n",
       "mean       179.445364\n",
       "std        218.150043\n",
       "min          1.000000\n",
       "25%         45.000000\n",
       "50%         95.000000\n",
       "75%        229.000000\n",
       "max       1580.000000\n",
       "Name: days_exposition, dtype: float64"
      ]
     },
     "execution_count": 39,
     "metadata": {},
     "output_type": "execute_result"
    }
   ],
   "source": [
    "data['days_exposition'].describe()"
   ]
  },
  {
   "cell_type": "markdown",
   "metadata": {},
   "source": [
    "В среднем квартиры продаются за 95 дней. Медианное значение же -- 179 дней, что практически в два раза превышает среднее значение, что говорит нам о том, что есть квартиры, которые продается слишком долго, по сравнению с другими объектами на рынке. Основываясь на данных квартилей мы можем сказать, что продажи можно считать быстрыми, если квартира продалась быстрее, чем за 45 дней. Долгими же будем считать сроки продаж, превышающие 229 дней."
   ]
  },
  {
   "cell_type": "markdown",
   "metadata": {},
   "source": [
    "**Изучим, зависит ли цена от следующих объектов:**\n",
    "1. Общей площади "
   ]
  },
  {
   "cell_type": "code",
   "execution_count": 40,
   "metadata": {},
   "outputs": [
    {
     "name": "stdout",
     "output_type": "stream",
     "text": [
      "0.7674250774487252\n"
     ]
    },
    {
     "data": {
      "image/png": "[encoded data removed]",
      "text/plain": [
       "<Figure size 432x288 with 1 Axes>"
      ]
     },
     "metadata": {
      "needs_background": "light"
     },
     "output_type": "display_data"
    }
   ],
   "source": [
    "data.plot(x='total_area',y='last_price',kind='scatter')\n",
    "print(data['total_area'].corr(data['last_price']))"
   ]
  },
  {
   "cell_type": "markdown",
   "metadata": {},
   "source": [
    "2. Жилой площади"
   ]
  },
  {
   "cell_type": "code",
   "execution_count": 41,
   "metadata": {},
   "outputs": [
    {
     "name": "stdout",
     "output_type": "stream",
     "text": [
      "0.6519617899727087\n"
     ]
    },
    {
     "data": {
      "image/png": "[encoded data removed]",
      "text/plain": [
       "<Figure size 432x288 with 1 Axes>"
      ]
     },
     "metadata": {
      "needs_background": "light"
     },
     "output_type": "display_data"
    }
   ],
   "source": [
    "data.plot(x='living_area',y='last_price',kind='scatter')\n",
    "print(data['living_area'].corr(data['last_price']))"
   ]
  },
  {
   "cell_type": "markdown",
   "metadata": {},
   "source": [
    "3. Площади кухни"
   ]
  },
  {
   "cell_type": "code",
   "execution_count": 42,
   "metadata": {},
   "outputs": [
    {
     "name": "stdout",
     "output_type": "stream",
     "text": [
      "0.5449955726667991\n"
     ]
    },
    {
     "data": {
      "image/png": "[encoded data removed]",
      "text/plain": [
       "<Figure size 432x288 with 1 Axes>"
      ]
     },
     "metadata": {
      "needs_background": "light"
     },
     "output_type": "display_data"
    }
   ],
   "source": [
    "data.plot(x='kitchen_area',y='last_price',kind='scatter')\n",
    "print(data['kitchen_area'].corr(data['last_price']))"
   ]
  },
  {
   "cell_type": "markdown",
   "metadata": {},
   "source": [
    "4. Количества комнат"
   ]
  },
  {
   "cell_type": "code",
   "execution_count": 43,
   "metadata": {},
   "outputs": [
    {
     "name": "stdout",
     "output_type": "stream",
     "text": [
      "0.47092439579660594\n"
     ]
    },
    {
     "data": {
      "image/png": "[encoded data removed]",
      "text/plain": [
       "<Figure size 432x288 with 1 Axes>"
      ]
     },
     "metadata": {
      "needs_background": "light"
     },
     "output_type": "display_data"
    }
   ],
   "source": [
    "data.pivot_table(index='rooms', values='last_price', aggfunc='mean').plot()\n",
    "print(data['rooms'].corr(data['last_price']))"
   ]
  },
  {
   "cell_type": "markdown",
   "metadata": {},
   "source": [
    "5. Типа этажа"
   ]
  },
  {
   "cell_type": "code",
   "execution_count": 44,
   "metadata": {},
   "outputs": [
    {
     "data": {
      "text/plain": [
       "<AxesSubplot:xlabel='floor_type'>"
      ]
     },
     "execution_count": 44,
     "metadata": {},
     "output_type": "execute_result"
    },
    {
     "data": {
      "image/png": "[encoded data removed]",
      "text/plain": [
       "<Figure size 432x288 with 1 Axes>"
      ]
     },
     "metadata": {
      "needs_background": "light"
     },
     "output_type": "display_data"
    }
   ],
   "source": [
    "data.pivot_table(index='floor_type', values='last_price', aggfunc='median').plot()"
   ]
  },
  {
   "cell_type": "markdown",
   "metadata": {},
   "source": [
    "6. Дня недели, в котором было выставленно объявление"
   ]
  },
  {
   "cell_type": "code",
   "execution_count": 45,
   "metadata": {},
   "outputs": [
    {
     "data": {
      "text/plain": [
       "<AxesSubplot:xlabel='day'>"
      ]
     },
     "execution_count": 45,
     "metadata": {},
     "output_type": "execute_result"
    },
    {
     "data": {
      "image/png": "[encoded data removed]",
      "text/plain": [
       "<Figure size 432x288 with 1 Axes>"
      ]
     },
     "metadata": {
      "needs_background": "light"
     },
     "output_type": "display_data"
    }
   ],
   "source": [
    "data.pivot_table(index='day', values='last_price', aggfunc='median').plot()"
   ]
  },
  {
   "cell_type": "markdown",
   "metadata": {},
   "source": [
    "7. Месяца, в который было выставленно объявление"
   ]
  },
  {
   "cell_type": "code",
   "execution_count": 46,
   "metadata": {},
   "outputs": [
    {
     "data": {
      "text/plain": [
       "<AxesSubplot:xlabel='month'>"
      ]
     },
     "execution_count": 46,
     "metadata": {},
     "output_type": "execute_result"
    },
    {
     "data": {
      "image/png": "[encoded data removed]",
      "text/plain": [
       "<Figure size 432x288 with 1 Axes>"
      ]
     },
     "metadata": {
      "needs_background": "light"
     },
     "output_type": "display_data"
    }
   ],
   "source": [
    "data.pivot_table(index='month', values='last_price', aggfunc='median').plot()"
   ]
  },
  {
   "cell_type": "markdown",
   "metadata": {},
   "source": [
    "8. Года, в который было выставлено объявление"
   ]
  },
  {
   "cell_type": "code",
   "execution_count": 47,
   "metadata": {},
   "outputs": [
    {
     "data": {
      "text/plain": [
       "<AxesSubplot:xlabel='year'>"
      ]
     },
     "execution_count": 47,
     "metadata": {},
     "output_type": "execute_result"
    },
    {
     "data": {
      "image/png": "[encoded data removed]",
      "text/plain": [
       "<Figure size 432x288 with 1 Axes>"
      ]
     },
     "metadata": {
      "needs_background": "light"
     },
     "output_type": "display_data"
    }
   ],
   "source": [
    "data.pivot_table(index='year', values='last_price', aggfunc='median').plot()"
   ]
  },
  {
   "cell_type": "markdown",
   "metadata": {},
   "source": [
    "**Посмотрим на среднюю цену одного квадратного метра в 10 населённых пунктах с наибольшим числом объявлений и на среднюю цену в зависимости от удаленности от центра**"
   ]
  },
  {
   "cell_type": "code",
   "execution_count": 48,
   "metadata": {},
   "outputs": [
    {
     "data": {
      "text/plain": [
       "<AxesSubplot:xlabel='locality_name'>"
      ]
     },
     "execution_count": 48,
     "metadata": {},
     "output_type": "execute_result"
    },
    {
     "data": {
      "image/png": "[encoded data removed]",
      "text/plain": [
       "<Figure size 432x288 with 1 Axes>"
      ]
     },
     "metadata": {
      "needs_background": "light"
     },
     "output_type": "display_data"
    }
   ],
   "source": [
    "cities = data.groupby('locality_name')['locality_name'].count().sort_values(ascending=False).head(10)\n",
    "\n",
    "data.query('locality_name in @cities.index').pivot_table(\n",
    "    index='locality_name', values='price_sm', aggfunc='mean').sort_values(by='price_sm', \n",
    "                                                                          ascending=False).plot(kind='bar')"
   ]
  },
  {
   "cell_type": "code",
   "execution_count": 49,
   "metadata": {},
   "outputs": [
    {
     "data": {
      "text/plain": [
       "<AxesSubplot:xlabel='center_m'>"
      ]
     },
     "execution_count": 49,
     "metadata": {},
     "output_type": "execute_result"
    },
    {
     "data": {
      "image/png": "[encoded data removed]",
      "text/plain": [
       "<Figure size 432x288 with 1 Axes>"
      ]
     },
     "metadata": {
      "needs_background": "light"
     },
     "output_type": "display_data"
    }
   ],
   "source": [
    "data.query('locality_name == \"Санкт-Петербург\"').pivot_table(\n",
    "    index='center_m', values='price_sm', aggfunc='mean').sort_values(by='center_m', ascending=True).plot(kind='bar')"
   ]
  },
  {
   "cell_type": "markdown",
   "metadata": {},
   "source": [
    "Самые дорогие квартиры в самом центре Санкт-Петербурга -- в 0 км. Дальнейший тренд наблюдается в общем в постепенном снижении цены в зависимости от удаления от центра города, наравне с немного выбивающими значениями -- например, отдаленность в 27 километров."
   ]
  },
  {
   "cell_type": "markdown",
   "metadata": {},
   "source": [
    "### Общий вывод"
   ]
  },
  {
   "cell_type": "markdown",
   "metadata": {},
   "source": [
    "Исходя из итогов проведенного исследования, можно сделать следующие выводы:\n",
    "1. Увеличение общей площади квартиры, а также жилой площади и площади кухни положительно влияет на общую стоимость квартиры, что подтверждается достаточно сильной корреляцией для общей площади (0.77) и умеренной корреляцией для жилой площади и площади кухни (0.65 и 0.54 соответственно), так как прочие факторы также могут влиять на стоимость квартир (например, удаленность от центра).\n",
    "2.  Количество комнат в квартирах также положительно влияют на стоимость недвижимости — чем больше комнат, тем дороже квартира. Однако корреляцией не сильная (0.47), что говорит о влиянии прочих факторов, помимо комнатности.\n",
    "3. Покупатели мало заинтересованы в покупке квартир на первом и последнем этажах, поэтому стоимость квартир в данных категориях значительно меньше, чем на прочих этажах.\n",
    "4. Квартиры, выложенные во вторник значительно дороже квартир, выложенные в прочие будние дни. Самые дешевые квартире на рынке были выложены в выходной — суббота и воскресенье.\n",
    "5. Никакой общей зависимости по стоимости квартиры от месяца года выявить не удалось. Однако, меньше всего квартиры в среднем стоят в летние месяца (июнь), больше всего в весенние и осенние (апрель, сентябрь).\n",
    "6. С 2014 по 2018 год наблюдалась отрицательная динамика в стоимости квартир — недвижимости стремительно дешевела. С 2018 года начинается рост в стоимости квартир.\n",
    "7. Самые дорогие квартиры в окрестностях Санкт-Петербурга находятся в центре Санкт-Петербурга. Удаленность от центра отрицательно влияет на стоимость "
   ]
  }
 ],
 "metadata": {
  "ExecuteTimeLog": [
   {
    "duration": 492,
    "start_time": "2023-05-07T08:11:34.905Z"
   },
   {
    "duration": 701,
    "start_time": "2023-05-07T08:12:15.290Z"
   },
   {
    "duration": 149,
    "start_time": "2023-05-07T08:12:26.144Z"
   },
   {
    "duration": 98,
    "start_time": "2023-05-07T08:12:36.929Z"
   },
   {
    "duration": 98,
    "start_time": "2023-05-07T08:12:42.572Z"
   },
   {
    "duration": 163,
    "start_time": "2023-05-07T08:12:45.515Z"
   },
   {
    "duration": 107,
    "start_time": "2023-05-07T08:12:52.513Z"
   },
   {
    "duration": 55,
    "start_time": "2023-05-07T08:12:57.485Z"
   },
   {
    "duration": 119,
    "start_time": "2023-05-07T08:14:25.540Z"
   },
   {
    "duration": 2476,
    "start_time": "2023-05-07T08:14:57.464Z"
   },
   {
    "duration": 18,
    "start_time": "2023-05-07T08:16:20.384Z"
   },
   {
    "duration": 34,
    "start_time": "2023-05-07T08:20:54.525Z"
   },
   {
    "duration": 19,
    "start_time": "2023-05-07T08:21:12.506Z"
   },
   {
    "duration": 16,
    "start_time": "2023-05-07T08:26:04.424Z"
   },
   {
    "duration": 12,
    "start_time": "2023-05-07T08:31:09.907Z"
   },
   {
    "duration": 20,
    "start_time": "2023-05-07T08:32:56.372Z"
   },
   {
    "duration": 23,
    "start_time": "2023-05-07T08:33:19.036Z"
   },
   {
    "duration": 17,
    "start_time": "2023-05-07T08:33:45.734Z"
   },
   {
    "duration": 16,
    "start_time": "2023-05-07T08:34:15.078Z"
   },
   {
    "duration": 26,
    "start_time": "2023-05-07T08:34:41.219Z"
   },
   {
    "duration": 7,
    "start_time": "2023-05-07T08:35:06.196Z"
   },
   {
    "duration": 15,
    "start_time": "2023-05-07T08:41:39.867Z"
   },
   {
    "duration": 14,
    "start_time": "2023-05-07T08:50:18.562Z"
   },
   {
    "duration": 28,
    "start_time": "2023-05-07T08:50:24.360Z"
   },
   {
    "duration": 9,
    "start_time": "2023-05-07T08:53:13.802Z"
   },
   {
    "duration": 121,
    "start_time": "2023-05-07T08:54:38.049Z"
   },
   {
    "duration": 25,
    "start_time": "2023-05-07T08:55:10.790Z"
   },
   {
    "duration": 15,
    "start_time": "2023-05-07T08:55:16.168Z"
   },
   {
    "duration": 7,
    "start_time": "2023-05-07T08:57:48.447Z"
   },
   {
    "duration": 80,
    "start_time": "2023-05-07T08:58:47.312Z"
   },
   {
    "duration": 16,
    "start_time": "2023-05-07T08:58:57.642Z"
   },
   {
    "duration": 7,
    "start_time": "2023-05-07T08:59:02.029Z"
   },
   {
    "duration": 15,
    "start_time": "2023-05-07T09:00:15.177Z"
   },
   {
    "duration": 10,
    "start_time": "2023-05-07T09:00:26.585Z"
   },
   {
    "duration": 12,
    "start_time": "2023-05-07T09:00:40.185Z"
   },
   {
    "duration": 10,
    "start_time": "2023-05-07T09:01:38.330Z"
   },
   {
    "duration": 9,
    "start_time": "2023-05-07T09:05:40.413Z"
   },
   {
    "duration": 11,
    "start_time": "2023-05-07T09:06:25.627Z"
   },
   {
    "duration": 5,
    "start_time": "2023-05-07T09:33:08.808Z"
   },
   {
    "duration": 5,
    "start_time": "2023-05-07T09:33:13.663Z"
   },
   {
    "duration": 12,
    "start_time": "2023-05-07T09:33:49.596Z"
   },
   {
    "duration": 15,
    "start_time": "2023-05-07T09:36:09.013Z"
   },
   {
    "duration": 6,
    "start_time": "2023-05-07T09:36:17.653Z"
   },
   {
    "duration": 9,
    "start_time": "2023-05-07T09:37:32.371Z"
   },
   {
    "duration": 11,
    "start_time": "2023-05-07T09:43:11.204Z"
   },
   {
    "duration": 8,
    "start_time": "2023-05-07T09:49:27.649Z"
   },
   {
    "duration": 10,
    "start_time": "2023-05-07T09:49:45.688Z"
   },
   {
    "duration": 11,
    "start_time": "2023-05-07T09:51:29.277Z"
   },
   {
    "duration": 9,
    "start_time": "2023-05-07T09:51:50.279Z"
   },
   {
    "duration": 13,
    "start_time": "2023-05-07T09:52:01.530Z"
   },
   {
    "duration": 13,
    "start_time": "2023-05-07T09:52:16.760Z"
   },
   {
    "duration": 14,
    "start_time": "2023-05-07T09:57:30.434Z"
   },
   {
    "duration": 19,
    "start_time": "2023-05-07T09:58:13.168Z"
   },
   {
    "duration": 14,
    "start_time": "2023-05-07T09:58:21.649Z"
   },
   {
    "duration": 19,
    "start_time": "2023-05-07T09:59:29.837Z"
   },
   {
    "duration": 33,
    "start_time": "2023-05-07T10:00:13.330Z"
   },
   {
    "duration": 4,
    "start_time": "2023-05-07T10:03:10.996Z"
   },
   {
    "duration": 8,
    "start_time": "2023-05-07T10:03:23.198Z"
   },
   {
    "duration": 47,
    "start_time": "2023-05-07T10:03:36.848Z"
   },
   {
    "duration": 8,
    "start_time": "2023-05-07T10:03:44.567Z"
   },
   {
    "duration": 9,
    "start_time": "2023-05-07T10:04:00.561Z"
   },
   {
    "duration": 10,
    "start_time": "2023-05-07T10:04:07.236Z"
   },
   {
    "duration": 12,
    "start_time": "2023-05-07T10:06:29.891Z"
   },
   {
    "duration": 8,
    "start_time": "2023-05-07T10:06:42.278Z"
   },
   {
    "duration": 17,
    "start_time": "2023-05-07T10:08:13.097Z"
   },
   {
    "duration": 29,
    "start_time": "2023-05-07T10:08:49.206Z"
   },
   {
    "duration": 16,
    "start_time": "2023-05-07T10:09:22.157Z"
   },
   {
    "duration": 48,
    "start_time": "2023-05-07T10:10:02.788Z"
   },
   {
    "duration": 574,
    "start_time": "2023-05-07T10:10:38.492Z"
   },
   {
    "duration": 20,
    "start_time": "2023-05-07T10:10:42.082Z"
   },
   {
    "duration": 2473,
    "start_time": "2023-05-07T10:10:44.662Z"
   },
   {
    "duration": 11,
    "start_time": "2023-05-07T10:10:50.132Z"
   },
   {
    "duration": 6,
    "start_time": "2023-05-07T10:10:51.632Z"
   },
   {
    "duration": 11,
    "start_time": "2023-05-07T10:10:53.192Z"
   },
   {
    "duration": 34,
    "start_time": "2023-05-07T10:10:54.120Z"
   },
   {
    "duration": 30,
    "start_time": "2023-05-07T10:11:40.632Z"
   },
   {
    "duration": 38,
    "start_time": "2023-05-07T10:11:55.600Z"
   },
   {
    "duration": 43,
    "start_time": "2023-05-07T10:12:31.568Z"
   },
   {
    "duration": 41,
    "start_time": "2023-05-07T10:13:06.341Z"
   },
   {
    "duration": 99,
    "start_time": "2023-05-07T10:14:23.692Z"
   },
   {
    "duration": 551,
    "start_time": "2023-05-07T10:14:36.478Z"
   },
   {
    "duration": 24,
    "start_time": "2023-05-07T10:14:38.905Z"
   },
   {
    "duration": 2624,
    "start_time": "2023-05-07T10:14:43.571Z"
   },
   {
    "duration": 11,
    "start_time": "2023-05-07T10:14:46.198Z"
   },
   {
    "duration": 15,
    "start_time": "2023-05-07T10:14:48.677Z"
   },
   {
    "duration": 7,
    "start_time": "2023-05-07T10:14:50.371Z"
   },
   {
    "duration": 12,
    "start_time": "2023-05-07T10:14:53.132Z"
   },
   {
    "duration": 93,
    "start_time": "2023-05-07T10:14:54.329Z"
   },
   {
    "duration": 56,
    "start_time": "2023-05-07T10:18:38.368Z"
   },
   {
    "duration": 110,
    "start_time": "2023-05-07T10:20:00.078Z"
   },
   {
    "duration": 101,
    "start_time": "2023-05-07T10:20:20.708Z"
   },
   {
    "duration": 99,
    "start_time": "2023-05-07T10:21:20.152Z"
   },
   {
    "duration": 52,
    "start_time": "2023-05-07T10:21:23.828Z"
   },
   {
    "duration": 47,
    "start_time": "2023-05-07T10:21:26.135Z"
   },
   {
    "duration": 45,
    "start_time": "2023-05-07T10:21:56.105Z"
   },
   {
    "duration": 81,
    "start_time": "2023-05-07T10:22:20.586Z"
   },
   {
    "duration": 92,
    "start_time": "2023-05-07T10:22:33.948Z"
   },
   {
    "duration": 107,
    "start_time": "2023-05-07T10:22:45.880Z"
   },
   {
    "duration": 121,
    "start_time": "2023-05-07T10:23:01.379Z"
   },
   {
    "duration": 133,
    "start_time": "2023-05-07T10:23:24.586Z"
   },
   {
    "duration": 169,
    "start_time": "2023-05-07T10:24:06.268Z"
   },
   {
    "duration": 178,
    "start_time": "2023-05-07T10:27:00.295Z"
   },
   {
    "duration": 36,
    "start_time": "2023-05-07T10:29:22.875Z"
   },
   {
    "duration": 14,
    "start_time": "2023-05-07T10:29:59.649Z"
   },
   {
    "duration": 8,
    "start_time": "2023-05-07T10:32:59.066Z"
   },
   {
    "duration": 92,
    "start_time": "2023-05-07T10:33:13.252Z"
   },
   {
    "duration": 7,
    "start_time": "2023-05-07T10:34:11.069Z"
   },
   {
    "duration": 11,
    "start_time": "2023-05-07T10:40:19.200Z"
   },
   {
    "duration": 7,
    "start_time": "2023-05-07T10:40:25.246Z"
   },
   {
    "duration": 6,
    "start_time": "2023-05-07T10:40:44.776Z"
   },
   {
    "duration": 6,
    "start_time": "2023-05-07T10:42:42.315Z"
   },
   {
    "duration": 8,
    "start_time": "2023-05-07T10:43:16.200Z"
   },
   {
    "duration": 9,
    "start_time": "2023-05-07T10:43:41.862Z"
   },
   {
    "duration": 6,
    "start_time": "2023-05-07T10:44:11.995Z"
   },
   {
    "duration": 8,
    "start_time": "2023-05-07T10:44:40.943Z"
   },
   {
    "duration": 790,
    "start_time": "2023-05-07T10:47:06.582Z"
   },
   {
    "duration": 46,
    "start_time": "2023-05-07T10:47:14.360Z"
   },
   {
    "duration": 26,
    "start_time": "2023-05-07T10:47:20.954Z"
   },
   {
    "duration": 25,
    "start_time": "2023-05-07T10:48:13.781Z"
   },
   {
    "duration": 4,
    "start_time": "2023-05-07T10:50:10.588Z"
   },
   {
    "duration": 25,
    "start_time": "2023-05-07T10:50:16.735Z"
   },
   {
    "duration": 6,
    "start_time": "2023-05-07T10:50:34.663Z"
   },
   {
    "duration": 6,
    "start_time": "2023-05-07T10:50:47.361Z"
   },
   {
    "duration": 5,
    "start_time": "2023-05-07T10:50:51.141Z"
   },
   {
    "duration": 6,
    "start_time": "2023-05-07T10:51:09.326Z"
   },
   {
    "duration": 7,
    "start_time": "2023-05-07T10:51:27.237Z"
   },
   {
    "duration": 7,
    "start_time": "2023-05-07T10:52:02.375Z"
   },
   {
    "duration": 10,
    "start_time": "2023-05-07T10:55:11.635Z"
   },
   {
    "duration": 10,
    "start_time": "2023-05-07T10:55:24.773Z"
   },
   {
    "duration": 4,
    "start_time": "2023-05-07T10:56:11.831Z"
   },
   {
    "duration": 22,
    "start_time": "2023-05-07T10:56:15.550Z"
   },
   {
    "duration": 14,
    "start_time": "2023-05-07T10:57:45.878Z"
   },
   {
    "duration": 16,
    "start_time": "2023-05-07T10:57:51.468Z"
   },
   {
    "duration": 16,
    "start_time": "2023-05-07T10:57:58.754Z"
   },
   {
    "duration": 16,
    "start_time": "2023-05-07T10:58:52.388Z"
   },
   {
    "duration": 8,
    "start_time": "2023-05-07T10:59:28.695Z"
   },
   {
    "duration": 9,
    "start_time": "2023-05-07T11:07:18.672Z"
   },
   {
    "duration": 23,
    "start_time": "2023-05-07T11:11:25.084Z"
   },
   {
    "duration": 6,
    "start_time": "2023-05-07T11:11:37.365Z"
   },
   {
    "duration": 6,
    "start_time": "2023-05-07T11:11:53.643Z"
   },
   {
    "duration": 6,
    "start_time": "2023-05-07T11:12:03.890Z"
   },
   {
    "duration": 7,
    "start_time": "2023-05-07T11:12:10.639Z"
   },
   {
    "duration": 6,
    "start_time": "2023-05-07T11:12:13.957Z"
   },
   {
    "duration": 6,
    "start_time": "2023-05-07T11:12:21.375Z"
   },
   {
    "duration": 8,
    "start_time": "2023-05-07T11:12:50.864Z"
   },
   {
    "duration": 23,
    "start_time": "2023-05-07T11:13:07.536Z"
   },
   {
    "duration": 21,
    "start_time": "2023-05-07T11:13:53.984Z"
   },
   {
    "duration": 16,
    "start_time": "2023-05-07T11:15:08.575Z"
   },
   {
    "duration": 14,
    "start_time": "2023-05-07T11:17:16.428Z"
   },
   {
    "duration": 33,
    "start_time": "2023-05-07T11:18:36.821Z"
   },
   {
    "duration": 4,
    "start_time": "2023-05-07T11:20:50.434Z"
   },
   {
    "duration": 9,
    "start_time": "2023-05-07T11:21:03.025Z"
   },
   {
    "duration": 21,
    "start_time": "2023-05-07T11:21:08.040Z"
   },
   {
    "duration": 8,
    "start_time": "2023-05-07T11:21:17.255Z"
   },
   {
    "duration": 9,
    "start_time": "2023-05-07T11:21:25.773Z"
   },
   {
    "duration": 12,
    "start_time": "2023-05-07T11:22:57.996Z"
   },
   {
    "duration": 12,
    "start_time": "2023-05-07T11:23:06.211Z"
   },
   {
    "duration": 17,
    "start_time": "2023-05-07T11:23:30.055Z"
   },
   {
    "duration": 91,
    "start_time": "2023-05-07T11:23:56.361Z"
   },
   {
    "duration": 6,
    "start_time": "2023-05-07T11:24:14.586Z"
   },
   {
    "duration": 7,
    "start_time": "2023-05-07T11:24:46.796Z"
   },
   {
    "duration": 8,
    "start_time": "2023-05-07T11:24:57.319Z"
   },
   {
    "duration": 7,
    "start_time": "2023-05-07T11:25:06.884Z"
   },
   {
    "duration": 10,
    "start_time": "2023-05-07T11:25:14.005Z"
   },
   {
    "duration": 555,
    "start_time": "2023-05-07T11:25:29.202Z"
   },
   {
    "duration": 21,
    "start_time": "2023-05-07T11:25:31.831Z"
   },
   {
    "duration": 2412,
    "start_time": "2023-05-07T11:25:33.840Z"
   },
   {
    "duration": 10,
    "start_time": "2023-05-07T11:25:39.632Z"
   },
   {
    "duration": 7,
    "start_time": "2023-05-07T11:25:41.413Z"
   },
   {
    "duration": 13,
    "start_time": "2023-05-07T11:25:42.890Z"
   },
   {
    "duration": 174,
    "start_time": "2023-05-07T11:25:44.181Z"
   },
   {
    "duration": 16,
    "start_time": "2023-05-07T11:25:47.032Z"
   },
   {
    "duration": 77,
    "start_time": "2023-05-07T11:25:48.798Z"
   },
   {
    "duration": 14,
    "start_time": "2023-05-07T11:25:52.355Z"
   },
   {
    "duration": 8,
    "start_time": "2023-05-07T11:25:54.433Z"
   },
   {
    "duration": 6,
    "start_time": "2023-05-07T11:25:56.609Z"
   },
   {
    "duration": 9,
    "start_time": "2023-05-07T11:26:11.976Z"
   },
   {
    "duration": 17,
    "start_time": "2023-05-07T11:27:11.539Z"
   },
   {
    "duration": 50,
    "start_time": "2023-05-07T11:28:33.045Z"
   },
   {
    "duration": 7,
    "start_time": "2023-05-07T11:29:45.853Z"
   },
   {
    "duration": 17,
    "start_time": "2023-05-07T11:31:38.083Z"
   },
   {
    "duration": 21,
    "start_time": "2023-05-07T11:31:54.223Z"
   },
   {
    "duration": 9,
    "start_time": "2023-05-07T11:32:07.951Z"
   },
   {
    "duration": 13,
    "start_time": "2023-05-07T11:32:49.254Z"
   },
   {
    "duration": 13,
    "start_time": "2023-05-07T11:32:52.665Z"
   },
   {
    "duration": 17,
    "start_time": "2023-05-07T11:33:18.804Z"
   },
   {
    "duration": 352,
    "start_time": "2023-05-07T11:39:22.202Z"
   },
   {
    "duration": 347,
    "start_time": "2023-05-07T11:39:32.214Z"
   },
   {
    "duration": 362,
    "start_time": "2023-05-07T11:39:44.381Z"
   },
   {
    "duration": 6,
    "start_time": "2023-05-07T11:44:11.662Z"
   },
   {
    "duration": 7,
    "start_time": "2023-05-07T11:44:22.145Z"
   },
   {
    "duration": 143,
    "start_time": "2023-05-07T11:47:07.679Z"
   },
   {
    "duration": 205,
    "start_time": "2023-05-07T11:47:34.780Z"
   },
   {
    "duration": 375,
    "start_time": "2023-05-07T11:47:37.966Z"
   },
   {
    "duration": 147,
    "start_time": "2023-05-07T11:47:41.128Z"
   },
   {
    "duration": 130,
    "start_time": "2023-05-07T11:47:44.027Z"
   },
   {
    "duration": 128,
    "start_time": "2023-05-07T11:47:47.912Z"
   },
   {
    "duration": 229,
    "start_time": "2023-05-07T11:47:51.413Z"
   },
   {
    "duration": 133,
    "start_time": "2023-05-07T11:47:54.303Z"
   },
   {
    "duration": 136,
    "start_time": "2023-05-07T11:47:56.766Z"
   },
   {
    "duration": 212,
    "start_time": "2023-05-07T11:47:58.347Z"
   },
   {
    "duration": 192,
    "start_time": "2023-05-07T11:48:14.098Z"
   },
   {
    "duration": 184,
    "start_time": "2023-05-07T11:49:36.808Z"
   },
   {
    "duration": 205,
    "start_time": "2023-05-07T11:49:41.558Z"
   },
   {
    "duration": 168,
    "start_time": "2023-05-07T11:49:44.339Z"
   },
   {
    "duration": 201,
    "start_time": "2023-05-07T11:49:47.066Z"
   },
   {
    "duration": 300,
    "start_time": "2023-05-07T11:49:53.014Z"
   },
   {
    "duration": 179,
    "start_time": "2023-05-07T11:49:56.898Z"
   },
   {
    "duration": 157,
    "start_time": "2023-05-07T11:50:24.406Z"
   },
   {
    "duration": 184,
    "start_time": "2023-05-07T11:50:29.783Z"
   },
   {
    "duration": 198,
    "start_time": "2023-05-07T11:51:19.576Z"
   },
   {
    "duration": 179,
    "start_time": "2023-05-07T11:51:23.249Z"
   },
   {
    "duration": 154,
    "start_time": "2023-05-07T11:51:25.216Z"
   },
   {
    "duration": 209,
    "start_time": "2023-05-07T11:51:27.464Z"
   },
   {
    "duration": 189,
    "start_time": "2023-05-07T11:51:31.571Z"
   },
   {
    "duration": 183,
    "start_time": "2023-05-07T11:53:33.814Z"
   },
   {
    "duration": 457,
    "start_time": "2023-05-07T11:53:42.242Z"
   },
   {
    "duration": 156,
    "start_time": "2023-05-07T11:53:57.443Z"
   },
   {
    "duration": 17069,
    "start_time": "2023-05-07T11:54:34.845Z"
   },
   {
    "duration": 148,
    "start_time": "2023-05-07T11:55:10.768Z"
   },
   {
    "duration": 139,
    "start_time": "2023-05-07T11:55:29.077Z"
   },
   {
    "duration": 156,
    "start_time": "2023-05-07T11:55:31.917Z"
   },
   {
    "duration": 158,
    "start_time": "2023-05-07T11:55:34.087Z"
   },
   {
    "duration": 158,
    "start_time": "2023-05-07T11:55:36.152Z"
   },
   {
    "duration": 183,
    "start_time": "2023-05-07T11:55:39.908Z"
   },
   {
    "duration": 231,
    "start_time": "2023-05-07T11:55:52.580Z"
   },
   {
    "duration": 148,
    "start_time": "2023-05-07T11:56:05.456Z"
   },
   {
    "duration": 1632,
    "start_time": "2023-05-07T11:56:10.872Z"
   },
   {
    "duration": 155,
    "start_time": "2023-05-07T11:56:21.533Z"
   },
   {
    "duration": 1709,
    "start_time": "2023-05-07T11:57:16.495Z"
   },
   {
    "duration": 17310,
    "start_time": "2023-05-07T11:57:22.543Z"
   },
   {
    "duration": 3070,
    "start_time": "2023-05-07T11:57:44.780Z"
   },
   {
    "duration": 2032,
    "start_time": "2023-05-07T11:58:54.169Z"
   },
   {
    "duration": 297,
    "start_time": "2023-05-07T11:59:07.550Z"
   },
   {
    "duration": 160,
    "start_time": "2023-05-07T11:59:11.209Z"
   },
   {
    "duration": 16804,
    "start_time": "2023-05-07T11:59:32.536Z"
   },
   {
    "duration": 3289,
    "start_time": "2023-05-07T11:59:58.403Z"
   },
   {
    "duration": 151,
    "start_time": "2023-05-07T12:01:23.838Z"
   },
   {
    "duration": 150,
    "start_time": "2023-05-07T12:01:28.194Z"
   },
   {
    "duration": 160,
    "start_time": "2023-05-07T12:01:31.707Z"
   },
   {
    "duration": 200,
    "start_time": "2023-05-07T12:01:36.648Z"
   },
   {
    "duration": 189,
    "start_time": "2023-05-07T12:01:39.915Z"
   },
   {
    "duration": 197,
    "start_time": "2023-05-07T12:01:45.737Z"
   },
   {
    "duration": 433,
    "start_time": "2023-05-07T12:01:49.384Z"
   },
   {
    "duration": 223,
    "start_time": "2023-05-07T12:01:52.991Z"
   },
   {
    "duration": 286,
    "start_time": "2023-05-07T12:02:14.948Z"
   },
   {
    "duration": 222,
    "start_time": "2023-05-07T12:02:20.109Z"
   },
   {
    "duration": 218,
    "start_time": "2023-05-07T12:02:22.215Z"
   },
   {
    "duration": 232,
    "start_time": "2023-05-07T12:02:25.055Z"
   },
   {
    "duration": 146,
    "start_time": "2023-05-07T12:03:38.432Z"
   },
   {
    "duration": 246,
    "start_time": "2023-05-07T12:03:43.652Z"
   },
   {
    "duration": 209,
    "start_time": "2023-05-07T12:03:47.051Z"
   },
   {
    "duration": 237,
    "start_time": "2023-05-07T12:03:50.258Z"
   },
   {
    "duration": 151,
    "start_time": "2023-05-07T12:05:08.986Z"
   },
   {
    "duration": 197,
    "start_time": "2023-05-07T12:05:14.971Z"
   },
   {
    "duration": 294,
    "start_time": "2023-05-07T12:05:18.053Z"
   },
   {
    "duration": 276,
    "start_time": "2023-05-07T12:05:23.087Z"
   },
   {
    "duration": 236,
    "start_time": "2023-05-07T12:06:59.577Z"
   },
   {
    "duration": 139,
    "start_time": "2023-05-07T12:08:52.753Z"
   },
   {
    "duration": 178,
    "start_time": "2023-05-07T12:08:58.032Z"
   },
   {
    "duration": 275,
    "start_time": "2023-05-07T12:09:02.079Z"
   },
   {
    "duration": 128,
    "start_time": "2023-05-07T12:10:54.288Z"
   },
   {
    "duration": 235,
    "start_time": "2023-05-07T12:10:59.963Z"
   },
   {
    "duration": 881,
    "start_time": "2023-05-07T12:11:03.489Z"
   },
   {
    "duration": 723,
    "start_time": "2023-05-07T12:12:26.207Z"
   },
   {
    "duration": 152,
    "start_time": "2023-05-07T12:14:01.615Z"
   },
   {
    "duration": 187,
    "start_time": "2023-05-07T12:14:08.406Z"
   },
   {
    "duration": 360,
    "start_time": "2023-05-07T12:14:12.076Z"
   },
   {
    "duration": 231,
    "start_time": "2023-05-07T12:14:15.119Z"
   },
   {
    "duration": 496,
    "start_time": "2023-05-07T12:14:20.079Z"
   },
   {
    "duration": 125,
    "start_time": "2023-05-07T12:15:41.657Z"
   },
   {
    "duration": 117,
    "start_time": "2023-05-07T12:15:47.803Z"
   },
   {
    "duration": 124,
    "start_time": "2023-05-07T12:15:50.988Z"
   },
   {
    "duration": 542,
    "start_time": "2023-05-07T12:16:45.110Z"
   },
   {
    "duration": 136,
    "start_time": "2023-05-07T12:16:49.537Z"
   },
   {
    "duration": 180,
    "start_time": "2023-05-07T12:16:52.559Z"
   },
   {
    "duration": 146,
    "start_time": "2023-05-07T12:18:42.194Z"
   },
   {
    "duration": 237,
    "start_time": "2023-05-07T12:18:48.195Z"
   },
   {
    "duration": 530,
    "start_time": "2023-05-07T12:18:52.493Z"
   },
   {
    "duration": 319,
    "start_time": "2023-05-07T12:18:57.279Z"
   },
   {
    "duration": 6,
    "start_time": "2023-05-07T12:19:50.942Z"
   },
   {
    "duration": 77,
    "start_time": "2023-05-07T12:19:55.912Z"
   },
   {
    "duration": 13,
    "start_time": "2023-05-07T12:20:02.446Z"
   },
   {
    "duration": 7,
    "start_time": "2023-05-07T12:20:17.688Z"
   },
   {
    "duration": 5,
    "start_time": "2023-05-07T12:20:27.680Z"
   },
   {
    "duration": 11,
    "start_time": "2023-05-07T12:21:11.950Z"
   },
   {
    "duration": 200,
    "start_time": "2023-05-07T12:26:08.303Z"
   },
   {
    "duration": 229,
    "start_time": "2023-05-07T12:27:23.229Z"
   },
   {
    "duration": 200,
    "start_time": "2023-05-07T12:28:16.246Z"
   },
   {
    "duration": 197,
    "start_time": "2023-05-07T12:28:35.122Z"
   },
   {
    "duration": 223,
    "start_time": "2023-05-07T12:29:31.810Z"
   },
   {
    "duration": 212,
    "start_time": "2023-05-07T12:29:50.878Z"
   },
   {
    "duration": 195,
    "start_time": "2023-05-07T12:30:03.497Z"
   },
   {
    "duration": 294,
    "start_time": "2023-05-07T12:30:09.125Z"
   },
   {
    "duration": 44,
    "start_time": "2023-05-07T12:33:47.383Z"
   },
   {
    "duration": 52,
    "start_time": "2023-05-07T12:33:55.382Z"
   },
   {
    "duration": 180,
    "start_time": "2023-05-07T12:37:07.756Z"
   },
   {
    "duration": 31,
    "start_time": "2023-05-07T12:37:24.921Z"
   },
   {
    "duration": 182,
    "start_time": "2023-05-07T12:37:32.915Z"
   },
   {
    "duration": 212,
    "start_time": "2023-05-07T12:38:00.152Z"
   },
   {
    "duration": 602,
    "start_time": "2023-05-07T12:40:06.900Z"
   },
   {
    "duration": 121,
    "start_time": "2023-05-07T12:40:08.588Z"
   },
   {
    "duration": 17,
    "start_time": "2023-05-07T12:40:10.691Z"
   },
   {
    "duration": 2546,
    "start_time": "2023-05-07T12:40:12.830Z"
   },
   {
    "duration": 15,
    "start_time": "2023-05-07T12:40:15.378Z"
   },
   {
    "duration": 12,
    "start_time": "2023-05-07T12:40:19.334Z"
   },
   {
    "duration": 6,
    "start_time": "2023-05-07T12:40:21.354Z"
   },
   {
    "duration": 11,
    "start_time": "2023-05-07T12:40:23.621Z"
   },
   {
    "duration": 165,
    "start_time": "2023-05-07T12:40:25.358Z"
   },
   {
    "duration": 16,
    "start_time": "2023-05-07T12:40:28.646Z"
   },
   {
    "duration": 83,
    "start_time": "2023-05-07T12:40:30.817Z"
   },
   {
    "duration": 15,
    "start_time": "2023-05-07T12:40:33.479Z"
   },
   {
    "duration": 8,
    "start_time": "2023-05-07T12:40:35.962Z"
   },
   {
    "duration": 6,
    "start_time": "2023-05-07T12:40:39.930Z"
   },
   {
    "duration": 12,
    "start_time": "2023-05-07T12:40:52.650Z"
   },
   {
    "duration": 13,
    "start_time": "2023-05-07T12:41:10.961Z"
   },
   {
    "duration": 22,
    "start_time": "2023-05-07T12:41:41.596Z"
   },
   {
    "duration": 19,
    "start_time": "2023-05-07T12:41:46.836Z"
   },
   {
    "duration": 286,
    "start_time": "2023-05-07T12:41:48.193Z"
   },
   {
    "duration": 4,
    "start_time": "2023-05-07T12:41:50.208Z"
   },
   {
    "duration": 192,
    "start_time": "2023-05-07T12:41:51.626Z"
   },
   {
    "duration": 240,
    "start_time": "2023-05-07T12:41:53.359Z"
   },
   {
    "duration": 206,
    "start_time": "2023-05-07T12:41:54.861Z"
   },
   {
    "duration": 1716,
    "start_time": "2023-05-07T12:41:56.353Z"
   },
   {
    "duration": 223,
    "start_time": "2023-05-07T12:41:59.816Z"
   },
   {
    "duration": 308,
    "start_time": "2023-05-07T12:42:01.833Z"
   },
   {
    "duration": 214,
    "start_time": "2023-05-07T12:42:03.333Z"
   },
   {
    "duration": 147,
    "start_time": "2023-05-07T12:42:05.206Z"
   },
   {
    "duration": 343,
    "start_time": "2023-05-07T12:42:07.138Z"
   },
   {
    "duration": 1117,
    "start_time": "2023-05-07T12:42:09.038Z"
   },
   {
    "duration": 953,
    "start_time": "2023-05-07T12:42:11.849Z"
   },
   {
    "duration": 786,
    "start_time": "2023-05-07T12:42:14.857Z"
   },
   {
    "duration": 174,
    "start_time": "2023-05-07T12:42:17.454Z"
   },
   {
    "duration": 170,
    "start_time": "2023-05-07T12:42:19.414Z"
   },
   {
    "duration": 412,
    "start_time": "2023-05-07T12:42:21.308Z"
   },
   {
    "duration": 11,
    "start_time": "2023-05-07T12:42:23.471Z"
   },
   {
    "duration": 244,
    "start_time": "2023-05-07T12:42:49.546Z"
   },
   {
    "duration": 238,
    "start_time": "2023-05-07T12:42:52.768Z"
   },
   {
    "duration": 352,
    "start_time": "2023-05-07T12:43:10.599Z"
   },
   {
    "duration": 234,
    "start_time": "2023-05-07T12:43:12.233Z"
   },
   {
    "duration": 273,
    "start_time": "2023-05-07T12:43:31.063Z"
   },
   {
    "duration": 209,
    "start_time": "2023-05-07T12:43:32.935Z"
   },
   {
    "duration": 182,
    "start_time": "2023-05-07T12:46:50.311Z"
   },
   {
    "duration": 183,
    "start_time": "2023-05-07T12:47:31.239Z"
   },
   {
    "duration": 218,
    "start_time": "2023-05-07T12:48:22.777Z"
   },
   {
    "duration": 85,
    "start_time": "2023-05-07T12:48:49.752Z"
   },
   {
    "duration": 176,
    "start_time": "2023-05-07T12:48:58.184Z"
   },
   {
    "duration": 177,
    "start_time": "2023-05-07T12:49:04.816Z"
   },
   {
    "duration": 153,
    "start_time": "2023-05-07T12:49:09.880Z"
   },
   {
    "duration": 159,
    "start_time": "2023-05-07T12:49:15.215Z"
   },
   {
    "duration": 188,
    "start_time": "2023-05-07T12:51:44.029Z"
   },
   {
    "duration": 16,
    "start_time": "2023-05-07T12:51:56.750Z"
   },
   {
    "duration": 24,
    "start_time": "2023-05-07T12:52:12.325Z"
   },
   {
    "duration": 156,
    "start_time": "2023-05-07T12:52:16.228Z"
   },
   {
    "duration": 184,
    "start_time": "2023-05-07T12:53:22.422Z"
   },
   {
    "duration": 166,
    "start_time": "2023-05-07T12:53:58.414Z"
   },
   {
    "duration": 257,
    "start_time": "2023-05-07T12:54:08.773Z"
   },
   {
    "duration": 161,
    "start_time": "2023-05-07T12:54:21.564Z"
   },
   {
    "duration": 165,
    "start_time": "2023-05-07T12:54:53.990Z"
   },
   {
    "duration": 202,
    "start_time": "2023-05-07T12:55:03.729Z"
   },
   {
    "duration": 164,
    "start_time": "2023-05-07T12:55:29.988Z"
   },
   {
    "duration": 175,
    "start_time": "2023-05-07T12:55:41.019Z"
   },
   {
    "duration": 171,
    "start_time": "2023-05-07T12:55:47.323Z"
   },
   {
    "duration": 198,
    "start_time": "2023-05-07T12:55:52.595Z"
   },
   {
    "duration": 156,
    "start_time": "2023-05-07T12:55:56.467Z"
   },
   {
    "duration": 161,
    "start_time": "2023-05-07T12:56:30.228Z"
   },
   {
    "duration": 211,
    "start_time": "2023-05-07T12:56:41.330Z"
   },
   {
    "duration": 20,
    "start_time": "2023-05-07T12:57:41.918Z"
   },
   {
    "duration": 514,
    "start_time": "2023-05-07T12:58:10.248Z"
   },
   {
    "duration": 16,
    "start_time": "2023-05-07T12:58:12.244Z"
   },
   {
    "duration": 2283,
    "start_time": "2023-05-07T12:58:14.613Z"
   },
   {
    "duration": 10,
    "start_time": "2023-05-07T12:58:17.147Z"
   },
   {
    "duration": 5,
    "start_time": "2023-05-07T12:58:21.113Z"
   },
   {
    "duration": 11,
    "start_time": "2023-05-07T12:58:23.058Z"
   },
   {
    "duration": 169,
    "start_time": "2023-05-07T12:58:24.364Z"
   },
   {
    "duration": 14,
    "start_time": "2023-05-07T12:58:27.311Z"
   },
   {
    "duration": 71,
    "start_time": "2023-05-07T12:58:29.491Z"
   },
   {
    "duration": 9,
    "start_time": "2023-05-07T12:58:31.501Z"
   },
   {
    "duration": 8,
    "start_time": "2023-05-07T12:58:32.881Z"
   },
   {
    "duration": 6,
    "start_time": "2023-05-07T12:58:35.943Z"
   },
   {
    "duration": 9,
    "start_time": "2023-05-07T12:58:37.532Z"
   },
   {
    "duration": 9,
    "start_time": "2023-05-07T12:58:40.378Z"
   },
   {
    "duration": 17,
    "start_time": "2023-05-07T12:58:55.807Z"
   },
   {
    "duration": 16,
    "start_time": "2023-05-07T12:58:57.739Z"
   },
   {
    "duration": 294,
    "start_time": "2023-05-07T12:58:58.609Z"
   },
   {
    "duration": 4,
    "start_time": "2023-05-07T12:59:00.426Z"
   },
   {
    "duration": 187,
    "start_time": "2023-05-07T12:59:01.414Z"
   },
   {
    "duration": 187,
    "start_time": "2023-05-07T12:59:03.285Z"
   },
   {
    "duration": 178,
    "start_time": "2023-05-07T12:59:05.105Z"
   },
   {
    "duration": 1603,
    "start_time": "2023-05-07T12:59:06.764Z"
   },
   {
    "duration": 210,
    "start_time": "2023-05-07T12:59:10.312Z"
   },
   {
    "duration": 311,
    "start_time": "2023-05-07T12:59:12.298Z"
   },
   {
    "duration": 203,
    "start_time": "2023-05-07T12:59:14.599Z"
   },
   {
    "duration": 128,
    "start_time": "2023-05-07T12:59:16.319Z"
   },
   {
    "duration": 243,
    "start_time": "2023-05-07T12:59:17.926Z"
   },
   {
    "duration": 921,
    "start_time": "2023-05-07T12:59:19.543Z"
   },
   {
    "duration": 762,
    "start_time": "2023-05-07T12:59:23.248Z"
   },
   {
    "duration": 607,
    "start_time": "2023-05-07T12:59:25.535Z"
   },
   {
    "duration": 138,
    "start_time": "2023-05-07T12:59:27.668Z"
   },
   {
    "duration": 158,
    "start_time": "2023-05-07T12:59:29.743Z"
   },
   {
    "duration": 348,
    "start_time": "2023-05-07T12:59:31.494Z"
   },
   {
    "duration": 10,
    "start_time": "2023-05-07T12:59:33.666Z"
   },
   {
    "duration": 206,
    "start_time": "2023-05-07T12:59:35.094Z"
   },
   {
    "duration": 216,
    "start_time": "2023-05-07T12:59:36.536Z"
   },
   {
    "duration": 294,
    "start_time": "2023-05-07T12:59:38.280Z"
   },
   {
    "duration": 164,
    "start_time": "2023-05-07T12:59:40.283Z"
   },
   {
    "duration": 143,
    "start_time": "2023-05-07T12:59:41.968Z"
   },
   {
    "duration": 164,
    "start_time": "2023-05-07T12:59:43.888Z"
   },
   {
    "duration": 154,
    "start_time": "2023-05-07T12:59:46.128Z"
   },
   {
    "duration": 153,
    "start_time": "2023-05-07T12:59:48.193Z"
   },
   {
    "duration": 8,
    "start_time": "2023-05-07T13:00:36.930Z"
   },
   {
    "duration": 9,
    "start_time": "2023-05-07T13:00:40.214Z"
   },
   {
    "duration": 164,
    "start_time": "2023-05-07T13:01:16.716Z"
   },
   {
    "duration": 7,
    "start_time": "2023-05-07T13:02:21.674Z"
   },
   {
    "duration": 147,
    "start_time": "2023-05-07T13:02:25.749Z"
   },
   {
    "duration": 81,
    "start_time": "2023-05-07T13:02:47.390Z"
   },
   {
    "duration": 10,
    "start_time": "2023-05-07T13:02:55.212Z"
   },
   {
    "duration": 560,
    "start_time": "2023-05-07T13:03:34.391Z"
   },
   {
    "duration": 18,
    "start_time": "2023-05-07T13:03:36.248Z"
   },
   {
    "duration": 2222,
    "start_time": "2023-05-07T13:03:38.061Z"
   },
   {
    "duration": 11,
    "start_time": "2023-05-07T13:03:40.442Z"
   },
   {
    "duration": 4,
    "start_time": "2023-05-07T13:03:44.293Z"
   },
   {
    "duration": 11,
    "start_time": "2023-05-07T13:03:47.373Z"
   },
   {
    "duration": 177,
    "start_time": "2023-05-07T13:03:49.026Z"
   },
   {
    "duration": 17,
    "start_time": "2023-05-07T13:03:55.672Z"
   },
   {
    "duration": 78,
    "start_time": "2023-05-07T13:03:58.098Z"
   },
   {
    "duration": 11,
    "start_time": "2023-05-07T13:04:00.877Z"
   },
   {
    "duration": 7,
    "start_time": "2023-05-07T13:04:14.450Z"
   },
   {
    "duration": 6,
    "start_time": "2023-05-07T13:04:22.258Z"
   },
   {
    "duration": 7,
    "start_time": "2023-05-07T13:04:24.271Z"
   },
   {
    "duration": 17,
    "start_time": "2023-05-07T13:04:32.424Z"
   },
   {
    "duration": 15,
    "start_time": "2023-05-07T13:04:34.525Z"
   },
   {
    "duration": 298,
    "start_time": "2023-05-07T13:04:35.836Z"
   },
   {
    "duration": 5,
    "start_time": "2023-05-07T13:04:37.686Z"
   },
   {
    "duration": 183,
    "start_time": "2023-05-07T13:04:39.068Z"
   },
   {
    "duration": 180,
    "start_time": "2023-05-07T13:04:40.928Z"
   },
   {
    "duration": 225,
    "start_time": "2023-05-07T13:04:42.505Z"
   },
   {
    "duration": 1486,
    "start_time": "2023-05-07T13:04:43.982Z"
   },
   {
    "duration": 208,
    "start_time": "2023-05-07T13:04:49.809Z"
   },
   {
    "duration": 234,
    "start_time": "2023-05-07T13:04:52.073Z"
   },
   {
    "duration": 200,
    "start_time": "2023-05-07T13:04:54.172Z"
   },
   {
    "duration": 125,
    "start_time": "2023-05-07T13:04:56.027Z"
   },
   {
    "duration": 279,
    "start_time": "2023-05-07T13:05:01.896Z"
   },
   {
    "duration": 890,
    "start_time": "2023-05-07T13:05:03.947Z"
   },
   {
    "duration": 742,
    "start_time": "2023-05-07T13:05:06.380Z"
   },
   {
    "duration": 633,
    "start_time": "2023-05-07T13:05:08.958Z"
   },
   {
    "duration": 137,
    "start_time": "2023-05-07T13:05:11.000Z"
   },
   {
    "duration": 151,
    "start_time": "2023-05-07T13:05:13.975Z"
   },
   {
    "duration": 313,
    "start_time": "2023-05-07T13:05:15.957Z"
   },
   {
    "duration": 9,
    "start_time": "2023-05-07T13:05:18.445Z"
   },
   {
    "duration": 201,
    "start_time": "2023-05-07T13:05:32.222Z"
   },
   {
    "duration": 189,
    "start_time": "2023-05-07T13:05:34.563Z"
   },
   {
    "duration": 294,
    "start_time": "2023-05-07T13:05:36.310Z"
   },
   {
    "duration": 149,
    "start_time": "2023-05-07T13:05:38.269Z"
   },
   {
    "duration": 131,
    "start_time": "2023-05-07T13:05:57.046Z"
   },
   {
    "duration": 152,
    "start_time": "2023-05-07T13:05:59.396Z"
   },
   {
    "duration": 176,
    "start_time": "2023-05-07T13:06:01.859Z"
   },
   {
    "duration": 146,
    "start_time": "2023-05-07T13:06:03.684Z"
   },
   {
    "duration": 8,
    "start_time": "2023-05-07T13:06:41.136Z"
   },
   {
    "duration": 186,
    "start_time": "2023-05-07T13:13:02.729Z"
   },
   {
    "duration": 164,
    "start_time": "2023-05-07T13:13:09.169Z"
   },
   {
    "duration": 15,
    "start_time": "2023-05-07T13:13:23.121Z"
   },
   {
    "duration": 6,
    "start_time": "2023-05-07T13:15:38.432Z"
   },
   {
    "duration": 82,
    "start_time": "2023-05-07T13:15:49.871Z"
   },
   {
    "duration": 15,
    "start_time": "2023-05-07T13:15:55.596Z"
   },
   {
    "duration": 14,
    "start_time": "2023-05-07T13:16:14.948Z"
   },
   {
    "duration": 7,
    "start_time": "2023-05-07T13:16:34.701Z"
   },
   {
    "duration": 28,
    "start_time": "2023-05-07T13:17:01.168Z"
   },
   {
    "duration": 8,
    "start_time": "2023-05-07T13:17:47.550Z"
   },
   {
    "duration": 152,
    "start_time": "2023-05-07T13:18:47.594Z"
   },
   {
    "duration": 10,
    "start_time": "2023-05-07T13:19:40.601Z"
   },
   {
    "duration": 29,
    "start_time": "2023-05-07T13:19:50.452Z"
   },
   {
    "duration": 10,
    "start_time": "2023-05-07T13:20:11.630Z"
   },
   {
    "duration": 10,
    "start_time": "2023-05-07T13:20:29.563Z"
   },
   {
    "duration": 13,
    "start_time": "2023-05-07T13:20:43.582Z"
   },
   {
    "duration": 15,
    "start_time": "2023-05-07T13:20:46.640Z"
   },
   {
    "duration": 10,
    "start_time": "2023-05-07T13:20:53.232Z"
   },
   {
    "duration": 10,
    "start_time": "2023-05-07T13:21:02.096Z"
   },
   {
    "duration": 11,
    "start_time": "2023-05-07T13:21:05.265Z"
   },
   {
    "duration": 11,
    "start_time": "2023-05-07T13:21:13.673Z"
   },
   {
    "duration": 9,
    "start_time": "2023-05-07T13:32:30.517Z"
   },
   {
    "duration": 11,
    "start_time": "2023-05-07T13:32:41.113Z"
   },
   {
    "duration": 14,
    "start_time": "2023-05-07T13:33:22.223Z"
   },
   {
    "duration": 8,
    "start_time": "2023-05-07T13:34:44.915Z"
   },
   {
    "duration": 26,
    "start_time": "2023-05-07T13:35:39.873Z"
   },
   {
    "duration": 19,
    "start_time": "2023-05-07T13:35:59.812Z"
   },
   {
    "duration": 71,
    "start_time": "2023-05-07T13:36:36.650Z"
   },
   {
    "duration": 43,
    "start_time": "2023-05-07T13:37:17.011Z"
   },
   {
    "duration": 17,
    "start_time": "2023-05-07T13:37:22.520Z"
   },
   {
    "duration": 17,
    "start_time": "2023-05-07T13:37:59.221Z"
   },
   {
    "duration": 15,
    "start_time": "2023-05-07T13:38:12.299Z"
   },
   {
    "duration": 20,
    "start_time": "2023-05-07T13:38:44.679Z"
   },
   {
    "duration": 16,
    "start_time": "2023-05-07T13:38:51.136Z"
   },
   {
    "duration": 77,
    "start_time": "2023-05-07T13:41:01.291Z"
   },
   {
    "duration": 29,
    "start_time": "2023-05-07T13:41:16.480Z"
   },
   {
    "duration": 35,
    "start_time": "2023-05-07T13:42:41.705Z"
   },
   {
    "duration": 18,
    "start_time": "2023-05-07T13:43:49.593Z"
   },
   {
    "duration": 16,
    "start_time": "2023-05-07T13:44:03.380Z"
   },
   {
    "duration": 18,
    "start_time": "2023-05-07T13:44:09.138Z"
   },
   {
    "duration": 16,
    "start_time": "2023-05-07T13:44:30.300Z"
   },
   {
    "duration": 10,
    "start_time": "2023-05-07T13:45:13.682Z"
   },
   {
    "duration": 29,
    "start_time": "2023-05-07T13:45:42.243Z"
   },
   {
    "duration": 27,
    "start_time": "2023-05-07T13:46:15.228Z"
   },
   {
    "duration": 24,
    "start_time": "2023-05-07T13:46:28.375Z"
   },
   {
    "duration": 36,
    "start_time": "2023-05-07T13:47:11.095Z"
   },
   {
    "duration": 24,
    "start_time": "2023-05-07T13:47:45.758Z"
   },
   {
    "duration": 227,
    "start_time": "2023-05-07T13:50:04.238Z"
   },
   {
    "duration": 19,
    "start_time": "2023-05-07T13:50:46.246Z"
   },
   {
    "duration": 29,
    "start_time": "2023-05-07T13:51:13.325Z"
   },
   {
    "duration": 32,
    "start_time": "2023-05-07T13:51:54.654Z"
   },
   {
    "duration": 20,
    "start_time": "2023-05-07T13:51:59.856Z"
   },
   {
    "duration": 22,
    "start_time": "2023-05-07T13:52:13.541Z"
   },
   {
    "duration": 526,
    "start_time": "2023-05-07T13:56:23.458Z"
   },
   {
    "duration": 22,
    "start_time": "2023-05-07T13:56:26.097Z"
   },
   {
    "duration": 2452,
    "start_time": "2023-05-07T13:56:30.184Z"
   },
   {
    "duration": 15,
    "start_time": "2023-05-07T13:56:38.048Z"
   },
   {
    "duration": 6,
    "start_time": "2023-05-07T13:57:00.375Z"
   },
   {
    "duration": 7,
    "start_time": "2023-05-07T13:59:05.567Z"
   },
   {
    "duration": 7,
    "start_time": "2023-05-07T13:59:22.005Z"
   },
   {
    "duration": 10,
    "start_time": "2023-05-07T13:59:38.132Z"
   },
   {
    "duration": 8,
    "start_time": "2023-05-07T14:01:34.871Z"
   },
   {
    "duration": 10,
    "start_time": "2023-05-07T14:01:36.709Z"
   },
   {
    "duration": 569,
    "start_time": "2023-05-07T14:02:48.820Z"
   },
   {
    "duration": 16,
    "start_time": "2023-05-07T14:02:50.612Z"
   },
   {
    "duration": 2410,
    "start_time": "2023-05-07T14:02:52.074Z"
   },
   {
    "duration": 11,
    "start_time": "2023-05-07T14:02:54.486Z"
   },
   {
    "duration": 6,
    "start_time": "2023-05-07T14:03:01.659Z"
   },
   {
    "duration": 9,
    "start_time": "2023-05-07T14:03:05.578Z"
   },
   {
    "duration": 10,
    "start_time": "2023-05-07T14:03:07.025Z"
   },
   {
    "duration": 6,
    "start_time": "2023-05-07T14:08:14.493Z"
   },
   {
    "duration": 552,
    "start_time": "2023-05-07T14:08:21.186Z"
   },
   {
    "duration": 16,
    "start_time": "2023-05-07T14:08:23.675Z"
   },
   {
    "duration": 2497,
    "start_time": "2023-05-07T14:08:25.614Z"
   },
   {
    "duration": 11,
    "start_time": "2023-05-07T14:08:30.782Z"
   },
   {
    "duration": 6,
    "start_time": "2023-05-07T14:08:33.679Z"
   },
   {
    "duration": 10,
    "start_time": "2023-05-07T14:08:35.615Z"
   },
   {
    "duration": 10,
    "start_time": "2023-05-07T14:08:37.541Z"
   },
   {
    "duration": 11,
    "start_time": "2023-05-07T14:09:33.058Z"
   },
   {
    "duration": 209,
    "start_time": "2023-05-07T14:09:34.499Z"
   },
   {
    "duration": 14,
    "start_time": "2023-05-07T14:10:22.920Z"
   },
   {
    "duration": 71,
    "start_time": "2023-05-07T14:10:26.986Z"
   },
   {
    "duration": 9,
    "start_time": "2023-05-07T14:10:34.010Z"
   },
   {
    "duration": 9,
    "start_time": "2023-05-07T14:10:35.874Z"
   },
   {
    "duration": 7,
    "start_time": "2023-05-07T14:10:39.069Z"
   },
   {
    "duration": 9,
    "start_time": "2023-05-07T14:10:48.161Z"
   },
   {
    "duration": 8,
    "start_time": "2023-05-07T14:10:52.163Z"
   },
   {
    "duration": 20,
    "start_time": "2023-05-07T14:10:55.348Z"
   },
   {
    "duration": 18,
    "start_time": "2023-05-07T14:11:01.393Z"
   },
   {
    "duration": 292,
    "start_time": "2023-05-07T14:11:03.333Z"
   },
   {
    "duration": 5,
    "start_time": "2023-05-07T14:11:05.544Z"
   },
   {
    "duration": 208,
    "start_time": "2023-05-07T14:11:10.310Z"
   },
   {
    "duration": 183,
    "start_time": "2023-05-07T14:11:13.580Z"
   },
   {
    "duration": 174,
    "start_time": "2023-05-07T14:11:15.353Z"
   },
   {
    "duration": 1818,
    "start_time": "2023-05-07T14:11:19.539Z"
   },
   {
    "duration": 6,
    "start_time": "2023-05-07T14:12:33.006Z"
   },
   {
    "duration": 233,
    "start_time": "2023-05-07T14:12:41.810Z"
   },
   {
    "duration": 591,
    "start_time": "2023-05-07T14:12:54.347Z"
   },
   {
    "duration": 21,
    "start_time": "2023-05-07T14:12:57.821Z"
   },
   {
    "duration": 2487,
    "start_time": "2023-05-07T14:12:59.937Z"
   },
   {
    "duration": 11,
    "start_time": "2023-05-07T14:13:03.689Z"
   },
   {
    "duration": 6,
    "start_time": "2023-05-07T14:13:05.426Z"
   },
   {
    "duration": 8,
    "start_time": "2023-05-07T14:13:11.652Z"
   },
   {
    "duration": 13,
    "start_time": "2023-05-07T14:13:15.216Z"
   },
   {
    "duration": 15,
    "start_time": "2023-05-07T14:13:49.109Z"
   },
   {
    "duration": 216,
    "start_time": "2023-05-07T14:13:50.738Z"
   },
   {
    "duration": 19,
    "start_time": "2023-05-07T14:13:52.321Z"
   },
   {
    "duration": 119,
    "start_time": "2023-05-07T14:13:54.357Z"
   },
   {
    "duration": 11,
    "start_time": "2023-05-07T14:14:05.546Z"
   },
   {
    "duration": 8,
    "start_time": "2023-05-07T14:14:06.353Z"
   },
   {
    "duration": 7,
    "start_time": "2023-05-07T14:14:07.998Z"
   },
   {
    "duration": 8,
    "start_time": "2023-05-07T14:14:08.760Z"
   },
   {
    "duration": 7,
    "start_time": "2023-05-07T14:14:09.885Z"
   },
   {
    "duration": 17,
    "start_time": "2023-05-07T14:14:11.568Z"
   },
   {
    "duration": 16,
    "start_time": "2023-05-07T14:14:13.959Z"
   },
   {
    "duration": 291,
    "start_time": "2023-05-07T14:14:14.800Z"
   },
   {
    "duration": 5,
    "start_time": "2023-05-07T14:14:16.281Z"
   },
   {
    "duration": 192,
    "start_time": "2023-05-07T14:14:18.453Z"
   },
   {
    "duration": 167,
    "start_time": "2023-05-07T14:14:20.730Z"
   },
   {
    "duration": 175,
    "start_time": "2023-05-07T14:14:28.662Z"
   },
   {
    "duration": 260,
    "start_time": "2023-05-07T14:14:39.984Z"
   },
   {
    "duration": 270,
    "start_time": "2023-05-07T14:14:43.101Z"
   },
   {
    "duration": 162,
    "start_time": "2023-05-07T14:14:56.832Z"
   },
   {
    "duration": 148,
    "start_time": "2023-05-07T14:15:00.845Z"
   },
   {
    "duration": 176,
    "start_time": "2023-05-07T14:15:05.735Z"
   },
   {
    "duration": 233,
    "start_time": "2023-05-07T14:15:36.114Z"
   },
   {
    "duration": 243,
    "start_time": "2023-05-07T14:15:40.061Z"
   },
   {
    "duration": 282,
    "start_time": "2023-05-07T14:15:42.367Z"
   },
   {
    "duration": 239,
    "start_time": "2023-05-07T14:15:44.042Z"
   },
   {
    "duration": 250,
    "start_time": "2023-05-07T14:15:45.724Z"
   },
   {
    "duration": 732,
    "start_time": "2023-05-07T14:15:47.638Z"
   },
   {
    "duration": 904,
    "start_time": "2023-05-07T14:15:49.749Z"
   },
   {
    "duration": 537,
    "start_time": "2023-05-07T14:15:52.007Z"
   },
   {
    "duration": 162,
    "start_time": "2023-05-07T14:15:53.891Z"
   },
   {
    "duration": 156,
    "start_time": "2023-05-07T14:15:55.712Z"
   },
   {
    "duration": 461,
    "start_time": "2023-05-07T14:15:57.164Z"
   },
   {
    "duration": 10,
    "start_time": "2023-05-07T14:15:59.930Z"
   },
   {
    "duration": 212,
    "start_time": "2023-05-07T14:16:01.935Z"
   },
   {
    "duration": 185,
    "start_time": "2023-05-07T14:17:29.134Z"
   },
   {
    "duration": 200,
    "start_time": "2023-05-07T14:17:30.704Z"
   },
   {
    "duration": 163,
    "start_time": "2023-05-07T14:17:31.994Z"
   },
   {
    "duration": 145,
    "start_time": "2023-05-07T14:17:33.415Z"
   },
   {
    "duration": 153,
    "start_time": "2023-05-07T14:17:34.596Z"
   },
   {
    "duration": 164,
    "start_time": "2023-05-07T14:17:39.400Z"
   },
   {
    "duration": 158,
    "start_time": "2023-05-07T14:17:40.686Z"
   },
   {
    "duration": 557,
    "start_time": "2023-05-07T14:21:00.922Z"
   },
   {
    "duration": 23,
    "start_time": "2023-05-07T14:21:02.929Z"
   },
   {
    "duration": 2424,
    "start_time": "2023-05-07T14:21:03.915Z"
   },
   {
    "duration": 10,
    "start_time": "2023-05-07T14:21:08.330Z"
   },
   {
    "duration": 5,
    "start_time": "2023-05-07T14:21:11.290Z"
   },
   {
    "duration": 7,
    "start_time": "2023-05-07T14:21:14.015Z"
   },
   {
    "duration": 6,
    "start_time": "2023-05-07T14:21:24.407Z"
   },
   {
    "duration": 9,
    "start_time": "2023-05-07T14:22:19.605Z"
   },
   {
    "duration": 10,
    "start_time": "2023-05-07T14:23:39.553Z"
   },
   {
    "duration": 12,
    "start_time": "2023-05-07T14:23:41.857Z"
   },
   {
    "duration": 9,
    "start_time": "2023-05-07T14:23:45.810Z"
   },
   {
    "duration": 163,
    "start_time": "2023-05-07T14:23:48.488Z"
   },
   {
    "duration": 15,
    "start_time": "2023-05-07T14:23:51.893Z"
   },
   {
    "duration": 81,
    "start_time": "2023-05-07T14:23:53.080Z"
   },
   {
    "duration": 9,
    "start_time": "2023-05-07T14:23:55.979Z"
   },
   {
    "duration": 8,
    "start_time": "2023-05-07T14:23:56.794Z"
   },
   {
    "duration": 6,
    "start_time": "2023-05-07T14:23:57.993Z"
   },
   {
    "duration": 7,
    "start_time": "2023-05-07T14:24:00.226Z"
   },
   {
    "duration": 8,
    "start_time": "2023-05-07T14:24:01.031Z"
   },
   {
    "duration": 20,
    "start_time": "2023-05-07T14:24:02.508Z"
   },
   {
    "duration": 14,
    "start_time": "2023-05-07T14:24:04.910Z"
   },
   {
    "duration": 296,
    "start_time": "2023-05-07T14:24:05.848Z"
   },
   {
    "duration": 5,
    "start_time": "2023-05-07T14:24:07.602Z"
   },
   {
    "duration": 191,
    "start_time": "2023-05-07T14:24:10.112Z"
   },
   {
    "duration": 158,
    "start_time": "2023-05-07T14:24:11.440Z"
   },
   {
    "duration": 179,
    "start_time": "2023-05-07T14:24:12.769Z"
   },
   {
    "duration": 1592,
    "start_time": "2023-05-07T14:24:14.109Z"
   },
   {
    "duration": 202,
    "start_time": "2023-05-07T14:24:17.245Z"
   },
   {
    "duration": 234,
    "start_time": "2023-05-07T14:24:18.586Z"
   },
   {
    "duration": 205,
    "start_time": "2023-05-07T14:24:19.855Z"
   },
   {
    "duration": 131,
    "start_time": "2023-05-07T14:24:21.129Z"
   },
   {
    "duration": 297,
    "start_time": "2023-05-07T14:24:22.333Z"
   },
   {
    "duration": 927,
    "start_time": "2023-05-07T14:24:23.624Z"
   },
   {
    "duration": 732,
    "start_time": "2023-05-07T14:24:25.832Z"
   },
   {
    "duration": 631,
    "start_time": "2023-05-07T14:24:27.569Z"
   },
   {
    "duration": 143,
    "start_time": "2023-05-07T14:24:29.290Z"
   },
   {
    "duration": 149,
    "start_time": "2023-05-07T14:24:30.548Z"
   },
   {
    "duration": 351,
    "start_time": "2023-05-07T14:24:31.779Z"
   },
   {
    "duration": 11,
    "start_time": "2023-05-07T14:24:36.451Z"
   },
   {
    "duration": 196,
    "start_time": "2023-05-07T14:24:44.303Z"
   },
   {
    "duration": 192,
    "start_time": "2023-05-07T14:25:00.264Z"
   },
   {
    "duration": 291,
    "start_time": "2023-05-07T14:25:14.020Z"
   },
   {
    "duration": 154,
    "start_time": "2023-05-07T14:25:25.468Z"
   },
   {
    "duration": 154,
    "start_time": "2023-05-07T14:25:36.393Z"
   },
   {
    "duration": 163,
    "start_time": "2023-05-07T14:25:54.902Z"
   },
   {
    "duration": 230,
    "start_time": "2023-05-07T14:26:17.802Z"
   },
   {
    "duration": 153,
    "start_time": "2023-05-07T14:26:25.012Z"
   },
   {
    "duration": 158,
    "start_time": "2023-05-07T14:26:41.752Z"
   },
   {
    "duration": 27,
    "start_time": "2023-05-07T14:27:12.236Z"
   },
   {
    "duration": 21,
    "start_time": "2023-05-07T14:27:30.558Z"
   },
   {
    "duration": 236,
    "start_time": "2023-05-07T14:30:56.553Z"
   },
   {
    "duration": 153,
    "start_time": "2023-05-07T14:31:06.253Z"
   },
   {
    "duration": 148,
    "start_time": "2023-05-07T14:31:08.884Z"
   },
   {
    "duration": 211,
    "start_time": "2023-05-07T14:31:48.222Z"
   },
   {
    "duration": 545,
    "start_time": "2023-05-07T14:54:55.747Z"
   },
   {
    "duration": 20,
    "start_time": "2023-05-07T14:54:56.295Z"
   },
   {
    "duration": 2400,
    "start_time": "2023-05-07T14:54:56.316Z"
   },
   {
    "duration": 14,
    "start_time": "2023-05-07T14:54:58.719Z"
   },
   {
    "duration": 6,
    "start_time": "2023-05-07T14:54:58.736Z"
   },
   {
    "duration": 10,
    "start_time": "2023-05-07T14:54:58.744Z"
   },
   {
    "duration": 8,
    "start_time": "2023-05-07T14:54:58.756Z"
   },
   {
    "duration": 8,
    "start_time": "2023-05-07T14:54:58.766Z"
   },
   {
    "duration": 175,
    "start_time": "2023-05-07T14:54:58.776Z"
   },
   {
    "duration": 12,
    "start_time": "2023-05-07T14:54:58.952Z"
   },
   {
    "duration": 83,
    "start_time": "2023-05-07T14:54:58.966Z"
   },
   {
    "duration": 7,
    "start_time": "2023-05-07T14:54:59.051Z"
   },
   {
    "duration": 10,
    "start_time": "2023-05-07T14:54:59.060Z"
   },
   {
    "duration": 29,
    "start_time": "2023-05-07T14:54:59.073Z"
   },
   {
    "duration": 8,
    "start_time": "2023-05-07T14:54:59.111Z"
   },
   {
    "duration": 8,
    "start_time": "2023-05-07T14:54:59.124Z"
   },
   {
    "duration": 14,
    "start_time": "2023-05-07T14:54:59.134Z"
   },
   {
    "duration": 13,
    "start_time": "2023-05-07T14:54:59.150Z"
   },
   {
    "duration": 383,
    "start_time": "2023-05-07T14:54:59.165Z"
   },
   {
    "duration": 5,
    "start_time": "2023-05-07T14:54:59.549Z"
   },
   {
    "duration": 183,
    "start_time": "2023-05-07T14:54:59.555Z"
   },
   {
    "duration": 208,
    "start_time": "2023-05-07T14:54:59.741Z"
   },
   {
    "duration": 171,
    "start_time": "2023-05-07T14:54:59.951Z"
   },
   {
    "duration": 1494,
    "start_time": "2023-05-07T14:55:00.124Z"
   },
   {
    "duration": 205,
    "start_time": "2023-05-07T14:55:01.620Z"
   },
   {
    "duration": 252,
    "start_time": "2023-05-07T14:55:01.828Z"
   },
   {
    "duration": 229,
    "start_time": "2023-05-07T14:55:02.081Z"
   },
   {
    "duration": 117,
    "start_time": "2023-05-07T14:55:02.311Z"
   },
   {
    "duration": 233,
    "start_time": "2023-05-07T14:55:02.430Z"
   },
   {
    "duration": 880,
    "start_time": "2023-05-07T14:55:02.664Z"
   },
   {
    "duration": 1084,
    "start_time": "2023-05-07T14:55:03.546Z"
   },
   {
    "duration": 643,
    "start_time": "2023-05-07T14:55:04.632Z"
   },
   {
    "duration": 227,
    "start_time": "2023-05-07T14:55:05.277Z"
   },
   {
    "duration": 143,
    "start_time": "2023-05-07T14:55:05.505Z"
   },
   {
    "duration": 384,
    "start_time": "2023-05-07T14:55:05.650Z"
   },
   {
    "duration": 11,
    "start_time": "2023-05-07T14:55:06.036Z"
   },
   {
    "duration": 232,
    "start_time": "2023-05-07T14:55:06.049Z"
   },
   {
    "duration": 338,
    "start_time": "2023-05-07T14:55:06.284Z"
   },
   {
    "duration": 198,
    "start_time": "2023-05-07T14:55:06.624Z"
   },
   {
    "duration": 150,
    "start_time": "2023-05-07T14:55:06.824Z"
   },
   {
    "duration": 153,
    "start_time": "2023-05-07T14:55:06.978Z"
   },
   {
    "duration": 189,
    "start_time": "2023-05-07T14:55:07.133Z"
   },
   {
    "duration": 234,
    "start_time": "2023-05-07T14:55:07.324Z"
   },
   {
    "duration": 201,
    "start_time": "2023-05-07T14:55:07.561Z"
   },
   {
    "duration": 56,
    "start_time": "2023-05-07T14:55:07.764Z"
   },
   {
    "duration": 24,
    "start_time": "2023-05-07T14:55:07.822Z"
   },
   {
    "duration": 2075,
    "start_time": "2023-05-07T19:07:49.696Z"
   },
   {
    "duration": 11,
    "start_time": "2023-05-07T19:07:51.782Z"
   },
   {
    "duration": 29,
    "start_time": "2023-05-07T19:07:51.795Z"
   },
   {
    "duration": 8,
    "start_time": "2023-05-07T19:07:51.826Z"
   },
   {
    "duration": 12,
    "start_time": "2023-05-07T19:07:51.836Z"
   },
   {
    "duration": 10,
    "start_time": "2023-05-07T19:07:51.850Z"
   },
   {
    "duration": 146,
    "start_time": "2023-05-07T19:07:51.862Z"
   },
   {
    "duration": 11,
    "start_time": "2023-05-07T19:07:52.010Z"
   },
   {
    "duration": 74,
    "start_time": "2023-05-07T19:07:52.022Z"
   },
   {
    "duration": 12,
    "start_time": "2023-05-07T19:07:52.098Z"
   },
   {
    "duration": 19,
    "start_time": "2023-05-07T19:07:52.111Z"
   },
   {
    "duration": 9,
    "start_time": "2023-05-07T19:07:52.133Z"
   },
   {
    "duration": 11,
    "start_time": "2023-05-07T19:07:52.144Z"
   },
   {
    "duration": 20,
    "start_time": "2023-05-07T19:07:52.157Z"
   },
   {
    "duration": 19,
    "start_time": "2023-05-07T19:07:52.183Z"
   },
   {
    "duration": 19,
    "start_time": "2023-05-07T19:07:52.203Z"
   },
   {
    "duration": 325,
    "start_time": "2023-05-07T19:07:52.223Z"
   },
   {
    "duration": 3,
    "start_time": "2023-05-07T19:07:52.550Z"
   },
   {
    "duration": 158,
    "start_time": "2023-05-07T19:07:52.555Z"
   },
   {
    "duration": 190,
    "start_time": "2023-05-07T19:07:52.715Z"
   },
   {
    "duration": 150,
    "start_time": "2023-05-07T19:07:52.906Z"
   },
   {
    "duration": 1160,
    "start_time": "2023-05-07T19:07:53.058Z"
   },
   {
    "duration": 170,
    "start_time": "2023-05-07T19:07:54.219Z"
   },
   {
    "duration": 198,
    "start_time": "2023-05-07T19:07:54.391Z"
   },
   {
    "duration": 162,
    "start_time": "2023-05-07T19:07:54.591Z"
   },
   {
    "duration": 110,
    "start_time": "2023-05-07T19:07:54.755Z"
   },
   {
    "duration": 188,
    "start_time": "2023-05-07T19:07:54.881Z"
   },
   {
    "duration": 676,
    "start_time": "2023-05-07T19:07:55.082Z"
   },
   {
    "duration": 756,
    "start_time": "2023-05-07T19:07:55.759Z"
   },
   {
    "duration": 432,
    "start_time": "2023-05-07T19:07:56.517Z"
   },
   {
    "duration": 119,
    "start_time": "2023-05-07T19:07:56.950Z"
   },
   {
    "duration": 124,
    "start_time": "2023-05-07T19:07:57.082Z"
   },
   {
    "duration": 248,
    "start_time": "2023-05-07T19:07:57.208Z"
   },
   {
    "duration": 20,
    "start_time": "2023-05-07T19:07:57.457Z"
   },
   {
    "duration": 175,
    "start_time": "2023-05-07T19:07:57.478Z"
   },
   {
    "duration": 246,
    "start_time": "2023-05-07T19:07:57.655Z"
   },
   {
    "duration": 156,
    "start_time": "2023-05-07T19:07:57.903Z"
   },
   {
    "duration": 142,
    "start_time": "2023-05-07T19:07:58.060Z"
   },
   {
    "duration": 155,
    "start_time": "2023-05-07T19:07:58.206Z"
   },
   {
    "duration": 137,
    "start_time": "2023-05-07T19:07:58.363Z"
   },
   {
    "duration": 138,
    "start_time": "2023-05-07T19:07:58.501Z"
   },
   {
    "duration": 150,
    "start_time": "2023-05-07T19:07:58.641Z"
   },
   {
    "duration": 30,
    "start_time": "2023-05-07T19:07:58.793Z"
   },
   {
    "duration": 22,
    "start_time": "2023-05-07T19:07:58.824Z"
   },
   {
    "duration": 15,
    "start_time": "2023-05-07T19:12:37.408Z"
   },
   {
    "duration": 27,
    "start_time": "2023-05-07T19:13:25.859Z"
   },
   {
    "duration": 77,
    "start_time": "2023-05-07T19:13:30.486Z"
   },
   {
    "duration": 14,
    "start_time": "2023-05-07T19:13:41.534Z"
   },
   {
    "duration": 71,
    "start_time": "2023-05-07T19:13:54.788Z"
   },
   {
    "duration": 191,
    "start_time": "2023-05-07T19:14:13.469Z"
   },
   {
    "duration": 7,
    "start_time": "2023-05-07T19:14:20.883Z"
   },
   {
    "duration": 448,
    "start_time": "2023-05-07T20:36:47.802Z"
   },
   {
    "duration": 400,
    "start_time": "2023-05-07T20:36:50.332Z"
   },
   {
    "duration": 23,
    "start_time": "2023-05-07T20:37:36.470Z"
   },
   {
    "duration": 2757,
    "start_time": "2023-05-07T20:37:38.314Z"
   },
   {
    "duration": 2175,
    "start_time": "2023-05-07T20:38:09.639Z"
   },
   {
    "duration": 11,
    "start_time": "2023-05-07T20:41:25.660Z"
   },
   {
    "duration": 6,
    "start_time": "2023-05-07T20:41:28.357Z"
   },
   {
    "duration": 11,
    "start_time": "2023-05-07T20:41:30.069Z"
   },
   {
    "duration": 9,
    "start_time": "2023-05-07T20:41:32.364Z"
   },
   {
    "duration": 6,
    "start_time": "2023-05-07T20:42:41.693Z"
   },
   {
    "duration": 810,
    "start_time": "2023-05-07T20:42:56.018Z"
   },
   {
    "duration": 15,
    "start_time": "2023-05-07T20:43:06.040Z"
   },
   {
    "duration": 204,
    "start_time": "2023-05-07T20:43:13.492Z"
   },
   {
    "duration": 19,
    "start_time": "2023-05-07T20:43:17.116Z"
   },
   {
    "duration": 83,
    "start_time": "2023-05-07T20:43:19.828Z"
   },
   {
    "duration": 11,
    "start_time": "2023-05-07T20:43:22.082Z"
   },
   {
    "duration": 12,
    "start_time": "2023-05-07T20:43:23.330Z"
   },
   {
    "duration": 7,
    "start_time": "2023-05-07T20:43:27.928Z"
   },
   {
    "duration": 10,
    "start_time": "2023-05-07T20:43:29.412Z"
   },
   {
    "duration": 7,
    "start_time": "2023-05-07T20:43:31.148Z"
   },
   {
    "duration": 16,
    "start_time": "2023-05-07T20:43:32.372Z"
   },
   {
    "duration": 18,
    "start_time": "2023-05-07T20:46:27.315Z"
   },
   {
    "duration": 29,
    "start_time": "2023-05-07T20:46:46.050Z"
   },
   {
    "duration": 6,
    "start_time": "2023-05-07T20:49:02.778Z"
   },
   {
    "duration": 483,
    "start_time": "2023-05-07T20:49:18.310Z"
   },
   {
    "duration": 142,
    "start_time": "2023-05-07T20:49:21.069Z"
   },
   {
    "duration": 22,
    "start_time": "2023-05-07T20:49:23.132Z"
   },
   {
    "duration": 2620,
    "start_time": "2023-05-07T20:49:26.536Z"
   },
   {
    "duration": 10,
    "start_time": "2023-05-07T20:49:32.372Z"
   },
   {
    "duration": 6,
    "start_time": "2023-05-07T20:49:34.807Z"
   },
   {
    "duration": 13,
    "start_time": "2023-05-07T20:49:36.832Z"
   },
   {
    "duration": 9,
    "start_time": "2023-05-07T20:49:38.775Z"
   },
   {
    "duration": 12,
    "start_time": "2023-05-07T20:49:40.377Z"
   },
   {
    "duration": 182,
    "start_time": "2023-05-07T20:49:43.147Z"
   },
   {
    "duration": 13,
    "start_time": "2023-05-07T20:49:45.465Z"
   },
   {
    "duration": 106,
    "start_time": "2023-05-07T20:49:52.529Z"
   },
   {
    "duration": 12,
    "start_time": "2023-05-07T20:49:54.328Z"
   },
   {
    "duration": 25,
    "start_time": "2023-05-07T20:49:59.140Z"
   },
   {
    "duration": 5,
    "start_time": "2023-05-07T20:50:03.176Z"
   },
   {
    "duration": 5,
    "start_time": "2023-05-07T20:50:08.052Z"
   },
   {
    "duration": 4,
    "start_time": "2023-05-07T20:50:12.959Z"
   },
   {
    "duration": 4,
    "start_time": "2023-05-07T20:50:47.560Z"
   },
   {
    "duration": 5,
    "start_time": "2023-05-07T20:50:48.606Z"
   },
   {
    "duration": 5,
    "start_time": "2023-05-07T20:51:03.937Z"
   },
   {
    "duration": 4,
    "start_time": "2023-05-07T20:51:05.309Z"
   },
   {
    "duration": 454,
    "start_time": "2023-05-07T20:51:12.809Z"
   },
   {
    "duration": 138,
    "start_time": "2023-05-07T20:51:14.337Z"
   },
   {
    "duration": 17,
    "start_time": "2023-05-07T20:51:16.553Z"
   },
   {
    "duration": 2533,
    "start_time": "2023-05-07T20:51:17.766Z"
   },
   {
    "duration": 11,
    "start_time": "2023-05-07T20:51:23.445Z"
   },
   {
    "duration": 5,
    "start_time": "2023-05-07T20:51:25.288Z"
   },
   {
    "duration": 10,
    "start_time": "2023-05-07T20:51:27.034Z"
   },
   {
    "duration": 10,
    "start_time": "2023-05-07T20:51:28.544Z"
   },
   {
    "duration": 17,
    "start_time": "2023-05-07T20:51:29.937Z"
   },
   {
    "duration": 180,
    "start_time": "2023-05-07T20:51:32.819Z"
   },
   {
    "duration": 15,
    "start_time": "2023-05-07T20:51:34.681Z"
   },
   {
    "duration": 84,
    "start_time": "2023-05-07T20:51:36.213Z"
   },
   {
    "duration": 16,
    "start_time": "2023-05-07T20:51:38.000Z"
   },
   {
    "duration": 26,
    "start_time": "2023-05-07T20:51:39.531Z"
   },
   {
    "duration": 103,
    "start_time": "2023-05-07T20:51:42.002Z"
   },
   {
    "duration": 9,
    "start_time": "2023-05-07T20:51:43.092Z"
   },
   {
    "duration": 101,
    "start_time": "2023-05-07T20:53:13.038Z"
   },
   {
    "duration": 10,
    "start_time": "2023-05-07T20:53:14.768Z"
   },
   {
    "duration": 11,
    "start_time": "2023-05-07T20:53:21.700Z"
   },
   {
    "duration": 11,
    "start_time": "2023-05-07T20:53:22.496Z"
   },
   {
    "duration": 284,
    "start_time": "2023-05-07T20:54:31.011Z"
   },
   {
    "duration": 298,
    "start_time": "2023-05-07T20:54:41.666Z"
   },
   {
    "duration": 1693,
    "start_time": "2023-05-07T20:54:52.492Z"
   },
   {
    "duration": 853,
    "start_time": "2023-05-07T20:54:58.388Z"
   },
   {
    "duration": 16,
    "start_time": "2023-05-07T20:57:07.937Z"
   },
   {
    "duration": 9,
    "start_time": "2023-05-07T20:57:09.634Z"
   },
   {
    "duration": 967,
    "start_time": "2023-05-07T20:57:13.048Z"
   },
   {
    "duration": 86,
    "start_time": "2023-05-07T20:59:33.496Z"
   },
   {
    "duration": 417,
    "start_time": "2023-05-07T21:00:13.339Z"
   },
   {
    "duration": 144,
    "start_time": "2023-05-07T21:00:14.595Z"
   },
   {
    "duration": 16,
    "start_time": "2023-05-07T21:00:16.658Z"
   },
   {
    "duration": 2532,
    "start_time": "2023-05-07T21:00:18.508Z"
   },
   {
    "duration": 10,
    "start_time": "2023-05-07T21:00:26.133Z"
   },
   {
    "duration": 5,
    "start_time": "2023-05-07T21:00:28.470Z"
   },
   {
    "duration": 15,
    "start_time": "2023-05-07T21:00:30.684Z"
   },
   {
    "duration": 15,
    "start_time": "2023-05-07T21:00:31.780Z"
   },
   {
    "duration": 13,
    "start_time": "2023-05-07T21:00:33.134Z"
   },
   {
    "duration": 202,
    "start_time": "2023-05-07T21:00:35.737Z"
   },
   {
    "duration": 18,
    "start_time": "2023-05-07T21:00:37.509Z"
   },
   {
    "duration": 90,
    "start_time": "2023-05-07T21:00:39.838Z"
   },
   {
    "duration": 9,
    "start_time": "2023-05-07T21:00:43.046Z"
   },
   {
    "duration": 27,
    "start_time": "2023-05-07T21:00:43.937Z"
   },
   {
    "duration": 11,
    "start_time": "2023-05-07T21:00:48.546Z"
   },
   {
    "duration": 6,
    "start_time": "2023-05-07T21:01:08.633Z"
   },
   {
    "duration": 9,
    "start_time": "2023-05-07T21:01:09.655Z"
   },
   {
    "duration": 825,
    "start_time": "2023-05-07T21:01:10.589Z"
   },
   {
    "duration": 457,
    "start_time": "2023-05-07T21:01:26.706Z"
   },
   {
    "duration": 170,
    "start_time": "2023-05-07T21:01:28.068Z"
   },
   {
    "duration": 16,
    "start_time": "2023-05-07T21:01:30.064Z"
   },
   {
    "duration": 2757,
    "start_time": "2023-05-07T21:01:31.727Z"
   },
   {
    "duration": 25,
    "start_time": "2023-05-07T21:01:37.219Z"
   },
   {
    "duration": 6,
    "start_time": "2023-05-07T21:01:38.882Z"
   },
   {
    "duration": 13,
    "start_time": "2023-05-07T21:01:41.021Z"
   },
   {
    "duration": 10,
    "start_time": "2023-05-07T21:01:42.036Z"
   },
   {
    "duration": 12,
    "start_time": "2023-05-07T21:01:43.348Z"
   },
   {
    "duration": 170,
    "start_time": "2023-05-07T21:01:45.331Z"
   },
   {
    "duration": 16,
    "start_time": "2023-05-07T21:01:46.732Z"
   },
   {
    "duration": 80,
    "start_time": "2023-05-07T21:01:47.978Z"
   },
   {
    "duration": 12,
    "start_time": "2023-05-07T21:01:52.657Z"
   },
   {
    "duration": 167,
    "start_time": "2023-05-07T21:02:27.795Z"
   },
   {
    "duration": 8,
    "start_time": "2023-05-07T21:02:31.623Z"
   },
   {
    "duration": 14,
    "start_time": "2023-05-07T21:02:32.918Z"
   },
   {
    "duration": 937,
    "start_time": "2023-05-07T21:02:35.623Z"
   },
   {
    "duration": 17,
    "start_time": "2023-05-07T21:02:56.192Z"
   },
   {
    "duration": 17,
    "start_time": "2023-05-07T21:03:02.177Z"
   },
   {
    "duration": 313,
    "start_time": "2023-05-07T21:03:04.370Z"
   },
   {
    "duration": 5,
    "start_time": "2023-05-07T21:03:06.707Z"
   },
   {
    "duration": 866,
    "start_time": "2023-05-07T21:03:39.241Z"
   },
   {
    "duration": 3,
    "start_time": "2023-05-07T21:03:55.410Z"
   },
   {
    "duration": 211,
    "start_time": "2023-05-07T21:03:58.195Z"
   },
   {
    "duration": 374,
    "start_time": "2023-05-07T21:04:02.327Z"
   },
   {
    "duration": 207,
    "start_time": "2023-05-07T21:04:05.284Z"
   },
   {
    "duration": 781,
    "start_time": "2023-05-07T21:04:07.776Z"
   },
   {
    "duration": 197,
    "start_time": "2023-05-07T21:05:49.385Z"
   },
   {
    "duration": 232,
    "start_time": "2023-05-07T21:05:52.145Z"
   },
   {
    "duration": 313,
    "start_time": "2023-05-07T21:05:54.457Z"
   },
   {
    "duration": 128,
    "start_time": "2023-05-07T21:05:56.420Z"
   },
   {
    "duration": 252,
    "start_time": "2023-05-07T21:05:58.728Z"
   },
   {
    "duration": 842,
    "start_time": "2023-05-07T21:06:00.670Z"
   },
   {
    "duration": 877,
    "start_time": "2023-05-07T21:06:03.336Z"
   },
   {
    "duration": 562,
    "start_time": "2023-05-07T21:06:06.292Z"
   },
   {
    "duration": 168,
    "start_time": "2023-05-07T21:06:09.371Z"
   },
   {
    "duration": 300,
    "start_time": "2023-05-07T21:06:11.886Z"
   },
   {
    "duration": 381,
    "start_time": "2023-05-07T21:06:19.858Z"
   },
   {
    "duration": 12,
    "start_time": "2023-05-07T21:06:22.286Z"
   },
   {
    "duration": 209,
    "start_time": "2023-05-07T21:07:49.727Z"
   },
   {
    "duration": 207,
    "start_time": "2023-05-07T21:07:56.060Z"
   },
   {
    "duration": 206,
    "start_time": "2023-05-07T21:09:21.250Z"
   },
   {
    "duration": 210,
    "start_time": "2023-05-07T21:09:40.527Z"
   },
   {
    "duration": 188,
    "start_time": "2023-05-07T21:09:52.674Z"
   },
   {
    "duration": 145,
    "start_time": "2023-05-07T21:10:08.940Z"
   },
   {
    "duration": 158,
    "start_time": "2023-05-07T21:10:19.755Z"
   },
   {
    "duration": 255,
    "start_time": "2023-05-07T21:10:26.327Z"
   },
   {
    "duration": 158,
    "start_time": "2023-05-07T21:10:32.052Z"
   },
   {
    "duration": 174,
    "start_time": "2023-05-07T21:10:34.682Z"
   },
   {
    "duration": 27,
    "start_time": "2023-05-07T21:10:37.977Z"
   },
   {
    "duration": 22,
    "start_time": "2023-05-07T21:10:48.131Z"
   },
   {
    "duration": 269,
    "start_time": "2023-05-07T21:17:03.446Z"
   },
   {
    "duration": 161,
    "start_time": "2023-05-07T21:17:10.543Z"
   },
   {
    "duration": 335,
    "start_time": "2023-05-07T21:17:13.641Z"
   },
   {
    "duration": 9,
    "start_time": "2023-05-07T21:19:51.678Z"
   },
   {
    "duration": 213,
    "start_time": "2023-05-07T21:23:38.565Z"
   },
   {
    "duration": 324,
    "start_time": "2023-05-07T21:24:16.250Z"
   },
   {
    "duration": 378,
    "start_time": "2023-05-07T21:24:33.260Z"
   },
   {
    "duration": 45,
    "start_time": "2023-05-07T21:33:13.722Z"
   },
   {
    "duration": 437,
    "start_time": "2023-05-08T14:15:53.276Z"
   },
   {
    "duration": 133,
    "start_time": "2023-05-08T14:15:53.716Z"
   },
   {
    "duration": 17,
    "start_time": "2023-05-08T14:15:53.850Z"
   },
   {
    "duration": 2205,
    "start_time": "2023-05-08T14:15:53.868Z"
   },
   {
    "duration": 8,
    "start_time": "2023-05-08T14:15:56.076Z"
   },
   {
    "duration": 14,
    "start_time": "2023-05-08T14:15:56.086Z"
   },
   {
    "duration": 14,
    "start_time": "2023-05-08T14:15:56.101Z"
   },
   {
    "duration": 8,
    "start_time": "2023-05-08T14:15:56.117Z"
   },
   {
    "duration": 11,
    "start_time": "2023-05-08T14:15:56.126Z"
   },
   {
    "duration": 148,
    "start_time": "2023-05-08T14:15:56.138Z"
   },
   {
    "duration": 12,
    "start_time": "2023-05-08T14:15:56.287Z"
   },
   {
    "duration": 68,
    "start_time": "2023-05-08T14:15:56.301Z"
   },
   {
    "duration": 21,
    "start_time": "2023-05-08T14:15:56.371Z"
   },
   {
    "duration": 162,
    "start_time": "2023-05-08T14:15:56.395Z"
   },
   {
    "duration": 6,
    "start_time": "2023-05-08T14:15:56.559Z"
   },
   {
    "duration": 24,
    "start_time": "2023-05-08T14:15:56.566Z"
   },
   {
    "duration": 811,
    "start_time": "2023-05-08T14:15:56.591Z"
   },
   {
    "duration": 14,
    "start_time": "2023-05-08T14:15:57.404Z"
   },
   {
    "duration": 298,
    "start_time": "2023-05-08T14:15:57.420Z"
   },
   {
    "duration": 17,
    "start_time": "2023-05-08T14:15:57.721Z"
   },
   {
    "duration": 282,
    "start_time": "2023-05-08T14:15:57.740Z"
   },
   {
    "duration": 4,
    "start_time": "2023-05-08T14:15:58.024Z"
   },
   {
    "duration": 9,
    "start_time": "2023-05-08T14:15:58.030Z"
   },
   {
    "duration": 204,
    "start_time": "2023-05-08T14:15:58.040Z"
   },
   {
    "duration": 168,
    "start_time": "2023-05-08T14:15:58.246Z"
   },
   {
    "duration": 291,
    "start_time": "2023-05-08T14:15:58.416Z"
   },
   {
    "duration": 835,
    "start_time": "2023-05-08T14:15:58.709Z"
   },
   {
    "duration": 204,
    "start_time": "2023-05-08T14:15:59.546Z"
   },
   {
    "duration": 240,
    "start_time": "2023-05-08T14:15:59.752Z"
   },
   {
    "duration": 194,
    "start_time": "2023-05-08T14:15:59.993Z"
   },
   {
    "duration": 222,
    "start_time": "2023-05-08T14:16:00.191Z"
   },
   {
    "duration": 280,
    "start_time": "2023-05-08T14:16:00.415Z"
   },
   {
    "duration": 709,
    "start_time": "2023-05-08T14:16:00.697Z"
   },
   {
    "duration": 866,
    "start_time": "2023-05-08T14:16:01.408Z"
   },
   {
    "duration": 520,
    "start_time": "2023-05-08T14:16:02.276Z"
   },
   {
    "duration": 169,
    "start_time": "2023-05-08T14:16:02.798Z"
   },
   {
    "duration": 158,
    "start_time": "2023-05-08T14:16:02.969Z"
   },
   {
    "duration": 449,
    "start_time": "2023-05-08T14:16:03.129Z"
   },
   {
    "duration": 19,
    "start_time": "2023-05-08T14:16:03.580Z"
   },
   {
    "duration": 202,
    "start_time": "2023-05-08T14:16:03.601Z"
   },
   {
    "duration": 206,
    "start_time": "2023-05-08T14:16:03.807Z"
   },
   {
    "duration": 194,
    "start_time": "2023-05-08T14:16:04.014Z"
   },
   {
    "duration": 154,
    "start_time": "2023-05-08T14:16:04.210Z"
   },
   {
    "duration": 162,
    "start_time": "2023-05-08T14:16:04.365Z"
   },
   {
    "duration": 187,
    "start_time": "2023-05-08T14:16:04.529Z"
   },
   {
    "duration": 175,
    "start_time": "2023-05-08T14:16:04.717Z"
   },
   {
    "duration": 158,
    "start_time": "2023-05-08T14:16:04.893Z"
   },
   {
    "duration": 200,
    "start_time": "2023-05-08T14:16:05.053Z"
   },
   {
    "duration": 382,
    "start_time": "2023-05-08T14:16:05.255Z"
   }
  ],
  "kernelspec": {
   "display_name": "Python 3 (ipykernel)",
   "language": "python",
   "name": "python3"
  },
  "language_info": {
   "codemirror_mode": {
    "name": "ipython",
    "version": 3
   },
   "file_extension": ".py",
   "mimetype": "text/x-python",
   "name": "python",
   "nbconvert_exporter": "python",
   "pygments_lexer": "ipython3",
   "version": "3.10.9"
  },
  "toc": {
   "base_numbering": 1,
   "nav_menu": {},
   "number_sections": true,
   "sideBar": true,
   "skip_h1_title": true,
   "title_cell": "Table of Contents",
   "title_sidebar": "Contents",
   "toc_cell": false,
   "toc_position": {},
   "toc_section_display": true,
   "toc_window_display": false
  }
 },
 "nbformat": 4,
 "nbformat_minor": 2
}
