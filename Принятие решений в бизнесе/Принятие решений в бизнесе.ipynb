{
 "cells": [
  {
   "cell_type": "markdown",
   "metadata": {},
   "source": [
    "# Принятие решений в бизнесе #"
   ]
  },
  {
   "cell_type": "markdown",
   "metadata": {},
   "source": [
    "В нашем распоряжении три датасета. Файл `hypothesis.csv` хранит данные о гипотезах для проверки, `orders.csv` — информацию о заказах пользователей и их принадлежность к A/B группе, а `visitors.csv` — информацию о количествах пользователей по A/B группам в зависимости от дня.\n",
    "\n",
    "**Задача, которую мы пытаемся решить в данном исследовании, следующая:** выбрать подходящую для гипотезу для проведения А/В-теста и провести его.\n",
    "\n",
    "**Цели исследования:**\n",
    "\n",
    "1. Приоритизировать гипотезы;\n",
    "2. Запустить А/В-тест;\n",
    "3. Проанализировать результаты А/В-теста.\n",
    "\n",
    "**Ход исследования:**\n",
    "\n",
    "Мы приступим с загрузки файлов, обозначенных выше, изучим их и проведем преобработку, приведя все данные к стандартному виду, после чего проведём исследование для приоритизации гипотез, и после этого проведём А/В-тест."
   ]
  },
  {
   "cell_type": "markdown",
   "metadata": {},
   "source": [
    "**Шаг 1: загрузка и предварительное изучение данных файлов**"
   ]
  },
  {
   "cell_type": "code",
   "execution_count": 1,
   "metadata": {},
   "outputs": [],
   "source": [
    "import pandas as pd\n",
    "from matplotlib import pyplot as plt\n",
    "import scipy.stats as stats\n",
    "import datetime as dt\n",
    "import numpy as np"
   ]
  },
  {
   "cell_type": "code",
   "execution_count": 2,
   "metadata": {},
   "outputs": [
    {
     "data": {
      "text/html": [
       "<div>\n",
       "<style scoped>\n",
       "    .dataframe tbody tr th:only-of-type {\n",
       "        vertical-align: middle;\n",
       "    }\n",
       "\n",
       "    .dataframe tbody tr th {\n",
       "        vertical-align: top;\n",
       "    }\n",
       "\n",
       "    .dataframe thead th {\n",
       "        text-align: right;\n",
       "    }\n",
       "</style>\n",
       "<table border=\"1\" class=\"dataframe\">\n",
       "  <thead>\n",
       "    <tr style=\"text-align: right;\">\n",
       "      <th></th>\n",
       "      <th>Hypothesis</th>\n",
       "      <th>Reach</th>\n",
       "      <th>Impact</th>\n",
       "      <th>Confidence</th>\n",
       "      <th>Efforts</th>\n",
       "    </tr>\n",
       "  </thead>\n",
       "  <tbody>\n",
       "    <tr>\n",
       "      <th>0</th>\n",
       "      <td>Добавить два новых канала привлечения трафика,...</td>\n",
       "      <td>3</td>\n",
       "      <td>10</td>\n",
       "      <td>8</td>\n",
       "      <td>6</td>\n",
       "    </tr>\n",
       "    <tr>\n",
       "      <th>1</th>\n",
       "      <td>Запустить собственную службу доставки, что сок...</td>\n",
       "      <td>2</td>\n",
       "      <td>5</td>\n",
       "      <td>4</td>\n",
       "      <td>10</td>\n",
       "    </tr>\n",
       "    <tr>\n",
       "      <th>2</th>\n",
       "      <td>Добавить блоки рекомендаций товаров на сайт ин...</td>\n",
       "      <td>8</td>\n",
       "      <td>3</td>\n",
       "      <td>7</td>\n",
       "      <td>3</td>\n",
       "    </tr>\n",
       "    <tr>\n",
       "      <th>3</th>\n",
       "      <td>Изменить структура категорий, что увеличит кон...</td>\n",
       "      <td>8</td>\n",
       "      <td>3</td>\n",
       "      <td>3</td>\n",
       "      <td>8</td>\n",
       "    </tr>\n",
       "    <tr>\n",
       "      <th>4</th>\n",
       "      <td>Изменить цвет фона главной страницы, чтобы уве...</td>\n",
       "      <td>3</td>\n",
       "      <td>1</td>\n",
       "      <td>1</td>\n",
       "      <td>1</td>\n",
       "    </tr>\n",
       "  </tbody>\n",
       "</table>\n",
       "</div>"
      ],
      "text/plain": [
       "                                          Hypothesis  Reach  Impact  \\\n",
       "0  Добавить два новых канала привлечения трафика,...      3      10   \n",
       "1  Запустить собственную службу доставки, что сок...      2       5   \n",
       "2  Добавить блоки рекомендаций товаров на сайт ин...      8       3   \n",
       "3  Изменить структура категорий, что увеличит кон...      8       3   \n",
       "4  Изменить цвет фона главной страницы, чтобы уве...      3       1   \n",
       "\n",
       "   Confidence  Efforts  \n",
       "0           8        6  \n",
       "1           4       10  \n",
       "2           7        3  \n",
       "3           3        8  \n",
       "4           1        1  "
      ]
     },
     "execution_count": 2,
     "metadata": {},
     "output_type": "execute_result"
    }
   ],
   "source": [
    "hp = pd.read_csv('/datasets/hypothesis.csv')\n",
    "hp.head()"
   ]
  },
  {
   "cell_type": "code",
   "execution_count": 3,
   "metadata": {},
   "outputs": [
    {
     "name": "stdout",
     "output_type": "stream",
     "text": [
      "<class 'pandas.core.frame.DataFrame'>\n",
      "RangeIndex: 9 entries, 0 to 8\n",
      "Data columns (total 5 columns):\n",
      " #   Column      Non-Null Count  Dtype \n",
      "---  ------      --------------  ----- \n",
      " 0   Hypothesis  9 non-null      object\n",
      " 1   Reach       9 non-null      int64 \n",
      " 2   Impact      9 non-null      int64 \n",
      " 3   Confidence  9 non-null      int64 \n",
      " 4   Efforts     9 non-null      int64 \n",
      "dtypes: int64(4), object(1)\n",
      "memory usage: 488.0+ bytes\n"
     ]
    }
   ],
   "source": [
    "hp.info()"
   ]
  },
  {
   "cell_type": "markdown",
   "metadata": {},
   "source": [
    "Все данные соответствуют своему типу. Необходимо привести наименование столбцов к нижнему регистру. Пропусков не обнаружено."
   ]
  },
  {
   "cell_type": "code",
   "execution_count": 4,
   "metadata": {},
   "outputs": [
    {
     "data": {
      "text/html": [
       "<div>\n",
       "<style scoped>\n",
       "    .dataframe tbody tr th:only-of-type {\n",
       "        vertical-align: middle;\n",
       "    }\n",
       "\n",
       "    .dataframe tbody tr th {\n",
       "        vertical-align: top;\n",
       "    }\n",
       "\n",
       "    .dataframe thead th {\n",
       "        text-align: right;\n",
       "    }\n",
       "</style>\n",
       "<table border=\"1\" class=\"dataframe\">\n",
       "  <thead>\n",
       "    <tr style=\"text-align: right;\">\n",
       "      <th></th>\n",
       "      <th>transactionId</th>\n",
       "      <th>visitorId</th>\n",
       "      <th>date</th>\n",
       "      <th>revenue</th>\n",
       "      <th>group</th>\n",
       "    </tr>\n",
       "  </thead>\n",
       "  <tbody>\n",
       "    <tr>\n",
       "      <th>0</th>\n",
       "      <td>3667963787</td>\n",
       "      <td>3312258926</td>\n",
       "      <td>2019-08-15</td>\n",
       "      <td>1650</td>\n",
       "      <td>B</td>\n",
       "    </tr>\n",
       "    <tr>\n",
       "      <th>1</th>\n",
       "      <td>2804400009</td>\n",
       "      <td>3642806036</td>\n",
       "      <td>2019-08-15</td>\n",
       "      <td>730</td>\n",
       "      <td>B</td>\n",
       "    </tr>\n",
       "    <tr>\n",
       "      <th>2</th>\n",
       "      <td>2961555356</td>\n",
       "      <td>4069496402</td>\n",
       "      <td>2019-08-15</td>\n",
       "      <td>400</td>\n",
       "      <td>A</td>\n",
       "    </tr>\n",
       "    <tr>\n",
       "      <th>3</th>\n",
       "      <td>3797467345</td>\n",
       "      <td>1196621759</td>\n",
       "      <td>2019-08-15</td>\n",
       "      <td>9759</td>\n",
       "      <td>B</td>\n",
       "    </tr>\n",
       "    <tr>\n",
       "      <th>4</th>\n",
       "      <td>2282983706</td>\n",
       "      <td>2322279887</td>\n",
       "      <td>2019-08-15</td>\n",
       "      <td>2308</td>\n",
       "      <td>B</td>\n",
       "    </tr>\n",
       "  </tbody>\n",
       "</table>\n",
       "</div>"
      ],
      "text/plain": [
       "   transactionId   visitorId        date  revenue group\n",
       "0     3667963787  3312258926  2019-08-15     1650     B\n",
       "1     2804400009  3642806036  2019-08-15      730     B\n",
       "2     2961555356  4069496402  2019-08-15      400     A\n",
       "3     3797467345  1196621759  2019-08-15     9759     B\n",
       "4     2282983706  2322279887  2019-08-15     2308     B"
      ]
     },
     "execution_count": 4,
     "metadata": {},
     "output_type": "execute_result"
    }
   ],
   "source": [
    "orders = pd.read_csv('/datasets/orders.csv')\n",
    "orders.head()"
   ]
  },
  {
   "cell_type": "code",
   "execution_count": 5,
   "metadata": {},
   "outputs": [
    {
     "name": "stdout",
     "output_type": "stream",
     "text": [
      "<class 'pandas.core.frame.DataFrame'>\n",
      "RangeIndex: 1197 entries, 0 to 1196\n",
      "Data columns (total 5 columns):\n",
      " #   Column         Non-Null Count  Dtype \n",
      "---  ------         --------------  ----- \n",
      " 0   transactionId  1197 non-null   int64 \n",
      " 1   visitorId      1197 non-null   int64 \n",
      " 2   date           1197 non-null   object\n",
      " 3   revenue        1197 non-null   int64 \n",
      " 4   group          1197 non-null   object\n",
      "dtypes: int64(3), object(2)\n",
      "memory usage: 46.9+ KB\n"
     ]
    }
   ],
   "source": [
    "orders.info()"
   ]
  },
  {
   "cell_type": "markdown",
   "metadata": {},
   "source": [
    "Столбец date необходимо привести к типу даты, наименования столбцов transactionId и visitorId необходимо привести к стандартному виду. Дубликатов не обнаружено."
   ]
  },
  {
   "cell_type": "code",
   "execution_count": 6,
   "metadata": {},
   "outputs": [
    {
     "data": {
      "text/html": [
       "<div>\n",
       "<style scoped>\n",
       "    .dataframe tbody tr th:only-of-type {\n",
       "        vertical-align: middle;\n",
       "    }\n",
       "\n",
       "    .dataframe tbody tr th {\n",
       "        vertical-align: top;\n",
       "    }\n",
       "\n",
       "    .dataframe thead th {\n",
       "        text-align: right;\n",
       "    }\n",
       "</style>\n",
       "<table border=\"1\" class=\"dataframe\">\n",
       "  <thead>\n",
       "    <tr style=\"text-align: right;\">\n",
       "      <th></th>\n",
       "      <th>date</th>\n",
       "      <th>group</th>\n",
       "      <th>visitors</th>\n",
       "    </tr>\n",
       "  </thead>\n",
       "  <tbody>\n",
       "    <tr>\n",
       "      <th>0</th>\n",
       "      <td>2019-08-01</td>\n",
       "      <td>A</td>\n",
       "      <td>719</td>\n",
       "    </tr>\n",
       "    <tr>\n",
       "      <th>1</th>\n",
       "      <td>2019-08-02</td>\n",
       "      <td>A</td>\n",
       "      <td>619</td>\n",
       "    </tr>\n",
       "    <tr>\n",
       "      <th>2</th>\n",
       "      <td>2019-08-03</td>\n",
       "      <td>A</td>\n",
       "      <td>507</td>\n",
       "    </tr>\n",
       "    <tr>\n",
       "      <th>3</th>\n",
       "      <td>2019-08-04</td>\n",
       "      <td>A</td>\n",
       "      <td>717</td>\n",
       "    </tr>\n",
       "    <tr>\n",
       "      <th>4</th>\n",
       "      <td>2019-08-05</td>\n",
       "      <td>A</td>\n",
       "      <td>756</td>\n",
       "    </tr>\n",
       "  </tbody>\n",
       "</table>\n",
       "</div>"
      ],
      "text/plain": [
       "         date group  visitors\n",
       "0  2019-08-01     A       719\n",
       "1  2019-08-02     A       619\n",
       "2  2019-08-03     A       507\n",
       "3  2019-08-04     A       717\n",
       "4  2019-08-05     A       756"
      ]
     },
     "execution_count": 6,
     "metadata": {},
     "output_type": "execute_result"
    }
   ],
   "source": [
    "visitors = pd.read_csv('/datasets/visitors.csv')\n",
    "visitors.head()"
   ]
  },
  {
   "cell_type": "code",
   "execution_count": 7,
   "metadata": {},
   "outputs": [
    {
     "name": "stdout",
     "output_type": "stream",
     "text": [
      "<class 'pandas.core.frame.DataFrame'>\n",
      "RangeIndex: 62 entries, 0 to 61\n",
      "Data columns (total 3 columns):\n",
      " #   Column    Non-Null Count  Dtype \n",
      "---  ------    --------------  ----- \n",
      " 0   date      62 non-null     object\n",
      " 1   group     62 non-null     object\n",
      " 2   visitors  62 non-null     int64 \n",
      "dtypes: int64(1), object(2)\n",
      "memory usage: 1.6+ KB\n"
     ]
    }
   ],
   "source": [
    "visitors.info()"
   ]
  },
  {
   "cell_type": "markdown",
   "metadata": {},
   "source": [
    "Столбец date необходимо привести к типу даты. Дубликатов не обнаружено.\n",
    "\n",
    "Приведем данные в датасетах orders и hp к нижнему регистру, переименуем некоторые столбцы датасета orders и приведем данные о датах к нужному типу в датасетах orders и visitors."
   ]
  },
  {
   "cell_type": "code",
   "execution_count": 8,
   "metadata": {},
   "outputs": [],
   "source": [
    "orders.columns = [x.lower() for x in orders.columns.values]\n",
    "hp.columns = [x.lower() for x in hp.columns.values]\n",
    "orders.rename(columns = {'transactionid':'transaction_id', 'visitorid':'visitor_id'}, inplace = True )\n",
    "orders['date'] = orders['date'].map(\n",
    "    lambda x: dt.datetime.strptime(x, '%Y-%m-%d')\n",
    ")\n",
    "visitors['date'] = visitors['date'].map(\n",
    "    lambda x: dt.datetime.strptime(x, '%Y-%m-%d')\n",
    ")"
   ]
  },
  {
   "cell_type": "markdown",
   "metadata": {},
   "source": [
    "**Шаг 2: приоритизация гипотез**"
   ]
  },
  {
   "cell_type": "markdown",
   "metadata": {},
   "source": [
    "Применим фреймворк ICE для приоритизации гипотез"
   ]
  },
  {
   "cell_type": "code",
   "execution_count": 9,
   "metadata": {},
   "outputs": [
    {
     "name": "stdout",
     "output_type": "stream",
     "text": [
      "                                                                                                     hypothesis  \\\n",
      "8                                                       Запустить акцию, дающую скидку на товар в день рождения   \n",
      "0            Добавить два новых канала привлечения трафика, что позволит привлекать на 30% больше пользователей   \n",
      "7              Добавить форму подписки на все основные страницы, чтобы собрать базу клиентов для email-рассылок   \n",
      "6          Показать на главной странице баннеры с актуальными акциями и распродажами, чтобы увеличить конверсию   \n",
      "2  Добавить блоки рекомендаций товаров на сайт интернет магазина, чтобы повысить конверсию и средний чек заказа   \n",
      "1                                     Запустить собственную службу доставки, что сократит срок доставки заказов   \n",
      "5                      Добавить страницу отзывов клиентов о магазине, что позволит увеличить количество заказов   \n",
      "3           Изменить структура категорий, что увеличит конверсию, т.к. пользователи быстрее найдут нужный товар   \n",
      "4                              Изменить цвет фона главной страницы, чтобы увеличить вовлеченность пользователей   \n",
      "\n",
      "     ICE  \n",
      "8  16.20  \n",
      "0  13.33  \n",
      "7  11.20  \n",
      "6   8.00  \n",
      "2   7.00  \n",
      "1   2.00  \n",
      "5   1.33  \n",
      "3   1.12  \n",
      "4   1.00  \n"
     ]
    }
   ],
   "source": [
    "hp['ICE'] = round((hp['impact']*hp['confidence']) / hp['efforts'], 2)\n",
    "pd.options.display.max_colwidth = 110\n",
    "print(hp[['hypothesis', 'ICE']].sort_values(by='ICE', ascending=False))"
   ]
  },
  {
   "cell_type": "markdown",
   "metadata": {},
   "source": [
    "По методу ICE мы выяснили, что в первую очередь стоит браться за проверку гипотезы под номером 8: Запустить акцию, дающую скидку на товар в день рождения."
   ]
  },
  {
   "cell_type": "code",
   "execution_count": 10,
   "metadata": {},
   "outputs": [
    {
     "name": "stdout",
     "output_type": "stream",
     "text": [
      "                                                                                                     hypothesis  \\\n",
      "7              Добавить форму подписки на все основные страницы, чтобы собрать базу клиентов для email-рассылок   \n",
      "2  Добавить блоки рекомендаций товаров на сайт интернет магазина, чтобы повысить конверсию и средний чек заказа   \n",
      "0            Добавить два новых канала привлечения трафика, что позволит привлекать на 30% больше пользователей   \n",
      "6          Показать на главной странице баннеры с актуальными акциями и распродажами, чтобы увеличить конверсию   \n",
      "8                                                       Запустить акцию, дающую скидку на товар в день рождения   \n",
      "3           Изменить структура категорий, что увеличит конверсию, т.к. пользователи быстрее найдут нужный товар   \n",
      "1                                     Запустить собственную службу доставки, что сократит срок доставки заказов   \n",
      "5                      Добавить страницу отзывов клиентов о магазине, что позволит увеличить количество заказов   \n",
      "4                              Изменить цвет фона главной страницы, чтобы увеличить вовлеченность пользователей   \n",
      "\n",
      "    RICE  \n",
      "7  112.0  \n",
      "2   56.0  \n",
      "0   40.0  \n",
      "6   40.0  \n",
      "8   16.2  \n",
      "3    9.0  \n",
      "1    4.0  \n",
      "5    4.0  \n",
      "4    3.0  \n"
     ]
    }
   ],
   "source": [
    "hp['RICE'] = round((hp['impact']*hp['confidence']*hp['reach']) / hp['efforts'], 2)\n",
    "pd.options.display.max_colwidth = 110\n",
    "print(hp[['hypothesis', 'RICE']].sort_values(by='RICE', ascending=False))"
   ]
  },
  {
   "cell_type": "markdown",
   "metadata": {},
   "source": [
    "По методу RICE мы выяснили, что в первую очередь стоит браться за проверку гипотезы под номером 7: Добавить форму подписки на все основные страницы, чтобы собрать базу клиентов для email-рассылок. Так как метод RICE скольких пользователей затронет изменение, которое вы хотите внести, остановиться стоит именно на гипотезе номер 7 и проверять ее."
   ]
  },
  {
   "cell_type": "markdown",
   "metadata": {},
   "source": [
    "**Шаг 3: анализ A/B-теста**"
   ]
  },
  {
   "cell_type": "markdown",
   "metadata": {},
   "source": [
    "Для начала проверим не попадают ли какие-то пользователи в обе группы."
   ]
  },
  {
   "cell_type": "code",
   "execution_count": 11,
   "metadata": {},
   "outputs": [
    {
     "data": {
      "text/plain": [
       "visitor_id    58\n",
       "group         58\n",
       "dtype: int64"
      ]
     },
     "execution_count": 11,
     "metadata": {},
     "output_type": "execute_result"
    }
   ],
   "source": [
    "check = orders.groupby('visitor_id').agg({'group':'nunique'}).reset_index()\n",
    "check[check['group'] > 1].count()"
   ]
  },
  {
   "cell_type": "markdown",
   "metadata": {},
   "source": [
    "58 пользователей встречаются в обеих группах. Очистим данные от этих пользователей."
   ]
  },
  {
   "cell_type": "code",
   "execution_count": 12,
   "metadata": {},
   "outputs": [
    {
     "name": "stdout",
     "output_type": "stream",
     "text": [
      "      transaction_id  visitor_id       date  revenue group\n",
      "0         3667963787  3312258926 2019-08-15     1650     B\n",
      "1         2804400009  3642806036 2019-08-15      730     B\n",
      "3         3797467345  1196621759 2019-08-15     9759     B\n",
      "4         2282983706  2322279887 2019-08-15     2308     B\n",
      "5          182168103   935554773 2019-08-15     2210     B\n",
      "...              ...         ...        ...      ...   ...\n",
      "1191      3592955527   608641596 2019-08-14    16490     B\n",
      "1192      2662137336  3733762160 2019-08-14     6490     B\n",
      "1193      2203539145   370388673 2019-08-14     3190     A\n",
      "1194      1807773912   573423106 2019-08-14    10550     A\n",
      "1196      3936777065  2108080724 2019-08-15   202740     B\n",
      "\n",
      "[1016 rows x 5 columns]\n"
     ]
    }
   ],
   "source": [
    "id = check['visitor_id'][check['group'] == 1]\n",
    "orders = orders[orders['visitor_id'].isin(id)]\n",
    "print(orders)"
   ]
  },
  {
   "cell_type": "markdown",
   "metadata": {},
   "source": [
    "Чтобы построить графики, нужно собрать кумулятивные данные. Объявим датафрейм `cumulativeData`."
   ]
  },
  {
   "cell_type": "code",
   "execution_count": 13,
   "metadata": {},
   "outputs": [],
   "source": [
    "datesGroups = orders[['date','group']].drop_duplicates()\n",
    "ordersAggregated = datesGroups.apply(lambda x: orders[np.logical_and(orders['date'] <= x['date'], orders['group'] == x['group'])]\\\n",
    ".agg({'date' : 'max', 'group' : 'max', 'transaction_id' : 'nunique', 'visitor_id' : 'nunique', 'revenue' : 'sum'}), axis=1).sort_values(by=['date','group'])\n",
    "visitorsAggregated = datesGroups.apply(lambda x: visitors[np.logical_and(visitors['date'] <= x['date'], visitors['group'] == x['group'])].agg({'date' : 'max', 'group' : 'max', 'visitors' : 'sum'}), axis=1).sort_values(by=['date','group'])\n",
    "\n",
    "datesGroups = orders[['date','group']].drop_duplicates()\n",
    "\n",
    "\n",
    "ordersAggregated = datesGroups.apply(lambda x: orders[np.logical_and(orders['date'] <= x['date'], orders['group'] == x['group'])].agg({'date' : 'max', 'group' : 'max', 'transaction_id' : 'nunique', 'visitor_id' : 'nunique', 'revenue' : 'sum'}), axis=1).sort_values(by=['date','group'])\n",
    "\n",
    " \n",
    "visitorsAggregated = datesGroups.apply(lambda x: visitors[np.logical_and(visitors['date'] <= x['date'], visitors['group'] == x['group'])].agg({'date' : 'max', 'group' : 'max', 'visitors' : 'sum'}), axis=1).sort_values(by=['date','group'])\n",
    "\n",
    "\n",
    "cumulativeData = ordersAggregated.merge(visitorsAggregated, left_on=['date', 'group'], right_on=['date', 'group'])\n",
    "cumulativeData.columns = ['date', 'group', 'orders', 'buyers', 'revenue', 'visitors']"
   ]
  },
  {
   "cell_type": "markdown",
   "metadata": {},
   "source": [
    "1. Построим график кумулятивной выручки по группам. \n",
    "\n",
    "Для этого выделим датафреймы `cumulativeRevenueA` и `cumulativeRevenueВ`."
   ]
  },
  {
   "cell_type": "code",
   "execution_count": 14,
   "metadata": {},
   "outputs": [
    {
     "data": {
      "text/plain": [
       "Text(0, 0.5, 'Выручка')"
      ]
     },
     "execution_count": 14,
     "metadata": {},
     "output_type": "execute_result"
    },
    {
     "data": {
      "image/png": "[encoded data removed]",
      "text/plain": [
       "<Figure size 720x720 with 1 Axes>"
      ]
     },
     "metadata": {
      "needs_background": "light"
     },
     "output_type": "display_data"
    }
   ],
   "source": [
    "cumulativeRevenueA = cumulativeData[cumulativeData['group']=='A'][['date','revenue', 'orders']]\n",
    "\n",
    "cumulativeRevenueB = cumulativeData[cumulativeData['group']=='B'][['date','revenue', 'orders']]\n",
    "\n",
    "plt.figure(figsize=(10, 10))\n",
    "plt.plot(cumulativeRevenueA['date'], cumulativeRevenueA['revenue'], label='A')\n",
    "plt.plot(cumulativeRevenueB['date'], cumulativeRevenueB['revenue'], label='B')\n",
    "plt.legend()\n",
    "plt.title('Кумулятивная выручка по группам')\n",
    "plt.xlabel('Дата')\n",
    "plt.ylabel('Выручка')"
   ]
  },
  {
   "cell_type": "markdown",
   "metadata": {},
   "source": [
    "Кумулятивная выручка группы В практически на всем протяжении исследования превышала кумулятивную выручку группы А. Однако 21 августа 2019 года имеется выброс в выручке группы В – возможно, в этот день пользователем была совершена крупная покупка, повлиявшая на общие данные."
   ]
  },
  {
   "cell_type": "markdown",
   "metadata": {},
   "source": [
    "2. Построим график кумулятивного среднего чека по группам. "
   ]
  },
  {
   "cell_type": "code",
   "execution_count": 15,
   "metadata": {},
   "outputs": [
    {
     "data": {
      "text/plain": [
       "Text(0, 0.5, 'Средний чек')"
      ]
     },
     "execution_count": 15,
     "metadata": {},
     "output_type": "execute_result"
    },
    {
     "data": {
      "image/png": "[encoded data removed]",
      "text/plain": [
       "<Figure size 720x720 with 1 Axes>"
      ]
     },
     "metadata": {
      "needs_background": "light"
     },
     "output_type": "display_data"
    }
   ],
   "source": [
    "plt.figure(figsize=(10, 10))\n",
    "plt.plot(cumulativeRevenueA['date'], cumulativeRevenueA['revenue']/cumulativeRevenueA['orders'], label='A')\n",
    "plt.plot(cumulativeRevenueB['date'], cumulativeRevenueB['revenue']/cumulativeRevenueB['orders'], label='B')\n",
    "plt.legend() \n",
    "plt.title('Кумулятивный средний чек по группам')\n",
    "plt.xlabel('Дата')\n",
    "plt.ylabel('Средний чек')"
   ]
  },
  {
   "cell_type": "markdown",
   "metadata": {},
   "source": [
    "Кумулятивный средний чек группы В практически на всем протяжении исследования превышал средний чек группы А, однако с 1 сентября пошел на спад. Однако, 21 августа 2019 года средний чек резко увеличился с приблизительно 6500 до более чем 10000. Возможно, такой выброс был вызван крупной покупкой пользователя или ошибкой в данных."
   ]
  },
  {
   "cell_type": "markdown",
   "metadata": {},
   "source": [
    "3. Построим график относительного изменения кумулятивного среднего чека группы B к группе A."
   ]
  },
  {
   "cell_type": "code",
   "execution_count": 16,
   "metadata": {},
   "outputs": [
    {
     "data": {
      "text/plain": [
       "Text(0, 0.5, 'Относительное изменение')"
      ]
     },
     "execution_count": 16,
     "metadata": {},
     "output_type": "execute_result"
    },
    {
     "data": {
      "image/png": "[encoded data removed]",
      "text/plain": [
       "<Figure size 720x720 with 1 Axes>"
      ]
     },
     "metadata": {
      "needs_background": "light"
     },
     "output_type": "display_data"
    }
   ],
   "source": [
    "mergedCumulativeRevenue = cumulativeRevenueA.merge(cumulativeRevenueB, left_on='date', right_on='date', how='left', suffixes=['A', 'B'])\n",
    "\n",
    "plt.figure(figsize=(10, 10))\n",
    "plt.plot(mergedCumulativeRevenue['date'], (mergedCumulativeRevenue['revenueB']/mergedCumulativeRevenue['ordersB'])/(mergedCumulativeRevenue['revenueA']/mergedCumulativeRevenue['ordersA'])-1)\n",
    "\n",
    "plt.axhline(y=0, color='black', linestyle='--') \n",
    "plt.title('Относительное изменение кумулятивного среднего чека группы B к группе A.')\n",
    "plt.xlabel('Дата')\n",
    "plt.ylabel('Относительное изменение')"
   ]
  },
  {
   "cell_type": "markdown",
   "metadata": {},
   "source": [
    "Относительного изменение кумулятивного среднего чека группы B к группе A было положительным практически во все время исследования. Отрицательные значения наблюдаются лишь в промежутке от 10 до 13 августа 2019 года – стоит обратить особо внимание на причины, вызвавшие это."
   ]
  },
  {
   "cell_type": "markdown",
   "metadata": {},
   "source": [
    "4. Построим график кумулятивного среднего количества заказов на посетителя по группам."
   ]
  },
  {
   "cell_type": "code",
   "execution_count": 17,
   "metadata": {},
   "outputs": [
    {
     "data": {
      "text/plain": [
       "Text(0, 0.5, 'Среднее количество заказов')"
      ]
     },
     "execution_count": 17,
     "metadata": {},
     "output_type": "execute_result"
    },
    {
     "data": {
      "image/png": "[encoded data removed]",
      "text/plain": [
       "<Figure size 720x720 with 1 Axes>"
      ]
     },
     "metadata": {
      "needs_background": "light"
     },
     "output_type": "display_data"
    }
   ],
   "source": [
    "cumulativeData['conversion'] = cumulativeData['orders']/cumulativeData['visitors']\n",
    "\n",
    "cumulativeDataA = cumulativeData[cumulativeData['group']=='A']\n",
    "\n",
    "cumulativeDataB = cumulativeData[cumulativeData['group']=='B']\n",
    "\n",
    "plt.figure(figsize=(10, 10))\n",
    "plt.plot(cumulativeDataA['date'], cumulativeDataA['conversion'], label='A')\n",
    "plt.plot(cumulativeDataB['date'], cumulativeDataB['conversion'], label='B')\n",
    "plt.title('Кумулятивное среднее количество заказов на посетителя по группам')\n",
    "plt.xlabel('Дата')\n",
    "plt.ylabel('Среднее количество заказов')"
   ]
  },
  {
   "cell_type": "markdown",
   "metadata": {},
   "source": [
    "Поситетели из группы А совершали преимущественно большее количество заказов в среднем, чем пользователи группы В вплоть до 6-7 августа 2019 года, после чего среднее количество заказов среди пользователей группы В было большим, чем среди пользователей группы А. 2-3 августа 2019 года наблюдается резкий скачок в среднем количестве заказов у обоих группах. В дальнейшем стоит обратить на это внимание и выяснить, что послужило причиной этому."
   ]
  },
  {
   "cell_type": "markdown",
   "metadata": {},
   "source": [
    "5. Построим график относительного изменения кумулятивного среднего количества заказов на посетителя группы B к группе A."
   ]
  },
  {
   "cell_type": "code",
   "execution_count": 19,
   "metadata": {},
   "outputs": [
    {
     "data": {
      "text/plain": [
       "Text(0, 0.5, 'Относительное изменение')"
      ]
     },
     "execution_count": 19,
     "metadata": {},
     "output_type": "execute_result"
    },
    {
     "data": {
      "image/png": "[encoded data removed]",
      "text/plain": [
       "<Figure size 720x720 with 1 Axes>"
      ]
     },
     "metadata": {
      "needs_background": "light"
     },
     "output_type": "display_data"
    }
   ],
   "source": [
    "mergedCumulativeConversions = cumulativeDataA[['date','conversion']].merge(cumulativeDataB[['date','conversion']], left_on='date', right_on='date', how='left', suffixes=['A', 'B'])\n",
    "\n",
    "plt.figure(figsize=(10, 10))\n",
    "plt.plot(mergedCumulativeConversions['date'], mergedCumulativeConversions['conversionB']/mergedCumulativeConversions['conversionA']-1, label=\"Относительный прирост конверсии группы B относительно группы A\")\n",
    "plt.legend()\n",
    "plt.axhline(y=0, color='black', linestyle='--')\n",
    "plt.axhline(y = 0.1, color='grey', linestyle='--');\n",
    "plt.title('Относительное изменение кумулятивного количества заказов на посетителя группы B к группе A.')\n",
    "plt.xlabel('Дата')\n",
    "plt.ylabel('Относительное изменение')"
   ]
  },
  {
   "cell_type": "markdown",
   "metadata": {},
   "source": [
    "Относительного изменение кумулятивного среднего количества заказов на посетителя группы B к группе A преимущественно после 6-7 августа 2019 года стало положительным и наблюдается относительно стабильная динамика. По этому графику мы также можем наблюдать выброс в промежутке от 2 до 4 августа 2019 года – стоит в дальнейшем разобраться в причинах, вызванных этим."
   ]
  },
  {
   "cell_type": "markdown",
   "metadata": {},
   "source": [
    "6. Построим точечный график количества заказов по пользователям."
   ]
  },
  {
   "cell_type": "code",
   "execution_count": 20,
   "metadata": {},
   "outputs": [
    {
     "data": {
      "text/plain": [
       "Text(0, 0.5, 'Пользователи')"
      ]
     },
     "execution_count": 20,
     "metadata": {},
     "output_type": "execute_result"
    },
    {
     "data": {
      "image/png": "[encoded data removed]",
      "text/plain": [
       "<Figure size 720x720 with 1 Axes>"
      ]
     },
     "metadata": {
      "needs_background": "light"
     },
     "output_type": "display_data"
    }
   ],
   "source": [
    "ordersByUsers = (\n",
    "    orders.groupby('visitor_id', as_index=False)\n",
    "    .agg({'transaction_id': 'nunique'})\n",
    ")\n",
    "ordersByUsers.columns = ['visitor_id', 'orders']\n",
    "\n",
    "x_values = pd.Series(range(0, len(ordersByUsers)))\n",
    "plt.figure(figsize=(10, 10))\n",
    "plt.scatter(x_values, ordersByUsers['orders']) \n",
    "plt.title('График количества заказов по пользователям')\n",
    "plt.xlabel('Количество заказов')\n",
    "plt.ylabel('Пользователи')"
   ]
  },
  {
   "cell_type": "markdown",
   "metadata": {},
   "source": [
    "Большая часть пользователей не совершила лишь один заказ. Преимущественно пользователи совершали около 2 заказов – пользователей, совершивших более 4 заказов не обнаружено."
   ]
  },
  {
   "cell_type": "markdown",
   "metadata": {},
   "source": [
    "7. Посчитаем 95-й и 99-й перцентили количества заказов на пользователя. Выберем границу для определения аномальных пользователей."
   ]
  },
  {
   "cell_type": "code",
   "execution_count": 21,
   "metadata": {},
   "outputs": [
    {
     "name": "stdout",
     "output_type": "stream",
     "text": [
      "[1. 2.]\n"
     ]
    }
   ],
   "source": [
    "print(np.percentile(ordersByUsers['orders'], [95, 99])) "
   ]
  },
  {
   "cell_type": "markdown",
   "metadata": {},
   "source": [
    "Не более 5% пользователей совершают более 1 покупок и не более 1% пользователей совершают более 2 покупок.\n",
    "Следовательно, определим границу определения аномалий в 2 покупки."
   ]
  },
  {
   "cell_type": "code",
   "execution_count": 22,
   "metadata": {},
   "outputs": [],
   "source": [
    "border_quantaty = 2"
   ]
  },
  {
   "cell_type": "markdown",
   "metadata": {},
   "source": [
    "8. Построим точечный график стоимостей заказов. "
   ]
  },
  {
   "cell_type": "code",
   "execution_count": 23,
   "metadata": {},
   "outputs": [
    {
     "data": {
      "text/plain": [
       "Text(0, 0.5, 'Стоимость заказов')"
      ]
     },
     "execution_count": 23,
     "metadata": {},
     "output_type": "execute_result"
    },
    {
     "data": {
      "image/png": "[encoded data removed]",
      "text/plain": [
       "<Figure size 432x288 with 1 Axes>"
      ]
     },
     "metadata": {
      "needs_background": "light"
     },
     "output_type": "display_data"
    }
   ],
   "source": [
    "x_values = pd.Series(range(0, len(orders['revenue'])))\n",
    "plt.scatter(x_values, orders['revenue'])\n",
    "plt.title('График стоимости заказов')\n",
    "plt.xlabel('Заказ')\n",
    "plt.ylabel('Стоимость заказов')"
   ]
  },
  {
   "cell_type": "markdown",
   "metadata": {},
   "source": [
    "Большая часть заказов не превышает по стоимости 200000 и вариируется около 0. Однако, по графику мы можем наблюдать покупку, которая значительно превышает все остальные – более 12000000."
   ]
  },
  {
   "cell_type": "markdown",
   "metadata": {},
   "source": [
    "9. Посчитаем 95-й и 99-й перцентили стоимости заказов. Выберем границу для определения аномальных заказов."
   ]
  },
  {
   "cell_type": "code",
   "execution_count": 24,
   "metadata": {},
   "outputs": [
    {
     "name": "stdout",
     "output_type": "stream",
     "text": [
      "[26785. 53904.]\n"
     ]
    }
   ],
   "source": [
    "print(np.percentile(orders['revenue'], [95, 99])) "
   ]
  },
  {
   "cell_type": "markdown",
   "metadata": {},
   "source": [
    "Не более 5% заказов дороже 26785 и не более 1% заказов дороже 53904.\n",
    "\n",
    "Определим границу аномалий в 27000."
   ]
  },
  {
   "cell_type": "code",
   "execution_count": 25,
   "metadata": {},
   "outputs": [],
   "source": [
    "border_price = 27000"
   ]
  },
  {
   "cell_type": "markdown",
   "metadata": {},
   "source": [
    "10. Посчитаем статистическую значимость различий в среднем количестве заказов на посетителя между группами по «сырым» данным.\n",
    "\n",
    "Для этого сформуруем две гипотезы, которые будем проверять:\n",
    "\n",
    "Н0 – статистически значимых различий в среднем числе заказов между группами нет\n",
    "\n",
    "Н1 – статистически значимые различия в среднем числе заказов между группами присутствуют"
   ]
  },
  {
   "cell_type": "code",
   "execution_count": 26,
   "metadata": {},
   "outputs": [
    {
     "name": "stdout",
     "output_type": "stream",
     "text": [
      "0.011 : уровень статистической значимости\n",
      "0.160 : относительные различия в среднем числе заказов между группами\n"
     ]
    }
   ],
   "source": [
    "visitorsADaily = visitors[visitors['group'] == 'A'][['date', 'visitors']]\n",
    "visitorsADaily.columns = ['date', 'visitorsPerDateA']\n",
    "\n",
    "visitorsACummulative = visitorsADaily.apply(\n",
    "    lambda x: visitorsADaily[visitorsADaily['date'] <= x['date']].agg(\n",
    "        {'date': 'max', 'visitorsPerDateA': 'sum'}\n",
    "    ),\n",
    "    axis=1,\n",
    ")\n",
    "visitorsACummulative.columns = ['date', 'visitorsCummulativeA']\n",
    "\n",
    "visitorsBDaily = visitors[visitors['group'] == 'B'][['date', 'visitors']]\n",
    "visitorsBDaily.columns = ['date', 'visitorsPerDateB']\n",
    "\n",
    "visitorsBCummulative = visitorsBDaily.apply(\n",
    "    lambda x: visitorsBDaily[visitorsBDaily['date'] <= x['date']].agg(\n",
    "        {'date': 'max', 'visitorsPerDateB': 'sum'}\n",
    "    ),\n",
    "    axis=1,\n",
    ")\n",
    "visitorsBCummulative.columns = ['date', 'visitorsCummulativeB']\n",
    "\n",
    "ordersADaily = (\n",
    "    orders[orders['group'] == 'A'][['date', 'transaction_id', 'visitor_id', 'revenue']]\n",
    "    .groupby('date', as_index=False)\n",
    "    .agg({'transaction_id': pd.Series.nunique, 'revenue': 'sum'})\n",
    ")\n",
    "ordersADaily.columns = ['date', 'ordersPerDateA', 'revenuePerDateA']\n",
    "\n",
    "ordersACummulative = ordersADaily.apply(\n",
    "    lambda x: ordersADaily[ordersADaily['date'] <= x['date']].agg(\n",
    "        {'date': 'max', 'ordersPerDateA': 'sum', 'revenuePerDateA': 'sum'}\n",
    "    ),\n",
    "    axis=1,\n",
    ").sort_values(by=['date'])\n",
    "ordersACummulative.columns = [\n",
    "    'date',\n",
    "    'ordersCummulativeA',\n",
    "    'revenueCummulativeA',\n",
    "]\n",
    "\n",
    "ordersBDaily = (\n",
    "    orders[orders['group'] == 'B'][['date', 'transaction_id', 'visitor_id', 'revenue']]\n",
    "    .groupby('date', as_index=False)\n",
    "    .agg({'transaction_id': pd.Series.nunique, 'revenue': 'sum'})\n",
    ")\n",
    "ordersBDaily.columns = ['date', 'ordersPerDateB', 'revenuePerDateB']\n",
    "\n",
    "ordersBCummulative = ordersBDaily.apply(\n",
    "    lambda x: ordersBDaily[ordersBDaily['date'] <= x['date']].agg(\n",
    "        {'date': 'max', 'ordersPerDateB': 'sum', 'revenuePerDateB': 'sum'}\n",
    "    ),\n",
    "    axis=1,\n",
    ").sort_values(by=['date'])\n",
    "ordersBCummulative.columns = [\n",
    "    'date',\n",
    "    'ordersCummulativeB',\n",
    "    'revenueCummulativeB',\n",
    "]\n",
    "\n",
    "data = (\n",
    "    ordersADaily.merge(\n",
    "        ordersBDaily, left_on='date', right_on='date', how='left'\n",
    "    )\n",
    "    .merge(ordersACummulative, left_on='date', right_on='date', how='left')\n",
    "    .merge(ordersBCummulative, left_on='date', right_on='date', how='left')\n",
    "    .merge(visitorsADaily, left_on='date', right_on='date', how='left')\n",
    "    .merge(visitorsBDaily, left_on='date', right_on='date', how='left')\n",
    "    .merge(visitorsACummulative, left_on='date', right_on='date', how='left')\n",
    "    .merge(visitorsBCummulative, left_on='date', right_on='date', how='left')\n",
    ")\n",
    "\n",
    "\n",
    "ordersByUsersA = (\n",
    "    orders[orders['group'] == 'A']\n",
    "    .groupby('visitor_id', as_index=False)\n",
    "    .agg({'transaction_id': pd.Series.nunique})\n",
    ")\n",
    "ordersByUsersA.columns = ['visitor_id', 'orders']\n",
    "\n",
    "ordersByUsersB = (\n",
    "    orders[orders['group'] == 'B']\n",
    "    .groupby('visitor_id', as_index=False)\n",
    "    .agg({'transaction_id': pd.Series.nunique})\n",
    ")\n",
    "ordersByUsersB.columns = ['visitor_id', 'orders']\n",
    "\n",
    "sampleA = pd.concat(\n",
    "    [\n",
    "        ordersByUsersA['orders'],\n",
    "        pd.Series(\n",
    "            0,\n",
    "            index=np.arange(\n",
    "                data['visitorsPerDateA'].sum() - len(ordersByUsersA['orders'])\n",
    "            ),\n",
    "            name='orders',\n",
    "        ),\n",
    "    ],\n",
    "    axis=0,\n",
    ")\n",
    "\n",
    "sampleB = pd.concat(\n",
    "    [\n",
    "        ordersByUsersB['orders'],\n",
    "        pd.Series(\n",
    "            0,\n",
    "            index=np.arange(\n",
    "                data['visitorsPerDateB'].sum() - len(ordersByUsersB['orders'])\n",
    "            ),\n",
    "            name='orders',\n",
    "        ),\n",
    "    ],\n",
    "    axis=0,\n",
    ")\n",
    "\n",
    "print(\"{0:.3f}\".format(stats.mannwhitneyu(sampleA, sampleB)[1]), ': уровень статистической значимости')\n",
    "\n",
    "print(\"{0:.3f}\".format(sampleB.mean() / sampleA.mean() - 1), ': относительные различия в среднем числе заказов между группами')"
   ]
  },
  {
   "cell_type": "markdown",
   "metadata": {},
   "source": [
    "По «сырым» данным различия в среднем числе заказов групп A и B есть. \n",
    "Первое число — p-value = 0.011 меньше 0.05. Значит, нулевую гипотезу о том, что статистически значимых различий в среднем числе заказов между группами нет, отвергаем."
   ]
  },
  {
   "cell_type": "markdown",
   "metadata": {},
   "source": [
    "11. Посчитам статистическую значимость различий в среднем чеке заказа между группами по «сырым» данным. \n",
    "\n",
    "Для определения различий в среднем чеке сформуруем две гипотезы:\n",
    "\n",
    "Н0 – в среднем чеке заказа между группами отсутствуют различия \n",
    "\n",
    "Н1 – в среднем чеке заказа между группа присутствуют различия"
   ]
  },
  {
   "cell_type": "code",
   "execution_count": 27,
   "metadata": {},
   "outputs": [
    {
     "name": "stdout",
     "output_type": "stream",
     "text": [
      "0.829\n",
      "0.287\n"
     ]
    }
   ],
   "source": [
    "print('{0:.3f}'.format(stats.mannwhitneyu(orders[orders['group']=='A']['revenue'], orders[orders['group']=='B']['revenue'])[1]))\n",
    "print('{0:.3f}'.format(orders[orders['group']=='B']['revenue'].mean()/orders[orders['group']=='A']['revenue'].mean()-1))"
   ]
  },
  {
   "cell_type": "markdown",
   "metadata": {},
   "source": [
    "P-value 0.829 больше 0.05. Значит, причин отвергать нулевую гипотезу и считать, что в среднем чеке есть различия, нет."
   ]
  },
  {
   "cell_type": "markdown",
   "metadata": {},
   "source": [
    "12. Посчитайте статистическую значимость различий в среднем количестве заказов на посетителя между группами по «очищенным» данным.\n",
    "\n",
    "Для проверки статистической значимости снова сформулируем две гипотезы:\n",
    "\n",
    "Н0 – статистически значимых различий в среднем числе заказов между группами нет\n",
    "\n",
    "Н1 – статистически значимые различия в среднем числе заказов между группами присутствуют"
   ]
  },
  {
   "cell_type": "code",
   "execution_count": 28,
   "metadata": {},
   "outputs": [
    {
     "name": "stdout",
     "output_type": "stream",
     "text": [
      "0.012\n",
      "0.182\n"
     ]
    }
   ],
   "source": [
    "usersWithManyOrders = pd.concat(\n",
    "    [\n",
    "        ordersByUsersA[ordersByUsersA['orders'] > border_quantaty]['visitor_id'],\n",
    "        ordersByUsersB[ordersByUsersB['orders'] > border_quantaty]['visitor_id'],\n",
    "    ],\n",
    "    axis=0,\n",
    ")\n",
    "usersWithExpensiveOrders = orders[orders['revenue'] > border_price]['visitor_id']\n",
    "abnormalUsers = (\n",
    "    pd.concat([usersWithManyOrders, usersWithExpensiveOrders], axis=0)\n",
    "    .drop_duplicates()\n",
    "    .sort_values()\n",
    ")\n",
    "sampleAFiltered = pd.concat(\n",
    "    [\n",
    "        ordersByUsersA[\n",
    "            np.logical_not(ordersByUsersA['visitor_id'].isin(abnormalUsers))\n",
    "        ]['orders'],\n",
    "        pd.Series(\n",
    "            0,\n",
    "            index=np.arange(\n",
    "                data['visitorsPerDateA'].sum() - len(ordersByUsersA['orders'])\n",
    "            ),\n",
    "            name='orders',\n",
    "        ),\n",
    "    ],\n",
    "    axis=0,\n",
    ")\n",
    "\n",
    "sampleBFiltered = pd.concat(\n",
    "    [\n",
    "        ordersByUsersB[\n",
    "            np.logical_not(ordersByUsersB['visitor_id'].isin(abnormalUsers))\n",
    "        ]['orders'],\n",
    "        pd.Series(\n",
    "            0,\n",
    "            index=np.arange(\n",
    "                data['visitorsPerDateB'].sum() - len(ordersByUsersB['orders'])\n",
    "            ),\n",
    "            name='orders',\n",
    "        ),\n",
    "    ],\n",
    "    axis=0,\n",
    ")\n",
    "print('{0:.3f}'.format(stats.mannwhitneyu(sampleAFiltered, sampleBFiltered)[1]))\n",
    "print('{0:.3f}'.format(sampleBFiltered.mean()/sampleAFiltered.mean()-1))"
   ]
  },
  {
   "cell_type": "markdown",
   "metadata": {},
   "source": [
    "Результаты по среднему количеству заказов не изменились, p-value остался на прежнем уровне – менее 0.05 (0.012). Оснований принять нулевую гипотезу нет."
   ]
  },
  {
   "cell_type": "markdown",
   "metadata": {},
   "source": [
    "13. Посчитаем статистическую значимость различий в среднем чеке заказа между группами по «очищенным» данным.\n",
    "\n",
    "Для проверки статистической значимости снова сформулируем две гипотезы:\n",
    "\n",
    "Н0 – в среднем чеке заказа между группами отсутствуют различия\n",
    "Н1 – в среднем чеке заказа между группа присутствуют различия"
   ]
  },
  {
   "cell_type": "code",
   "execution_count": 29,
   "metadata": {},
   "outputs": [
    {
     "name": "stdout",
     "output_type": "stream",
     "text": [
      "0.646\n",
      "-0.048\n"
     ]
    }
   ],
   "source": [
    "print(\n",
    "    '{0:.3f}'.format(\n",
    "        stats.mannwhitneyu(\n",
    "            orders[\n",
    "                np.logical_and(\n",
    "                    orders['group'] == 'A',\n",
    "                    np.logical_not(orders['visitor_id'].isin(abnormalUsers)),\n",
    "                )\n",
    "            ]['revenue'],\n",
    "            orders[\n",
    "                np.logical_and(\n",
    "                    orders['group'] == 'B',\n",
    "                    np.logical_not(orders['visitor_id'].isin(abnormalUsers)),\n",
    "                )\n",
    "            ]['revenue'],\n",
    "        )[1]\n",
    "    )\n",
    ")\n",
    "\n",
    "print(\n",
    "    \"{0:.3f}\".format(\n",
    "        orders[\n",
    "            np.logical_and(\n",
    "                orders['group'] == 'B',\n",
    "                np.logical_not(orders['visitor_id'].isin(abnormalUsers)),\n",
    "            )\n",
    "        ]['revenue'].mean()\n",
    "        / orders[\n",
    "            np.logical_and(\n",
    "                orders['group'] == 'A',\n",
    "                np.logical_not(orders['visitor_id'].isin(abnormalUsers)),\n",
    "            )\n",
    "        ]['revenue'].mean()\n",
    "        - 1\n",
    "    )\n",
    ")"
   ]
  },
  {
   "cell_type": "markdown",
   "metadata": {},
   "source": [
    "P-value не изменился в сравнении с сырыми данными и все еще больше 0.05: 0.646. Оснований отвергнуть нулевую гипотезу нет."
   ]
  },
  {
   "cell_type": "markdown",
   "metadata": {},
   "source": [
    "# Выводы #\n",
    "\n",
    "**На основе полученных нами данных мы провели исследование и выполнили следующие задачи:**\n",
    "\n",
    "1. Приоритизировали гипотезы.\n",
    "2. Выявили самую подходящую для проверки гипотезу.\n",
    "3. Провели А/В-тест, на основе которого сделали выводы.\n",
    "\n",
    "**Проанализировав данные, можно сделать следующие выводы:**\n",
    "\n",
    "1. Кумулятивная выручка группы В практически на всем протяжении исследования превышала кумулятивную выручку группы А. Однако 21 августа 2019 года имеется выброс в выручке группы В – возможно, в этот день пользователем была совершена крупная покупка, повлиявшая на общие данные.\n",
    "2. Кумулятивный средний чек группы В практически на всем протяжении исследования превышал средний чек группы А, однако с 1 сентября пошел на спад. Однако, 21 августа 2019 года средний чек резко увеличился с приблизительно 6500 до более чем 10000. Возможно, такой выброс был вызван крупной покупкой пользователя или ошибкой в данных.\n",
    "3. Относительного изменение кумулятивного среднего чека группы B к группе A было положительным практически во все время исследования. Отрицательные значения наблюдаются лишь в промежутке от 10 до 13 августа 2019 года – стоит обратить особо внимание на причины, вызвавшие это.\n",
    "4. Поситетели из группы А совершали преимущественно большее количество заказов в среднем, чем пользователи группы В вплоть до 6-7 августа 2019 года, после чего среднее количество заказов среди пользователей группы В было большим, чем среди пользователей группы А. 2-3 августа 2019 года наблюдается резкий скачок в среднем количестве заказов у обоих группах. В дальнейшем стоит обратить на это внимание и выяснить, что послужило причиной этому.\n",
    "4. Большая часть пользователей совершила лишь один заказ. Преимущественно пользователи совершали около 2 заказов – пользователей, совершивших более 4 заказов не обнаружено.\n",
    "5. Не более 5% пользователей совершают более 1 покупок и не более 1% пользователей совершают более 2 покупок. Следовательно, определим границу определения аномалий в 1 покупку.\n",
    "6. Большая часть заказов не превышает по стоимости 200000 и вариируется около 0. Однако, по графику мы можем наблюдать покупку, которая значительно превышает все остальные – более 12000000.\n",
    "7. Не более 5% заказов дороже 26785 и не более 1% заказов дороже 53904.\n",
    "8. Статистически значимые различия в среднем числе заказов по как «сырым», так и очищенным данным между группами присутствуют\n",
    "9. В среднем чеке заказа о как «сырым», так и очищенным данным между группами отсутствуют различия\n",
    "\n",
    "Исходя из обнаруженных фактов, тест следует остановить и признать его неуспешным. Продолжать смысла нет, потому как вероятность, что при имеющихся данных сегмент B на самом деле лучше сегмента A — практически нулевая."
   ]
  }
 ],
 "metadata": {
  "ExecuteTimeLog": [
   {
    "duration": 842,
    "start_time": "2023-08-07T07:41:09.107Z"
   },
   {
    "duration": 83,
    "start_time": "2023-08-07T07:42:09.931Z"
   },
   {
    "duration": 7,
    "start_time": "2023-08-07T07:42:21.843Z"
   },
   {
    "duration": 13,
    "start_time": "2023-08-07T07:42:31.875Z"
   },
   {
    "duration": 90,
    "start_time": "2023-08-07T07:43:16.107Z"
   },
   {
    "duration": 10,
    "start_time": "2023-08-07T07:43:22.300Z"
   },
   {
    "duration": 75,
    "start_time": "2023-08-07T07:43:41.571Z"
   },
   {
    "duration": 10,
    "start_time": "2023-08-07T07:43:47.451Z"
   },
   {
    "duration": 5,
    "start_time": "2023-08-07T07:47:29.859Z"
   },
   {
    "duration": 11,
    "start_time": "2023-08-07T07:47:33.035Z"
   },
   {
    "duration": 11,
    "start_time": "2023-08-07T07:47:40.619Z"
   },
   {
    "duration": 13,
    "start_time": "2023-08-07T07:47:48.817Z"
   },
   {
    "duration": 760,
    "start_time": "2023-08-07T07:48:18.164Z"
   },
   {
    "duration": 36,
    "start_time": "2023-08-07T07:48:19.968Z"
   },
   {
    "duration": 13,
    "start_time": "2023-08-07T07:48:22.072Z"
   },
   {
    "duration": 55,
    "start_time": "2023-08-07T07:48:24.904Z"
   },
   {
    "duration": 11,
    "start_time": "2023-08-07T07:48:26.833Z"
   },
   {
    "duration": 33,
    "start_time": "2023-08-07T07:48:28.604Z"
   },
   {
    "duration": 12,
    "start_time": "2023-08-07T07:48:31.572Z"
   },
   {
    "duration": 4,
    "start_time": "2023-08-07T07:48:33.741Z"
   },
   {
    "duration": 12,
    "start_time": "2023-08-07T07:48:44.637Z"
   },
   {
    "duration": 12,
    "start_time": "2023-08-07T07:48:49.576Z"
   },
   {
    "duration": 4,
    "start_time": "2023-08-07T07:50:05.829Z"
   },
   {
    "duration": 11,
    "start_time": "2023-08-07T07:50:08.768Z"
   },
   {
    "duration": 11,
    "start_time": "2023-08-07T07:51:20.984Z"
   },
   {
    "duration": 10,
    "start_time": "2023-08-07T07:52:08.936Z"
   },
   {
    "duration": 560,
    "start_time": "2023-08-07T07:55:34.904Z"
   },
   {
    "duration": 3,
    "start_time": "2023-08-07T07:55:56.097Z"
   },
   {
    "duration": 406,
    "start_time": "2023-08-07T07:55:58.916Z"
   },
   {
    "duration": 428,
    "start_time": "2023-08-07T07:56:31.697Z"
   },
   {
    "duration": 8,
    "start_time": "2023-08-07T07:57:22.196Z"
   },
   {
    "duration": 11,
    "start_time": "2023-08-07T07:57:25.157Z"
   },
   {
    "duration": 11,
    "start_time": "2023-08-07T07:57:28.988Z"
   },
   {
    "duration": 32,
    "start_time": "2023-08-07T07:57:50.613Z"
   },
   {
    "duration": 179,
    "start_time": "2023-08-07T07:59:07.253Z"
   },
   {
    "duration": 33,
    "start_time": "2023-08-07T07:59:24.361Z"
   },
   {
    "duration": 601,
    "start_time": "2023-08-07T07:59:43.760Z"
   },
   {
    "duration": 692,
    "start_time": "2023-08-07T08:01:19.846Z"
   },
   {
    "duration": 37,
    "start_time": "2023-08-07T08:01:21.626Z"
   },
   {
    "duration": 13,
    "start_time": "2023-08-07T08:01:23.034Z"
   },
   {
    "duration": 54,
    "start_time": "2023-08-07T08:01:24.286Z"
   },
   {
    "duration": 12,
    "start_time": "2023-08-07T08:01:25.502Z"
   },
   {
    "duration": 98,
    "start_time": "2023-08-07T08:01:26.626Z"
   },
   {
    "duration": 13,
    "start_time": "2023-08-07T08:01:27.749Z"
   },
   {
    "duration": 34,
    "start_time": "2023-08-07T08:01:31.966Z"
   },
   {
    "duration": 11,
    "start_time": "2023-08-07T08:01:33.426Z"
   },
   {
    "duration": 33,
    "start_time": "2023-08-07T08:01:44.282Z"
   },
   {
    "duration": 12,
    "start_time": "2023-08-07T08:01:45.767Z"
   },
   {
    "duration": 572,
    "start_time": "2023-08-07T08:01:47.006Z"
   },
   {
    "duration": 716,
    "start_time": "2023-08-07T08:02:02.976Z"
   },
   {
    "duration": 19,
    "start_time": "2023-08-07T08:02:13.536Z"
   },
   {
    "duration": 11,
    "start_time": "2023-08-07T08:02:19.930Z"
   },
   {
    "duration": 10,
    "start_time": "2023-08-07T08:02:22.690Z"
   },
   {
    "duration": 10,
    "start_time": "2023-08-07T08:02:24.508Z"
   },
   {
    "duration": 308,
    "start_time": "2023-08-07T08:02:26.066Z"
   },
   {
    "duration": 555,
    "start_time": "2023-08-07T08:03:12.218Z"
   },
   {
    "duration": 285,
    "start_time": "2023-08-07T08:03:56.169Z"
   },
   {
    "duration": 179,
    "start_time": "2023-08-07T08:04:55.506Z"
   },
   {
    "duration": 289,
    "start_time": "2023-08-07T08:05:37.283Z"
   },
   {
    "duration": 171,
    "start_time": "2023-08-07T08:11:55.058Z"
   },
   {
    "duration": 21,
    "start_time": "2023-08-07T08:20:38.223Z"
   },
   {
    "duration": 6,
    "start_time": "2023-08-07T08:21:28.847Z"
   },
   {
    "duration": 6,
    "start_time": "2023-08-07T08:21:44.290Z"
   },
   {
    "duration": 8,
    "start_time": "2023-08-07T08:22:33.607Z"
   },
   {
    "duration": 191,
    "start_time": "2023-08-07T08:23:33.099Z"
   },
   {
    "duration": 215,
    "start_time": "2023-08-07T08:25:25.984Z"
   },
   {
    "duration": 2658,
    "start_time": "2023-08-07T08:25:30.991Z"
   },
   {
    "duration": 2957,
    "start_time": "2023-08-07T08:25:56.999Z"
   },
   {
    "duration": 192,
    "start_time": "2023-08-07T08:26:49.115Z"
   },
   {
    "duration": 209,
    "start_time": "2023-08-07T08:27:09.327Z"
   },
   {
    "duration": 284,
    "start_time": "2023-08-07T08:29:22.423Z"
   },
   {
    "duration": 5,
    "start_time": "2023-08-07T08:29:56.952Z"
   },
   {
    "duration": 283,
    "start_time": "2023-08-07T08:31:02.895Z"
   },
   {
    "duration": 127,
    "start_time": "2023-08-07T08:33:12.372Z"
   },
   {
    "duration": 6,
    "start_time": "2023-08-07T08:34:03.871Z"
   },
   {
    "duration": 135,
    "start_time": "2023-08-07T08:36:25.728Z"
   },
   {
    "duration": 10,
    "start_time": "2023-08-07T08:36:54.083Z"
   },
   {
    "duration": 4,
    "start_time": "2023-08-07T08:36:58.060Z"
   },
   {
    "duration": 143,
    "start_time": "2023-08-07T08:39:38.291Z"
   },
   {
    "duration": 295,
    "start_time": "2023-08-07T08:40:41.216Z"
   },
   {
    "duration": 419,
    "start_time": "2023-08-07T08:41:38.484Z"
   },
   {
    "duration": 528,
    "start_time": "2023-08-07T08:41:52.833Z"
   },
   {
    "duration": 361,
    "start_time": "2023-08-07T08:41:57.210Z"
   },
   {
    "duration": 382,
    "start_time": "2023-08-07T08:42:06.008Z"
   },
   {
    "duration": 15,
    "start_time": "2023-08-07T08:42:56.845Z"
   },
   {
    "duration": 35,
    "start_time": "2023-08-07T08:54:51.386Z"
   },
   {
    "duration": 189,
    "start_time": "2023-08-07T08:56:17.162Z"
   },
   {
    "duration": 15,
    "start_time": "2023-08-07T08:57:24.382Z"
   },
   {
    "duration": 1535,
    "start_time": "2023-08-08T09:55:59.332Z"
   },
   {
    "duration": 94,
    "start_time": "2023-08-08T09:56:03.077Z"
   },
   {
    "duration": 17,
    "start_time": "2023-08-08T09:56:05.923Z"
   },
   {
    "duration": 107,
    "start_time": "2023-08-08T09:57:33.702Z"
   },
   {
    "duration": 110,
    "start_time": "2023-08-08T09:57:36.926Z"
   },
   {
    "duration": 16,
    "start_time": "2023-08-08T09:57:39.190Z"
   },
   {
    "duration": 13,
    "start_time": "2023-08-08T09:57:44.511Z"
   },
   {
    "duration": 15,
    "start_time": "2023-08-08T10:15:15.174Z"
   },
   {
    "duration": 10,
    "start_time": "2023-08-08T10:15:16.922Z"
   },
   {
    "duration": 12,
    "start_time": "2023-08-08T10:15:19.114Z"
   },
   {
    "duration": 12,
    "start_time": "2023-08-08T10:16:40.446Z"
   },
   {
    "duration": 101,
    "start_time": "2023-08-08T10:18:34.949Z"
   },
   {
    "duration": 164,
    "start_time": "2023-08-08T10:19:16.064Z"
   },
   {
    "duration": 4,
    "start_time": "2023-08-08T10:19:46.589Z"
   },
   {
    "duration": 609,
    "start_time": "2023-08-08T10:19:50.086Z"
   },
   {
    "duration": 290,
    "start_time": "2023-08-08T10:22:10.294Z"
   },
   {
    "duration": 244,
    "start_time": "2023-08-08T10:22:15.106Z"
   },
   {
    "duration": 232,
    "start_time": "2023-08-08T10:22:45.685Z"
   },
   {
    "duration": 365,
    "start_time": "2023-08-08T10:22:54.050Z"
   },
   {
    "duration": 255,
    "start_time": "2023-08-08T10:23:00.930Z"
   },
   {
    "duration": 362,
    "start_time": "2023-08-08T10:23:06.418Z"
   },
   {
    "duration": 188,
    "start_time": "2023-08-08T10:23:11.146Z"
   },
   {
    "duration": 5,
    "start_time": "2023-08-08T10:23:16.314Z"
   },
   {
    "duration": 162,
    "start_time": "2023-08-08T10:23:18.753Z"
   },
   {
    "duration": 14,
    "start_time": "2023-08-08T10:23:21.253Z"
   },
   {
    "duration": 498,
    "start_time": "2023-08-08T10:23:25.322Z"
   },
   {
    "duration": 16,
    "start_time": "2023-08-08T10:23:27.059Z"
   },
   {
    "duration": 40,
    "start_time": "2023-08-08T10:23:29.921Z"
   },
   {
    "duration": 17,
    "start_time": "2023-08-08T10:23:32.180Z"
   },
   {
    "duration": 1245,
    "start_time": "2023-08-09T04:19:27.817Z"
   },
   {
    "duration": 82,
    "start_time": "2023-08-09T04:19:30.706Z"
   },
   {
    "duration": 11,
    "start_time": "2023-08-09T04:19:32.326Z"
   },
   {
    "duration": 152,
    "start_time": "2023-08-09T04:19:33.690Z"
   },
   {
    "duration": 9,
    "start_time": "2023-08-09T04:19:35.330Z"
   },
   {
    "duration": 69,
    "start_time": "2023-08-09T04:19:36.965Z"
   },
   {
    "duration": 10,
    "start_time": "2023-08-09T04:19:39.318Z"
   },
   {
    "duration": 15,
    "start_time": "2023-08-09T04:19:41.422Z"
   },
   {
    "duration": 157,
    "start_time": "2023-08-09T04:20:02.250Z"
   },
   {
    "duration": 10,
    "start_time": "2023-08-09T04:20:22.205Z"
   },
   {
    "duration": 7,
    "start_time": "2023-08-09T04:20:24.830Z"
   },
   {
    "duration": 53,
    "start_time": "2023-08-09T04:20:38.089Z"
   },
   {
    "duration": 6,
    "start_time": "2023-08-09T04:21:20.609Z"
   },
   {
    "duration": 7,
    "start_time": "2023-08-09T04:21:29.996Z"
   },
   {
    "duration": 6,
    "start_time": "2023-08-09T04:21:33.497Z"
   },
   {
    "duration": 6,
    "start_time": "2023-08-09T04:21:36.897Z"
   },
   {
    "duration": 7,
    "start_time": "2023-08-09T04:23:10.423Z"
   },
   {
    "duration": 9,
    "start_time": "2023-08-09T04:23:51.794Z"
   },
   {
    "duration": 480,
    "start_time": "2023-08-09T04:29:13.415Z"
   },
   {
    "duration": 72,
    "start_time": "2023-08-09T04:32:27.310Z"
   },
   {
    "duration": 4,
    "start_time": "2023-08-09T04:32:31.349Z"
   },
   {
    "duration": 10,
    "start_time": "2023-08-09T04:32:36.369Z"
   },
   {
    "duration": 17,
    "start_time": "2023-08-09T04:32:52.258Z"
   },
   {
    "duration": 7,
    "start_time": "2023-08-09T04:34:22.273Z"
   },
   {
    "duration": 7,
    "start_time": "2023-08-09T04:34:33.954Z"
   },
   {
    "duration": 7,
    "start_time": "2023-08-09T04:35:31.305Z"
   },
   {
    "duration": 981,
    "start_time": "2023-08-09T04:35:56.401Z"
   },
   {
    "duration": 7,
    "start_time": "2023-08-09T04:36:05.449Z"
   },
   {
    "duration": 13,
    "start_time": "2023-08-09T04:51:18.970Z"
   },
   {
    "duration": 3,
    "start_time": "2023-08-09T04:54:00.869Z"
   },
   {
    "duration": 5,
    "start_time": "2023-08-09T04:54:06.186Z"
   },
   {
    "duration": 4,
    "start_time": "2023-08-09T04:54:12.831Z"
   },
   {
    "duration": 11,
    "start_time": "2023-08-09T04:58:03.664Z"
   },
   {
    "duration": 8,
    "start_time": "2023-08-09T05:00:17.167Z"
   },
   {
    "duration": 7,
    "start_time": "2023-08-09T05:01:01.898Z"
   },
   {
    "duration": 27,
    "start_time": "2023-08-09T05:08:15.862Z"
   },
   {
    "duration": 13,
    "start_time": "2023-08-09T05:08:50.658Z"
   },
   {
    "duration": 25,
    "start_time": "2023-08-09T05:10:34.388Z"
   },
   {
    "duration": 104,
    "start_time": "2023-08-09T05:11:08.572Z"
   },
   {
    "duration": 13,
    "start_time": "2023-08-09T05:11:11.995Z"
   },
   {
    "duration": 9,
    "start_time": "2023-08-09T05:11:48.691Z"
   },
   {
    "duration": 16,
    "start_time": "2023-08-09T05:11:57.415Z"
   },
   {
    "duration": 8,
    "start_time": "2023-08-09T05:12:12.292Z"
   },
   {
    "duration": 1132,
    "start_time": "2023-08-09T05:14:01.487Z"
   },
   {
    "duration": 43,
    "start_time": "2023-08-09T05:14:04.273Z"
   },
   {
    "duration": 16,
    "start_time": "2023-08-09T05:14:05.971Z"
   },
   {
    "duration": 77,
    "start_time": "2023-08-09T05:14:09.389Z"
   },
   {
    "duration": 10,
    "start_time": "2023-08-09T05:14:11.388Z"
   },
   {
    "duration": 41,
    "start_time": "2023-08-09T05:14:16.676Z"
   },
   {
    "duration": 11,
    "start_time": "2023-08-09T05:14:18.681Z"
   },
   {
    "duration": 41,
    "start_time": "2023-08-09T05:14:20.465Z"
   },
   {
    "duration": 9,
    "start_time": "2023-08-09T05:14:22.323Z"
   },
   {
    "duration": 11,
    "start_time": "2023-08-09T05:14:24.987Z"
   },
   {
    "duration": 12,
    "start_time": "2023-08-09T05:14:28.115Z"
   },
   {
    "duration": 21,
    "start_time": "2023-08-09T05:14:52.931Z"
   },
   {
    "duration": 607,
    "start_time": "2023-08-09T05:14:58.557Z"
   },
   {
    "duration": 329,
    "start_time": "2023-08-09T05:16:30.680Z"
   },
   {
    "duration": 258,
    "start_time": "2023-08-09T05:16:40.712Z"
   },
   {
    "duration": 233,
    "start_time": "2023-08-09T05:17:17.161Z"
   },
   {
    "duration": 235,
    "start_time": "2023-08-09T05:19:31.535Z"
   },
   {
    "duration": 299,
    "start_time": "2023-08-09T05:24:15.896Z"
   },
   {
    "duration": 240,
    "start_time": "2023-08-09T05:25:38.772Z"
   },
   {
    "duration": 354,
    "start_time": "2023-08-09T05:26:04.280Z"
   },
   {
    "duration": 187,
    "start_time": "2023-08-09T05:27:08.868Z"
   },
   {
    "duration": 206,
    "start_time": "2023-08-09T05:27:39.612Z"
   },
   {
    "duration": 23,
    "start_time": "2023-08-09T05:28:07.436Z"
   },
   {
    "duration": 1051,
    "start_time": "2023-08-09T05:28:25.785Z"
   },
   {
    "duration": 59,
    "start_time": "2023-08-09T05:28:27.701Z"
   },
   {
    "duration": 11,
    "start_time": "2023-08-09T05:28:29.285Z"
   },
   {
    "duration": 54,
    "start_time": "2023-08-09T05:28:30.682Z"
   },
   {
    "duration": 14,
    "start_time": "2023-08-09T05:28:33.062Z"
   },
   {
    "duration": 56,
    "start_time": "2023-08-09T05:28:35.337Z"
   },
   {
    "duration": 10,
    "start_time": "2023-08-09T05:28:36.821Z"
   },
   {
    "duration": 17,
    "start_time": "2023-08-09T05:28:38.177Z"
   },
   {
    "duration": 16,
    "start_time": "2023-08-09T05:28:39.909Z"
   },
   {
    "duration": 8,
    "start_time": "2023-08-09T05:28:41.697Z"
   },
   {
    "duration": 15,
    "start_time": "2023-08-09T05:28:44.340Z"
   },
   {
    "duration": 10,
    "start_time": "2023-08-09T05:28:45.825Z"
   },
   {
    "duration": 513,
    "start_time": "2023-08-09T05:28:47.217Z"
   },
   {
    "duration": 298,
    "start_time": "2023-08-09T05:28:49.397Z"
   },
   {
    "duration": 270,
    "start_time": "2023-08-09T05:28:53.306Z"
   },
   {
    "duration": 284,
    "start_time": "2023-08-09T05:28:56.297Z"
   },
   {
    "duration": 214,
    "start_time": "2023-08-09T05:28:59.670Z"
   },
   {
    "duration": 337,
    "start_time": "2023-08-09T05:29:02.278Z"
   },
   {
    "duration": 209,
    "start_time": "2023-08-09T05:29:04.978Z"
   },
   {
    "duration": 8,
    "start_time": "2023-08-09T05:29:07.576Z"
   },
   {
    "duration": 174,
    "start_time": "2023-08-09T05:29:41.033Z"
   },
   {
    "duration": 5,
    "start_time": "2023-08-09T05:30:24.712Z"
   },
   {
    "duration": 3,
    "start_time": "2023-08-09T05:31:19.354Z"
   },
   {
    "duration": 3,
    "start_time": "2023-08-09T05:31:36.522Z"
   },
   {
    "duration": 441,
    "start_time": "2023-08-09T05:34:34.373Z"
   },
   {
    "duration": 11,
    "start_time": "2023-08-09T05:36:22.568Z"
   },
   {
    "duration": 31,
    "start_time": "2023-08-09T05:37:44.057Z"
   },
   {
    "duration": 13,
    "start_time": "2023-08-09T05:39:07.096Z"
   },
   {
    "duration": 1024,
    "start_time": "2023-08-09T05:44:02.794Z"
   },
   {
    "duration": 44,
    "start_time": "2023-08-09T05:44:04.682Z"
   },
   {
    "duration": 11,
    "start_time": "2023-08-09T05:44:06.282Z"
   },
   {
    "duration": 76,
    "start_time": "2023-08-09T05:44:07.786Z"
   },
   {
    "duration": 30,
    "start_time": "2023-08-09T05:44:09.134Z"
   },
   {
    "duration": 30,
    "start_time": "2023-08-09T05:44:10.675Z"
   },
   {
    "duration": 25,
    "start_time": "2023-08-09T05:44:12.439Z"
   },
   {
    "duration": 28,
    "start_time": "2023-08-09T05:44:13.758Z"
   },
   {
    "duration": 11,
    "start_time": "2023-08-09T05:44:16.019Z"
   },
   {
    "duration": 26,
    "start_time": "2023-08-09T05:44:18.147Z"
   },
   {
    "duration": 10,
    "start_time": "2023-08-09T05:44:20.483Z"
   },
   {
    "duration": 11,
    "start_time": "2023-08-09T05:44:21.779Z"
   },
   {
    "duration": 506,
    "start_time": "2023-08-09T05:44:23.194Z"
   },
   {
    "duration": 354,
    "start_time": "2023-08-09T05:44:26.734Z"
   },
   {
    "duration": 271,
    "start_time": "2023-08-09T05:44:29.422Z"
   },
   {
    "duration": 364,
    "start_time": "2023-08-09T05:44:32.415Z"
   },
   {
    "duration": 250,
    "start_time": "2023-08-09T05:44:34.570Z"
   },
   {
    "duration": 316,
    "start_time": "2023-08-09T05:44:36.869Z"
   },
   {
    "duration": 182,
    "start_time": "2023-08-09T05:44:39.034Z"
   },
   {
    "duration": 4,
    "start_time": "2023-08-09T05:44:45.111Z"
   },
   {
    "duration": 3,
    "start_time": "2023-08-09T05:44:46.571Z"
   },
   {
    "duration": 131,
    "start_time": "2023-08-09T05:44:48.582Z"
   },
   {
    "duration": 4,
    "start_time": "2023-08-09T05:44:59.778Z"
   },
   {
    "duration": 3,
    "start_time": "2023-08-09T05:45:07.794Z"
   },
   {
    "duration": 439,
    "start_time": "2023-08-09T05:45:11.782Z"
   },
   {
    "duration": 119,
    "start_time": "2023-08-09T05:53:58.198Z"
   },
   {
    "duration": 1282,
    "start_time": "2023-08-09T05:55:20.890Z"
   },
   {
    "duration": 310,
    "start_time": "2023-08-09T05:55:31.854Z"
   },
   {
    "duration": 225,
    "start_time": "2023-08-09T05:56:16.234Z"
   },
   {
    "duration": 994,
    "start_time": "2023-08-09T05:56:20.295Z"
   },
   {
    "duration": 338,
    "start_time": "2023-08-09T05:56:39.249Z"
   },
   {
    "duration": 19,
    "start_time": "2023-08-09T05:57:24.235Z"
   },
   {
    "duration": 9,
    "start_time": "2023-08-09T05:57:51.578Z"
   },
   {
    "duration": 160,
    "start_time": "2023-08-09T06:00:59.250Z"
   },
   {
    "duration": 6,
    "start_time": "2023-08-09T06:01:30.538Z"
   },
   {
    "duration": 2,
    "start_time": "2023-08-09T06:01:32.502Z"
   },
   {
    "duration": 116,
    "start_time": "2023-08-09T06:01:34.150Z"
   },
   {
    "duration": 5,
    "start_time": "2023-08-09T06:01:37.450Z"
   },
   {
    "duration": 3,
    "start_time": "2023-08-09T06:01:41.058Z"
   },
   {
    "duration": 335,
    "start_time": "2023-08-09T06:01:45.782Z"
   },
   {
    "duration": 10,
    "start_time": "2023-08-09T06:01:49.558Z"
   },
   {
    "duration": 32,
    "start_time": "2023-08-09T06:01:53.714Z"
   },
   {
    "duration": 27,
    "start_time": "2023-08-09T06:01:58.582Z"
   },
   {
    "duration": 11,
    "start_time": "2023-08-09T06:02:14.878Z"
   },
   {
    "duration": 1463,
    "start_time": "2023-08-09T16:26:42.628Z"
   },
   {
    "duration": 104,
    "start_time": "2023-08-09T16:26:44.097Z"
   },
   {
    "duration": 17,
    "start_time": "2023-08-09T16:26:44.204Z"
   },
   {
    "duration": 124,
    "start_time": "2023-08-09T16:26:44.223Z"
   },
   {
    "duration": 12,
    "start_time": "2023-08-09T16:26:44.349Z"
   },
   {
    "duration": 87,
    "start_time": "2023-08-09T16:26:44.362Z"
   },
   {
    "duration": 11,
    "start_time": "2023-08-09T16:26:44.450Z"
   },
   {
    "duration": 16,
    "start_time": "2023-08-09T16:26:44.522Z"
   },
   {
    "duration": 11,
    "start_time": "2023-08-09T16:26:45.628Z"
   },
   {
    "duration": 10,
    "start_time": "2023-08-09T16:26:46.353Z"
   },
   {
    "duration": 14,
    "start_time": "2023-08-09T16:26:47.247Z"
   },
   {
    "duration": 12,
    "start_time": "2023-08-09T16:26:47.624Z"
   },
   {
    "duration": 633,
    "start_time": "2023-08-09T16:26:48.016Z"
   },
   {
    "duration": 356,
    "start_time": "2023-08-09T16:26:49.196Z"
   },
   {
    "duration": 275,
    "start_time": "2023-08-09T16:26:51.055Z"
   },
   {
    "duration": 414,
    "start_time": "2023-08-09T16:26:54.024Z"
   },
   {
    "duration": 208,
    "start_time": "2023-08-09T16:27:27.694Z"
   },
   {
    "duration": 337,
    "start_time": "2023-08-09T16:27:50.919Z"
   },
   {
    "duration": 295,
    "start_time": "2023-08-09T16:28:04.444Z"
   },
   {
    "duration": 295,
    "start_time": "2023-08-09T16:28:43.500Z"
   },
   {
    "duration": 1525,
    "start_time": "2023-08-09T16:39:59.805Z"
   },
   {
    "duration": 90,
    "start_time": "2023-08-09T16:40:07.010Z"
   },
   {
    "duration": 13,
    "start_time": "2023-08-09T16:40:08.406Z"
   },
   {
    "duration": 117,
    "start_time": "2023-08-09T16:40:09.998Z"
   },
   {
    "duration": 10,
    "start_time": "2023-08-09T16:40:11.518Z"
   },
   {
    "duration": 90,
    "start_time": "2023-08-09T16:40:13.902Z"
   },
   {
    "duration": 14,
    "start_time": "2023-08-09T16:40:15.232Z"
   },
   {
    "duration": 16,
    "start_time": "2023-08-09T16:40:16.618Z"
   },
   {
    "duration": 18,
    "start_time": "2023-08-09T16:40:24.113Z"
   },
   {
    "duration": 10,
    "start_time": "2023-08-09T16:40:27.639Z"
   },
   {
    "duration": 17,
    "start_time": "2023-08-09T16:40:32.820Z"
   },
   {
    "duration": 11,
    "start_time": "2023-08-09T16:40:34.611Z"
   },
   {
    "duration": 703,
    "start_time": "2023-08-09T16:40:43.786Z"
   },
   {
    "duration": 342,
    "start_time": "2023-08-09T16:40:48.910Z"
   },
   {
    "duration": 247,
    "start_time": "2023-08-09T16:40:56.102Z"
   },
   {
    "duration": 380,
    "start_time": "2023-08-09T16:41:01.091Z"
   },
   {
    "duration": 256,
    "start_time": "2023-08-09T16:41:46.895Z"
   },
   {
    "duration": 356,
    "start_time": "2023-08-09T16:42:30.499Z"
   },
   {
    "duration": 360,
    "start_time": "2023-08-09T16:42:45.111Z"
   },
   {
    "duration": 198,
    "start_time": "2023-08-09T16:43:17.288Z"
   },
   {
    "duration": 5,
    "start_time": "2023-08-09T16:43:20.722Z"
   },
   {
    "duration": 5,
    "start_time": "2023-08-09T16:43:22.259Z"
   },
   {
    "duration": 164,
    "start_time": "2023-08-09T16:43:24.996Z"
   },
   {
    "duration": 6,
    "start_time": "2023-08-09T16:43:27.723Z"
   },
   {
    "duration": 2,
    "start_time": "2023-08-09T16:43:29.403Z"
   },
   {
    "duration": 499,
    "start_time": "2023-08-09T16:43:35.989Z"
   },
   {
    "duration": 11,
    "start_time": "2023-08-09T16:43:44.383Z"
   },
   {
    "duration": 34,
    "start_time": "2023-08-09T16:43:49.743Z"
   },
   {
    "duration": 17,
    "start_time": "2023-08-09T16:43:55.931Z"
   }
  ],
  "kernelspec": {
   "display_name": "Python 3 (ipykernel)",
   "language": "python",
   "name": "python3"
  },
  "language_info": {
   "codemirror_mode": {
    "name": "ipython",
    "version": 3
   },
   "file_extension": ".py",
   "mimetype": "text/x-python",
   "name": "python",
   "nbconvert_exporter": "python",
   "pygments_lexer": "ipython3",
   "version": "3.10.9"
  },
  "toc": {
   "base_numbering": 1,
   "nav_menu": {},
   "number_sections": true,
   "sideBar": true,
   "skip_h1_title": true,
   "title_cell": "Table of Contents",
   "title_sidebar": "Contents",
   "toc_cell": false,
   "toc_position": {},
   "toc_section_display": true,
   "toc_window_display": false
  }
 },
 "nbformat": 4,
 "nbformat_minor": 2
}
