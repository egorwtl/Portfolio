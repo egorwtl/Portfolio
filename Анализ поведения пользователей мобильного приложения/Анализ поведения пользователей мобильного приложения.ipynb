{
 "cells": [
  {
   "cell_type": "markdown",
   "metadata": {},
   "source": [
    "# Анализ поведения пользователей мобильного приложения #"
   ]
  },
  {
   "cell_type": "markdown",
   "metadata": {},
   "source": [
    "Получив файл с данными /datasets/logs_exp.csv, который хранит сведения о пользователях, их поведении, времени совершения события и номер его экспериментальной группы. На основе этих данных мы построим нашу дальнейшую работу, проанализировав их. \n",
    "\n",
    "**Задача, которую мы пытаемся решить в данном исследовании, следующая:** дизайнеры захотели поменять шрифты во всём приложении, а менеджеры испугались, что пользователям будет непривычно. Договорились принять решение по результатам A/A/B-теста. Пользователей разбили на 3 группы: 2 контрольные со старыми шрифтами и одну экспериментальную — с новыми. Выясним, какой шрифт лучше.\n",
    "\n",
    "**На основе этих данных мы проведем исследование и построим нашу работу следующим образом:**\n",
    "\n",
    "1. Загрузим данные и подготовим их для анализа;\n",
    "2. Изучим и проверим данные;\n",
    "3. Изучим воронку продаж;\n",
    "4. Исследуем результаты A/A/B-эксперимента;\n",
    "5. Сделаем необходимые нам выводы."
   ]
  },
  {
   "cell_type": "markdown",
   "metadata": {},
   "source": [
    "**Шаг 1: загрузка и предварительное изучение данных файла**"
   ]
  },
  {
   "cell_type": "code",
   "execution_count": 1,
   "metadata": {},
   "outputs": [],
   "source": [
    "import pandas as pd\n",
    "import datetime as dt\n",
    "import matplotlib.pyplot as plt\n",
    "from scipy import stats as st\n",
    "import numpy as np\n",
    "import math as mth"
   ]
  },
  {
   "cell_type": "code",
   "execution_count": 2,
   "metadata": {},
   "outputs": [
    {
     "data": {
      "text/html": [
       "<div>\n",
       "<style scoped>\n",
       "    .dataframe tbody tr th:only-of-type {\n",
       "        vertical-align: middle;\n",
       "    }\n",
       "\n",
       "    .dataframe tbody tr th {\n",
       "        vertical-align: top;\n",
       "    }\n",
       "\n",
       "    .dataframe thead th {\n",
       "        text-align: right;\n",
       "    }\n",
       "</style>\n",
       "<table border=\"1\" class=\"dataframe\">\n",
       "  <thead>\n",
       "    <tr style=\"text-align: right;\">\n",
       "      <th></th>\n",
       "      <th>EventName</th>\n",
       "      <th>DeviceIDHash</th>\n",
       "      <th>EventTimestamp</th>\n",
       "      <th>ExpId</th>\n",
       "    </tr>\n",
       "  </thead>\n",
       "  <tbody>\n",
       "    <tr>\n",
       "      <th>0</th>\n",
       "      <td>MainScreenAppear</td>\n",
       "      <td>4575588528974610257</td>\n",
       "      <td>1564029816</td>\n",
       "      <td>246</td>\n",
       "    </tr>\n",
       "    <tr>\n",
       "      <th>1</th>\n",
       "      <td>MainScreenAppear</td>\n",
       "      <td>7416695313311560658</td>\n",
       "      <td>1564053102</td>\n",
       "      <td>246</td>\n",
       "    </tr>\n",
       "    <tr>\n",
       "      <th>2</th>\n",
       "      <td>PaymentScreenSuccessful</td>\n",
       "      <td>3518123091307005509</td>\n",
       "      <td>1564054127</td>\n",
       "      <td>248</td>\n",
       "    </tr>\n",
       "    <tr>\n",
       "      <th>3</th>\n",
       "      <td>CartScreenAppear</td>\n",
       "      <td>3518123091307005509</td>\n",
       "      <td>1564054127</td>\n",
       "      <td>248</td>\n",
       "    </tr>\n",
       "    <tr>\n",
       "      <th>4</th>\n",
       "      <td>PaymentScreenSuccessful</td>\n",
       "      <td>6217807653094995999</td>\n",
       "      <td>1564055322</td>\n",
       "      <td>248</td>\n",
       "    </tr>\n",
       "  </tbody>\n",
       "</table>\n",
       "</div>"
      ],
      "text/plain": [
       "                 EventName         DeviceIDHash  EventTimestamp  ExpId\n",
       "0         MainScreenAppear  4575588528974610257      1564029816    246\n",
       "1         MainScreenAppear  7416695313311560658      1564053102    246\n",
       "2  PaymentScreenSuccessful  3518123091307005509      1564054127    248\n",
       "3         CartScreenAppear  3518123091307005509      1564054127    248\n",
       "4  PaymentScreenSuccessful  6217807653094995999      1564055322    248"
      ]
     },
     "execution_count": 2,
     "metadata": {},
     "output_type": "execute_result"
    }
   ],
   "source": [
    "log_s = pd.read_csv('/datasets/logs_exp.csv', sep='\\t')\n",
    "log_s.head()"
   ]
  },
  {
   "cell_type": "code",
   "execution_count": 3,
   "metadata": {},
   "outputs": [
    {
     "name": "stdout",
     "output_type": "stream",
     "text": [
      "<class 'pandas.core.frame.DataFrame'>\n",
      "RangeIndex: 244126 entries, 0 to 244125\n",
      "Data columns (total 4 columns):\n",
      " #   Column          Non-Null Count   Dtype \n",
      "---  ------          --------------   ----- \n",
      " 0   EventName       244126 non-null  object\n",
      " 1   DeviceIDHash    244126 non-null  int64 \n",
      " 2   EventTimestamp  244126 non-null  int64 \n",
      " 3   ExpId           244126 non-null  int64 \n",
      "dtypes: int64(3), object(1)\n",
      "memory usage: 7.5+ MB\n"
     ]
    }
   ],
   "source": [
    "log_s.info()"
   ]
  },
  {
   "cell_type": "markdown",
   "metadata": {},
   "source": [
    "В датасете хранится информация с 4 столбцов: EventName, DeviceIDHash, EventTimestamp и EventTimestamp. Начнем с того, что приведем наименования столбцов к стандартному виду.\n",
    "Далее перейдём к приведению столбца EventTimestamp к типу datetime.\n",
    "\n",
    "Пропусков в данных не обнаружено."
   ]
  },
  {
   "cell_type": "code",
   "execution_count": 4,
   "metadata": {},
   "outputs": [],
   "source": [
    "log_s.rename(columns = {'DeviceIDHash':'user_id', 'EventTimestamp':'date', 'ExpId': 'ex_id', 'EventName': 'event'},\n",
    "            inplace = True )"
   ]
  },
  {
   "cell_type": "code",
   "execution_count": 5,
   "metadata": {},
   "outputs": [
    {
     "data": {
      "text/html": [
       "<div>\n",
       "<style scoped>\n",
       "    .dataframe tbody tr th:only-of-type {\n",
       "        vertical-align: middle;\n",
       "    }\n",
       "\n",
       "    .dataframe tbody tr th {\n",
       "        vertical-align: top;\n",
       "    }\n",
       "\n",
       "    .dataframe thead th {\n",
       "        text-align: right;\n",
       "    }\n",
       "</style>\n",
       "<table border=\"1\" class=\"dataframe\">\n",
       "  <thead>\n",
       "    <tr style=\"text-align: right;\">\n",
       "      <th></th>\n",
       "      <th>event</th>\n",
       "      <th>user_id</th>\n",
       "      <th>date</th>\n",
       "      <th>ex_id</th>\n",
       "    </tr>\n",
       "  </thead>\n",
       "  <tbody>\n",
       "    <tr>\n",
       "      <th>0</th>\n",
       "      <td>MainScreenAppear</td>\n",
       "      <td>4575588528974610257</td>\n",
       "      <td>2019-07-25 04:43:36</td>\n",
       "      <td>246</td>\n",
       "    </tr>\n",
       "    <tr>\n",
       "      <th>1</th>\n",
       "      <td>MainScreenAppear</td>\n",
       "      <td>7416695313311560658</td>\n",
       "      <td>2019-07-25 11:11:42</td>\n",
       "      <td>246</td>\n",
       "    </tr>\n",
       "    <tr>\n",
       "      <th>2</th>\n",
       "      <td>PaymentScreenSuccessful</td>\n",
       "      <td>3518123091307005509</td>\n",
       "      <td>2019-07-25 11:28:47</td>\n",
       "      <td>248</td>\n",
       "    </tr>\n",
       "    <tr>\n",
       "      <th>3</th>\n",
       "      <td>CartScreenAppear</td>\n",
       "      <td>3518123091307005509</td>\n",
       "      <td>2019-07-25 11:28:47</td>\n",
       "      <td>248</td>\n",
       "    </tr>\n",
       "    <tr>\n",
       "      <th>4</th>\n",
       "      <td>PaymentScreenSuccessful</td>\n",
       "      <td>6217807653094995999</td>\n",
       "      <td>2019-07-25 11:48:42</td>\n",
       "      <td>248</td>\n",
       "    </tr>\n",
       "    <tr>\n",
       "      <th>...</th>\n",
       "      <td>...</td>\n",
       "      <td>...</td>\n",
       "      <td>...</td>\n",
       "      <td>...</td>\n",
       "    </tr>\n",
       "    <tr>\n",
       "      <th>244121</th>\n",
       "      <td>MainScreenAppear</td>\n",
       "      <td>4599628364049201812</td>\n",
       "      <td>2019-08-07 21:12:25</td>\n",
       "      <td>247</td>\n",
       "    </tr>\n",
       "    <tr>\n",
       "      <th>244122</th>\n",
       "      <td>MainScreenAppear</td>\n",
       "      <td>5849806612437486590</td>\n",
       "      <td>2019-08-07 21:13:59</td>\n",
       "      <td>246</td>\n",
       "    </tr>\n",
       "    <tr>\n",
       "      <th>244123</th>\n",
       "      <td>MainScreenAppear</td>\n",
       "      <td>5746969938801999050</td>\n",
       "      <td>2019-08-07 21:14:43</td>\n",
       "      <td>246</td>\n",
       "    </tr>\n",
       "    <tr>\n",
       "      <th>244124</th>\n",
       "      <td>MainScreenAppear</td>\n",
       "      <td>5746969938801999050</td>\n",
       "      <td>2019-08-07 21:14:58</td>\n",
       "      <td>246</td>\n",
       "    </tr>\n",
       "    <tr>\n",
       "      <th>244125</th>\n",
       "      <td>OffersScreenAppear</td>\n",
       "      <td>5746969938801999050</td>\n",
       "      <td>2019-08-07 21:15:17</td>\n",
       "      <td>246</td>\n",
       "    </tr>\n",
       "  </tbody>\n",
       "</table>\n",
       "<p>244126 rows × 4 columns</p>\n",
       "</div>"
      ],
      "text/plain": [
       "                          event              user_id                date  \\\n",
       "0              MainScreenAppear  4575588528974610257 2019-07-25 04:43:36   \n",
       "1              MainScreenAppear  7416695313311560658 2019-07-25 11:11:42   \n",
       "2       PaymentScreenSuccessful  3518123091307005509 2019-07-25 11:28:47   \n",
       "3              CartScreenAppear  3518123091307005509 2019-07-25 11:28:47   \n",
       "4       PaymentScreenSuccessful  6217807653094995999 2019-07-25 11:48:42   \n",
       "...                         ...                  ...                 ...   \n",
       "244121         MainScreenAppear  4599628364049201812 2019-08-07 21:12:25   \n",
       "244122         MainScreenAppear  5849806612437486590 2019-08-07 21:13:59   \n",
       "244123         MainScreenAppear  5746969938801999050 2019-08-07 21:14:43   \n",
       "244124         MainScreenAppear  5746969938801999050 2019-08-07 21:14:58   \n",
       "244125       OffersScreenAppear  5746969938801999050 2019-08-07 21:15:17   \n",
       "\n",
       "        ex_id  \n",
       "0         246  \n",
       "1         246  \n",
       "2         248  \n",
       "3         248  \n",
       "4         248  \n",
       "...       ...  \n",
       "244121    247  \n",
       "244122    246  \n",
       "244123    246  \n",
       "244124    246  \n",
       "244125    246  \n",
       "\n",
       "[244126 rows x 4 columns]"
      ]
     },
     "execution_count": 5,
     "metadata": {},
     "output_type": "execute_result"
    }
   ],
   "source": [
    "log_s['date'] = pd.to_datetime(log_s['date'], unit='s')\n",
    "log_s"
   ]
  },
  {
   "cell_type": "code",
   "execution_count": 6,
   "metadata": {},
   "outputs": [
    {
     "data": {
      "text/html": [
       "<div>\n",
       "<style scoped>\n",
       "    .dataframe tbody tr th:only-of-type {\n",
       "        vertical-align: middle;\n",
       "    }\n",
       "\n",
       "    .dataframe tbody tr th {\n",
       "        vertical-align: top;\n",
       "    }\n",
       "\n",
       "    .dataframe thead th {\n",
       "        text-align: right;\n",
       "    }\n",
       "</style>\n",
       "<table border=\"1\" class=\"dataframe\">\n",
       "  <thead>\n",
       "    <tr style=\"text-align: right;\">\n",
       "      <th></th>\n",
       "      <th>event</th>\n",
       "      <th>user_id</th>\n",
       "      <th>date</th>\n",
       "      <th>ex_id</th>\n",
       "      <th>date_wt</th>\n",
       "    </tr>\n",
       "  </thead>\n",
       "  <tbody>\n",
       "    <tr>\n",
       "      <th>0</th>\n",
       "      <td>MainScreenAppear</td>\n",
       "      <td>4575588528974610257</td>\n",
       "      <td>2019-07-25 04:43:36</td>\n",
       "      <td>246</td>\n",
       "      <td>2019-07-25</td>\n",
       "    </tr>\n",
       "    <tr>\n",
       "      <th>1</th>\n",
       "      <td>MainScreenAppear</td>\n",
       "      <td>7416695313311560658</td>\n",
       "      <td>2019-07-25 11:11:42</td>\n",
       "      <td>246</td>\n",
       "      <td>2019-07-25</td>\n",
       "    </tr>\n",
       "    <tr>\n",
       "      <th>2</th>\n",
       "      <td>PaymentScreenSuccessful</td>\n",
       "      <td>3518123091307005509</td>\n",
       "      <td>2019-07-25 11:28:47</td>\n",
       "      <td>248</td>\n",
       "      <td>2019-07-25</td>\n",
       "    </tr>\n",
       "    <tr>\n",
       "      <th>3</th>\n",
       "      <td>CartScreenAppear</td>\n",
       "      <td>3518123091307005509</td>\n",
       "      <td>2019-07-25 11:28:47</td>\n",
       "      <td>248</td>\n",
       "      <td>2019-07-25</td>\n",
       "    </tr>\n",
       "    <tr>\n",
       "      <th>4</th>\n",
       "      <td>PaymentScreenSuccessful</td>\n",
       "      <td>6217807653094995999</td>\n",
       "      <td>2019-07-25 11:48:42</td>\n",
       "      <td>248</td>\n",
       "      <td>2019-07-25</td>\n",
       "    </tr>\n",
       "    <tr>\n",
       "      <th>...</th>\n",
       "      <td>...</td>\n",
       "      <td>...</td>\n",
       "      <td>...</td>\n",
       "      <td>...</td>\n",
       "      <td>...</td>\n",
       "    </tr>\n",
       "    <tr>\n",
       "      <th>244121</th>\n",
       "      <td>MainScreenAppear</td>\n",
       "      <td>4599628364049201812</td>\n",
       "      <td>2019-08-07 21:12:25</td>\n",
       "      <td>247</td>\n",
       "      <td>2019-08-07</td>\n",
       "    </tr>\n",
       "    <tr>\n",
       "      <th>244122</th>\n",
       "      <td>MainScreenAppear</td>\n",
       "      <td>5849806612437486590</td>\n",
       "      <td>2019-08-07 21:13:59</td>\n",
       "      <td>246</td>\n",
       "      <td>2019-08-07</td>\n",
       "    </tr>\n",
       "    <tr>\n",
       "      <th>244123</th>\n",
       "      <td>MainScreenAppear</td>\n",
       "      <td>5746969938801999050</td>\n",
       "      <td>2019-08-07 21:14:43</td>\n",
       "      <td>246</td>\n",
       "      <td>2019-08-07</td>\n",
       "    </tr>\n",
       "    <tr>\n",
       "      <th>244124</th>\n",
       "      <td>MainScreenAppear</td>\n",
       "      <td>5746969938801999050</td>\n",
       "      <td>2019-08-07 21:14:58</td>\n",
       "      <td>246</td>\n",
       "      <td>2019-08-07</td>\n",
       "    </tr>\n",
       "    <tr>\n",
       "      <th>244125</th>\n",
       "      <td>OffersScreenAppear</td>\n",
       "      <td>5746969938801999050</td>\n",
       "      <td>2019-08-07 21:15:17</td>\n",
       "      <td>246</td>\n",
       "      <td>2019-08-07</td>\n",
       "    </tr>\n",
       "  </tbody>\n",
       "</table>\n",
       "<p>244126 rows × 5 columns</p>\n",
       "</div>"
      ],
      "text/plain": [
       "                          event              user_id                date  \\\n",
       "0              MainScreenAppear  4575588528974610257 2019-07-25 04:43:36   \n",
       "1              MainScreenAppear  7416695313311560658 2019-07-25 11:11:42   \n",
       "2       PaymentScreenSuccessful  3518123091307005509 2019-07-25 11:28:47   \n",
       "3              CartScreenAppear  3518123091307005509 2019-07-25 11:28:47   \n",
       "4       PaymentScreenSuccessful  6217807653094995999 2019-07-25 11:48:42   \n",
       "...                         ...                  ...                 ...   \n",
       "244121         MainScreenAppear  4599628364049201812 2019-08-07 21:12:25   \n",
       "244122         MainScreenAppear  5849806612437486590 2019-08-07 21:13:59   \n",
       "244123         MainScreenAppear  5746969938801999050 2019-08-07 21:14:43   \n",
       "244124         MainScreenAppear  5746969938801999050 2019-08-07 21:14:58   \n",
       "244125       OffersScreenAppear  5746969938801999050 2019-08-07 21:15:17   \n",
       "\n",
       "        ex_id     date_wt  \n",
       "0         246  2019-07-25  \n",
       "1         246  2019-07-25  \n",
       "2         248  2019-07-25  \n",
       "3         248  2019-07-25  \n",
       "4         248  2019-07-25  \n",
       "...       ...         ...  \n",
       "244121    247  2019-08-07  \n",
       "244122    246  2019-08-07  \n",
       "244123    246  2019-08-07  \n",
       "244124    246  2019-08-07  \n",
       "244125    246  2019-08-07  \n",
       "\n",
       "[244126 rows x 5 columns]"
      ]
     },
     "execution_count": 6,
     "metadata": {},
     "output_type": "execute_result"
    }
   ],
   "source": [
    "log_s['date_wt'] = pd.to_datetime(log_s['date']).dt.date\n",
    "log_s"
   ]
  },
  {
   "cell_type": "markdown",
   "metadata": {},
   "source": [
    "Проверим данные на наличие дубликатов."
   ]
  },
  {
   "cell_type": "code",
   "execution_count": 7,
   "metadata": {},
   "outputs": [
    {
     "data": {
      "text/plain": [
       "413"
      ]
     },
     "execution_count": 7,
     "metadata": {},
     "output_type": "execute_result"
    }
   ],
   "source": [
    "log_s.duplicated().sum()"
   ]
  },
  {
   "cell_type": "markdown",
   "metadata": {},
   "source": [
    "Избавимся от строчек, содержащих дубликаты."
   ]
  },
  {
   "cell_type": "code",
   "execution_count": 8,
   "metadata": {},
   "outputs": [],
   "source": [
    "log_s = log_s.drop_duplicates()"
   ]
  },
  {
   "cell_type": "markdown",
   "metadata": {},
   "source": [
    "**Шаг 2: изучим и проверим данные**"
   ]
  },
  {
   "cell_type": "code",
   "execution_count": 9,
   "metadata": {},
   "outputs": [
    {
     "data": {
      "text/plain": [
       "event           5\n",
       "user_id      7551\n",
       "date       176654\n",
       "ex_id           3\n",
       "date_wt        14\n",
       "dtype: int64"
      ]
     },
     "execution_count": 9,
     "metadata": {},
     "output_type": "execute_result"
    }
   ],
   "source": [
    "log_s.nunique()"
   ]
  },
  {
   "cell_type": "markdown",
   "metadata": {},
   "source": [
    "В логе 5 событий и 7551 пользователей. "
   ]
  },
  {
   "cell_type": "code",
   "execution_count": 10,
   "metadata": {},
   "outputs": [
    {
     "data": {
      "text/html": [
       "<div>\n",
       "<style scoped>\n",
       "    .dataframe tbody tr th:only-of-type {\n",
       "        vertical-align: middle;\n",
       "    }\n",
       "\n",
       "    .dataframe tbody tr th {\n",
       "        vertical-align: top;\n",
       "    }\n",
       "\n",
       "    .dataframe thead th {\n",
       "        text-align: right;\n",
       "    }\n",
       "</style>\n",
       "<table border=\"1\" class=\"dataframe\">\n",
       "  <thead>\n",
       "    <tr style=\"text-align: right;\">\n",
       "      <th></th>\n",
       "      <th>event</th>\n",
       "    </tr>\n",
       "  </thead>\n",
       "  <tbody>\n",
       "    <tr>\n",
       "      <th>count</th>\n",
       "      <td>7551.000000</td>\n",
       "    </tr>\n",
       "    <tr>\n",
       "      <th>mean</th>\n",
       "      <td>32.275593</td>\n",
       "    </tr>\n",
       "    <tr>\n",
       "      <th>std</th>\n",
       "      <td>65.154219</td>\n",
       "    </tr>\n",
       "    <tr>\n",
       "      <th>min</th>\n",
       "      <td>1.000000</td>\n",
       "    </tr>\n",
       "    <tr>\n",
       "      <th>25%</th>\n",
       "      <td>9.000000</td>\n",
       "    </tr>\n",
       "    <tr>\n",
       "      <th>50%</th>\n",
       "      <td>20.000000</td>\n",
       "    </tr>\n",
       "    <tr>\n",
       "      <th>75%</th>\n",
       "      <td>37.000000</td>\n",
       "    </tr>\n",
       "    <tr>\n",
       "      <th>max</th>\n",
       "      <td>2307.000000</td>\n",
       "    </tr>\n",
       "  </tbody>\n",
       "</table>\n",
       "</div>"
      ],
      "text/plain": [
       "             event\n",
       "count  7551.000000\n",
       "mean     32.275593\n",
       "std      65.154219\n",
       "min       1.000000\n",
       "25%       9.000000\n",
       "50%      20.000000\n",
       "75%      37.000000\n",
       "max    2307.000000"
      ]
     },
     "execution_count": 10,
     "metadata": {},
     "output_type": "execute_result"
    }
   ],
   "source": [
    "avg = log_s.groupby('user_id').agg({'event': 'count'})\n",
    "avg.describe()"
   ]
  },
  {
   "cell_type": "markdown",
   "metadata": {},
   "source": [
    "В среднем на одного пользователя приходится 32 события."
   ]
  },
  {
   "cell_type": "code",
   "execution_count": 11,
   "metadata": {},
   "outputs": [
    {
     "name": "stdout",
     "output_type": "stream",
     "text": [
      "2019-08-07\n",
      "2019-07-25\n"
     ]
    }
   ],
   "source": [
    "print(log_s['date_wt'].max())\n",
    "print(log_s['date_wt'].min())"
   ]
  },
  {
   "cell_type": "markdown",
   "metadata": {},
   "source": [
    "В датасете хранятся данные с 25 июля по 7 августа. Определим количество событий в зависимости от времени в разрезе групп."
   ]
  },
  {
   "cell_type": "code",
   "execution_count": 12,
   "metadata": {},
   "outputs": [
    {
     "data": {
      "text/html": [
       "<div>\n",
       "<style scoped>\n",
       "    .dataframe tbody tr th:only-of-type {\n",
       "        vertical-align: middle;\n",
       "    }\n",
       "\n",
       "    .dataframe tbody tr th {\n",
       "        vertical-align: top;\n",
       "    }\n",
       "\n",
       "    .dataframe thead th {\n",
       "        text-align: right;\n",
       "    }\n",
       "</style>\n",
       "<table border=\"1\" class=\"dataframe\">\n",
       "  <thead>\n",
       "    <tr style=\"text-align: right;\">\n",
       "      <th>ex_id</th>\n",
       "      <th>246</th>\n",
       "      <th>247</th>\n",
       "      <th>248</th>\n",
       "    </tr>\n",
       "    <tr>\n",
       "      <th>date_wt</th>\n",
       "      <th></th>\n",
       "      <th></th>\n",
       "      <th></th>\n",
       "    </tr>\n",
       "  </thead>\n",
       "  <tbody>\n",
       "    <tr>\n",
       "      <th>2019-07-25</th>\n",
       "      <td>4</td>\n",
       "      <td>1</td>\n",
       "      <td>4</td>\n",
       "    </tr>\n",
       "    <tr>\n",
       "      <th>2019-07-26</th>\n",
       "      <td>14</td>\n",
       "      <td>8</td>\n",
       "      <td>9</td>\n",
       "    </tr>\n",
       "    <tr>\n",
       "      <th>2019-07-27</th>\n",
       "      <td>24</td>\n",
       "      <td>23</td>\n",
       "      <td>8</td>\n",
       "    </tr>\n",
       "    <tr>\n",
       "      <th>2019-07-28</th>\n",
       "      <td>33</td>\n",
       "      <td>36</td>\n",
       "      <td>36</td>\n",
       "    </tr>\n",
       "    <tr>\n",
       "      <th>2019-07-29</th>\n",
       "      <td>55</td>\n",
       "      <td>58</td>\n",
       "      <td>71</td>\n",
       "    </tr>\n",
       "    <tr>\n",
       "      <th>2019-07-30</th>\n",
       "      <td>129</td>\n",
       "      <td>138</td>\n",
       "      <td>145</td>\n",
       "    </tr>\n",
       "    <tr>\n",
       "      <th>2019-07-31</th>\n",
       "      <td>620</td>\n",
       "      <td>664</td>\n",
       "      <td>746</td>\n",
       "    </tr>\n",
       "    <tr>\n",
       "      <th>2019-08-01</th>\n",
       "      <td>11561</td>\n",
       "      <td>12306</td>\n",
       "      <td>12274</td>\n",
       "    </tr>\n",
       "    <tr>\n",
       "      <th>2019-08-02</th>\n",
       "      <td>10946</td>\n",
       "      <td>10990</td>\n",
       "      <td>13618</td>\n",
       "    </tr>\n",
       "    <tr>\n",
       "      <th>2019-08-03</th>\n",
       "      <td>10575</td>\n",
       "      <td>11024</td>\n",
       "      <td>11683</td>\n",
       "    </tr>\n",
       "    <tr>\n",
       "      <th>2019-08-04</th>\n",
       "      <td>11514</td>\n",
       "      <td>9942</td>\n",
       "      <td>11512</td>\n",
       "    </tr>\n",
       "    <tr>\n",
       "      <th>2019-08-05</th>\n",
       "      <td>12368</td>\n",
       "      <td>10949</td>\n",
       "      <td>12741</td>\n",
       "    </tr>\n",
       "    <tr>\n",
       "      <th>2019-08-06</th>\n",
       "      <td>11726</td>\n",
       "      <td>11720</td>\n",
       "      <td>12342</td>\n",
       "    </tr>\n",
       "    <tr>\n",
       "      <th>2019-08-07</th>\n",
       "      <td>10612</td>\n",
       "      <td>10091</td>\n",
       "      <td>10393</td>\n",
       "    </tr>\n",
       "  </tbody>\n",
       "</table>\n",
       "</div>"
      ],
      "text/plain": [
       "ex_id         246    247    248\n",
       "date_wt                        \n",
       "2019-07-25      4      1      4\n",
       "2019-07-26     14      8      9\n",
       "2019-07-27     24     23      8\n",
       "2019-07-28     33     36     36\n",
       "2019-07-29     55     58     71\n",
       "2019-07-30    129    138    145\n",
       "2019-07-31    620    664    746\n",
       "2019-08-01  11561  12306  12274\n",
       "2019-08-02  10946  10990  13618\n",
       "2019-08-03  10575  11024  11683\n",
       "2019-08-04  11514   9942  11512\n",
       "2019-08-05  12368  10949  12741\n",
       "2019-08-06  11726  11720  12342\n",
       "2019-08-07  10612  10091  10393"
      ]
     },
     "execution_count": 12,
     "metadata": {},
     "output_type": "execute_result"
    }
   ],
   "source": [
    "data = pd.pivot_table(log_s, index='date_wt', columns='ex_id', values='event', aggfunc='count')\n",
    "data"
   ]
  },
  {
   "cell_type": "code",
   "execution_count": 13,
   "metadata": {},
   "outputs": [
    {
     "data": {
      "text/plain": [
       "<AxesSubplot:title={'center':'Количество событий в зависимости от времени в разрезе групп'}, xlabel='Дата', ylabel='Количество событий'>"
      ]
     },
     "execution_count": 13,
     "metadata": {},
     "output_type": "execute_result"
    },
    {
     "data": {
      "image/png": "[encoded data removed]",
      "text/plain": [
       "<Figure size 432x288 with 1 Axes>"
      ]
     },
     "metadata": {
      "needs_background": "light"
     },
     "output_type": "display_data"
    }
   ],
   "source": [
    "data.plot(kind='bar', title='Количество событий в зависимости от времени в разрезе групп', \n",
    "          xlabel='Дата', ylabel='Количество событий')"
   ]
  },
  {
   "cell_type": "markdown",
   "metadata": {},
   "source": [
    "Технически в логи новых дней по некоторым пользователям могут «доезжать» события из прошлого — это может «перекашивать данные». В промежутке с 25 по 31 июля событий было недостаточно много для корректного анализа данных. Поэтому отберем для анализа данные за неделю: в промежутке с 1 по 7 августа."
   ]
  },
  {
   "cell_type": "code",
   "execution_count": 14,
   "metadata": {},
   "outputs": [
    {
     "name": "stderr",
     "output_type": "stream",
     "text": [
      "/tmp/ipykernel_48/4147226595.py:1: SettingWithCopyWarning: \n",
      "A value is trying to be set on a copy of a slice from a DataFrame.\n",
      "Try using .loc[row_indexer,col_indexer] = value instead\n",
      "\n",
      "See the caveats in the documentation: https://pandas.pydata.org/pandas-docs/stable/user_guide/indexing.html#returning-a-view-versus-a-copy\n",
      "  log_s['date_wt'] = pd.to_datetime(log_s['date_wt'])\n"
     ]
    },
    {
     "data": {
      "text/html": [
       "<div>\n",
       "<style scoped>\n",
       "    .dataframe tbody tr th:only-of-type {\n",
       "        vertical-align: middle;\n",
       "    }\n",
       "\n",
       "    .dataframe tbody tr th {\n",
       "        vertical-align: top;\n",
       "    }\n",
       "\n",
       "    .dataframe thead th {\n",
       "        text-align: right;\n",
       "    }\n",
       "</style>\n",
       "<table border=\"1\" class=\"dataframe\">\n",
       "  <thead>\n",
       "    <tr style=\"text-align: right;\">\n",
       "      <th></th>\n",
       "      <th>event</th>\n",
       "      <th>user_id</th>\n",
       "      <th>date</th>\n",
       "      <th>ex_id</th>\n",
       "      <th>date_wt</th>\n",
       "    </tr>\n",
       "  </thead>\n",
       "  <tbody>\n",
       "    <tr>\n",
       "      <th>2828</th>\n",
       "      <td>Tutorial</td>\n",
       "      <td>3737462046622621720</td>\n",
       "      <td>2019-08-01 00:07:28</td>\n",
       "      <td>246</td>\n",
       "      <td>2019-08-01</td>\n",
       "    </tr>\n",
       "    <tr>\n",
       "      <th>2829</th>\n",
       "      <td>MainScreenAppear</td>\n",
       "      <td>3737462046622621720</td>\n",
       "      <td>2019-08-01 00:08:00</td>\n",
       "      <td>246</td>\n",
       "      <td>2019-08-01</td>\n",
       "    </tr>\n",
       "    <tr>\n",
       "      <th>2830</th>\n",
       "      <td>MainScreenAppear</td>\n",
       "      <td>3737462046622621720</td>\n",
       "      <td>2019-08-01 00:08:55</td>\n",
       "      <td>246</td>\n",
       "      <td>2019-08-01</td>\n",
       "    </tr>\n",
       "    <tr>\n",
       "      <th>2831</th>\n",
       "      <td>OffersScreenAppear</td>\n",
       "      <td>3737462046622621720</td>\n",
       "      <td>2019-08-01 00:08:58</td>\n",
       "      <td>246</td>\n",
       "      <td>2019-08-01</td>\n",
       "    </tr>\n",
       "    <tr>\n",
       "      <th>2832</th>\n",
       "      <td>MainScreenAppear</td>\n",
       "      <td>1433840883824088890</td>\n",
       "      <td>2019-08-01 00:08:59</td>\n",
       "      <td>247</td>\n",
       "      <td>2019-08-01</td>\n",
       "    </tr>\n",
       "    <tr>\n",
       "      <th>2833</th>\n",
       "      <td>MainScreenAppear</td>\n",
       "      <td>4899590676214355127</td>\n",
       "      <td>2019-08-01 00:10:15</td>\n",
       "      <td>247</td>\n",
       "      <td>2019-08-01</td>\n",
       "    </tr>\n",
       "    <tr>\n",
       "      <th>2834</th>\n",
       "      <td>OffersScreenAppear</td>\n",
       "      <td>3737462046622621720</td>\n",
       "      <td>2019-08-01 00:10:26</td>\n",
       "      <td>246</td>\n",
       "      <td>2019-08-01</td>\n",
       "    </tr>\n",
       "    <tr>\n",
       "      <th>2835</th>\n",
       "      <td>MainScreenAppear</td>\n",
       "      <td>3737462046622621720</td>\n",
       "      <td>2019-08-01 00:10:47</td>\n",
       "      <td>246</td>\n",
       "      <td>2019-08-01</td>\n",
       "    </tr>\n",
       "    <tr>\n",
       "      <th>2836</th>\n",
       "      <td>MainScreenAppear</td>\n",
       "      <td>3737462046622621720</td>\n",
       "      <td>2019-08-01 00:11:10</td>\n",
       "      <td>246</td>\n",
       "      <td>2019-08-01</td>\n",
       "    </tr>\n",
       "    <tr>\n",
       "      <th>2837</th>\n",
       "      <td>MainScreenAppear</td>\n",
       "      <td>3737462046622621720</td>\n",
       "      <td>2019-08-01 00:11:20</td>\n",
       "      <td>246</td>\n",
       "      <td>2019-08-01</td>\n",
       "    </tr>\n",
       "    <tr>\n",
       "      <th>2838</th>\n",
       "      <td>MainScreenAppear</td>\n",
       "      <td>4899590676214355127</td>\n",
       "      <td>2019-08-01 00:11:28</td>\n",
       "      <td>247</td>\n",
       "      <td>2019-08-01</td>\n",
       "    </tr>\n",
       "    <tr>\n",
       "      <th>2839</th>\n",
       "      <td>OffersScreenAppear</td>\n",
       "      <td>4899590676214355127</td>\n",
       "      <td>2019-08-01 00:11:30</td>\n",
       "      <td>247</td>\n",
       "      <td>2019-08-01</td>\n",
       "    </tr>\n",
       "    <tr>\n",
       "      <th>2840</th>\n",
       "      <td>MainScreenAppear</td>\n",
       "      <td>1182179323890311443</td>\n",
       "      <td>2019-08-01 00:11:57</td>\n",
       "      <td>246</td>\n",
       "      <td>2019-08-01</td>\n",
       "    </tr>\n",
       "    <tr>\n",
       "      <th>2841</th>\n",
       "      <td>Tutorial</td>\n",
       "      <td>3737462046622621720</td>\n",
       "      <td>2019-08-01 00:12:18</td>\n",
       "      <td>246</td>\n",
       "      <td>2019-08-01</td>\n",
       "    </tr>\n",
       "    <tr>\n",
       "      <th>2842</th>\n",
       "      <td>MainScreenAppear</td>\n",
       "      <td>3737462046622621720</td>\n",
       "      <td>2019-08-01 00:12:34</td>\n",
       "      <td>246</td>\n",
       "      <td>2019-08-01</td>\n",
       "    </tr>\n",
       "    <tr>\n",
       "      <th>2843</th>\n",
       "      <td>OffersScreenAppear</td>\n",
       "      <td>4899590676214355127</td>\n",
       "      <td>2019-08-01 00:12:36</td>\n",
       "      <td>247</td>\n",
       "      <td>2019-08-01</td>\n",
       "    </tr>\n",
       "    <tr>\n",
       "      <th>2844</th>\n",
       "      <td>MainScreenAppear</td>\n",
       "      <td>4613461174774205834</td>\n",
       "      <td>2019-08-01 00:14:31</td>\n",
       "      <td>248</td>\n",
       "      <td>2019-08-01</td>\n",
       "    </tr>\n",
       "    <tr>\n",
       "      <th>2845</th>\n",
       "      <td>MainScreenAppear</td>\n",
       "      <td>4613461174774205834</td>\n",
       "      <td>2019-08-01 00:14:34</td>\n",
       "      <td>248</td>\n",
       "      <td>2019-08-01</td>\n",
       "    </tr>\n",
       "    <tr>\n",
       "      <th>2846</th>\n",
       "      <td>CartScreenAppear</td>\n",
       "      <td>4613461174774205834</td>\n",
       "      <td>2019-08-01 00:14:34</td>\n",
       "      <td>248</td>\n",
       "      <td>2019-08-01</td>\n",
       "    </tr>\n",
       "    <tr>\n",
       "      <th>2847</th>\n",
       "      <td>PaymentScreenSuccessful</td>\n",
       "      <td>4613461174774205834</td>\n",
       "      <td>2019-08-01 00:14:43</td>\n",
       "      <td>248</td>\n",
       "      <td>2019-08-01</td>\n",
       "    </tr>\n",
       "  </tbody>\n",
       "</table>\n",
       "</div>"
      ],
      "text/plain": [
       "                        event              user_id                date  ex_id  \\\n",
       "2828                 Tutorial  3737462046622621720 2019-08-01 00:07:28    246   \n",
       "2829         MainScreenAppear  3737462046622621720 2019-08-01 00:08:00    246   \n",
       "2830         MainScreenAppear  3737462046622621720 2019-08-01 00:08:55    246   \n",
       "2831       OffersScreenAppear  3737462046622621720 2019-08-01 00:08:58    246   \n",
       "2832         MainScreenAppear  1433840883824088890 2019-08-01 00:08:59    247   \n",
       "2833         MainScreenAppear  4899590676214355127 2019-08-01 00:10:15    247   \n",
       "2834       OffersScreenAppear  3737462046622621720 2019-08-01 00:10:26    246   \n",
       "2835         MainScreenAppear  3737462046622621720 2019-08-01 00:10:47    246   \n",
       "2836         MainScreenAppear  3737462046622621720 2019-08-01 00:11:10    246   \n",
       "2837         MainScreenAppear  3737462046622621720 2019-08-01 00:11:20    246   \n",
       "2838         MainScreenAppear  4899590676214355127 2019-08-01 00:11:28    247   \n",
       "2839       OffersScreenAppear  4899590676214355127 2019-08-01 00:11:30    247   \n",
       "2840         MainScreenAppear  1182179323890311443 2019-08-01 00:11:57    246   \n",
       "2841                 Tutorial  3737462046622621720 2019-08-01 00:12:18    246   \n",
       "2842         MainScreenAppear  3737462046622621720 2019-08-01 00:12:34    246   \n",
       "2843       OffersScreenAppear  4899590676214355127 2019-08-01 00:12:36    247   \n",
       "2844         MainScreenAppear  4613461174774205834 2019-08-01 00:14:31    248   \n",
       "2845         MainScreenAppear  4613461174774205834 2019-08-01 00:14:34    248   \n",
       "2846         CartScreenAppear  4613461174774205834 2019-08-01 00:14:34    248   \n",
       "2847  PaymentScreenSuccessful  4613461174774205834 2019-08-01 00:14:43    248   \n",
       "\n",
       "        date_wt  \n",
       "2828 2019-08-01  \n",
       "2829 2019-08-01  \n",
       "2830 2019-08-01  \n",
       "2831 2019-08-01  \n",
       "2832 2019-08-01  \n",
       "2833 2019-08-01  \n",
       "2834 2019-08-01  \n",
       "2835 2019-08-01  \n",
       "2836 2019-08-01  \n",
       "2837 2019-08-01  \n",
       "2838 2019-08-01  \n",
       "2839 2019-08-01  \n",
       "2840 2019-08-01  \n",
       "2841 2019-08-01  \n",
       "2842 2019-08-01  \n",
       "2843 2019-08-01  \n",
       "2844 2019-08-01  \n",
       "2845 2019-08-01  \n",
       "2846 2019-08-01  \n",
       "2847 2019-08-01  "
      ]
     },
     "execution_count": 14,
     "metadata": {},
     "output_type": "execute_result"
    }
   ],
   "source": [
    "log_s['date_wt'] = pd.to_datetime(log_s['date_wt'])\n",
    "logs = log_s[log_s['date_wt'] > '2019-07-31']\n",
    "logs.head(20)"
   ]
  },
  {
   "cell_type": "code",
   "execution_count": 15,
   "metadata": {},
   "outputs": [
    {
     "name": "stdout",
     "output_type": "stream",
     "text": [
      "2826\n",
      "17\n"
     ]
    }
   ],
   "source": [
    "print(len(log_s) - len(logs))\n",
    "print(log_s['user_id'].nunique() - logs['user_id'].nunique())"
   ]
  },
  {
   "cell_type": "code",
   "execution_count": 16,
   "metadata": {},
   "outputs": [
    {
     "name": "stdout",
     "output_type": "stream",
     "text": [
      "1.16\n",
      "0.23\n"
     ]
    }
   ],
   "source": [
    "print(round(((len(log_s) - len(logs)) / len(log_s) * 100), 2))\n",
    "print(round((((log_s['user_id'].nunique() - logs['user_id'].nunique()) / log_s['user_id'].nunique()) * 100), 2))"
   ]
  },
  {
   "cell_type": "markdown",
   "metadata": {},
   "source": [
    "Оставив данные лишь за вторую неделю мы потеряли записи 2826 событий (чуть больше 1% записей) и 17 пользователей (0.23%), что доступимо для последующих предположений. Пользователи из всех трёх групп остались на месте."
   ]
  },
  {
   "cell_type": "markdown",
   "metadata": {},
   "source": [
    "**Шаг 3: изучим воронку событий**"
   ]
  },
  {
   "cell_type": "markdown",
   "metadata": {},
   "source": [
    "Посмотрим, какие события есть в логах, как часто они встречаются. \n",
    "Посчитаем, сколько пользователей совершали каждое из этих событий. Посчитаем долю пользователей, которые хоть раз совершали событие."
   ]
  },
  {
   "cell_type": "code",
   "execution_count": 17,
   "metadata": {},
   "outputs": [
    {
     "data": {
      "text/html": [
       "<div>\n",
       "<style scoped>\n",
       "    .dataframe tbody tr th:only-of-type {\n",
       "        vertical-align: middle;\n",
       "    }\n",
       "\n",
       "    .dataframe tbody tr th {\n",
       "        vertical-align: top;\n",
       "    }\n",
       "\n",
       "    .dataframe thead th {\n",
       "        text-align: right;\n",
       "    }\n",
       "</style>\n",
       "<table border=\"1\" class=\"dataframe\">\n",
       "  <thead>\n",
       "    <tr style=\"text-align: right;\">\n",
       "      <th></th>\n",
       "      <th>date</th>\n",
       "    </tr>\n",
       "    <tr>\n",
       "      <th>event</th>\n",
       "      <th></th>\n",
       "    </tr>\n",
       "  </thead>\n",
       "  <tbody>\n",
       "    <tr>\n",
       "      <th>MainScreenAppear</th>\n",
       "      <td>117328</td>\n",
       "    </tr>\n",
       "    <tr>\n",
       "      <th>OffersScreenAppear</th>\n",
       "      <td>46333</td>\n",
       "    </tr>\n",
       "    <tr>\n",
       "      <th>CartScreenAppear</th>\n",
       "      <td>42303</td>\n",
       "    </tr>\n",
       "    <tr>\n",
       "      <th>PaymentScreenSuccessful</th>\n",
       "      <td>33918</td>\n",
       "    </tr>\n",
       "    <tr>\n",
       "      <th>Tutorial</th>\n",
       "      <td>1005</td>\n",
       "    </tr>\n",
       "  </tbody>\n",
       "</table>\n",
       "</div>"
      ],
      "text/plain": [
       "                           date\n",
       "event                          \n",
       "MainScreenAppear         117328\n",
       "OffersScreenAppear        46333\n",
       "CartScreenAppear          42303\n",
       "PaymentScreenSuccessful   33918\n",
       "Tutorial                   1005"
      ]
     },
     "execution_count": 17,
     "metadata": {},
     "output_type": "execute_result"
    }
   ],
   "source": [
    "logs.groupby('event').agg({'date': 'count'}).sort_values(by='date', ascending=False)"
   ]
  },
  {
   "cell_type": "code",
   "execution_count": 18,
   "metadata": {},
   "outputs": [
    {
     "data": {
      "text/html": [
       "<div>\n",
       "<style scoped>\n",
       "    .dataframe tbody tr th:only-of-type {\n",
       "        vertical-align: middle;\n",
       "    }\n",
       "\n",
       "    .dataframe tbody tr th {\n",
       "        vertical-align: top;\n",
       "    }\n",
       "\n",
       "    .dataframe thead th {\n",
       "        text-align: right;\n",
       "    }\n",
       "</style>\n",
       "<table border=\"1\" class=\"dataframe\">\n",
       "  <thead>\n",
       "    <tr style=\"text-align: right;\">\n",
       "      <th></th>\n",
       "      <th>user_id</th>\n",
       "      <th>part</th>\n",
       "    </tr>\n",
       "    <tr>\n",
       "      <th>event</th>\n",
       "      <th></th>\n",
       "      <th></th>\n",
       "    </tr>\n",
       "  </thead>\n",
       "  <tbody>\n",
       "    <tr>\n",
       "      <th>MainScreenAppear</th>\n",
       "      <td>7419</td>\n",
       "      <td>98.47</td>\n",
       "    </tr>\n",
       "    <tr>\n",
       "      <th>OffersScreenAppear</th>\n",
       "      <td>4593</td>\n",
       "      <td>60.96</td>\n",
       "    </tr>\n",
       "    <tr>\n",
       "      <th>CartScreenAppear</th>\n",
       "      <td>3734</td>\n",
       "      <td>49.56</td>\n",
       "    </tr>\n",
       "    <tr>\n",
       "      <th>PaymentScreenSuccessful</th>\n",
       "      <td>3539</td>\n",
       "      <td>46.97</td>\n",
       "    </tr>\n",
       "    <tr>\n",
       "      <th>Tutorial</th>\n",
       "      <td>840</td>\n",
       "      <td>11.15</td>\n",
       "    </tr>\n",
       "  </tbody>\n",
       "</table>\n",
       "</div>"
      ],
      "text/plain": [
       "                         user_id   part\n",
       "event                                  \n",
       "MainScreenAppear            7419  98.47\n",
       "OffersScreenAppear          4593  60.96\n",
       "CartScreenAppear            3734  49.56\n",
       "PaymentScreenSuccessful     3539  46.97\n",
       "Tutorial                     840  11.15"
      ]
     },
     "execution_count": 18,
     "metadata": {},
     "output_type": "execute_result"
    }
   ],
   "source": [
    "data2 = pd.pivot_table(logs, index='event', values='user_id', aggfunc='nunique').sort_values(by='user_id', ascending=False)\n",
    "data2['part'] = round((data2['user_id'] / logs['user_id'].nunique()) * 100, 2)\n",
    "data2"
   ]
  },
  {
   "cell_type": "markdown",
   "metadata": {},
   "source": [
    "Судя по анализу, мы можем предположить, что события происходят в следующем порядке: MainScreenAppear -> OffersScreenAppear -> CartScreenAppear -> PaymentScreenSuccessful. Событие Tutorial не зависит от других факторов и может проходить в любом порядке. Однако, лишь малое количество пользователей пользуется данным событием, поэтому исключим его из дальнейшего анализа.\n",
    "\n",
    "Посчитаем, какая доля пользователей проходит на следующий шаг воронки"
   ]
  },
  {
   "cell_type": "code",
   "execution_count": 19,
   "metadata": {},
   "outputs": [
    {
     "name": "stderr",
     "output_type": "stream",
     "text": [
      "/tmp/ipykernel_48/2002077017.py:2: SettingWithCopyWarning: \n",
      "A value is trying to be set on a copy of a slice from a DataFrame\n",
      "\n",
      "See the caveats in the documentation: https://pandas.pydata.org/pandas-docs/stable/user_guide/indexing.html#returning-a-view-versus-a-copy\n",
      "  data2['step'][0] = round(data2['user_id'][0] / data2['user_id'][0] * 100, 2)\n",
      "/tmp/ipykernel_48/2002077017.py:3: SettingWithCopyWarning: \n",
      "A value is trying to be set on a copy of a slice from a DataFrame\n",
      "\n",
      "See the caveats in the documentation: https://pandas.pydata.org/pandas-docs/stable/user_guide/indexing.html#returning-a-view-versus-a-copy\n",
      "  data2['step'][1] = round(data2['user_id'][1] / data2['user_id'][0] * 100, 2)\n",
      "/tmp/ipykernel_48/2002077017.py:4: SettingWithCopyWarning: \n",
      "A value is trying to be set on a copy of a slice from a DataFrame\n",
      "\n",
      "See the caveats in the documentation: https://pandas.pydata.org/pandas-docs/stable/user_guide/indexing.html#returning-a-view-versus-a-copy\n",
      "  data2['step'][2] = round(data2['user_id'][2] / data2['user_id'][1] * 100, 2)\n",
      "/tmp/ipykernel_48/2002077017.py:5: SettingWithCopyWarning: \n",
      "A value is trying to be set on a copy of a slice from a DataFrame\n",
      "\n",
      "See the caveats in the documentation: https://pandas.pydata.org/pandas-docs/stable/user_guide/indexing.html#returning-a-view-versus-a-copy\n",
      "  data2['step'][3] = round(data2['user_id'][3] / data2['user_id'][2] * 100, 2)\n"
     ]
    },
    {
     "data": {
      "text/html": [
       "<div>\n",
       "<style scoped>\n",
       "    .dataframe tbody tr th:only-of-type {\n",
       "        vertical-align: middle;\n",
       "    }\n",
       "\n",
       "    .dataframe tbody tr th {\n",
       "        vertical-align: top;\n",
       "    }\n",
       "\n",
       "    .dataframe thead th {\n",
       "        text-align: right;\n",
       "    }\n",
       "</style>\n",
       "<table border=\"1\" class=\"dataframe\">\n",
       "  <thead>\n",
       "    <tr style=\"text-align: right;\">\n",
       "      <th></th>\n",
       "      <th>user_id</th>\n",
       "      <th>part</th>\n",
       "      <th>step</th>\n",
       "    </tr>\n",
       "    <tr>\n",
       "      <th>event</th>\n",
       "      <th></th>\n",
       "      <th></th>\n",
       "      <th></th>\n",
       "    </tr>\n",
       "  </thead>\n",
       "  <tbody>\n",
       "    <tr>\n",
       "      <th>MainScreenAppear</th>\n",
       "      <td>7419</td>\n",
       "      <td>98.47</td>\n",
       "      <td>100.0</td>\n",
       "    </tr>\n",
       "    <tr>\n",
       "      <th>OffersScreenAppear</th>\n",
       "      <td>4593</td>\n",
       "      <td>60.96</td>\n",
       "      <td>61.91</td>\n",
       "    </tr>\n",
       "    <tr>\n",
       "      <th>CartScreenAppear</th>\n",
       "      <td>3734</td>\n",
       "      <td>49.56</td>\n",
       "      <td>81.3</td>\n",
       "    </tr>\n",
       "    <tr>\n",
       "      <th>PaymentScreenSuccessful</th>\n",
       "      <td>3539</td>\n",
       "      <td>46.97</td>\n",
       "      <td>94.78</td>\n",
       "    </tr>\n",
       "    <tr>\n",
       "      <th>Tutorial</th>\n",
       "      <td>840</td>\n",
       "      <td>11.15</td>\n",
       "      <td></td>\n",
       "    </tr>\n",
       "  </tbody>\n",
       "</table>\n",
       "</div>"
      ],
      "text/plain": [
       "                         user_id   part   step\n",
       "event                                         \n",
       "MainScreenAppear            7419  98.47  100.0\n",
       "OffersScreenAppear          4593  60.96  61.91\n",
       "CartScreenAppear            3734  49.56   81.3\n",
       "PaymentScreenSuccessful     3539  46.97  94.78\n",
       "Tutorial                     840  11.15       "
      ]
     },
     "execution_count": 19,
     "metadata": {},
     "output_type": "execute_result"
    }
   ],
   "source": [
    "data2['step'] = ' '\n",
    "data2['step'][0] = round(data2['user_id'][0] / data2['user_id'][0] * 100, 2)\n",
    "data2['step'][1] = round(data2['user_id'][1] / data2['user_id'][0] * 100, 2)\n",
    "data2['step'][2] = round(data2['user_id'][2] / data2['user_id'][1] * 100, 2)\n",
    "data2['step'][3] = round(data2['user_id'][3] / data2['user_id'][2] * 100, 2)\n",
    "data2"
   ]
  },
  {
   "cell_type": "markdown",
   "metadata": {},
   "source": [
    "Больше всего пользователей (почти 40%) теряется при переходе от первого ко второму шагу (от MainScreenAppear к OffersScreenAppear)."
   ]
  },
  {
   "cell_type": "code",
   "execution_count": 20,
   "metadata": {},
   "outputs": [
    {
     "data": {
      "text/plain": [
       "47.7"
      ]
     },
     "execution_count": 20,
     "metadata": {},
     "output_type": "execute_result"
    }
   ],
   "source": [
    "round(data2['user_id'][3] / data2['user_id'][0] * 100, 2)"
   ]
  },
  {
   "cell_type": "markdown",
   "metadata": {},
   "source": [
    "От самого первого события к оплате товара проходит менее половины пользователей – около 48%."
   ]
  },
  {
   "cell_type": "markdown",
   "metadata": {},
   "source": [
    "**Шаг 4: изучим результаты эксперимента**\n",
    "\n",
    "Посчитаем, сколько пользователей в каждой из групп."
   ]
  },
  {
   "cell_type": "code",
   "execution_count": 21,
   "metadata": {},
   "outputs": [
    {
     "data": {
      "text/html": [
       "<div>\n",
       "<style scoped>\n",
       "    .dataframe tbody tr th:only-of-type {\n",
       "        vertical-align: middle;\n",
       "    }\n",
       "\n",
       "    .dataframe tbody tr th {\n",
       "        vertical-align: top;\n",
       "    }\n",
       "\n",
       "    .dataframe thead th {\n",
       "        text-align: right;\n",
       "    }\n",
       "</style>\n",
       "<table border=\"1\" class=\"dataframe\">\n",
       "  <thead>\n",
       "    <tr style=\"text-align: right;\">\n",
       "      <th></th>\n",
       "      <th>user_id</th>\n",
       "    </tr>\n",
       "    <tr>\n",
       "      <th>ex_id</th>\n",
       "      <th></th>\n",
       "    </tr>\n",
       "  </thead>\n",
       "  <tbody>\n",
       "    <tr>\n",
       "      <th>246</th>\n",
       "      <td>2484</td>\n",
       "    </tr>\n",
       "    <tr>\n",
       "      <th>247</th>\n",
       "      <td>2513</td>\n",
       "    </tr>\n",
       "    <tr>\n",
       "      <th>248</th>\n",
       "      <td>2537</td>\n",
       "    </tr>\n",
       "  </tbody>\n",
       "</table>\n",
       "</div>"
      ],
      "text/plain": [
       "       user_id\n",
       "ex_id         \n",
       "246       2484\n",
       "247       2513\n",
       "248       2537"
      ]
     },
     "execution_count": 21,
     "metadata": {},
     "output_type": "execute_result"
    }
   ],
   "source": [
    "logs.groupby('ex_id').agg({'user_id': 'nunique'})"
   ]
  },
  {
   "cell_type": "code",
   "execution_count": 22,
   "metadata": {},
   "outputs": [
    {
     "data": {
      "text/html": [
       "<div>\n",
       "<style scoped>\n",
       "    .dataframe tbody tr th:only-of-type {\n",
       "        vertical-align: middle;\n",
       "    }\n",
       "\n",
       "    .dataframe tbody tr th {\n",
       "        vertical-align: top;\n",
       "    }\n",
       "\n",
       "    .dataframe thead th {\n",
       "        text-align: right;\n",
       "    }\n",
       "</style>\n",
       "<table border=\"1\" class=\"dataframe\">\n",
       "  <thead>\n",
       "    <tr style=\"text-align: right;\">\n",
       "      <th></th>\n",
       "      <th>ex_id</th>\n",
       "    </tr>\n",
       "    <tr>\n",
       "      <th>user_id</th>\n",
       "      <th></th>\n",
       "    </tr>\n",
       "  </thead>\n",
       "  <tbody>\n",
       "  </tbody>\n",
       "</table>\n",
       "</div>"
      ],
      "text/plain": [
       "Empty DataFrame\n",
       "Columns: [ex_id]\n",
       "Index: []"
      ]
     },
     "execution_count": 22,
     "metadata": {},
     "output_type": "execute_result"
    }
   ],
   "source": [
    "logs.groupby('user_id').agg({'ex_id':'nunique'}).query('ex_id > 1') "
   ]
  },
  {
   "cell_type": "markdown",
   "metadata": {},
   "source": [
    "Все пользователи находятся лишь в одной группе, их повторение в разных группах не обнаружено. Посчитаем число пользователей, совершивших каждое событие в каждой из контрольных групп. Посчитаем долю пользователей, совершивших каждое событие."
   ]
  },
  {
   "cell_type": "code",
   "execution_count": 23,
   "metadata": {},
   "outputs": [],
   "source": [
    "def user_counter(event):\n",
    "    p1 = logs[logs['event'] == event]\n",
    "    p2 = p1.groupby('ex_id').agg({'user_id': 'nunique'})\n",
    "    p3 = logs.groupby('ex_id').agg({'user_id': 'nunique'})\n",
    "    p2.columns = ['users_event']\n",
    "    p3.columns = ['users_group']\n",
    "    p2 = p2.join(p3)\n",
    "    p2.loc['united', 'users_event'] = p2.loc[246, 'users_event'] + p2.loc[247, 'users_event']\n",
    "    p2.loc['united', 'users_group'] = p2.loc[246, 'users_group'] + p2.loc[247, 'users_group']\n",
    "    p2['user_share'] = (p2['users_event'] / p2['users_group']).map(lambda x: '{0:.2%}'.format(x))\n",
    "    \n",
    "    return p2"
   ]
  },
  {
   "cell_type": "code",
   "execution_count": 24,
   "metadata": {},
   "outputs": [
    {
     "data": {
      "text/html": [
       "<div>\n",
       "<style scoped>\n",
       "    .dataframe tbody tr th:only-of-type {\n",
       "        vertical-align: middle;\n",
       "    }\n",
       "\n",
       "    .dataframe tbody tr th {\n",
       "        vertical-align: top;\n",
       "    }\n",
       "\n",
       "    .dataframe thead th {\n",
       "        text-align: right;\n",
       "    }\n",
       "</style>\n",
       "<table border=\"1\" class=\"dataframe\">\n",
       "  <thead>\n",
       "    <tr style=\"text-align: right;\">\n",
       "      <th></th>\n",
       "      <th>users_event</th>\n",
       "      <th>users_group</th>\n",
       "      <th>user_share</th>\n",
       "    </tr>\n",
       "    <tr>\n",
       "      <th>ex_id</th>\n",
       "      <th></th>\n",
       "      <th></th>\n",
       "      <th></th>\n",
       "    </tr>\n",
       "  </thead>\n",
       "  <tbody>\n",
       "    <tr>\n",
       "      <th>246</th>\n",
       "      <td>2450.0</td>\n",
       "      <td>2484.0</td>\n",
       "      <td>98.63%</td>\n",
       "    </tr>\n",
       "    <tr>\n",
       "      <th>247</th>\n",
       "      <td>2476.0</td>\n",
       "      <td>2513.0</td>\n",
       "      <td>98.53%</td>\n",
       "    </tr>\n",
       "    <tr>\n",
       "      <th>248</th>\n",
       "      <td>2493.0</td>\n",
       "      <td>2537.0</td>\n",
       "      <td>98.27%</td>\n",
       "    </tr>\n",
       "    <tr>\n",
       "      <th>united</th>\n",
       "      <td>4926.0</td>\n",
       "      <td>4997.0</td>\n",
       "      <td>98.58%</td>\n",
       "    </tr>\n",
       "  </tbody>\n",
       "</table>\n",
       "</div>"
      ],
      "text/plain": [
       "        users_event  users_group user_share\n",
       "ex_id                                      \n",
       "246          2450.0       2484.0     98.63%\n",
       "247          2476.0       2513.0     98.53%\n",
       "248          2493.0       2537.0     98.27%\n",
       "united       4926.0       4997.0     98.58%"
      ]
     },
     "execution_count": 24,
     "metadata": {},
     "output_type": "execute_result"
    }
   ],
   "source": [
    "MainScreenAppear = user_counter('MainScreenAppear')\n",
    "MainScreenAppear"
   ]
  },
  {
   "cell_type": "code",
   "execution_count": 25,
   "metadata": {},
   "outputs": [
    {
     "data": {
      "text/html": [
       "<div>\n",
       "<style scoped>\n",
       "    .dataframe tbody tr th:only-of-type {\n",
       "        vertical-align: middle;\n",
       "    }\n",
       "\n",
       "    .dataframe tbody tr th {\n",
       "        vertical-align: top;\n",
       "    }\n",
       "\n",
       "    .dataframe thead th {\n",
       "        text-align: right;\n",
       "    }\n",
       "</style>\n",
       "<table border=\"1\" class=\"dataframe\">\n",
       "  <thead>\n",
       "    <tr style=\"text-align: right;\">\n",
       "      <th></th>\n",
       "      <th>users_event</th>\n",
       "      <th>users_group</th>\n",
       "      <th>user_share</th>\n",
       "    </tr>\n",
       "    <tr>\n",
       "      <th>ex_id</th>\n",
       "      <th></th>\n",
       "      <th></th>\n",
       "      <th></th>\n",
       "    </tr>\n",
       "  </thead>\n",
       "  <tbody>\n",
       "    <tr>\n",
       "      <th>246</th>\n",
       "      <td>1542.0</td>\n",
       "      <td>2484.0</td>\n",
       "      <td>62.08%</td>\n",
       "    </tr>\n",
       "    <tr>\n",
       "      <th>247</th>\n",
       "      <td>1520.0</td>\n",
       "      <td>2513.0</td>\n",
       "      <td>60.49%</td>\n",
       "    </tr>\n",
       "    <tr>\n",
       "      <th>248</th>\n",
       "      <td>1531.0</td>\n",
       "      <td>2537.0</td>\n",
       "      <td>60.35%</td>\n",
       "    </tr>\n",
       "    <tr>\n",
       "      <th>united</th>\n",
       "      <td>3062.0</td>\n",
       "      <td>4997.0</td>\n",
       "      <td>61.28%</td>\n",
       "    </tr>\n",
       "  </tbody>\n",
       "</table>\n",
       "</div>"
      ],
      "text/plain": [
       "        users_event  users_group user_share\n",
       "ex_id                                      \n",
       "246          1542.0       2484.0     62.08%\n",
       "247          1520.0       2513.0     60.49%\n",
       "248          1531.0       2537.0     60.35%\n",
       "united       3062.0       4997.0     61.28%"
      ]
     },
     "execution_count": 25,
     "metadata": {},
     "output_type": "execute_result"
    }
   ],
   "source": [
    "OffersScreenAppear = user_counter('OffersScreenAppear')\n",
    "OffersScreenAppear"
   ]
  },
  {
   "cell_type": "code",
   "execution_count": 26,
   "metadata": {},
   "outputs": [
    {
     "data": {
      "text/html": [
       "<div>\n",
       "<style scoped>\n",
       "    .dataframe tbody tr th:only-of-type {\n",
       "        vertical-align: middle;\n",
       "    }\n",
       "\n",
       "    .dataframe tbody tr th {\n",
       "        vertical-align: top;\n",
       "    }\n",
       "\n",
       "    .dataframe thead th {\n",
       "        text-align: right;\n",
       "    }\n",
       "</style>\n",
       "<table border=\"1\" class=\"dataframe\">\n",
       "  <thead>\n",
       "    <tr style=\"text-align: right;\">\n",
       "      <th></th>\n",
       "      <th>users_event</th>\n",
       "      <th>users_group</th>\n",
       "      <th>user_share</th>\n",
       "    </tr>\n",
       "    <tr>\n",
       "      <th>ex_id</th>\n",
       "      <th></th>\n",
       "      <th></th>\n",
       "      <th></th>\n",
       "    </tr>\n",
       "  </thead>\n",
       "  <tbody>\n",
       "    <tr>\n",
       "      <th>246</th>\n",
       "      <td>1266.0</td>\n",
       "      <td>2484.0</td>\n",
       "      <td>50.97%</td>\n",
       "    </tr>\n",
       "    <tr>\n",
       "      <th>247</th>\n",
       "      <td>1238.0</td>\n",
       "      <td>2513.0</td>\n",
       "      <td>49.26%</td>\n",
       "    </tr>\n",
       "    <tr>\n",
       "      <th>248</th>\n",
       "      <td>1230.0</td>\n",
       "      <td>2537.0</td>\n",
       "      <td>48.48%</td>\n",
       "    </tr>\n",
       "    <tr>\n",
       "      <th>united</th>\n",
       "      <td>2504.0</td>\n",
       "      <td>4997.0</td>\n",
       "      <td>50.11%</td>\n",
       "    </tr>\n",
       "  </tbody>\n",
       "</table>\n",
       "</div>"
      ],
      "text/plain": [
       "        users_event  users_group user_share\n",
       "ex_id                                      \n",
       "246          1266.0       2484.0     50.97%\n",
       "247          1238.0       2513.0     49.26%\n",
       "248          1230.0       2537.0     48.48%\n",
       "united       2504.0       4997.0     50.11%"
      ]
     },
     "execution_count": 26,
     "metadata": {},
     "output_type": "execute_result"
    }
   ],
   "source": [
    "CartScreenAppear = user_counter('CartScreenAppear')\n",
    "CartScreenAppear"
   ]
  },
  {
   "cell_type": "code",
   "execution_count": 27,
   "metadata": {},
   "outputs": [
    {
     "data": {
      "text/html": [
       "<div>\n",
       "<style scoped>\n",
       "    .dataframe tbody tr th:only-of-type {\n",
       "        vertical-align: middle;\n",
       "    }\n",
       "\n",
       "    .dataframe tbody tr th {\n",
       "        vertical-align: top;\n",
       "    }\n",
       "\n",
       "    .dataframe thead th {\n",
       "        text-align: right;\n",
       "    }\n",
       "</style>\n",
       "<table border=\"1\" class=\"dataframe\">\n",
       "  <thead>\n",
       "    <tr style=\"text-align: right;\">\n",
       "      <th></th>\n",
       "      <th>users_event</th>\n",
       "      <th>users_group</th>\n",
       "      <th>user_share</th>\n",
       "    </tr>\n",
       "    <tr>\n",
       "      <th>ex_id</th>\n",
       "      <th></th>\n",
       "      <th></th>\n",
       "      <th></th>\n",
       "    </tr>\n",
       "  </thead>\n",
       "  <tbody>\n",
       "    <tr>\n",
       "      <th>246</th>\n",
       "      <td>1200.0</td>\n",
       "      <td>2484.0</td>\n",
       "      <td>48.31%</td>\n",
       "    </tr>\n",
       "    <tr>\n",
       "      <th>247</th>\n",
       "      <td>1158.0</td>\n",
       "      <td>2513.0</td>\n",
       "      <td>46.08%</td>\n",
       "    </tr>\n",
       "    <tr>\n",
       "      <th>248</th>\n",
       "      <td>1181.0</td>\n",
       "      <td>2537.0</td>\n",
       "      <td>46.55%</td>\n",
       "    </tr>\n",
       "    <tr>\n",
       "      <th>united</th>\n",
       "      <td>2358.0</td>\n",
       "      <td>4997.0</td>\n",
       "      <td>47.19%</td>\n",
       "    </tr>\n",
       "  </tbody>\n",
       "</table>\n",
       "</div>"
      ],
      "text/plain": [
       "        users_event  users_group user_share\n",
       "ex_id                                      \n",
       "246          1200.0       2484.0     48.31%\n",
       "247          1158.0       2513.0     46.08%\n",
       "248          1181.0       2537.0     46.55%\n",
       "united       2358.0       4997.0     47.19%"
      ]
     },
     "execution_count": 27,
     "metadata": {},
     "output_type": "execute_result"
    }
   ],
   "source": [
    "PaymentScreenSuccessful = user_counter('PaymentScreenSuccessful')\n",
    "PaymentScreenSuccessful"
   ]
  },
  {
   "cell_type": "markdown",
   "metadata": {},
   "source": [
    "Проверим, будет ли отличие между всеми группами статистически достоверным. Начнём с уровня статистической значимости в 99%, после чего проверим по уровню статистической значимости в 95% и 90%.\n",
    "\n",
    "Зададим гипотезы следующим образом:\n",
    "\n",
    "Н0 – между долями есть значимая разница\n",
    "\n",
    "Н1 – нет оснований считать доли разными"
   ]
  },
  {
   "cell_type": "code",
   "execution_count": 28,
   "metadata": {},
   "outputs": [],
   "source": [
    "alpha = .01 # критический уровень статистической значимости\n",
    "\n",
    "def zcount(successes, trials):\n",
    "    p1 = successes[0]/trials[0]\n",
    "    p2 = successes[1]/trials[1]\n",
    "    p_combined = (successes[0] + successes[1]) / (trials[0] + trials[1])\n",
    "    difference = p1 - p2 \n",
    "    z_value = difference / mth.sqrt(p_combined * (1 - p_combined) * (1/trials[0] + 1/trials[1]))\n",
    "    distr = st.norm(0, 1)  \n",
    "    p_value = (1 - distr.cdf(abs(z_value))) * 2\n",
    "    print('p-значение: ', p_value)\n",
    "    \n",
    "    if p_value < alpha:\n",
    "        print('Отвергаем нулевую гипотезу: между долями есть значимая разница')\n",
    "    else:\n",
    "        print('Не получилось отвергнуть нулевую гипотезу, нет оснований считать доли разными') "
   ]
  },
  {
   "cell_type": "markdown",
   "metadata": {},
   "source": [
    "Начнём с проверки по событию MainScreenAppear."
   ]
  },
  {
   "cell_type": "code",
   "execution_count": 29,
   "metadata": {},
   "outputs": [
    {
     "name": "stdout",
     "output_type": "stream",
     "text": [
      "p-значение:  0.7570597232046099\n",
      "Не получилось отвергнуть нулевую гипотезу, нет оснований считать доли разными\n",
      "p-значение:  0.2949721933554552\n",
      "Не получилось отвергнуть нулевую гипотезу, нет оснований считать доли разными\n",
      "p-значение:  0.4587053616621515\n",
      "Не получилось отвергнуть нулевую гипотезу, нет оснований считать доли разными\n",
      "p-значение:  0.29424526837179577\n",
      "Не получилось отвергнуть нулевую гипотезу, нет оснований считать доли разными\n"
     ]
    }
   ],
   "source": [
    "zcount(np.array([MainScreenAppear['users_event'][246], MainScreenAppear['users_event'][247]]), \n",
    "       np.array([MainScreenAppear['users_group'][246], MainScreenAppear['users_group'][247]]))\n",
    "zcount(np.array([MainScreenAppear['users_event'][246], MainScreenAppear['users_event'][248]]), \n",
    "       np.array([MainScreenAppear['users_group'][246], MainScreenAppear['users_group'][248]]))\n",
    "zcount(np.array([MainScreenAppear['users_event'][247], MainScreenAppear['users_event'][248]]), \n",
    "       np.array([MainScreenAppear['users_group'][247], MainScreenAppear['users_group'][248]]))\n",
    "zcount(np.array([MainScreenAppear['users_event']['united'], MainScreenAppear['users_event'][248]]), \n",
    "       np.array([MainScreenAppear['users_group']['united'], MainScreenAppear['users_group'][248]]))"
   ]
  },
  {
   "cell_type": "markdown",
   "metadata": {},
   "source": [
    "Теперь проверим гипотезы для события OffersScreenAppear."
   ]
  },
  {
   "cell_type": "code",
   "execution_count": 30,
   "metadata": {},
   "outputs": [
    {
     "name": "stdout",
     "output_type": "stream",
     "text": [
      "p-значение:  0.2480954578522181\n",
      "Не получилось отвергнуть нулевую гипотезу, нет оснований считать доли разными\n",
      "p-значение:  0.20836205402738917\n",
      "Не получилось отвергнуть нулевую гипотезу, нет оснований считать доли разными\n",
      "p-значение:  0.9197817830592261\n",
      "Не получилось отвергнуть нулевую гипотезу, нет оснований считать доли разными\n",
      "p-значение:  0.43425549655188256\n",
      "Не получилось отвергнуть нулевую гипотезу, нет оснований считать доли разными\n"
     ]
    }
   ],
   "source": [
    "zcount(np.array([OffersScreenAppear['users_event'][246], OffersScreenAppear['users_event'][247]]), \n",
    "       np.array([OffersScreenAppear['users_group'][246], OffersScreenAppear['users_group'][247]]))\n",
    "zcount(np.array([OffersScreenAppear['users_event'][246], OffersScreenAppear['users_event'][248]]), \n",
    "       np.array([OffersScreenAppear['users_group'][246], OffersScreenAppear['users_group'][248]]))\n",
    "zcount(np.array([OffersScreenAppear['users_event'][247], OffersScreenAppear['users_event'][248]]), \n",
    "       np.array([OffersScreenAppear['users_group'][247], OffersScreenAppear['users_group'][248]]))\n",
    "zcount(np.array([OffersScreenAppear['users_event']['united'], OffersScreenAppear['users_event'][248]]), \n",
    "       np.array([OffersScreenAppear['users_group']['united'], OffersScreenAppear['users_group'][248]]))"
   ]
  },
  {
   "cell_type": "markdown",
   "metadata": {},
   "source": [
    "Теперь проверим гипотезы для события CartScreenAppear."
   ]
  },
  {
   "cell_type": "code",
   "execution_count": 31,
   "metadata": {},
   "outputs": [
    {
     "name": "stdout",
     "output_type": "stream",
     "text": [
      "p-значение:  0.22883372237997213\n",
      "Не получилось отвергнуть нулевую гипотезу, нет оснований считать доли разными\n",
      "p-значение:  0.07842923237520116\n",
      "Не получилось отвергнуть нулевую гипотезу, нет оснований считать доли разными\n",
      "p-значение:  0.5786197879539783\n",
      "Не получилось отвергнуть нулевую гипотезу, нет оснований считать доли разными\n",
      "p-значение:  0.18175875284404386\n",
      "Не получилось отвергнуть нулевую гипотезу, нет оснований считать доли разными\n"
     ]
    }
   ],
   "source": [
    "zcount(np.array([CartScreenAppear['users_event'][246], CartScreenAppear['users_event'][247]]), \n",
    "       np.array([CartScreenAppear['users_group'][246], CartScreenAppear['users_group'][247]]))\n",
    "zcount(np.array([CartScreenAppear['users_event'][246], CartScreenAppear['users_event'][248]]), \n",
    "       np.array([CartScreenAppear['users_group'][246], CartScreenAppear['users_group'][248]]))\n",
    "zcount(np.array([CartScreenAppear['users_event'][247], CartScreenAppear['users_event'][248]]), \n",
    "       np.array([CartScreenAppear['users_group'][247], CartScreenAppear['users_group'][248]]))\n",
    "zcount(np.array([CartScreenAppear['users_event']['united'], CartScreenAppear['users_event'][248]]), \n",
    "       np.array([CartScreenAppear['users_group']['united'], CartScreenAppear['users_group'][248]]))"
   ]
  },
  {
   "cell_type": "markdown",
   "metadata": {},
   "source": [
    "Теперь проверим гипотезы для события PaymentScreenSuccessful."
   ]
  },
  {
   "cell_type": "code",
   "execution_count": 32,
   "metadata": {},
   "outputs": [
    {
     "name": "stdout",
     "output_type": "stream",
     "text": [
      "p-значение:  0.11456679313141849\n",
      "Не получилось отвергнуть нулевую гипотезу, нет оснований считать доли разными\n",
      "p-значение:  0.2122553275697796\n",
      "Не получилось отвергнуть нулевую гипотезу, нет оснований считать доли разными\n",
      "p-значение:  0.7373415053803964\n",
      "Не получилось отвергнуть нулевую гипотезу, нет оснований считать доли разными\n",
      "p-значение:  0.6004294282308704\n",
      "Не получилось отвергнуть нулевую гипотезу, нет оснований считать доли разными\n"
     ]
    }
   ],
   "source": [
    "zcount(np.array([PaymentScreenSuccessful['users_event'][246], PaymentScreenSuccessful['users_event'][247]]), \n",
    "       np.array([PaymentScreenSuccessful['users_group'][246], PaymentScreenSuccessful['users_group'][247]]))\n",
    "zcount(np.array([PaymentScreenSuccessful['users_event'][246], PaymentScreenSuccessful['users_event'][248]]), \n",
    "       np.array([PaymentScreenSuccessful['users_group'][246], PaymentScreenSuccessful['users_group'][248]]))\n",
    "zcount(np.array([PaymentScreenSuccessful['users_event'][247], PaymentScreenSuccessful['users_event'][248]]), \n",
    "       np.array([PaymentScreenSuccessful['users_group'][247], PaymentScreenSuccessful['users_group'][248]]))\n",
    "zcount(np.array([PaymentScreenSuccessful['users_event']['united'], PaymentScreenSuccessful['users_event'][248]]), \n",
    "       np.array([PaymentScreenSuccessful['users_group']['united'], PaymentScreenSuccessful['users_group'][248]]))"
   ]
  },
  {
   "cell_type": "markdown",
   "metadata": {},
   "source": [
    "При критическом уровене статистической значимости в 99% по итогам проведенных тестов мы можем сказать о том, во всех случаях не получилось отвергнуть нулевую гипотезу.\n",
    "\n",
    "Теперь проверим гипотезы для критического уровня статистической значимости в 95%."
   ]
  },
  {
   "cell_type": "code",
   "execution_count": 33,
   "metadata": {},
   "outputs": [
    {
     "name": "stdout",
     "output_type": "stream",
     "text": [
      "p-значение:  0.7570597232046099\n",
      "Не получилось отвергнуть нулевую гипотезу, нет оснований считать доли разными\n",
      "p-значение:  0.2949721933554552\n",
      "Не получилось отвергнуть нулевую гипотезу, нет оснований считать доли разными\n",
      "p-значение:  0.4587053616621515\n",
      "Не получилось отвергнуть нулевую гипотезу, нет оснований считать доли разными\n",
      "p-значение:  0.29424526837179577\n",
      "Не получилось отвергнуть нулевую гипотезу, нет оснований считать доли разными\n",
      "  \n",
      "p-значение:  0.2480954578522181\n",
      "Не получилось отвергнуть нулевую гипотезу, нет оснований считать доли разными\n",
      "p-значение:  0.20836205402738917\n",
      "Не получилось отвергнуть нулевую гипотезу, нет оснований считать доли разными\n",
      "p-значение:  0.9197817830592261\n",
      "Не получилось отвергнуть нулевую гипотезу, нет оснований считать доли разными\n",
      "p-значение:  0.43425549655188256\n",
      "Не получилось отвергнуть нулевую гипотезу, нет оснований считать доли разными\n",
      "  \n",
      "p-значение:  0.22883372237997213\n",
      "Не получилось отвергнуть нулевую гипотезу, нет оснований считать доли разными\n",
      "p-значение:  0.07842923237520116\n",
      "Не получилось отвергнуть нулевую гипотезу, нет оснований считать доли разными\n",
      "p-значение:  0.5786197879539783\n",
      "Не получилось отвергнуть нулевую гипотезу, нет оснований считать доли разными\n",
      "p-значение:  0.18175875284404386\n",
      "Не получилось отвергнуть нулевую гипотезу, нет оснований считать доли разными\n",
      "  \n",
      "p-значение:  0.11456679313141849\n",
      "Не получилось отвергнуть нулевую гипотезу, нет оснований считать доли разными\n",
      "p-значение:  0.2122553275697796\n",
      "Не получилось отвергнуть нулевую гипотезу, нет оснований считать доли разными\n",
      "p-значение:  0.7373415053803964\n",
      "Не получилось отвергнуть нулевую гипотезу, нет оснований считать доли разными\n",
      "p-значение:  0.6004294282308704\n",
      "Не получилось отвергнуть нулевую гипотезу, нет оснований считать доли разными\n"
     ]
    }
   ],
   "source": [
    "alpha = .05 # критический уровень статистической значимости\n",
    "\n",
    "def zcount(successes, trials):\n",
    "    p1 = successes[0]/trials[0]\n",
    "    p2 = successes[1]/trials[1]\n",
    "    p_combined = (successes[0] + successes[1]) / (trials[0] + trials[1])\n",
    "    difference = p1 - p2 \n",
    "    z_value = difference / mth.sqrt(p_combined * (1 - p_combined) * (1/trials[0] + 1/trials[1]))\n",
    "    distr = st.norm(0, 1)  \n",
    "    p_value = (1 - distr.cdf(abs(z_value))) * 2\n",
    "    print('p-значение: ', p_value)\n",
    "    \n",
    "    if p_value < alpha:\n",
    "        print('Отвергаем нулевую гипотезу: между долями есть значимая разница')\n",
    "    else:\n",
    "        print('Не получилось отвергнуть нулевую гипотезу, нет оснований считать доли разными') \n",
    "\n",
    "zcount(np.array([MainScreenAppear['users_event'][246], MainScreenAppear['users_event'][247]]), \n",
    "       np.array([MainScreenAppear['users_group'][246], MainScreenAppear['users_group'][247]]))\n",
    "zcount(np.array([MainScreenAppear['users_event'][246], MainScreenAppear['users_event'][248]]), \n",
    "       np.array([MainScreenAppear['users_group'][246], MainScreenAppear['users_group'][248]]))\n",
    "zcount(np.array([MainScreenAppear['users_event'][247], MainScreenAppear['users_event'][248]]), \n",
    "       np.array([MainScreenAppear['users_group'][247], MainScreenAppear['users_group'][248]]))\n",
    "zcount(np.array([MainScreenAppear['users_event']['united'], MainScreenAppear['users_event'][248]]), \n",
    "       np.array([MainScreenAppear['users_group']['united'], MainScreenAppear['users_group'][248]]))\n",
    "print('  ')\n",
    "zcount(np.array([OffersScreenAppear['users_event'][246], OffersScreenAppear['users_event'][247]]), \n",
    "       np.array([OffersScreenAppear['users_group'][246], OffersScreenAppear['users_group'][247]]))\n",
    "zcount(np.array([OffersScreenAppear['users_event'][246], OffersScreenAppear['users_event'][248]]), \n",
    "       np.array([OffersScreenAppear['users_group'][246], OffersScreenAppear['users_group'][248]]))\n",
    "zcount(np.array([OffersScreenAppear['users_event'][247], OffersScreenAppear['users_event'][248]]), \n",
    "       np.array([OffersScreenAppear['users_group'][247], OffersScreenAppear['users_group'][248]]))\n",
    "zcount(np.array([OffersScreenAppear['users_event']['united'], OffersScreenAppear['users_event'][248]]), \n",
    "       np.array([OffersScreenAppear['users_group']['united'], OffersScreenAppear['users_group'][248]]))\n",
    "print('  ')\n",
    "zcount(np.array([CartScreenAppear['users_event'][246], CartScreenAppear['users_event'][247]]), \n",
    "       np.array([CartScreenAppear['users_group'][246], CartScreenAppear['users_group'][247]]))\n",
    "zcount(np.array([CartScreenAppear['users_event'][246], CartScreenAppear['users_event'][248]]), \n",
    "       np.array([CartScreenAppear['users_group'][246], CartScreenAppear['users_group'][248]]))\n",
    "zcount(np.array([CartScreenAppear['users_event'][247], CartScreenAppear['users_event'][248]]), \n",
    "       np.array([CartScreenAppear['users_group'][247], CartScreenAppear['users_group'][248]]))\n",
    "zcount(np.array([CartScreenAppear['users_event']['united'], CartScreenAppear['users_event'][248]]), \n",
    "       np.array([CartScreenAppear['users_group']['united'], CartScreenAppear['users_group'][248]]))\n",
    "print('  ')\n",
    "zcount(np.array([PaymentScreenSuccessful['users_event'][246], PaymentScreenSuccessful['users_event'][247]]), \n",
    "       np.array([PaymentScreenSuccessful['users_group'][246], PaymentScreenSuccessful['users_group'][247]]))\n",
    "zcount(np.array([PaymentScreenSuccessful['users_event'][246], PaymentScreenSuccessful['users_event'][248]]), \n",
    "       np.array([PaymentScreenSuccessful['users_group'][246], PaymentScreenSuccessful['users_group'][248]]))\n",
    "zcount(np.array([PaymentScreenSuccessful['users_event'][247], PaymentScreenSuccessful['users_event'][248]]), \n",
    "       np.array([PaymentScreenSuccessful['users_group'][247], PaymentScreenSuccessful['users_group'][248]]))\n",
    "zcount(np.array([PaymentScreenSuccessful['users_event']['united'], PaymentScreenSuccessful['users_event'][248]]), \n",
    "       np.array([PaymentScreenSuccessful['users_group']['united'], PaymentScreenSuccessful['users_group'][248]]))"
   ]
  },
  {
   "cell_type": "markdown",
   "metadata": {},
   "source": [
    "При критическом уровене статистической значимости в 95% по итогам проведенных тестов мы так же можем сказать о том, во всех случаях не получилось отвергнуть нулевую гипотезу. Теперь проверим гипотезы для критического уровня статистической значимости в 90%."
   ]
  },
  {
   "cell_type": "code",
   "execution_count": 34,
   "metadata": {},
   "outputs": [
    {
     "name": "stdout",
     "output_type": "stream",
     "text": [
      "p-значение:  0.7570597232046099\n",
      "Не получилось отвергнуть нулевую гипотезу, нет оснований считать доли разными\n",
      "p-значение:  0.2949721933554552\n",
      "Не получилось отвергнуть нулевую гипотезу, нет оснований считать доли разными\n",
      "p-значение:  0.4587053616621515\n",
      "Не получилось отвергнуть нулевую гипотезу, нет оснований считать доли разными\n",
      "p-значение:  0.29424526837179577\n",
      "Не получилось отвергнуть нулевую гипотезу, нет оснований считать доли разными\n",
      "  \n",
      "p-значение:  0.2480954578522181\n",
      "Не получилось отвергнуть нулевую гипотезу, нет оснований считать доли разными\n",
      "p-значение:  0.20836205402738917\n",
      "Не получилось отвергнуть нулевую гипотезу, нет оснований считать доли разными\n",
      "p-значение:  0.9197817830592261\n",
      "Не получилось отвергнуть нулевую гипотезу, нет оснований считать доли разными\n",
      "p-значение:  0.43425549655188256\n",
      "Не получилось отвергнуть нулевую гипотезу, нет оснований считать доли разными\n",
      "  \n",
      "p-значение:  0.22883372237997213\n",
      "Не получилось отвергнуть нулевую гипотезу, нет оснований считать доли разными\n",
      "p-значение:  0.07842923237520116\n",
      "Отвергаем нулевую гипотезу: между долями есть значимая разница\n",
      "p-значение:  0.5786197879539783\n",
      "Не получилось отвергнуть нулевую гипотезу, нет оснований считать доли разными\n",
      "p-значение:  0.18175875284404386\n",
      "Не получилось отвергнуть нулевую гипотезу, нет оснований считать доли разными\n",
      "  \n",
      "p-значение:  0.11456679313141849\n",
      "Не получилось отвергнуть нулевую гипотезу, нет оснований считать доли разными\n",
      "p-значение:  0.2122553275697796\n",
      "Не получилось отвергнуть нулевую гипотезу, нет оснований считать доли разными\n",
      "p-значение:  0.7373415053803964\n",
      "Не получилось отвергнуть нулевую гипотезу, нет оснований считать доли разными\n",
      "p-значение:  0.6004294282308704\n",
      "Не получилось отвергнуть нулевую гипотезу, нет оснований считать доли разными\n"
     ]
    }
   ],
   "source": [
    "alpha = .1 # критический уровень статистической значимости\n",
    "\n",
    "def zcount(successes, trials):\n",
    "    p1 = successes[0]/trials[0]\n",
    "    p2 = successes[1]/trials[1]\n",
    "    p_combined = (successes[0] + successes[1]) / (trials[0] + trials[1])\n",
    "    difference = p1 - p2 \n",
    "    z_value = difference / mth.sqrt(p_combined * (1 - p_combined) * (1/trials[0] + 1/trials[1]))\n",
    "    distr = st.norm(0, 1)  \n",
    "    p_value = (1 - distr.cdf(abs(z_value))) * 2\n",
    "    print('p-значение: ', p_value)\n",
    "    \n",
    "    if p_value < alpha:\n",
    "        print('Отвергаем нулевую гипотезу: между долями есть значимая разница')\n",
    "    else:\n",
    "        print('Не получилось отвергнуть нулевую гипотезу, нет оснований считать доли разными') \n",
    "\n",
    "zcount(np.array([MainScreenAppear['users_event'][246], MainScreenAppear['users_event'][247]]), \n",
    "       np.array([MainScreenAppear['users_group'][246], MainScreenAppear['users_group'][247]]))\n",
    "zcount(np.array([MainScreenAppear['users_event'][246], MainScreenAppear['users_event'][248]]), \n",
    "       np.array([MainScreenAppear['users_group'][246], MainScreenAppear['users_group'][248]]))\n",
    "zcount(np.array([MainScreenAppear['users_event'][247], MainScreenAppear['users_event'][248]]), \n",
    "       np.array([MainScreenAppear['users_group'][247], MainScreenAppear['users_group'][248]]))\n",
    "zcount(np.array([MainScreenAppear['users_event']['united'], MainScreenAppear['users_event'][248]]), \n",
    "       np.array([MainScreenAppear['users_group']['united'], MainScreenAppear['users_group'][248]]))\n",
    "print('  ')\n",
    "zcount(np.array([OffersScreenAppear['users_event'][246], OffersScreenAppear['users_event'][247]]), \n",
    "       np.array([OffersScreenAppear['users_group'][246], OffersScreenAppear['users_group'][247]]))\n",
    "zcount(np.array([OffersScreenAppear['users_event'][246], OffersScreenAppear['users_event'][248]]), \n",
    "       np.array([OffersScreenAppear['users_group'][246], OffersScreenAppear['users_group'][248]]))\n",
    "zcount(np.array([OffersScreenAppear['users_event'][247], OffersScreenAppear['users_event'][248]]), \n",
    "       np.array([OffersScreenAppear['users_group'][247], OffersScreenAppear['users_group'][248]]))\n",
    "zcount(np.array([OffersScreenAppear['users_event']['united'], OffersScreenAppear['users_event'][248]]), \n",
    "       np.array([OffersScreenAppear['users_group']['united'], OffersScreenAppear['users_group'][248]]))\n",
    "print('  ')\n",
    "zcount(np.array([CartScreenAppear['users_event'][246], CartScreenAppear['users_event'][247]]), \n",
    "       np.array([CartScreenAppear['users_group'][246], CartScreenAppear['users_group'][247]]))\n",
    "zcount(np.array([CartScreenAppear['users_event'][246], CartScreenAppear['users_event'][248]]), \n",
    "       np.array([CartScreenAppear['users_group'][246], CartScreenAppear['users_group'][248]]))\n",
    "zcount(np.array([CartScreenAppear['users_event'][247], CartScreenAppear['users_event'][248]]), \n",
    "       np.array([CartScreenAppear['users_group'][247], CartScreenAppear['users_group'][248]]))\n",
    "zcount(np.array([CartScreenAppear['users_event']['united'], CartScreenAppear['users_event'][248]]), \n",
    "       np.array([CartScreenAppear['users_group']['united'], CartScreenAppear['users_group'][248]]))\n",
    "print('  ')\n",
    "zcount(np.array([PaymentScreenSuccessful['users_event'][246], PaymentScreenSuccessful['users_event'][247]]), \n",
    "       np.array([PaymentScreenSuccessful['users_group'][246], PaymentScreenSuccessful['users_group'][247]]))\n",
    "zcount(np.array([PaymentScreenSuccessful['users_event'][246], PaymentScreenSuccessful['users_event'][248]]), \n",
    "       np.array([PaymentScreenSuccessful['users_group'][246], PaymentScreenSuccessful['users_group'][248]]))\n",
    "zcount(np.array([PaymentScreenSuccessful['users_event'][247], PaymentScreenSuccessful['users_event'][248]]), \n",
    "       np.array([PaymentScreenSuccessful['users_group'][247], PaymentScreenSuccessful['users_group'][248]]))\n",
    "zcount(np.array([PaymentScreenSuccessful['users_event']['united'], PaymentScreenSuccessful['users_event'][248]]), \n",
    "       np.array([PaymentScreenSuccessful['users_group']['united'], PaymentScreenSuccessful['users_group'][248]]))"
   ]
  },
  {
   "cell_type": "markdown",
   "metadata": {},
   "source": [
    "При критическом уровне статистической значимости в 90% по итогам проведенных тестов мы можем сказать о том, что значимая разница есть для комбинации между группами 246 и 248 для события CartScreenAppear. Во всех остальных случаев не получилось отвергнуть нулевую гипотезу."
   ]
  },
  {
   "cell_type": "markdown",
   "metadata": {},
   "source": [
    "**Шаг 5: общие выводы**\n",
    "\n",
    "**Проанализировав данные с 1 по 7 августа 2019 года, можно сделать следующие выводы:**\n",
    "1. В логе 5 событий, 7551 пользователей, 3 контрольный группы и 14 дней. Очистив данные, получили датасет с 5 событиями, 7534 пользователями и 7 днями.\n",
    "2. В среднем на одного пользователя приходится 32 события.\n",
    "3. Судя по анализу, мы можем предположить, что события происходят в следующем порядке: MainScreenAppear -> OffersScreenAppear -> CartScreenAppear -> PaymentScreenSuccessful. Событие Tutorial не зависит от других факторов и может проходить в любом порядке. Однако, лишь малое количество пользователей пользуется данным событием, поэтому мы исключили его из дальнейшего анализа.\n",
    "4. Больше всего пользователей (почти 40%) теряется при переходе от первого ко второму шагу (от MainScreenAppear к OffersScreenAppear).\n",
    "5. От самого первого события к оплате товара проходит менее половины пользователей – около 48%.\n",
    "6. Практически во всех проведенных нами тестах не получилось отвергнуть нулевую гипотезу о разности долей (кроме события CartScreenAppear для групп 246 и 248 при критическом уровне статистической значимости в 90%). \n",
    "\n",
    "На основе результатов A/A/B-эксперимента мы можем сделать предположение о том, что оставив уровень статистической значимости в 95% (самый приемлемый уровень), изменения шрифта не повлияло на поведение пользователей: опасения маркетологов не оправдались – шрифт можно менять!"
   ]
  },
  {
   "cell_type": "code",
   "execution_count": null,
   "metadata": {},
   "outputs": [],
   "source": []
  }
 ],
 "metadata": {
  "ExecuteTimeLog": [
   {
    "duration": 403,
    "start_time": "2023-08-10T11:37:31.328Z"
   },
   {
    "duration": 657,
    "start_time": "2023-08-10T11:37:57.920Z"
   },
   {
    "duration": 186,
    "start_time": "2023-08-10T11:38:15.413Z"
   },
   {
    "duration": 41,
    "start_time": "2023-08-10T11:38:55.597Z"
   },
   {
    "duration": 23,
    "start_time": "2023-08-10T11:39:36.218Z"
   },
   {
    "duration": 3,
    "start_time": "2023-08-10T11:42:20.337Z"
   },
   {
    "duration": 79,
    "start_time": "2023-08-10T11:42:25.914Z"
   },
   {
    "duration": 9,
    "start_time": "2023-08-10T11:42:51.598Z"
   },
   {
    "duration": 380,
    "start_time": "2023-08-10T11:42:56.503Z"
   },
   {
    "duration": 156,
    "start_time": "2023-08-10T11:42:57.642Z"
   },
   {
    "duration": 38,
    "start_time": "2023-08-10T11:42:59.161Z"
   },
   {
    "duration": 18,
    "start_time": "2023-08-10T11:43:00.587Z"
   },
   {
    "duration": 3,
    "start_time": "2023-08-10T11:43:01.973Z"
   },
   {
    "duration": 20,
    "start_time": "2023-08-10T11:43:03.488Z"
   },
   {
    "duration": 3,
    "start_time": "2023-08-10T11:43:20.991Z"
   },
   {
    "duration": 17,
    "start_time": "2023-08-10T11:43:23.486Z"
   },
   {
    "duration": 340,
    "start_time": "2023-08-10T11:44:13.572Z"
   },
   {
    "duration": 2,
    "start_time": "2023-08-10T11:44:30.968Z"
   },
   {
    "duration": 301,
    "start_time": "2023-08-10T11:44:33.688Z"
   },
   {
    "duration": 9,
    "start_time": "2023-08-10T11:45:46.488Z"
   },
   {
    "duration": 154,
    "start_time": "2023-08-10T11:45:50.680Z"
   },
   {
    "duration": 51,
    "start_time": "2023-08-10T11:46:02.593Z"
   },
   {
    "duration": 385,
    "start_time": "2023-08-10T11:46:04.805Z"
   },
   {
    "duration": 168,
    "start_time": "2023-08-10T11:46:06.054Z"
   },
   {
    "duration": 38,
    "start_time": "2023-08-10T11:46:07.421Z"
   },
   {
    "duration": 16,
    "start_time": "2023-08-10T11:46:10.849Z"
   },
   {
    "duration": 4,
    "start_time": "2023-08-10T11:46:12.973Z"
   },
   {
    "duration": 19,
    "start_time": "2023-08-10T11:46:15.966Z"
   },
   {
    "duration": 922,
    "start_time": "2023-08-10T11:48:02.886Z"
   },
   {
    "duration": 18,
    "start_time": "2023-08-10T11:48:20.597Z"
   },
   {
    "duration": 66,
    "start_time": "2023-08-10T11:49:08.790Z"
   },
   {
    "duration": 68,
    "start_time": "2023-08-10T11:49:18.198Z"
   },
   {
    "duration": 75,
    "start_time": "2023-08-10T11:49:22.146Z"
   },
   {
    "duration": 82,
    "start_time": "2023-08-10T11:50:15.274Z"
   },
   {
    "duration": 90,
    "start_time": "2023-08-10T11:51:16.458Z"
   },
   {
    "duration": 29,
    "start_time": "2023-08-10T11:52:03.115Z"
   },
   {
    "duration": 73,
    "start_time": "2023-08-10T11:52:14.730Z"
   },
   {
    "duration": 24,
    "start_time": "2023-08-10T11:52:19.275Z"
   },
   {
    "duration": 89,
    "start_time": "2023-08-10T11:52:46.157Z"
   },
   {
    "duration": 24,
    "start_time": "2023-08-10T11:52:51.786Z"
   },
   {
    "duration": 73,
    "start_time": "2023-08-10T11:54:01.664Z"
   },
   {
    "duration": 23,
    "start_time": "2023-08-10T11:56:33.210Z"
   },
   {
    "duration": 23,
    "start_time": "2023-08-10T11:57:17.626Z"
   },
   {
    "duration": 21,
    "start_time": "2023-08-10T11:57:22.294Z"
   },
   {
    "duration": 24,
    "start_time": "2023-08-10T11:57:58.501Z"
   },
   {
    "duration": 7,
    "start_time": "2023-08-10T11:58:49.718Z"
   },
   {
    "duration": 28,
    "start_time": "2023-08-10T11:59:06.594Z"
   },
   {
    "duration": 16,
    "start_time": "2023-08-10T11:59:30.102Z"
   },
   {
    "duration": 24,
    "start_time": "2023-08-10T11:59:36.568Z"
   },
   {
    "duration": 23,
    "start_time": "2023-08-10T11:59:46.874Z"
   },
   {
    "duration": 31,
    "start_time": "2023-08-10T12:06:13.904Z"
   },
   {
    "duration": 51,
    "start_time": "2023-08-10T12:06:16.194Z"
   },
   {
    "duration": 581,
    "start_time": "2023-08-10T12:07:10.573Z"
   },
   {
    "duration": 39,
    "start_time": "2023-08-10T12:14:20.374Z"
   },
   {
    "duration": 44,
    "start_time": "2023-08-10T12:14:25.270Z"
   },
   {
    "duration": 41,
    "start_time": "2023-08-10T12:14:32.969Z"
   },
   {
    "duration": 37,
    "start_time": "2023-08-10T12:14:54.907Z"
   },
   {
    "duration": 67,
    "start_time": "2023-08-10T12:16:06.770Z"
   },
   {
    "duration": 54,
    "start_time": "2023-08-10T12:17:26.669Z"
   },
   {
    "duration": 277,
    "start_time": "2023-08-10T12:17:36.796Z"
   },
   {
    "duration": 873,
    "start_time": "2023-08-10T12:17:54.135Z"
   },
   {
    "duration": 49,
    "start_time": "2023-08-10T12:18:04.219Z"
   },
   {
    "duration": 4,
    "start_time": "2023-08-10T12:22:43.498Z"
   },
   {
    "duration": 16,
    "start_time": "2023-08-10T12:23:09.071Z"
   },
   {
    "duration": 47,
    "start_time": "2023-08-10T12:23:13.387Z"
   },
   {
    "duration": 1088,
    "start_time": "2023-08-10T12:23:15.387Z"
   },
   {
    "duration": 54,
    "start_time": "2023-08-10T12:23:24.295Z"
   },
   {
    "duration": 1366,
    "start_time": "2023-08-10T12:23:35.409Z"
   },
   {
    "duration": 44,
    "start_time": "2023-08-10T12:23:41.515Z"
   },
   {
    "duration": 7,
    "start_time": "2023-08-10T12:23:50.529Z"
   },
   {
    "duration": 913,
    "start_time": "2023-08-10T12:24:36.335Z"
   },
   {
    "duration": 827,
    "start_time": "2023-08-10T12:24:55.394Z"
   },
   {
    "duration": 134,
    "start_time": "2023-08-10T12:25:09.719Z"
   },
   {
    "duration": 7,
    "start_time": "2023-08-10T12:25:18.290Z"
   },
   {
    "duration": 7,
    "start_time": "2023-08-10T12:25:24.914Z"
   },
   {
    "duration": 229,
    "start_time": "2023-08-10T12:25:52.830Z"
   },
   {
    "duration": 206,
    "start_time": "2023-08-10T12:26:02.364Z"
   },
   {
    "duration": 184,
    "start_time": "2023-08-10T12:26:07.492Z"
   },
   {
    "duration": 254,
    "start_time": "2023-08-10T12:26:41.463Z"
   },
   {
    "duration": 137,
    "start_time": "2023-08-10T12:29:53.857Z"
   },
   {
    "duration": 32,
    "start_time": "2023-08-10T12:32:20.798Z"
   },
   {
    "duration": 453,
    "start_time": "2023-08-10T12:32:28.350Z"
   },
   {
    "duration": 234,
    "start_time": "2023-08-10T12:33:30.458Z"
   },
   {
    "duration": 4,
    "start_time": "2023-08-10T12:33:37.924Z"
   },
   {
    "duration": 175,
    "start_time": "2023-08-10T12:33:41.880Z"
   },
   {
    "duration": 201,
    "start_time": "2023-08-10T12:41:50.619Z"
   },
   {
    "duration": 340,
    "start_time": "2023-08-10T12:41:55.561Z"
   },
   {
    "duration": 304,
    "start_time": "2023-08-10T12:43:02.454Z"
   },
   {
    "duration": 241,
    "start_time": "2023-08-10T12:43:09.001Z"
   },
   {
    "duration": 125,
    "start_time": "2023-08-10T12:43:17.270Z"
   },
   {
    "duration": 254,
    "start_time": "2023-08-10T12:44:28.286Z"
   },
   {
    "duration": 218,
    "start_time": "2023-08-10T12:44:36.922Z"
   },
   {
    "duration": 3,
    "start_time": "2023-08-10T12:45:38.756Z"
   },
   {
    "duration": 535,
    "start_time": "2023-08-10T12:45:46.019Z"
   },
   {
    "duration": 1171,
    "start_time": "2023-08-10T12:50:26.440Z"
   },
   {
    "duration": 27,
    "start_time": "2023-08-10T12:50:29.740Z"
   },
   {
    "duration": 14,
    "start_time": "2023-08-10T12:50:32.877Z"
   },
   {
    "duration": 21,
    "start_time": "2023-08-10T12:50:38.668Z"
   },
   {
    "duration": 18,
    "start_time": "2023-08-10T12:50:49.020Z"
   },
   {
    "duration": 586,
    "start_time": "2023-08-10T12:51:54.011Z"
   },
   {
    "duration": 150,
    "start_time": "2023-08-10T12:51:55.344Z"
   },
   {
    "duration": 42,
    "start_time": "2023-08-10T12:51:56.748Z"
   },
   {
    "duration": 17,
    "start_time": "2023-08-10T12:51:58.516Z"
   },
   {
    "duration": 3,
    "start_time": "2023-08-10T12:52:00.424Z"
   },
   {
    "duration": 18,
    "start_time": "2023-08-10T12:52:01.435Z"
   },
   {
    "duration": 79,
    "start_time": "2023-08-10T12:52:02.931Z"
   },
   {
    "duration": 82,
    "start_time": "2023-08-10T12:52:04.867Z"
   },
   {
    "duration": 80,
    "start_time": "2023-08-10T12:52:06.676Z"
   },
   {
    "duration": 67,
    "start_time": "2023-08-10T12:52:08.139Z"
   },
   {
    "duration": 22,
    "start_time": "2023-08-10T12:52:09.711Z"
   },
   {
    "duration": 23,
    "start_time": "2023-08-10T12:52:12.044Z"
   },
   {
    "duration": 47,
    "start_time": "2023-08-10T12:52:13.752Z"
   },
   {
    "duration": 293,
    "start_time": "2023-08-10T12:52:16.000Z"
   },
   {
    "duration": 300,
    "start_time": "2023-08-10T12:52:19.545Z"
   },
   {
    "duration": 28,
    "start_time": "2023-08-10T12:52:21.404Z"
   },
   {
    "duration": 23,
    "start_time": "2023-08-10T12:52:23.256Z"
   },
   {
    "duration": 66,
    "start_time": "2023-08-10T12:52:48.904Z"
   },
   {
    "duration": 816,
    "start_time": "2023-08-11T07:36:27.128Z"
   },
   {
    "duration": 556,
    "start_time": "2023-08-11T07:36:29.312Z"
   },
   {
    "duration": 51,
    "start_time": "2023-08-11T07:36:31.372Z"
   },
   {
    "duration": 20,
    "start_time": "2023-08-11T07:36:33.198Z"
   },
   {
    "duration": 4,
    "start_time": "2023-08-11T07:36:34.924Z"
   },
   {
    "duration": 21,
    "start_time": "2023-08-11T07:36:36.290Z"
   },
   {
    "duration": 91,
    "start_time": "2023-08-11T07:36:37.684Z"
   },
   {
    "duration": 80,
    "start_time": "2023-08-11T07:36:39.064Z"
   },
   {
    "duration": 92,
    "start_time": "2023-08-11T07:36:40.740Z"
   },
   {
    "duration": 85,
    "start_time": "2023-08-11T07:36:43.699Z"
   },
   {
    "duration": 26,
    "start_time": "2023-08-11T07:36:45.436Z"
   },
   {
    "duration": 29,
    "start_time": "2023-08-11T07:36:47.028Z"
   },
   {
    "duration": 54,
    "start_time": "2023-08-11T07:36:48.199Z"
   },
   {
    "duration": 333,
    "start_time": "2023-08-11T07:36:49.984Z"
   },
   {
    "duration": 34,
    "start_time": "2023-08-11T07:36:52.248Z"
   },
   {
    "duration": 36,
    "start_time": "2023-08-11T07:36:56.252Z"
   },
   {
    "duration": 75,
    "start_time": "2023-08-11T07:36:58.180Z"
   },
   {
    "duration": 24,
    "start_time": "2023-08-11T07:38:10.399Z"
   },
   {
    "duration": 25,
    "start_time": "2023-08-11T07:38:19.700Z"
   },
   {
    "duration": 101,
    "start_time": "2023-08-11T07:38:24.552Z"
   },
   {
    "duration": 29,
    "start_time": "2023-08-11T07:38:38.315Z"
   },
   {
    "duration": 25,
    "start_time": "2023-08-11T07:38:45.260Z"
   },
   {
    "duration": 25,
    "start_time": "2023-08-11T07:38:51.228Z"
   },
   {
    "duration": 25,
    "start_time": "2023-08-11T07:40:52.903Z"
   },
   {
    "duration": 27,
    "start_time": "2023-08-11T07:40:58.999Z"
   },
   {
    "duration": 25,
    "start_time": "2023-08-11T07:41:04.299Z"
   },
   {
    "duration": 24,
    "start_time": "2023-08-11T07:41:18.424Z"
   },
   {
    "duration": 24,
    "start_time": "2023-08-11T07:41:27.624Z"
   },
   {
    "duration": 25,
    "start_time": "2023-08-11T07:43:03.244Z"
   },
   {
    "duration": 46,
    "start_time": "2023-08-11T07:43:18.072Z"
   },
   {
    "duration": 49,
    "start_time": "2023-08-11T07:43:52.708Z"
   },
   {
    "duration": 3,
    "start_time": "2023-08-11T07:44:41.715Z"
   },
   {
    "duration": 5,
    "start_time": "2023-08-11T07:44:45.731Z"
   },
   {
    "duration": 42,
    "start_time": "2023-08-11T07:45:29.161Z"
   },
   {
    "duration": 56,
    "start_time": "2023-08-11T07:47:09.243Z"
   },
   {
    "duration": 10,
    "start_time": "2023-08-11T07:47:58.527Z"
   },
   {
    "duration": 4,
    "start_time": "2023-08-11T07:48:08.543Z"
   },
   {
    "duration": 3,
    "start_time": "2023-08-11T07:48:15.979Z"
   },
   {
    "duration": 14,
    "start_time": "2023-08-11T07:48:23.679Z"
   },
   {
    "duration": 22,
    "start_time": "2023-08-11T07:50:17.387Z"
   },
   {
    "duration": 66,
    "start_time": "2023-08-11T08:02:09.836Z"
   },
   {
    "duration": 60,
    "start_time": "2023-08-11T08:02:19.552Z"
   },
   {
    "duration": 5,
    "start_time": "2023-08-11T08:02:37.769Z"
   },
   {
    "duration": 9,
    "start_time": "2023-08-11T08:02:42.672Z"
   },
   {
    "duration": 9,
    "start_time": "2023-08-11T08:02:57.568Z"
   },
   {
    "duration": 8,
    "start_time": "2023-08-11T08:03:22.956Z"
   },
   {
    "duration": 15,
    "start_time": "2023-08-11T08:03:38.484Z"
   },
   {
    "duration": 110,
    "start_time": "2023-08-11T08:05:16.772Z"
   },
   {
    "duration": 14,
    "start_time": "2023-08-11T08:08:02.380Z"
   },
   {
    "duration": 8,
    "start_time": "2023-08-11T08:09:45.720Z"
   },
   {
    "duration": 34,
    "start_time": "2023-08-11T08:10:51.784Z"
   },
   {
    "duration": 203,
    "start_time": "2023-08-11T08:11:05.160Z"
   },
   {
    "duration": 52,
    "start_time": "2023-08-11T08:19:36.917Z"
   },
   {
    "duration": 57,
    "start_time": "2023-08-11T08:20:14.196Z"
   },
   {
    "duration": 87,
    "start_time": "2023-08-11T08:20:17.127Z"
   },
   {
    "duration": 49,
    "start_time": "2023-08-11T08:20:28.426Z"
   },
   {
    "duration": 20,
    "start_time": "2023-08-11T08:24:51.927Z"
   },
   {
    "duration": 46,
    "start_time": "2023-08-11T08:24:55.075Z"
   },
   {
    "duration": 8,
    "start_time": "2023-08-11T08:26:42.136Z"
   },
   {
    "duration": 4,
    "start_time": "2023-08-11T08:26:45.436Z"
   },
   {
    "duration": 9,
    "start_time": "2023-08-11T08:26:49.201Z"
   },
   {
    "duration": 67,
    "start_time": "2023-08-11T08:27:34.514Z"
   },
   {
    "duration": 71,
    "start_time": "2023-08-11T08:27:38.337Z"
   },
   {
    "duration": 64,
    "start_time": "2023-08-11T08:28:09.417Z"
   },
   {
    "duration": 68,
    "start_time": "2023-08-11T08:28:12.165Z"
   },
   {
    "duration": 53,
    "start_time": "2023-08-11T08:29:09.609Z"
   },
   {
    "duration": 64,
    "start_time": "2023-08-11T08:29:11.916Z"
   },
   {
    "duration": 65,
    "start_time": "2023-08-11T08:29:20.285Z"
   },
   {
    "duration": 65,
    "start_time": "2023-08-11T08:29:41.065Z"
   },
   {
    "duration": 59,
    "start_time": "2023-08-11T08:29:50.313Z"
   },
   {
    "duration": 1247,
    "start_time": "2023-08-11T08:30:13.005Z"
   },
   {
    "duration": 54,
    "start_time": "2023-08-11T08:30:22.801Z"
   },
   {
    "duration": 71,
    "start_time": "2023-08-11T08:30:27.353Z"
   },
   {
    "duration": 111,
    "start_time": "2023-08-11T08:30:39.230Z"
   },
   {
    "duration": 57,
    "start_time": "2023-08-11T08:30:43.313Z"
   },
   {
    "duration": 72,
    "start_time": "2023-08-11T08:31:18.877Z"
   },
   {
    "duration": 74,
    "start_time": "2023-08-11T08:31:29.669Z"
   },
   {
    "duration": 64,
    "start_time": "2023-08-11T08:31:37.705Z"
   },
   {
    "duration": 75,
    "start_time": "2023-08-11T08:33:58.290Z"
   },
   {
    "duration": 61,
    "start_time": "2023-08-11T08:34:07.222Z"
   },
   {
    "duration": 4,
    "start_time": "2023-08-11T08:37:20.875Z"
   },
   {
    "duration": 4,
    "start_time": "2023-08-11T08:37:26.790Z"
   },
   {
    "duration": 1913,
    "start_time": "2023-08-11T08:37:59.650Z"
   },
   {
    "duration": 3,
    "start_time": "2023-08-11T08:38:08.699Z"
   },
   {
    "duration": 7,
    "start_time": "2023-08-11T08:38:11.211Z"
   },
   {
    "duration": 4,
    "start_time": "2023-08-11T08:38:25.287Z"
   },
   {
    "duration": 12,
    "start_time": "2023-08-11T08:38:29.083Z"
   },
   {
    "duration": 10,
    "start_time": "2023-08-11T08:39:22.515Z"
   },
   {
    "duration": 9,
    "start_time": "2023-08-11T08:39:28.491Z"
   },
   {
    "duration": 9,
    "start_time": "2023-08-11T08:39:39.775Z"
   },
   {
    "duration": 8,
    "start_time": "2023-08-11T08:40:09.803Z"
   },
   {
    "duration": 4,
    "start_time": "2023-08-11T08:40:13.242Z"
   },
   {
    "duration": 10,
    "start_time": "2023-08-11T08:40:21.831Z"
   },
   {
    "duration": 4,
    "start_time": "2023-08-11T08:42:25.539Z"
   },
   {
    "duration": 11,
    "start_time": "2023-08-11T08:42:34.827Z"
   },
   {
    "duration": 4,
    "start_time": "2023-08-11T08:43:02.983Z"
   },
   {
    "duration": 9,
    "start_time": "2023-08-11T08:43:07.303Z"
   },
   {
    "duration": 11,
    "start_time": "2023-08-11T08:43:15.713Z"
   },
   {
    "duration": 9,
    "start_time": "2023-08-11T08:43:32.147Z"
   },
   {
    "duration": 9,
    "start_time": "2023-08-11T08:43:37.583Z"
   },
   {
    "duration": 10,
    "start_time": "2023-08-11T08:45:21.207Z"
   },
   {
    "duration": 14,
    "start_time": "2023-08-11T08:45:32.876Z"
   },
   {
    "duration": 11,
    "start_time": "2023-08-11T08:45:35.671Z"
   },
   {
    "duration": 10,
    "start_time": "2023-08-11T08:45:52.919Z"
   },
   {
    "duration": 239,
    "start_time": "2023-08-11T08:46:22.567Z"
   },
   {
    "duration": 9,
    "start_time": "2023-08-11T08:46:28.476Z"
   },
   {
    "duration": 9,
    "start_time": "2023-08-11T08:46:34.364Z"
   },
   {
    "duration": 11,
    "start_time": "2023-08-11T08:46:44.016Z"
   },
   {
    "duration": 8,
    "start_time": "2023-08-11T08:47:30.076Z"
   },
   {
    "duration": 6,
    "start_time": "2023-08-11T08:47:37.452Z"
   },
   {
    "duration": 8,
    "start_time": "2023-08-11T08:50:23.332Z"
   },
   {
    "duration": 7,
    "start_time": "2023-08-11T08:50:25.544Z"
   },
   {
    "duration": 3485,
    "start_time": "2023-08-11T08:51:59.032Z"
   },
   {
    "duration": 0,
    "start_time": "2023-08-11T08:52:02.518Z"
   },
   {
    "duration": 3014,
    "start_time": "2023-08-11T08:52:12.189Z"
   },
   {
    "duration": 3020,
    "start_time": "2023-08-11T08:52:22.216Z"
   },
   {
    "duration": 8,
    "start_time": "2023-08-11T08:52:39.801Z"
   },
   {
    "duration": 7,
    "start_time": "2023-08-11T08:52:42.081Z"
   },
   {
    "duration": 11,
    "start_time": "2023-08-11T08:53:14.960Z"
   },
   {
    "duration": 8,
    "start_time": "2023-08-11T08:53:17.324Z"
   },
   {
    "duration": 5,
    "start_time": "2023-08-11T08:54:40.724Z"
   },
   {
    "duration": 4,
    "start_time": "2023-08-11T08:54:56.245Z"
   },
   {
    "duration": 34,
    "start_time": "2023-08-11T08:56:36.288Z"
   },
   {
    "duration": 9,
    "start_time": "2023-08-11T09:20:16.486Z"
   },
   {
    "duration": 10,
    "start_time": "2023-08-11T09:20:30.418Z"
   },
   {
    "duration": 694,
    "start_time": "2023-08-11T09:23:24.806Z"
   },
   {
    "duration": 178,
    "start_time": "2023-08-11T09:23:26.302Z"
   },
   {
    "duration": 53,
    "start_time": "2023-08-11T09:23:27.927Z"
   },
   {
    "duration": 20,
    "start_time": "2023-08-11T09:23:29.549Z"
   },
   {
    "duration": 4,
    "start_time": "2023-08-11T09:23:31.149Z"
   },
   {
    "duration": 29,
    "start_time": "2023-08-11T09:23:32.394Z"
   },
   {
    "duration": 91,
    "start_time": "2023-08-11T09:23:38.230Z"
   },
   {
    "duration": 93,
    "start_time": "2023-08-11T09:23:39.726Z"
   },
   {
    "duration": 94,
    "start_time": "2023-08-11T09:23:41.231Z"
   },
   {
    "duration": 68,
    "start_time": "2023-08-11T09:23:42.504Z"
   },
   {
    "duration": 26,
    "start_time": "2023-08-11T09:23:43.858Z"
   },
   {
    "duration": 28,
    "start_time": "2023-08-11T09:23:45.554Z"
   },
   {
    "duration": 64,
    "start_time": "2023-08-11T09:23:46.870Z"
   },
   {
    "duration": 284,
    "start_time": "2023-08-11T09:23:48.512Z"
   },
   {
    "duration": 33,
    "start_time": "2023-08-11T09:23:50.118Z"
   },
   {
    "duration": 40,
    "start_time": "2023-08-11T09:23:52.281Z"
   },
   {
    "duration": 52,
    "start_time": "2023-08-11T09:24:07.542Z"
   },
   {
    "duration": 31,
    "start_time": "2023-08-11T09:24:09.091Z"
   },
   {
    "duration": 76,
    "start_time": "2023-08-11T09:24:10.382Z"
   },
   {
    "duration": 20,
    "start_time": "2023-08-11T09:24:11.686Z"
   },
   {
    "duration": 4,
    "start_time": "2023-08-11T09:24:13.919Z"
   },
   {
    "duration": 41,
    "start_time": "2023-08-11T09:24:15.486Z"
   },
   {
    "duration": 4,
    "start_time": "2023-08-11T09:24:17.154Z"
   },
   {
    "duration": 81,
    "start_time": "2023-08-11T09:24:18.742Z"
   },
   {
    "duration": 4,
    "start_time": "2023-08-11T09:24:28.526Z"
   },
   {
    "duration": 80,
    "start_time": "2023-08-11T09:24:29.982Z"
   },
   {
    "duration": 64,
    "start_time": "2023-08-11T09:25:46.843Z"
   },
   {
    "duration": 65,
    "start_time": "2023-08-11T09:25:48.670Z"
   },
   {
    "duration": 63,
    "start_time": "2023-08-11T09:25:50.603Z"
   },
   {
    "duration": 52,
    "start_time": "2023-08-11T09:25:52.103Z"
   },
   {
    "duration": 641,
    "start_time": "2023-08-11T10:30:03.439Z"
   },
   {
    "duration": 112,
    "start_time": "2023-08-11T10:31:27.523Z"
   },
   {
    "duration": 246,
    "start_time": "2023-08-11T10:31:33.455Z"
   },
   {
    "duration": 7,
    "start_time": "2023-08-11T10:32:08.528Z"
   },
   {
    "duration": 5,
    "start_time": "2023-08-11T10:33:44.167Z"
   },
   {
    "duration": 5,
    "start_time": "2023-08-11T10:35:59.552Z"
   },
   {
    "duration": 7,
    "start_time": "2023-08-11T10:36:22.118Z"
   },
   {
    "duration": 4,
    "start_time": "2023-08-11T10:39:04.072Z"
   },
   {
    "duration": 9,
    "start_time": "2023-08-11T10:41:52.048Z"
   },
   {
    "duration": 1183,
    "start_time": "2023-08-11T10:42:47.156Z"
   },
   {
    "duration": 213,
    "start_time": "2023-08-11T10:42:49.646Z"
   },
   {
    "duration": 41,
    "start_time": "2023-08-11T10:42:50.754Z"
   },
   {
    "duration": 18,
    "start_time": "2023-08-11T10:42:51.621Z"
   },
   {
    "duration": 7,
    "start_time": "2023-08-11T10:42:52.411Z"
   },
   {
    "duration": 16,
    "start_time": "2023-08-11T10:42:53.148Z"
   },
   {
    "duration": 93,
    "start_time": "2023-08-11T10:42:54.116Z"
   },
   {
    "duration": 102,
    "start_time": "2023-08-11T10:42:55.020Z"
   },
   {
    "duration": 95,
    "start_time": "2023-08-11T10:42:55.729Z"
   },
   {
    "duration": 77,
    "start_time": "2023-08-11T10:42:56.406Z"
   },
   {
    "duration": 29,
    "start_time": "2023-08-11T10:42:57.211Z"
   },
   {
    "duration": 28,
    "start_time": "2023-08-11T10:42:58.045Z"
   },
   {
    "duration": 56,
    "start_time": "2023-08-11T10:42:58.846Z"
   },
   {
    "duration": 302,
    "start_time": "2023-08-11T10:42:59.625Z"
   },
   {
    "duration": 51,
    "start_time": "2023-08-11T10:43:00.769Z"
   },
   {
    "duration": 26,
    "start_time": "2023-08-11T10:43:01.718Z"
   },
   {
    "duration": 51,
    "start_time": "2023-08-11T10:43:02.524Z"
   },
   {
    "duration": 36,
    "start_time": "2023-08-11T10:43:03.365Z"
   },
   {
    "duration": 73,
    "start_time": "2023-08-11T10:43:04.145Z"
   },
   {
    "duration": 18,
    "start_time": "2023-08-11T10:43:04.918Z"
   },
   {
    "duration": 5,
    "start_time": "2023-08-11T10:43:05.769Z"
   },
   {
    "duration": 32,
    "start_time": "2023-08-11T10:43:06.421Z"
   },
   {
    "duration": 5,
    "start_time": "2023-08-11T10:43:07.161Z"
   },
   {
    "duration": 83,
    "start_time": "2023-08-11T10:43:07.961Z"
   },
   {
    "duration": 75,
    "start_time": "2023-08-11T10:43:08.665Z"
   },
   {
    "duration": 72,
    "start_time": "2023-08-11T10:43:09.445Z"
   },
   {
    "duration": 53,
    "start_time": "2023-08-11T10:43:10.229Z"
   },
   {
    "duration": 52,
    "start_time": "2023-08-11T10:43:11.010Z"
   },
   {
    "duration": 4,
    "start_time": "2023-08-11T10:43:11.761Z"
   },
   {
    "duration": 10,
    "start_time": "2023-08-11T10:43:12.485Z"
   },
   {
    "duration": 5,
    "start_time": "2023-08-11T10:43:16.961Z"
   },
   {
    "duration": 13,
    "start_time": "2023-08-11T10:43:18.808Z"
   },
   {
    "duration": 7,
    "start_time": "2023-08-11T10:43:19.729Z"
   },
   {
    "duration": 9,
    "start_time": "2023-08-11T10:43:20.862Z"
   },
   {
    "duration": 10,
    "start_time": "2023-08-11T10:45:02.655Z"
   },
   {
    "duration": 19,
    "start_time": "2023-08-11T10:48:11.076Z"
   },
   {
    "duration": 10,
    "start_time": "2023-08-11T10:48:36.913Z"
   },
   {
    "duration": 5,
    "start_time": "2023-08-11T10:48:39.467Z"
   },
   {
    "duration": 6,
    "start_time": "2023-08-11T10:48:40.861Z"
   },
   {
    "duration": 6,
    "start_time": "2023-08-11T10:48:42.252Z"
   },
   {
    "duration": 6,
    "start_time": "2023-08-11T10:48:43.663Z"
   },
   {
    "duration": 18,
    "start_time": "2023-08-11T10:48:44.911Z"
   },
   {
    "duration": 17,
    "start_time": "2023-08-11T10:48:46.692Z"
   },
   {
    "duration": 12,
    "start_time": "2023-08-11T10:48:48.318Z"
   },
   {
    "duration": 57,
    "start_time": "2023-08-11T10:50:15.362Z"
   },
   {
    "duration": 44,
    "start_time": "2023-08-11T10:50:30.563Z"
   },
   {
    "duration": 44,
    "start_time": "2023-08-11T10:50:51.273Z"
   },
   {
    "duration": 15,
    "start_time": "2023-08-11T14:24:52.038Z"
   },
   {
    "duration": 9,
    "start_time": "2023-08-11T14:25:12.708Z"
   },
   {
    "duration": 96,
    "start_time": "2023-08-11T14:35:48.102Z"
   },
   {
    "duration": 134,
    "start_time": "2023-08-11T14:37:50.298Z"
   },
   {
    "duration": 1470,
    "start_time": "2023-08-11T14:59:49.366Z"
   },
   {
    "duration": 870,
    "start_time": "2023-08-11T14:59:51.791Z"
   },
   {
    "duration": 23,
    "start_time": "2023-08-11T14:59:54.947Z"
   },
   {
    "duration": 4,
    "start_time": "2023-08-11T14:59:56.883Z"
   },
   {
    "duration": 24,
    "start_time": "2023-08-11T14:59:58.348Z"
   },
   {
    "duration": 136,
    "start_time": "2023-08-11T15:00:00.258Z"
   },
   {
    "duration": 98,
    "start_time": "2023-08-11T15:00:02.646Z"
   },
   {
    "duration": 109,
    "start_time": "2023-08-11T15:00:04.551Z"
   },
   {
    "duration": 114,
    "start_time": "2023-08-11T15:00:06.466Z"
   },
   {
    "duration": 46,
    "start_time": "2023-08-11T15:00:07.983Z"
   },
   {
    "duration": 30,
    "start_time": "2023-08-11T15:00:09.567Z"
   },
   {
    "duration": 90,
    "start_time": "2023-08-11T15:00:11.482Z"
   },
   {
    "duration": 388,
    "start_time": "2023-08-11T15:00:13.403Z"
   },
   {
    "duration": 46,
    "start_time": "2023-08-11T15:00:18.015Z"
   },
   {
    "duration": 33,
    "start_time": "2023-08-11T15:00:19.491Z"
   },
   {
    "duration": 80,
    "start_time": "2023-08-11T15:00:29.846Z"
   },
   {
    "duration": 35,
    "start_time": "2023-08-11T15:00:31.524Z"
   },
   {
    "duration": 83,
    "start_time": "2023-08-11T15:00:33.051Z"
   },
   {
    "duration": 22,
    "start_time": "2023-08-11T15:00:34.536Z"
   },
   {
    "duration": 14,
    "start_time": "2023-08-11T15:01:08.376Z"
   },
   {
    "duration": 6,
    "start_time": "2023-08-11T15:01:22.193Z"
   },
   {
    "duration": 48,
    "start_time": "2023-08-11T15:01:23.787Z"
   },
   {
    "duration": 5,
    "start_time": "2023-08-11T15:01:25.263Z"
   },
   {
    "duration": 91,
    "start_time": "2023-08-11T15:01:27.189Z"
   },
   {
    "duration": 76,
    "start_time": "2023-08-11T15:01:29.042Z"
   },
   {
    "duration": 62,
    "start_time": "2023-08-11T15:01:30.443Z"
   },
   {
    "duration": 61,
    "start_time": "2023-08-11T15:01:32.843Z"
   },
   {
    "duration": 6,
    "start_time": "2023-08-11T15:01:35.047Z"
   },
   {
    "duration": 6,
    "start_time": "2023-08-11T15:01:37.101Z"
   },
   {
    "duration": 7,
    "start_time": "2023-08-11T15:01:38.244Z"
   },
   {
    "duration": 5,
    "start_time": "2023-08-11T15:01:39.744Z"
   },
   {
    "duration": 10,
    "start_time": "2023-08-11T15:01:41.101Z"
   },
   {
    "duration": 8,
    "start_time": "2023-08-11T15:01:42.783Z"
   },
   {
    "duration": 10,
    "start_time": "2023-08-11T15:01:44.172Z"
   },
   {
    "duration": 34,
    "start_time": "2023-08-11T15:01:45.655Z"
   },
   {
    "duration": 28,
    "start_time": "2023-08-11T15:01:47.352Z"
   },
   {
    "duration": 6,
    "start_time": "2023-08-11T15:02:25.748Z"
   },
   {
    "duration": 89,
    "start_time": "2023-08-11T15:02:27.580Z"
   },
   {
    "duration": 96,
    "start_time": "2023-08-11T15:02:29.963Z"
   },
   {
    "duration": 75,
    "start_time": "2023-08-11T15:02:31.664Z"
   },
   {
    "duration": 69,
    "start_time": "2023-08-11T15:02:33.259Z"
   },
   {
    "duration": 10,
    "start_time": "2023-08-11T15:02:35.951Z"
   },
   {
    "duration": 7,
    "start_time": "2023-08-11T15:02:37.740Z"
   },
   {
    "duration": 1125,
    "start_time": "2023-08-11T15:02:48.476Z"
   },
   {
    "duration": 178,
    "start_time": "2023-08-11T15:02:50.491Z"
   },
   {
    "duration": 33,
    "start_time": "2023-08-11T15:02:51.814Z"
   },
   {
    "duration": 5,
    "start_time": "2023-08-11T15:02:53.663Z"
   },
   {
    "duration": 21,
    "start_time": "2023-08-11T15:03:11.531Z"
   },
   {
    "duration": 92,
    "start_time": "2023-08-11T15:03:13.199Z"
   },
   {
    "duration": 90,
    "start_time": "2023-08-11T15:03:14.913Z"
   },
   {
    "duration": 123,
    "start_time": "2023-08-11T15:03:16.444Z"
   },
   {
    "duration": 103,
    "start_time": "2023-08-11T15:03:17.459Z"
   },
   {
    "duration": 40,
    "start_time": "2023-08-11T15:03:18.832Z"
   },
   {
    "duration": 50,
    "start_time": "2023-08-11T15:03:20.587Z"
   },
   {
    "duration": 63,
    "start_time": "2023-08-11T15:03:22.188Z"
   },
   {
    "duration": 291,
    "start_time": "2023-08-11T15:03:24.113Z"
   },
   {
    "duration": 57,
    "start_time": "2023-08-11T15:03:26.448Z"
   },
   {
    "duration": 48,
    "start_time": "2023-08-11T15:03:28.459Z"
   },
   {
    "duration": 29,
    "start_time": "2023-08-11T15:03:29.971Z"
   },
   {
    "duration": 73,
    "start_time": "2023-08-11T15:03:31.387Z"
   },
   {
    "duration": 16,
    "start_time": "2023-08-11T15:03:32.887Z"
   },
   {
    "duration": 6,
    "start_time": "2023-08-11T15:03:35.188Z"
   },
   {
    "duration": 50,
    "start_time": "2023-08-11T15:03:36.672Z"
   },
   {
    "duration": 6,
    "start_time": "2023-08-11T15:03:37.988Z"
   },
   {
    "duration": 84,
    "start_time": "2023-08-11T15:03:39.743Z"
   },
   {
    "duration": 89,
    "start_time": "2023-08-11T15:03:41.407Z"
   },
   {
    "duration": 65,
    "start_time": "2023-08-11T15:03:43.318Z"
   },
   {
    "duration": 64,
    "start_time": "2023-08-11T15:03:44.756Z"
   },
   {
    "duration": 7,
    "start_time": "2023-08-11T15:03:46.224Z"
   },
   {
    "duration": 8,
    "start_time": "2023-08-11T15:03:47.807Z"
   },
   {
    "duration": 8,
    "start_time": "2023-08-11T15:03:49.034Z"
   },
   {
    "duration": 10,
    "start_time": "2023-08-11T15:03:50.124Z"
   },
   {
    "duration": 11,
    "start_time": "2023-08-11T15:03:51.804Z"
   },
   {
    "duration": 9,
    "start_time": "2023-08-11T15:03:53.179Z"
   },
   {
    "duration": 19,
    "start_time": "2023-08-11T15:03:54.704Z"
   },
   {
    "duration": 33,
    "start_time": "2023-08-11T15:03:56.087Z"
   },
   {
    "duration": 62,
    "start_time": "2023-08-11T15:03:57.989Z"
   },
   {
    "duration": 1281,
    "start_time": "2023-08-11T18:56:32.859Z"
   },
   {
    "duration": 508,
    "start_time": "2023-08-11T18:56:34.143Z"
   },
   {
    "duration": 20,
    "start_time": "2023-08-11T18:56:34.652Z"
   },
   {
    "duration": 3,
    "start_time": "2023-08-11T18:56:34.673Z"
   },
   {
    "duration": 23,
    "start_time": "2023-08-11T18:56:34.678Z"
   },
   {
    "duration": 79,
    "start_time": "2023-08-11T18:56:34.703Z"
   },
   {
    "duration": 93,
    "start_time": "2023-08-11T18:56:34.784Z"
   },
   {
    "duration": 106,
    "start_time": "2023-08-11T18:56:34.879Z"
   },
   {
    "duration": 75,
    "start_time": "2023-08-11T18:56:34.987Z"
   },
   {
    "duration": 37,
    "start_time": "2023-08-11T18:56:35.063Z"
   },
   {
    "duration": 27,
    "start_time": "2023-08-11T18:56:35.102Z"
   },
   {
    "duration": 75,
    "start_time": "2023-08-11T18:56:35.131Z"
   },
   {
    "duration": 280,
    "start_time": "2023-08-11T18:56:35.208Z"
   },
   {
    "duration": 61,
    "start_time": "2023-08-11T18:56:35.491Z"
   },
   {
    "duration": 59,
    "start_time": "2023-08-11T18:56:35.554Z"
   },
   {
    "duration": 26,
    "start_time": "2023-08-11T18:56:35.614Z"
   },
   {
    "duration": 78,
    "start_time": "2023-08-11T18:56:35.642Z"
   },
   {
    "duration": 12,
    "start_time": "2023-08-11T18:56:35.721Z"
   },
   {
    "duration": 7,
    "start_time": "2023-08-11T18:56:35.734Z"
   },
   {
    "duration": 37,
    "start_time": "2023-08-11T18:56:35.742Z"
   },
   {
    "duration": 19,
    "start_time": "2023-08-11T18:56:35.781Z"
   },
   {
    "duration": 68,
    "start_time": "2023-08-11T18:56:35.801Z"
   },
   {
    "duration": 69,
    "start_time": "2023-08-11T18:56:35.871Z"
   },
   {
    "duration": 74,
    "start_time": "2023-08-11T18:56:35.942Z"
   },
   {
    "duration": 66,
    "start_time": "2023-08-11T18:56:36.018Z"
   },
   {
    "duration": 14,
    "start_time": "2023-08-11T18:56:36.086Z"
   },
   {
    "duration": 24,
    "start_time": "2023-08-11T18:56:36.102Z"
   },
   {
    "duration": 13,
    "start_time": "2023-08-11T18:56:36.128Z"
   },
   {
    "duration": 13,
    "start_time": "2023-08-11T18:56:36.142Z"
   },
   {
    "duration": 14,
    "start_time": "2023-08-11T18:56:36.156Z"
   },
   {
    "duration": 9,
    "start_time": "2023-08-11T18:56:36.171Z"
   },
   {
    "duration": 10,
    "start_time": "2023-08-11T18:56:36.181Z"
   },
   {
    "duration": 24,
    "start_time": "2023-08-11T18:56:36.192Z"
   },
   {
    "duration": 21,
    "start_time": "2023-08-11T18:56:36.217Z"
   },
   {
    "duration": 1488,
    "start_time": "2023-08-12T03:31:22.977Z"
   },
   {
    "duration": 983,
    "start_time": "2023-08-12T03:31:30.001Z"
   },
   {
    "duration": 35,
    "start_time": "2023-08-12T03:31:33.948Z"
   },
   {
    "duration": 15,
    "start_time": "2023-08-12T03:31:37.905Z"
   },
   {
    "duration": 114,
    "start_time": "2023-08-12T03:31:42.376Z"
   },
   {
    "duration": 43,
    "start_time": "2023-08-12T03:31:46.306Z"
   },
   {
    "duration": 137,
    "start_time": "2023-08-12T03:31:54.608Z"
   },
   {
    "duration": 131,
    "start_time": "2023-08-12T03:31:58.743Z"
   },
   {
    "duration": 167,
    "start_time": "2023-08-12T03:32:02.584Z"
   },
   {
    "duration": 89,
    "start_time": "2023-08-12T03:32:06.361Z"
   },
   {
    "duration": 34,
    "start_time": "2023-08-12T03:32:21.736Z"
   },
   {
    "duration": 46,
    "start_time": "2023-08-12T03:32:30.001Z"
   },
   {
    "duration": 97,
    "start_time": "2023-08-12T03:32:36.647Z"
   },
   {
    "duration": 363,
    "start_time": "2023-08-12T03:32:38.488Z"
   },
   {
    "duration": 15,
    "start_time": "2023-08-12T03:32:53.201Z"
   },
   {
    "duration": 75,
    "start_time": "2023-08-12T03:33:04.581Z"
   },
   {
    "duration": 6,
    "start_time": "2023-08-12T03:34:04.353Z"
   },
   {
    "duration": 12,
    "start_time": "2023-08-12T03:34:59.996Z"
   },
   {
    "duration": 11,
    "start_time": "2023-08-12T03:35:22.152Z"
   },
   {
    "duration": 15,
    "start_time": "2023-08-12T03:35:47.452Z"
   },
   {
    "duration": 18,
    "start_time": "2023-08-12T03:35:53.496Z"
   },
   {
    "duration": 17,
    "start_time": "2023-08-12T03:36:29.960Z"
   },
   {
    "duration": 159,
    "start_time": "2023-08-12T03:36:55.156Z"
   },
   {
    "duration": 26,
    "start_time": "2023-08-12T03:36:58.914Z"
   },
   {
    "duration": 17,
    "start_time": "2023-08-12T03:37:52.068Z"
   },
   {
    "duration": 5,
    "start_time": "2023-08-12T03:38:15.344Z"
   },
   {
    "duration": 5,
    "start_time": "2023-08-12T03:38:31.480Z"
   },
   {
    "duration": 26,
    "start_time": "2023-08-12T03:38:34.000Z"
   },
   {
    "duration": 41,
    "start_time": "2023-08-12T03:39:28.407Z"
   },
   {
    "duration": 86,
    "start_time": "2023-08-12T03:39:33.455Z"
   },
   {
    "duration": 25,
    "start_time": "2023-08-12T03:39:34.924Z"
   },
   {
    "duration": 6,
    "start_time": "2023-08-12T03:39:37.347Z"
   },
   {
    "duration": 51,
    "start_time": "2023-08-12T03:39:44.233Z"
   },
   {
    "duration": 58,
    "start_time": "2023-08-12T03:40:24.176Z"
   },
   {
    "duration": 65,
    "start_time": "2023-08-12T03:40:46.068Z"
   },
   {
    "duration": 5,
    "start_time": "2023-08-12T03:41:28.468Z"
   },
   {
    "duration": 131,
    "start_time": "2023-08-12T03:41:30.618Z"
   },
   {
    "duration": 97,
    "start_time": "2023-08-12T03:41:32.176Z"
   },
   {
    "duration": 84,
    "start_time": "2023-08-12T03:41:33.791Z"
   },
   {
    "duration": 94,
    "start_time": "2023-08-12T03:41:35.248Z"
   },
   {
    "duration": 10,
    "start_time": "2023-08-12T03:41:37.814Z"
   },
   {
    "duration": 97,
    "start_time": "2023-08-12T03:42:14.742Z"
   },
   {
    "duration": 109,
    "start_time": "2023-08-12T03:42:25.134Z"
   },
   {
    "duration": 83,
    "start_time": "2023-08-12T03:42:27.307Z"
   },
   {
    "duration": 93,
    "start_time": "2023-08-12T03:42:35.808Z"
   },
   {
    "duration": 72,
    "start_time": "2023-08-12T03:42:43.143Z"
   },
   {
    "duration": 2933,
    "start_time": "2023-08-12T03:43:26.967Z"
   },
   {
    "duration": 5,
    "start_time": "2023-08-12T03:43:39.299Z"
   },
   {
    "duration": 6,
    "start_time": "2023-08-12T03:45:13.847Z"
   },
   {
    "duration": 1564,
    "start_time": "2023-08-12T03:46:54.879Z"
   },
   {
    "duration": 8,
    "start_time": "2023-08-12T03:47:07.475Z"
   },
   {
    "duration": 5,
    "start_time": "2023-08-12T03:47:57.887Z"
   },
   {
    "duration": 15,
    "start_time": "2023-08-12T03:50:04.535Z"
   },
   {
    "duration": 9,
    "start_time": "2023-08-12T03:50:38.343Z"
   },
   {
    "duration": 10,
    "start_time": "2023-08-12T03:51:08.343Z"
   },
   {
    "duration": 34,
    "start_time": "2023-08-12T03:52:32.344Z"
   },
   {
    "duration": 36,
    "start_time": "2023-08-12T03:52:46.579Z"
   },
   {
    "duration": 1296,
    "start_time": "2023-08-12T03:53:07.962Z"
   },
   {
    "duration": 195,
    "start_time": "2023-08-12T03:53:10.202Z"
   },
   {
    "duration": 32,
    "start_time": "2023-08-12T03:53:11.918Z"
   },
   {
    "duration": 6,
    "start_time": "2023-08-12T03:53:13.406Z"
   },
   {
    "duration": 26,
    "start_time": "2023-08-12T03:53:15.541Z"
   },
   {
    "duration": 124,
    "start_time": "2023-08-12T03:53:17.146Z"
   },
   {
    "duration": 109,
    "start_time": "2023-08-12T03:53:19.766Z"
   },
   {
    "duration": 119,
    "start_time": "2023-08-12T03:53:20.944Z"
   },
   {
    "duration": 89,
    "start_time": "2023-08-12T03:53:22.470Z"
   },
   {
    "duration": 30,
    "start_time": "2023-08-12T03:53:24.044Z"
   },
   {
    "duration": 42,
    "start_time": "2023-08-12T03:53:25.601Z"
   },
   {
    "duration": 76,
    "start_time": "2023-08-12T03:53:27.358Z"
   },
   {
    "duration": 402,
    "start_time": "2023-08-12T03:53:29.302Z"
   },
   {
    "duration": 97,
    "start_time": "2023-08-12T03:53:31.506Z"
   },
   {
    "duration": 24,
    "start_time": "2023-08-12T03:53:34.350Z"
   },
   {
    "duration": 38,
    "start_time": "2023-08-12T03:53:35.703Z"
   },
   {
    "duration": 41,
    "start_time": "2023-08-12T03:53:38.398Z"
   },
   {
    "duration": 93,
    "start_time": "2023-08-12T03:53:40.311Z"
   },
   {
    "duration": 15,
    "start_time": "2023-08-12T03:53:43.070Z"
   },
   {
    "duration": 5,
    "start_time": "2023-08-12T03:53:44.959Z"
   },
   {
    "duration": 55,
    "start_time": "2023-08-12T03:53:46.707Z"
   },
   {
    "duration": 66,
    "start_time": "2023-08-12T03:53:48.094Z"
   },
   {
    "duration": 6,
    "start_time": "2023-08-12T03:53:50.540Z"
   },
   {
    "duration": 107,
    "start_time": "2023-08-12T03:53:52.095Z"
   },
   {
    "duration": 105,
    "start_time": "2023-08-12T03:53:55.846Z"
   },
   {
    "duration": 81,
    "start_time": "2023-08-12T03:53:57.170Z"
   },
   {
    "duration": 79,
    "start_time": "2023-08-12T03:53:58.670Z"
   },
   {
    "duration": 7,
    "start_time": "2023-08-12T03:54:00.695Z"
   },
   {
    "duration": 10,
    "start_time": "2023-08-12T03:54:01.830Z"
   },
   {
    "duration": 14,
    "start_time": "2023-08-12T03:54:03.427Z"
   },
   {
    "duration": 11,
    "start_time": "2023-08-12T03:54:04.924Z"
   },
   {
    "duration": 10,
    "start_time": "2023-08-12T03:54:06.291Z"
   },
   {
    "duration": 16,
    "start_time": "2023-08-12T03:54:07.603Z"
   },
   {
    "duration": 10,
    "start_time": "2023-08-12T03:54:08.962Z"
   },
   {
    "duration": 32,
    "start_time": "2023-08-12T03:54:10.246Z"
   },
   {
    "duration": 34,
    "start_time": "2023-08-12T03:54:12.551Z"
   },
   {
    "duration": 78,
    "start_time": "2023-08-12T04:50:23.084Z"
   },
   {
    "duration": 1950,
    "start_time": "2023-08-12T04:50:47.995Z"
   },
   {
    "duration": 1535,
    "start_time": "2023-08-12T04:50:49.955Z"
   },
   {
    "duration": 26,
    "start_time": "2023-08-12T04:50:51.493Z"
   },
   {
    "duration": 57,
    "start_time": "2023-08-12T04:50:51.524Z"
   },
   {
    "duration": 99,
    "start_time": "2023-08-12T04:50:51.584Z"
   },
   {
    "duration": 159,
    "start_time": "2023-08-12T04:50:51.685Z"
   },
   {
    "duration": 210,
    "start_time": "2023-08-12T04:50:51.846Z"
   },
   {
    "duration": 146,
    "start_time": "2023-08-12T04:50:52.062Z"
   },
   {
    "duration": 108,
    "start_time": "2023-08-12T04:50:52.215Z"
   },
   {
    "duration": 43,
    "start_time": "2023-08-12T04:50:52.329Z"
   },
   {
    "duration": 111,
    "start_time": "2023-08-12T04:50:52.377Z"
   },
   {
    "duration": 205,
    "start_time": "2023-08-12T04:50:52.497Z"
   },
   {
    "duration": 449,
    "start_time": "2023-08-12T04:50:52.707Z"
   },
   {
    "duration": 92,
    "start_time": "2023-08-12T04:50:53.164Z"
   },
   {
    "duration": 36,
    "start_time": "2023-08-12T04:50:53.261Z"
   },
   {
    "duration": 147,
    "start_time": "2023-08-12T04:50:53.303Z"
   },
   {
    "duration": 168,
    "start_time": "2023-08-12T04:50:53.460Z"
   },
   {
    "duration": 227,
    "start_time": "2023-08-12T04:50:53.641Z"
   },
   {
    "duration": 26,
    "start_time": "2023-08-12T04:50:53.876Z"
   },
   {
    "duration": 92,
    "start_time": "2023-08-12T04:50:53.904Z"
   },
   {
    "duration": 166,
    "start_time": "2023-08-12T04:50:53.998Z"
   },
   {
    "duration": 106,
    "start_time": "2023-08-12T04:50:54.167Z"
   },
   {
    "duration": 139,
    "start_time": "2023-08-12T04:50:54.276Z"
   },
   {
    "duration": 6,
    "start_time": "2023-08-12T04:50:54.417Z"
   },
   {
    "duration": 190,
    "start_time": "2023-08-12T04:50:54.425Z"
   },
   {
    "duration": 105,
    "start_time": "2023-08-12T04:50:54.618Z"
   },
   {
    "duration": 117,
    "start_time": "2023-08-12T04:50:54.725Z"
   },
   {
    "duration": 114,
    "start_time": "2023-08-12T04:50:54.844Z"
   },
   {
    "duration": 48,
    "start_time": "2023-08-12T04:50:54.963Z"
   },
   {
    "duration": 155,
    "start_time": "2023-08-12T04:50:55.023Z"
   },
   {
    "duration": 56,
    "start_time": "2023-08-12T04:50:55.182Z"
   },
   {
    "duration": 50,
    "start_time": "2023-08-12T04:50:55.246Z"
   },
   {
    "duration": 46,
    "start_time": "2023-08-12T04:50:55.298Z"
   },
   {
    "duration": 121,
    "start_time": "2023-08-12T04:50:55.346Z"
   },
   {
    "duration": 93,
    "start_time": "2023-08-12T04:50:55.469Z"
   },
   {
    "duration": 117,
    "start_time": "2023-08-12T04:50:55.563Z"
   },
   {
    "duration": 193,
    "start_time": "2023-08-12T04:50:55.682Z"
   },
   {
    "duration": 1589,
    "start_time": "2023-08-12T04:51:51.878Z"
   },
   {
    "duration": 245,
    "start_time": "2023-08-12T04:51:53.471Z"
   },
   {
    "duration": 40,
    "start_time": "2023-08-12T04:51:53.722Z"
   },
   {
    "duration": 122,
    "start_time": "2023-08-12T04:51:53.770Z"
   },
   {
    "duration": 76,
    "start_time": "2023-08-12T04:51:53.894Z"
   },
   {
    "duration": 295,
    "start_time": "2023-08-12T04:51:53.972Z"
   },
   {
    "duration": 193,
    "start_time": "2023-08-12T04:51:54.270Z"
   },
   {
    "duration": 139,
    "start_time": "2023-08-12T04:51:54.468Z"
   },
   {
    "duration": 117,
    "start_time": "2023-08-12T04:51:54.616Z"
   },
   {
    "duration": 44,
    "start_time": "2023-08-12T04:51:54.739Z"
   },
   {
    "duration": 102,
    "start_time": "2023-08-12T04:51:54.788Z"
   },
   {
    "duration": 148,
    "start_time": "2023-08-12T04:51:54.892Z"
   },
   {
    "duration": 450,
    "start_time": "2023-08-12T04:51:55.042Z"
   },
   {
    "duration": 99,
    "start_time": "2023-08-12T04:51:55.494Z"
   },
   {
    "duration": 127,
    "start_time": "2023-08-12T04:51:55.595Z"
   },
   {
    "duration": 95,
    "start_time": "2023-08-12T04:51:55.730Z"
   },
   {
    "duration": 137,
    "start_time": "2023-08-12T04:51:55.827Z"
   },
   {
    "duration": 191,
    "start_time": "2023-08-12T04:51:55.967Z"
   },
   {
    "duration": 62,
    "start_time": "2023-08-12T04:51:56.160Z"
   },
   {
    "duration": 80,
    "start_time": "2023-08-12T04:51:56.224Z"
   },
   {
    "duration": 174,
    "start_time": "2023-08-12T04:51:56.306Z"
   },
   {
    "duration": 176,
    "start_time": "2023-08-12T04:51:56.483Z"
   },
   {
    "duration": 63,
    "start_time": "2023-08-12T04:51:56.661Z"
   },
   {
    "duration": 139,
    "start_time": "2023-08-12T04:51:56.726Z"
   },
   {
    "duration": 285,
    "start_time": "2023-08-12T04:51:56.874Z"
   },
   {
    "duration": 142,
    "start_time": "2023-08-12T04:51:57.161Z"
   },
   {
    "duration": 129,
    "start_time": "2023-08-12T04:51:57.308Z"
   },
   {
    "duration": 116,
    "start_time": "2023-08-12T04:51:57.449Z"
   },
   {
    "duration": 7,
    "start_time": "2023-08-12T04:51:57.571Z"
   },
   {
    "duration": 105,
    "start_time": "2023-08-12T04:51:57.589Z"
   },
   {
    "duration": 80,
    "start_time": "2023-08-12T04:51:57.696Z"
   },
   {
    "duration": 17,
    "start_time": "2023-08-12T04:51:57.778Z"
   },
   {
    "duration": 179,
    "start_time": "2023-08-12T04:51:57.798Z"
   },
   {
    "duration": 128,
    "start_time": "2023-08-12T04:51:57.979Z"
   },
   {
    "duration": 110,
    "start_time": "2023-08-12T04:51:58.110Z"
   },
   {
    "duration": 183,
    "start_time": "2023-08-12T04:51:58.222Z"
   },
   {
    "duration": 152,
    "start_time": "2023-08-12T04:51:58.408Z"
   },
   {
    "duration": 57,
    "start_time": "2023-08-12T04:53:30.872Z"
   },
   {
    "duration": 53,
    "start_time": "2023-08-12T04:53:37.279Z"
   },
   {
    "duration": 48,
    "start_time": "2023-08-12T06:10:00.881Z"
   },
   {
    "duration": 1259,
    "start_time": "2023-08-12T06:10:08.448Z"
   },
   {
    "duration": 730,
    "start_time": "2023-08-12T06:10:11.188Z"
   },
   {
    "duration": 19,
    "start_time": "2023-08-12T06:10:13.584Z"
   },
   {
    "duration": 4,
    "start_time": "2023-08-12T06:10:15.164Z"
   },
   {
    "duration": 22,
    "start_time": "2023-08-12T06:10:16.716Z"
   },
   {
    "duration": 93,
    "start_time": "2023-08-12T06:10:18.384Z"
   },
   {
    "duration": 84,
    "start_time": "2023-08-12T06:10:19.852Z"
   },
   {
    "duration": 102,
    "start_time": "2023-08-12T06:10:21.460Z"
   },
   {
    "duration": 76,
    "start_time": "2023-08-12T06:10:23.153Z"
   },
   {
    "duration": 29,
    "start_time": "2023-08-12T06:10:25.260Z"
   },
   {
    "duration": 26,
    "start_time": "2023-08-12T06:10:26.740Z"
   },
   {
    "duration": 59,
    "start_time": "2023-08-12T06:10:28.104Z"
   },
   {
    "duration": 276,
    "start_time": "2023-08-12T06:10:30.000Z"
   },
   {
    "duration": 57,
    "start_time": "2023-08-12T06:10:32.256Z"
   },
   {
    "duration": 13,
    "start_time": "2023-08-12T06:10:34.492Z"
   },
   {
    "duration": 14,
    "start_time": "2023-08-12T06:10:35.932Z"
   },
   {
    "duration": 26,
    "start_time": "2023-08-12T06:10:39.321Z"
   },
   {
    "duration": 68,
    "start_time": "2023-08-12T06:10:41.109Z"
   },
   {
    "duration": 15,
    "start_time": "2023-08-12T06:10:43.097Z"
   },
   {
    "duration": 5,
    "start_time": "2023-08-12T06:10:46.516Z"
   },
   {
    "duration": 36,
    "start_time": "2023-08-12T06:10:54.660Z"
   },
   {
    "duration": 40,
    "start_time": "2023-08-12T06:11:12.969Z"
   },
   {
    "duration": 5,
    "start_time": "2023-08-12T06:11:27.644Z"
   },
   {
    "duration": 78,
    "start_time": "2023-08-12T06:11:29.116Z"
   },
   {
    "duration": 66,
    "start_time": "2023-08-12T06:11:30.393Z"
   },
   {
    "duration": 67,
    "start_time": "2023-08-12T06:11:32.140Z"
   },
   {
    "duration": 65,
    "start_time": "2023-08-12T06:11:33.452Z"
   },
   {
    "duration": 5,
    "start_time": "2023-08-12T06:11:35.904Z"
   },
   {
    "duration": 6,
    "start_time": "2023-08-12T06:11:37.560Z"
   },
   {
    "duration": 7,
    "start_time": "2023-08-12T06:12:19.508Z"
   },
   {
    "duration": 9,
    "start_time": "2023-08-12T06:12:34.017Z"
   },
   {
    "duration": 75,
    "start_time": "2023-08-12T06:13:00.632Z"
   },
   {
    "duration": 25,
    "start_time": "2023-08-12T06:13:34.097Z"
   },
   {
    "duration": 5,
    "start_time": "2023-08-12T06:14:22.969Z"
   },
   {
    "duration": 7,
    "start_time": "2023-08-12T06:17:23.293Z"
   },
   {
    "duration": 7,
    "start_time": "2023-08-12T06:17:53.438Z"
   },
   {
    "duration": 9,
    "start_time": "2023-08-12T06:18:08.946Z"
   },
   {
    "duration": 5,
    "start_time": "2023-08-12T06:18:29.906Z"
   },
   {
    "duration": 11,
    "start_time": "2023-08-12T06:18:36.338Z"
   },
   {
    "duration": 10,
    "start_time": "2023-08-12T06:19:32.314Z"
   },
   {
    "duration": 10,
    "start_time": "2023-08-12T06:20:03.514Z"
   },
   {
    "duration": 12,
    "start_time": "2023-08-12T06:20:32.589Z"
   },
   {
    "duration": 36,
    "start_time": "2023-08-12T06:22:17.783Z"
   },
   {
    "duration": 36,
    "start_time": "2023-08-12T06:23:03.714Z"
   },
   {
    "duration": 1391,
    "start_time": "2023-08-12T10:43:22.176Z"
   },
   {
    "duration": 817,
    "start_time": "2023-08-12T10:43:23.573Z"
   },
   {
    "duration": 23,
    "start_time": "2023-08-12T10:43:24.391Z"
   },
   {
    "duration": 4,
    "start_time": "2023-08-12T10:43:24.417Z"
   },
   {
    "duration": 38,
    "start_time": "2023-08-12T10:43:24.423Z"
   },
   {
    "duration": 97,
    "start_time": "2023-08-12T10:43:24.463Z"
   },
   {
    "duration": 114,
    "start_time": "2023-08-12T10:43:24.562Z"
   },
   {
    "duration": 136,
    "start_time": "2023-08-12T10:43:24.679Z"
   },
   {
    "duration": 122,
    "start_time": "2023-08-12T10:43:24.817Z"
   },
   {
    "duration": 47,
    "start_time": "2023-08-12T10:43:24.943Z"
   },
   {
    "duration": 37,
    "start_time": "2023-08-12T10:43:24.992Z"
   },
   {
    "duration": 94,
    "start_time": "2023-08-12T10:43:25.031Z"
   },
   {
    "duration": 401,
    "start_time": "2023-08-12T10:43:25.127Z"
   },
   {
    "duration": 70,
    "start_time": "2023-08-12T10:43:25.530Z"
   },
   {
    "duration": 15,
    "start_time": "2023-08-12T10:43:25.602Z"
   },
   {
    "duration": 45,
    "start_time": "2023-08-12T10:43:25.619Z"
   },
   {
    "duration": 33,
    "start_time": "2023-08-12T10:43:25.667Z"
   },
   {
    "duration": 105,
    "start_time": "2023-08-12T10:43:25.702Z"
   },
   {
    "duration": 22,
    "start_time": "2023-08-12T10:43:25.809Z"
   },
   {
    "duration": 34,
    "start_time": "2023-08-12T10:43:25.832Z"
   },
   {
    "duration": 61,
    "start_time": "2023-08-12T10:43:25.868Z"
   },
   {
    "duration": 53,
    "start_time": "2023-08-12T10:43:25.931Z"
   },
   {
    "duration": 7,
    "start_time": "2023-08-12T10:43:25.986Z"
   },
   {
    "duration": 110,
    "start_time": "2023-08-12T10:43:25.995Z"
   },
   {
    "duration": 81,
    "start_time": "2023-08-12T10:43:26.107Z"
   },
   {
    "duration": 81,
    "start_time": "2023-08-12T10:43:26.190Z"
   },
   {
    "duration": 66,
    "start_time": "2023-08-12T10:43:26.273Z"
   },
   {
    "duration": 20,
    "start_time": "2023-08-12T10:43:26.342Z"
   },
   {
    "duration": 13,
    "start_time": "2023-08-12T10:43:26.372Z"
   },
   {
    "duration": 17,
    "start_time": "2023-08-12T10:43:26.387Z"
   },
   {
    "duration": 16,
    "start_time": "2023-08-12T10:43:26.406Z"
   },
   {
    "duration": 14,
    "start_time": "2023-08-12T10:43:26.425Z"
   },
   {
    "duration": 54,
    "start_time": "2023-08-12T10:43:26.457Z"
   },
   {
    "duration": 62,
    "start_time": "2023-08-12T10:43:26.513Z"
   }
  ],
  "kernelspec": {
   "display_name": "Python 3 (ipykernel)",
   "language": "python",
   "name": "python3"
  },
  "language_info": {
   "codemirror_mode": {
    "name": "ipython",
    "version": 3
   },
   "file_extension": ".py",
   "mimetype": "text/x-python",
   "name": "python",
   "nbconvert_exporter": "python",
   "pygments_lexer": "ipython3",
   "version": "3.10.9"
  },
  "toc": {
   "base_numbering": 1,
   "nav_menu": {},
   "number_sections": true,
   "sideBar": true,
   "skip_h1_title": true,
   "title_cell": "Table of Contents",
   "title_sidebar": "Contents",
   "toc_cell": false,
   "toc_position": {},
   "toc_section_display": true,
   "toc_window_display": false
  }
 },
 "nbformat": 4,
 "nbformat_minor": 2
}
