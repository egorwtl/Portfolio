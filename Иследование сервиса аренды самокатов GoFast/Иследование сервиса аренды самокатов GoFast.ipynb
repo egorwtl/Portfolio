{
 "cells": [
  {
   "cell_type": "markdown",
   "id": "c00f364f",
   "metadata": {},
   "source": [
    "# Иследование сервиса аренды самокатов GoFast"
   ]
  },
  {
   "cell_type": "markdown",
   "id": "a82e6f59",
   "metadata": {},
   "source": [
    "В нашем распоряжении данные сервиса аренды самокатов GoFast о некоторых пользователях из нескольких городов, а также об их поездках. Наша задача: проанализировать данные и проверить некоторые гипотезы, которые могут помочь бизнесу вырасти и решить, стоит ли выполнять задачу продакт-менеджерам, которые хотят увеличить количество пользователей с подпиской. Чтобы совершать поездки по городу, пользователи сервиса GoFast пользуются мобильным приложением. \n",
    "\n",
    "**Сервисом можно пользоваться:**\n",
    "1. *Без подписки* \n",
    "\n",
    "абонентская плата отсутствует;\n",
    "стоимость одной минуты поездки —  8 рублей;\n",
    "стоимость старта (начала поездки) — 50 рублей;\n",
    "\n",
    "2. *С подпиской Ultra* \n",
    "\n",
    "абонентская плата — 199 рублей в месяц;\n",
    "стоимость одной минуты поездки —  6 рублей;\n",
    "стоимость старта — бесплатно.\n",
    "\n",
    "**Помимо этого, в нашем распоряжении данные следующие данные:** уникальный идентификатор пользователя; имя пользователя; возраст; город; тип подписки (free, ultra); расстояние, которое пользователь проехал в текущей сессии (в метрах); продолжительность сессии (в минутах) — время с того момента, как пользователь нажал кнопку «Начать поездку» до момента, как он нажал кнопку «Завершить поездку»; дата совершения поездки.\n",
    "\n",
    "**На основе этих данных мы проведем исследование и построим нашу работу следующим образом:**\n",
    "1. Загрузим, предобработаем и визуализируем имеющиеся данные.\n",
    "2. Подсчитаем выручку, которую сервису принес конкретный пользователь в конкретный месяц.\n",
    "3. На основе результатов, полученных во втором шаге, определим:\n",
    "а) Какая категория пользователей (с подпиской или без) тратит больше времени на аренду самокатов.\n",
    "б) Какая категория пользователей (с подпиской или без) проезжает большее расстояние.\n",
    "в) Какая категория пользователей (с подпиской или без) принесёт больше выручки бизнесу по месяцам."
   ]
  },
  {
   "cell_type": "code",
   "execution_count": 1,
   "id": "35a7e704",
   "metadata": {},
   "outputs": [],
   "source": [
    "import pandas as pd\n",
    "import numpy as np\n",
    "import matplotlib.pyplot as plt\n",
    "import scipy.stats as st"
   ]
  },
  {
   "cell_type": "markdown",
   "id": "9f7c4f70",
   "metadata": {},
   "source": [
    "#### Шаг 1. Загрузка данных"
   ]
  },
  {
   "cell_type": "code",
   "execution_count": 2,
   "id": "adf5b668",
   "metadata": {},
   "outputs": [
    {
     "name": "stdout",
     "output_type": "stream",
     "text": [
      "<class 'pandas.core.frame.DataFrame'>\n",
      "RangeIndex: 1565 entries, 0 to 1564\n",
      "Data columns (total 5 columns):\n",
      " #   Column             Non-Null Count  Dtype \n",
      "---  ------             --------------  ----- \n",
      " 0   user_id            1565 non-null   int64 \n",
      " 1   name               1565 non-null   object\n",
      " 2   age                1565 non-null   int64 \n",
      " 3   city               1565 non-null   object\n",
      " 4   subscription_type  1565 non-null   object\n",
      "dtypes: int64(2), object(3)\n",
      "memory usage: 61.3+ KB\n"
     ]
    }
   ],
   "source": [
    "users = pd.read_csv('/Users/egorkuzovcikov/Downloads/users_go.csv')\n",
    "users.info()"
   ]
  },
  {
   "cell_type": "markdown",
   "id": "0fea6e68",
   "metadata": {},
   "source": [
    "В датафрейме хранится 1565 наблюдений, пропусков не обнаружено – количество наблюдений во всех столбцах одинаковое."
   ]
  },
  {
   "cell_type": "code",
   "execution_count": 3,
   "id": "7e20c568",
   "metadata": {},
   "outputs": [
    {
     "name": "stdout",
     "output_type": "stream",
     "text": [
      "<class 'pandas.core.frame.DataFrame'>\n",
      "RangeIndex: 18068 entries, 0 to 18067\n",
      "Data columns (total 4 columns):\n",
      " #   Column    Non-Null Count  Dtype  \n",
      "---  ------    --------------  -----  \n",
      " 0   user_id   18068 non-null  int64  \n",
      " 1   distance  18068 non-null  float64\n",
      " 2   duration  18068 non-null  float64\n",
      " 3   date      18068 non-null  object \n",
      "dtypes: float64(2), int64(1), object(1)\n",
      "memory usage: 564.8+ KB\n"
     ]
    }
   ],
   "source": [
    "rides = pd.read_csv('/Users/egorkuzovcikov/Downloads/rides_go.csv')\n",
    "rides.info()"
   ]
  },
  {
   "cell_type": "markdown",
   "id": "4fb6162b",
   "metadata": {},
   "source": [
    "В датафрейме хранится 18068 наблюдений, что значительно больше, чем в датафрейме users. Это не вызывает опасений, так как каждая строка в датафрейме rides показывает отдельную поездку любого пользователя, а каждый из них мог совершать несколько поездок в месяц. Пропусков не обнаружено – количество наблюдений во всех столбцах одинаковое."
   ]
  },
  {
   "cell_type": "code",
   "execution_count": 4,
   "id": "b0b3798e",
   "metadata": {},
   "outputs": [
    {
     "name": "stdout",
     "output_type": "stream",
     "text": [
      "<class 'pandas.core.frame.DataFrame'>\n",
      "RangeIndex: 2 entries, 0 to 1\n",
      "Data columns (total 4 columns):\n",
      " #   Column             Non-Null Count  Dtype \n",
      "---  ------             --------------  ----- \n",
      " 0   subscription_type  2 non-null      object\n",
      " 1   minute_price       2 non-null      int64 \n",
      " 2   start_ride_price   2 non-null      int64 \n",
      " 3   subscription_fee   2 non-null      int64 \n",
      "dtypes: int64(3), object(1)\n",
      "memory usage: 192.0+ bytes\n"
     ]
    }
   ],
   "source": [
    "sub = pd.read_csv('/Users/egorkuzovcikov/Downloads/subscriptions_go.csv')\n",
    "sub.info()"
   ]
  },
  {
   "cell_type": "markdown",
   "id": "0e0e1377",
   "metadata": {},
   "source": [
    "В датафрейме хранится 2 наблюдения – по количеству доступных вариантов подписки. Пропусков не обнаружено – количество наблюдений во всех столбцах одинаковое.\n",
    "\n",
    "#### Шаг 2. Предобработка данных"
   ]
  },
  {
   "cell_type": "code",
   "execution_count": 5,
   "id": "414c7f0d",
   "metadata": {},
   "outputs": [],
   "source": [
    "rides['date'] = pd.to_datetime(rides['date'], format='%Y-%m-%d %H:%M')\n",
    "rides['month'] = rides['date'].dt.month"
   ]
  },
  {
   "cell_type": "markdown",
   "id": "505c563c",
   "metadata": {},
   "source": [
    "В датафреймах нет пропущенных значений."
   ]
  },
  {
   "cell_type": "code",
   "execution_count": 6,
   "id": "4e5d368c",
   "metadata": {},
   "outputs": [
    {
     "data": {
      "text/plain": [
       "31"
      ]
     },
     "execution_count": 6,
     "metadata": {},
     "output_type": "execute_result"
    }
   ],
   "source": [
    "users.duplicated().sum()"
   ]
  },
  {
   "cell_type": "markdown",
   "id": "af4f7fe9",
   "metadata": {},
   "source": [
    "В датафрейме users обнаружено 31 дубликат. Избавимся от них."
   ]
  },
  {
   "cell_type": "code",
   "execution_count": 7,
   "id": "833c010e",
   "metadata": {},
   "outputs": [
    {
     "data": {
      "text/plain": [
       "0"
      ]
     },
     "execution_count": 7,
     "metadata": {},
     "output_type": "execute_result"
    }
   ],
   "source": [
    "users = users.drop_duplicates()\n",
    "rides.duplicated().sum()"
   ]
  },
  {
   "cell_type": "markdown",
   "id": "38306730",
   "metadata": {},
   "source": [
    "В датафрейме rides не обнаружено дубликатов. \n",
    "\n",
    "Формат данных датафреймов не предполагает неявных дубликатов (а в датафрейме sub всего две строчки), поэтому после проверки на явные дубликаты фреймов users и rides удалили явные дубликаты.\n",
    "\n",
    "#### Шаг 3. Исследовательский анализ данных\n",
    "\n",
    "**1. Частота встречаемости городов**"
   ]
  },
  {
   "cell_type": "code",
   "execution_count": 8,
   "id": "f4bf90d8",
   "metadata": {},
   "outputs": [
    {
     "data": {
      "text/plain": [
       "city\n",
       "Пятигорск         219\n",
       "Екатеринбург      204\n",
       "Ростов-на-Дону    198\n",
       "Краснодар         193\n",
       "Сочи              189\n",
       "Омск              183\n",
       "Тюмень            180\n",
       "Москва            168\n",
       "dtype: int64"
      ]
     },
     "execution_count": 8,
     "metadata": {},
     "output_type": "execute_result"
    }
   ],
   "source": [
    "cities = users.value_counts('city')\n",
    "cities"
   ]
  },
  {
   "cell_type": "code",
   "execution_count": 9,
   "id": "28f51b5a",
   "metadata": {},
   "outputs": [
    {
     "data": {
      "image/png": "[encoded data removed]",
      "text/plain": [
       "<Figure size 640x480 with 1 Axes>"
      ]
     },
     "metadata": {},
     "output_type": "display_data"
    }
   ],
   "source": [
    "cities.plot(kind='bar', color='pink')\n",
    "plt.title('Частота встречаемости городов')\n",
    "plt.xlabel('Город')\n",
    "plt.ylabel('Количество пользователей')\n",
    "plt.show()"
   ]
  },
  {
   "cell_type": "markdown",
   "id": "9064f9f4",
   "metadata": {},
   "source": [
    "Больше всего пользователей в Пятигорске (219), меньше всего в Москве (168).\n",
    "\n",
    "**2. Соотношение пользователей с подпиской и без подписки**"
   ]
  },
  {
   "cell_type": "code",
   "execution_count": 10,
   "id": "5c2228e2",
   "metadata": {},
   "outputs": [
    {
     "data": {
      "text/plain": [
       "subscription_type\n",
       "free     835\n",
       "ultra    699\n",
       "dtype: int64"
      ]
     },
     "execution_count": 10,
     "metadata": {},
     "output_type": "execute_result"
    }
   ],
   "source": [
    "fee = users.value_counts('subscription_type')\n",
    "fee"
   ]
  },
  {
   "cell_type": "code",
   "execution_count": 11,
   "id": "34ef52e5",
   "metadata": {},
   "outputs": [
    {
     "data": {
      "image/png": "[encoded data removed]",
      "text/plain": [
       "<Figure size 640x480 with 1 Axes>"
      ]
     },
     "metadata": {},
     "output_type": "display_data"
    }
   ],
   "source": [
    "fee.plot(kind='pie', autopct='%1.2f%%')\n",
    "plt.title('Соотношение пользователей с подпиской и без подписки')\n",
    "plt.ylabel(None)\n",
    "plt.show()"
   ]
  },
  {
   "cell_type": "markdown",
   "id": "916ea739",
   "metadata": {},
   "source": [
    "Больше пользователей сервиса не имеют платной подписки (54,43% по сравнению с 45,57% у тех, кто имеет подписку). Без подписки – 835 пользователей, с подпиской – 699.\n",
    "\n",
    "**3.Возраст пользователей**"
   ]
  },
  {
   "cell_type": "code",
   "execution_count": 12,
   "id": "23f6c344",
   "metadata": {},
   "outputs": [
    {
     "data": {
      "image/png": "[encoded data removed]",
      "text/plain": [
       "<Figure size 640x480 with 1 Axes>"
      ]
     },
     "metadata": {},
     "output_type": "display_data"
    }
   ],
   "source": [
    "users['age'].hist(bins=70, color='green')\n",
    "plt.title('Распределение возраста пользователей')\n",
    "plt.xlabel('Возраст')\n",
    "plt.ylabel('Количество пользователей')\n",
    "plt.show()"
   ]
  },
  {
   "cell_type": "code",
   "execution_count": 13,
   "id": "bd992ad4",
   "metadata": {},
   "outputs": [
    {
     "data": {
      "text/plain": [
       "count    1534.000000\n",
       "mean       24.903520\n",
       "std         4.572367\n",
       "min        12.000000\n",
       "25%        22.000000\n",
       "50%        25.000000\n",
       "75%        28.000000\n",
       "max        43.000000\n",
       "Name: age, dtype: float64"
      ]
     },
     "execution_count": 13,
     "metadata": {},
     "output_type": "execute_result"
    }
   ],
   "source": [
    "users['age'].describe()"
   ]
  },
  {
   "cell_type": "markdown",
   "id": "5b2d193a",
   "metadata": {},
   "source": [
    "Преимущественно сервисом пользуются люди от 22 до 28 лет. Средний возраст пользователя -- 25 лет. Пользователей младше 12 и старше 43 не обнаружено.\n",
    "\n",
    "**4. Расстояние, которое пользователь преодолел за одну поездку**"
   ]
  },
  {
   "cell_type": "code",
   "execution_count": 14,
   "id": "91f73c6e",
   "metadata": {},
   "outputs": [
    {
     "data": {
      "image/png": "[encoded data removed]",
      "text/plain": [
       "<Figure size 640x480 with 1 Axes>"
      ]
     },
     "metadata": {},
     "output_type": "display_data"
    }
   ],
   "source": [
    "rides['distance'].hist(bins=500, color='orange')\n",
    "plt.title('Расстояние, которое пользователь преодолел за одну поездку')\n",
    "plt.xlabel('Растояние')\n",
    "plt.ylabel('Количество пользователей')\n",
    "plt.show()"
   ]
  },
  {
   "cell_type": "markdown",
   "id": "7e1b747b",
   "metadata": {},
   "source": [
    "Расстояние, преодолеваемое пользователями лежит в интервале от 2500 до 3500 метров. Пользователей, которые преодолевают больше 6000 метров практически не обнаружено. Имеется небольшой выброс на интервале от 0 до 1500 метров.\n",
    "\n",
    "**5. Продолжительность поездок**"
   ]
  },
  {
   "cell_type": "code",
   "execution_count": 15,
   "id": "6444bc6f",
   "metadata": {},
   "outputs": [
    {
     "data": {
      "image/png": "[encoded data removed]",
      "text/plain": [
       "<Figure size 640x480 with 1 Axes>"
      ]
     },
     "metadata": {},
     "output_type": "display_data"
    }
   ],
   "source": [
    "rides['duration'].hist(bins=100, color='red')\n",
    "plt.title('Распределение продолжительности поездок пользователей')\n",
    "plt.xlabel('Продолжительность')\n",
    "plt.ylabel('Количество пользователей')\n",
    "plt.show()"
   ]
  },
  {
   "cell_type": "markdown",
   "id": "bcff7335",
   "metadata": {},
   "source": [
    "Преимущественно поездки длятся от 5 до 30 минут. Поездок дольше, чем 35 минут практически не найдено."
   ]
  },
  {
   "cell_type": "code",
   "execution_count": 16,
   "id": "25675a94",
   "metadata": {},
   "outputs": [
    {
     "data": {
      "text/html": [
       "<div>\n",
       "<style scoped>\n",
       "    .dataframe tbody tr th:only-of-type {\n",
       "        vertical-align: middle;\n",
       "    }\n",
       "\n",
       "    .dataframe tbody tr th {\n",
       "        vertical-align: top;\n",
       "    }\n",
       "\n",
       "    .dataframe thead th {\n",
       "        text-align: right;\n",
       "    }\n",
       "</style>\n",
       "<table border=\"1\" class=\"dataframe\">\n",
       "  <thead>\n",
       "    <tr style=\"text-align: right;\">\n",
       "      <th></th>\n",
       "      <th>user_id</th>\n",
       "      <th>distance</th>\n",
       "      <th>duration</th>\n",
       "      <th>date</th>\n",
       "      <th>month</th>\n",
       "    </tr>\n",
       "  </thead>\n",
       "  <tbody>\n",
       "    <tr>\n",
       "      <th>12013</th>\n",
       "      <td>1102</td>\n",
       "      <td>4602.122401</td>\n",
       "      <td>0.500000</td>\n",
       "      <td>2021-08-01</td>\n",
       "      <td>8</td>\n",
       "    </tr>\n",
       "    <tr>\n",
       "      <th>17314</th>\n",
       "      <td>1483</td>\n",
       "      <td>4445.481070</td>\n",
       "      <td>0.500000</td>\n",
       "      <td>2021-03-06</td>\n",
       "      <td>3</td>\n",
       "    </tr>\n",
       "    <tr>\n",
       "      <th>15029</th>\n",
       "      <td>1318</td>\n",
       "      <td>5894.633314</td>\n",
       "      <td>0.500000</td>\n",
       "      <td>2021-03-28</td>\n",
       "      <td>3</td>\n",
       "    </tr>\n",
       "    <tr>\n",
       "      <th>7437</th>\n",
       "      <td>766</td>\n",
       "      <td>4539.088310</td>\n",
       "      <td>0.500000</td>\n",
       "      <td>2021-12-22</td>\n",
       "      <td>12</td>\n",
       "    </tr>\n",
       "    <tr>\n",
       "      <th>12967</th>\n",
       "      <td>1172</td>\n",
       "      <td>4907.140751</td>\n",
       "      <td>0.500000</td>\n",
       "      <td>2021-12-19</td>\n",
       "      <td>12</td>\n",
       "    </tr>\n",
       "    <tr>\n",
       "      <th>...</th>\n",
       "      <td>...</td>\n",
       "      <td>...</td>\n",
       "      <td>...</td>\n",
       "      <td>...</td>\n",
       "      <td>...</td>\n",
       "    </tr>\n",
       "    <tr>\n",
       "      <th>6453</th>\n",
       "      <td>694</td>\n",
       "      <td>4210.871467</td>\n",
       "      <td>38.265229</td>\n",
       "      <td>2021-03-11</td>\n",
       "      <td>3</td>\n",
       "    </tr>\n",
       "    <tr>\n",
       "      <th>1998</th>\n",
       "      <td>216</td>\n",
       "      <td>4831.339954</td>\n",
       "      <td>38.352763</td>\n",
       "      <td>2021-05-11</td>\n",
       "      <td>5</td>\n",
       "    </tr>\n",
       "    <tr>\n",
       "      <th>2623</th>\n",
       "      <td>278</td>\n",
       "      <td>4754.433686</td>\n",
       "      <td>39.526602</td>\n",
       "      <td>2021-12-02</td>\n",
       "      <td>12</td>\n",
       "    </tr>\n",
       "    <tr>\n",
       "      <th>4709</th>\n",
       "      <td>507</td>\n",
       "      <td>4645.642671</td>\n",
       "      <td>39.873856</td>\n",
       "      <td>2021-01-15</td>\n",
       "      <td>1</td>\n",
       "    </tr>\n",
       "    <tr>\n",
       "      <th>4215</th>\n",
       "      <td>454</td>\n",
       "      <td>5137.327103</td>\n",
       "      <td>40.823963</td>\n",
       "      <td>2021-12-27</td>\n",
       "      <td>12</td>\n",
       "    </tr>\n",
       "  </tbody>\n",
       "</table>\n",
       "<p>18068 rows × 5 columns</p>\n",
       "</div>"
      ],
      "text/plain": [
       "       user_id     distance   duration       date  month\n",
       "12013     1102  4602.122401   0.500000 2021-08-01      8\n",
       "17314     1483  4445.481070   0.500000 2021-03-06      3\n",
       "15029     1318  5894.633314   0.500000 2021-03-28      3\n",
       "7437       766  4539.088310   0.500000 2021-12-22     12\n",
       "12967     1172  4907.140751   0.500000 2021-12-19     12\n",
       "...        ...          ...        ...        ...    ...\n",
       "6453       694  4210.871467  38.265229 2021-03-11      3\n",
       "1998       216  4831.339954  38.352763 2021-05-11      5\n",
       "2623       278  4754.433686  39.526602 2021-12-02     12\n",
       "4709       507  4645.642671  39.873856 2021-01-15      1\n",
       "4215       454  5137.327103  40.823963 2021-12-27     12\n",
       "\n",
       "[18068 rows x 5 columns]"
      ]
     },
     "execution_count": 16,
     "metadata": {},
     "output_type": "execute_result"
    }
   ],
   "source": [
    "rides.sort_values('duration')"
   ]
  },
  {
   "cell_type": "markdown",
   "id": "49b4f491",
   "metadata": {},
   "source": [
    "Среди значений есть выброс -- около 100 пользователей, которые ехали меньше минуты.\n",
    "\n",
    "#### Шаг 4. Объединение данных"
   ]
  },
  {
   "cell_type": "code",
   "execution_count": 17,
   "id": "853fd092",
   "metadata": {},
   "outputs": [
    {
     "name": "stdout",
     "output_type": "stream",
     "text": [
      "<class 'pandas.core.frame.DataFrame'>\n",
      "Int64Index: 18068 entries, 0 to 18067\n",
      "Data columns (total 12 columns):\n",
      " #   Column             Non-Null Count  Dtype         \n",
      "---  ------             --------------  -----         \n",
      " 0   user_id            18068 non-null  int64         \n",
      " 1   name               18068 non-null  object        \n",
      " 2   age                18068 non-null  int64         \n",
      " 3   city               18068 non-null  object        \n",
      " 4   subscription_type  18068 non-null  object        \n",
      " 5   distance           18068 non-null  float64       \n",
      " 6   duration           18068 non-null  float64       \n",
      " 7   date               18068 non-null  datetime64[ns]\n",
      " 8   month              18068 non-null  int64         \n",
      " 9   minute_price       18068 non-null  int64         \n",
      " 10  start_ride_price   18068 non-null  int64         \n",
      " 11  subscription_fee   18068 non-null  int64         \n",
      "dtypes: datetime64[ns](1), float64(2), int64(6), object(3)\n",
      "memory usage: 1.8+ MB\n"
     ]
    }
   ],
   "source": [
    "data_old = users.merge(rides, on='user_id')\n",
    "data = data_old.merge(sub, on = 'subscription_type')\n",
    "data.info()"
   ]
  },
  {
   "cell_type": "markdown",
   "id": "65b80b6b",
   "metadata": {},
   "source": [
    "Количество наблюдений, получившихся в таблице – 18068. Именно столько наблюдений и было в датафрейме rides. Объединение выполнено верно."
   ]
  },
  {
   "cell_type": "code",
   "execution_count": 18,
   "id": "a71e7c11",
   "metadata": {},
   "outputs": [
    {
     "data": {
      "text/html": [
       "<div>\n",
       "<style scoped>\n",
       "    .dataframe tbody tr th:only-of-type {\n",
       "        vertical-align: middle;\n",
       "    }\n",
       "\n",
       "    .dataframe tbody tr th {\n",
       "        vertical-align: top;\n",
       "    }\n",
       "\n",
       "    .dataframe thead th {\n",
       "        text-align: right;\n",
       "    }\n",
       "</style>\n",
       "<table border=\"1\" class=\"dataframe\">\n",
       "  <thead>\n",
       "    <tr style=\"text-align: right;\">\n",
       "      <th></th>\n",
       "      <th>user_id</th>\n",
       "      <th>name</th>\n",
       "      <th>age</th>\n",
       "      <th>city</th>\n",
       "      <th>subscription_type</th>\n",
       "      <th>distance</th>\n",
       "      <th>duration</th>\n",
       "      <th>date</th>\n",
       "      <th>month</th>\n",
       "      <th>minute_price</th>\n",
       "      <th>start_ride_price</th>\n",
       "      <th>subscription_fee</th>\n",
       "    </tr>\n",
       "  </thead>\n",
       "  <tbody>\n",
       "    <tr>\n",
       "      <th>6500</th>\n",
       "      <td>700</td>\n",
       "      <td>Айдар</td>\n",
       "      <td>22</td>\n",
       "      <td>Омск</td>\n",
       "      <td>free</td>\n",
       "      <td>2515.690719</td>\n",
       "      <td>14.944286</td>\n",
       "      <td>2021-01-02</td>\n",
       "      <td>1</td>\n",
       "      <td>8</td>\n",
       "      <td>50</td>\n",
       "      <td>0</td>\n",
       "    </tr>\n",
       "    <tr>\n",
       "      <th>6501</th>\n",
       "      <td>700</td>\n",
       "      <td>Айдар</td>\n",
       "      <td>22</td>\n",
       "      <td>Омск</td>\n",
       "      <td>free</td>\n",
       "      <td>846.932642</td>\n",
       "      <td>16.234663</td>\n",
       "      <td>2021-02-01</td>\n",
       "      <td>2</td>\n",
       "      <td>8</td>\n",
       "      <td>50</td>\n",
       "      <td>0</td>\n",
       "    </tr>\n",
       "    <tr>\n",
       "      <th>6502</th>\n",
       "      <td>700</td>\n",
       "      <td>Айдар</td>\n",
       "      <td>22</td>\n",
       "      <td>Омск</td>\n",
       "      <td>free</td>\n",
       "      <td>4004.434142</td>\n",
       "      <td>20.016628</td>\n",
       "      <td>2021-02-04</td>\n",
       "      <td>2</td>\n",
       "      <td>8</td>\n",
       "      <td>50</td>\n",
       "      <td>0</td>\n",
       "    </tr>\n",
       "    <tr>\n",
       "      <th>6503</th>\n",
       "      <td>700</td>\n",
       "      <td>Айдар</td>\n",
       "      <td>22</td>\n",
       "      <td>Омск</td>\n",
       "      <td>free</td>\n",
       "      <td>1205.911290</td>\n",
       "      <td>9.782872</td>\n",
       "      <td>2021-02-10</td>\n",
       "      <td>2</td>\n",
       "      <td>8</td>\n",
       "      <td>50</td>\n",
       "      <td>0</td>\n",
       "    </tr>\n",
       "    <tr>\n",
       "      <th>6504</th>\n",
       "      <td>700</td>\n",
       "      <td>Айдар</td>\n",
       "      <td>22</td>\n",
       "      <td>Омск</td>\n",
       "      <td>free</td>\n",
       "      <td>3047.379435</td>\n",
       "      <td>17.427673</td>\n",
       "      <td>2021-02-14</td>\n",
       "      <td>2</td>\n",
       "      <td>8</td>\n",
       "      <td>50</td>\n",
       "      <td>0</td>\n",
       "    </tr>\n",
       "  </tbody>\n",
       "</table>\n",
       "</div>"
      ],
      "text/plain": [
       "      user_id   name  age  city subscription_type     distance   duration  \\\n",
       "6500      700  Айдар   22  Омск              free  2515.690719  14.944286   \n",
       "6501      700  Айдар   22  Омск              free   846.932642  16.234663   \n",
       "6502      700  Айдар   22  Омск              free  4004.434142  20.016628   \n",
       "6503      700  Айдар   22  Омск              free  1205.911290   9.782872   \n",
       "6504      700  Айдар   22  Омск              free  3047.379435  17.427673   \n",
       "\n",
       "           date  month  minute_price  start_ride_price  subscription_fee  \n",
       "6500 2021-01-02      1             8                50                 0  \n",
       "6501 2021-02-01      2             8                50                 0  \n",
       "6502 2021-02-04      2             8                50                 0  \n",
       "6503 2021-02-10      2             8                50                 0  \n",
       "6504 2021-02-14      2             8                50                 0  "
      ]
     },
     "execution_count": 18,
     "metadata": {},
     "output_type": "execute_result"
    }
   ],
   "source": [
    "data_ultra = data.query('subscription_type == \"ultra\"')\n",
    "data_free = data.query('subscription_type == \"free\"')\n",
    "\n",
    "data_ultra.head()\n",
    "data_free.head()"
   ]
  },
  {
   "cell_type": "code",
   "execution_count": 19,
   "id": "e50e2cc9",
   "metadata": {},
   "outputs": [
    {
     "data": {
      "image/png": "[encoded data removed]",
      "text/plain": [
       "<Figure size 640x480 with 1 Axes>"
      ]
     },
     "metadata": {},
     "output_type": "display_data"
    }
   ],
   "source": [
    "data_ultra['distance'].plot(kind='hist', histtype='step'\n",
    "                                        , bins=70, label='c подпиской', linewidth=2, legend=True)\n",
    "data_free['distance'].plot(kind='hist', histtype='step'\n",
    "                                        , bins=70, label='без подписки', linewidth=2, legend=True)\n",
    "plt.title('Пройденная дистанция для пользователей обеих категорий')\n",
    "plt.xlabel('Пройденное расстояние')\n",
    "plt.ylabel('Количество пользователей')\n",
    "plt.show()"
   ]
  },
  {
   "cell_type": "markdown",
   "id": "20fc709f",
   "metadata": {},
   "source": [
    "Средняя дистанция, пройденная пользователями с подпиской и без подписки на первый взгляд распределена примерно одинаково с общими трендами распределения пройденного расстояния (до 800-900 метров – рост, падение до 1500-2000 метров, снова рост на интервале от 1500-2000 до приблизительно 3000 метров и снова падение). Небольшое отличие заметно лишь потому, что пользователей без подписки больше, поэтому графики немного отличаются."
   ]
  },
  {
   "cell_type": "code",
   "execution_count": 20,
   "id": "e55e50ed",
   "metadata": {},
   "outputs": [
    {
     "data": {
      "image/png": "[encoded data removed]",
      "text/plain": [
       "<Figure size 640x480 with 1 Axes>"
      ]
     },
     "metadata": {},
     "output_type": "display_data"
    }
   ],
   "source": [
    "data_ultra['duration'].plot(kind='hist', histtype='step'\n",
    "                                        , bins=70, label='c подпиской', linewidth=2, legend=True)\n",
    "data_free['duration'].plot(kind='hist', histtype='step'\n",
    "                                        , bins=70, label='без подписки', linewidth=2, legend=True)\n",
    "plt.title('Затраченное для пользователей обеих категорий')\n",
    "plt.xlabel('Время')\n",
    "plt.ylabel('Количество пользователей')\n",
    "plt.show()"
   ]
  },
  {
   "cell_type": "markdown",
   "id": "263b386a",
   "metadata": {},
   "source": [
    "Средняя время, затраченное пользователями с подпиской и без подписки на первый взгляд распределено примерно одинаково с общими трендами распределения затраченного времени (постепенный рост на интервале до 20 минут и падение после 20 минут). Небольшое отличие заметно лишь потому, что пользователей без подписки больше, поэтому графики немного отличаются.\n",
    "\n",
    "#### Шаг 5. Подсчёт выручки"
   ]
  },
  {
   "cell_type": "code",
   "execution_count": 21,
   "id": "85785a28",
   "metadata": {},
   "outputs": [
    {
     "data": {
      "text/html": [
       "<div>\n",
       "<style scoped>\n",
       "    .dataframe tbody tr th:only-of-type {\n",
       "        vertical-align: middle;\n",
       "    }\n",
       "\n",
       "    .dataframe tbody tr th {\n",
       "        vertical-align: top;\n",
       "    }\n",
       "\n",
       "    .dataframe thead th {\n",
       "        text-align: right;\n",
       "    }\n",
       "</style>\n",
       "<table border=\"1\" class=\"dataframe\">\n",
       "  <thead>\n",
       "    <tr style=\"text-align: right;\">\n",
       "      <th></th>\n",
       "      <th>user_id</th>\n",
       "      <th>name</th>\n",
       "      <th>age</th>\n",
       "      <th>city</th>\n",
       "      <th>subscription_type</th>\n",
       "      <th>distance</th>\n",
       "      <th>duration</th>\n",
       "      <th>date</th>\n",
       "      <th>month</th>\n",
       "      <th>minute_price</th>\n",
       "      <th>start_ride_price</th>\n",
       "      <th>subscription_fee</th>\n",
       "    </tr>\n",
       "  </thead>\n",
       "  <tbody>\n",
       "    <tr>\n",
       "      <th>0</th>\n",
       "      <td>1</td>\n",
       "      <td>Кира</td>\n",
       "      <td>22</td>\n",
       "      <td>Тюмень</td>\n",
       "      <td>ultra</td>\n",
       "      <td>4409.919140</td>\n",
       "      <td>26.0</td>\n",
       "      <td>2021-01-01</td>\n",
       "      <td>1</td>\n",
       "      <td>6</td>\n",
       "      <td>0</td>\n",
       "      <td>199</td>\n",
       "    </tr>\n",
       "    <tr>\n",
       "      <th>1</th>\n",
       "      <td>1</td>\n",
       "      <td>Кира</td>\n",
       "      <td>22</td>\n",
       "      <td>Тюмень</td>\n",
       "      <td>ultra</td>\n",
       "      <td>2617.592153</td>\n",
       "      <td>16.0</td>\n",
       "      <td>2021-01-18</td>\n",
       "      <td>1</td>\n",
       "      <td>6</td>\n",
       "      <td>0</td>\n",
       "      <td>199</td>\n",
       "    </tr>\n",
       "    <tr>\n",
       "      <th>2</th>\n",
       "      <td>1</td>\n",
       "      <td>Кира</td>\n",
       "      <td>22</td>\n",
       "      <td>Тюмень</td>\n",
       "      <td>ultra</td>\n",
       "      <td>754.159807</td>\n",
       "      <td>7.0</td>\n",
       "      <td>2021-04-20</td>\n",
       "      <td>4</td>\n",
       "      <td>6</td>\n",
       "      <td>0</td>\n",
       "      <td>199</td>\n",
       "    </tr>\n",
       "    <tr>\n",
       "      <th>3</th>\n",
       "      <td>1</td>\n",
       "      <td>Кира</td>\n",
       "      <td>22</td>\n",
       "      <td>Тюмень</td>\n",
       "      <td>ultra</td>\n",
       "      <td>2694.783254</td>\n",
       "      <td>19.0</td>\n",
       "      <td>2021-08-11</td>\n",
       "      <td>8</td>\n",
       "      <td>6</td>\n",
       "      <td>0</td>\n",
       "      <td>199</td>\n",
       "    </tr>\n",
       "    <tr>\n",
       "      <th>4</th>\n",
       "      <td>1</td>\n",
       "      <td>Кира</td>\n",
       "      <td>22</td>\n",
       "      <td>Тюмень</td>\n",
       "      <td>ultra</td>\n",
       "      <td>4028.687306</td>\n",
       "      <td>27.0</td>\n",
       "      <td>2021-08-28</td>\n",
       "      <td>8</td>\n",
       "      <td>6</td>\n",
       "      <td>0</td>\n",
       "      <td>199</td>\n",
       "    </tr>\n",
       "    <tr>\n",
       "      <th>...</th>\n",
       "      <td>...</td>\n",
       "      <td>...</td>\n",
       "      <td>...</td>\n",
       "      <td>...</td>\n",
       "      <td>...</td>\n",
       "      <td>...</td>\n",
       "      <td>...</td>\n",
       "      <td>...</td>\n",
       "      <td>...</td>\n",
       "      <td>...</td>\n",
       "      <td>...</td>\n",
       "      <td>...</td>\n",
       "    </tr>\n",
       "    <tr>\n",
       "      <th>18063</th>\n",
       "      <td>1534</td>\n",
       "      <td>Альберт</td>\n",
       "      <td>25</td>\n",
       "      <td>Краснодар</td>\n",
       "      <td>free</td>\n",
       "      <td>3781.098080</td>\n",
       "      <td>20.0</td>\n",
       "      <td>2021-11-04</td>\n",
       "      <td>11</td>\n",
       "      <td>8</td>\n",
       "      <td>50</td>\n",
       "      <td>0</td>\n",
       "    </tr>\n",
       "    <tr>\n",
       "      <th>18064</th>\n",
       "      <td>1534</td>\n",
       "      <td>Альберт</td>\n",
       "      <td>25</td>\n",
       "      <td>Краснодар</td>\n",
       "      <td>free</td>\n",
       "      <td>2840.423057</td>\n",
       "      <td>22.0</td>\n",
       "      <td>2021-11-16</td>\n",
       "      <td>11</td>\n",
       "      <td>8</td>\n",
       "      <td>50</td>\n",
       "      <td>0</td>\n",
       "    </tr>\n",
       "    <tr>\n",
       "      <th>18065</th>\n",
       "      <td>1534</td>\n",
       "      <td>Альберт</td>\n",
       "      <td>25</td>\n",
       "      <td>Краснодар</td>\n",
       "      <td>free</td>\n",
       "      <td>3826.185507</td>\n",
       "      <td>19.0</td>\n",
       "      <td>2021-11-18</td>\n",
       "      <td>11</td>\n",
       "      <td>8</td>\n",
       "      <td>50</td>\n",
       "      <td>0</td>\n",
       "    </tr>\n",
       "    <tr>\n",
       "      <th>18066</th>\n",
       "      <td>1534</td>\n",
       "      <td>Альберт</td>\n",
       "      <td>25</td>\n",
       "      <td>Краснодар</td>\n",
       "      <td>free</td>\n",
       "      <td>2902.308661</td>\n",
       "      <td>17.0</td>\n",
       "      <td>2021-11-27</td>\n",
       "      <td>11</td>\n",
       "      <td>8</td>\n",
       "      <td>50</td>\n",
       "      <td>0</td>\n",
       "    </tr>\n",
       "    <tr>\n",
       "      <th>18067</th>\n",
       "      <td>1534</td>\n",
       "      <td>Альберт</td>\n",
       "      <td>25</td>\n",
       "      <td>Краснодар</td>\n",
       "      <td>free</td>\n",
       "      <td>2371.711192</td>\n",
       "      <td>16.0</td>\n",
       "      <td>2021-12-29</td>\n",
       "      <td>12</td>\n",
       "      <td>8</td>\n",
       "      <td>50</td>\n",
       "      <td>0</td>\n",
       "    </tr>\n",
       "  </tbody>\n",
       "</table>\n",
       "<p>18068 rows × 12 columns</p>\n",
       "</div>"
      ],
      "text/plain": [
       "       user_id     name  age       city subscription_type     distance  \\\n",
       "0            1     Кира   22     Тюмень             ultra  4409.919140   \n",
       "1            1     Кира   22     Тюмень             ultra  2617.592153   \n",
       "2            1     Кира   22     Тюмень             ultra   754.159807   \n",
       "3            1     Кира   22     Тюмень             ultra  2694.783254   \n",
       "4            1     Кира   22     Тюмень             ultra  4028.687306   \n",
       "...        ...      ...  ...        ...               ...          ...   \n",
       "18063     1534  Альберт   25  Краснодар              free  3781.098080   \n",
       "18064     1534  Альберт   25  Краснодар              free  2840.423057   \n",
       "18065     1534  Альберт   25  Краснодар              free  3826.185507   \n",
       "18066     1534  Альберт   25  Краснодар              free  2902.308661   \n",
       "18067     1534  Альберт   25  Краснодар              free  2371.711192   \n",
       "\n",
       "       duration       date  month  minute_price  start_ride_price  \\\n",
       "0          26.0 2021-01-01      1             6                 0   \n",
       "1          16.0 2021-01-18      1             6                 0   \n",
       "2           7.0 2021-04-20      4             6                 0   \n",
       "3          19.0 2021-08-11      8             6                 0   \n",
       "4          27.0 2021-08-28      8             6                 0   \n",
       "...         ...        ...    ...           ...               ...   \n",
       "18063      20.0 2021-11-04     11             8                50   \n",
       "18064      22.0 2021-11-16     11             8                50   \n",
       "18065      19.0 2021-11-18     11             8                50   \n",
       "18066      17.0 2021-11-27     11             8                50   \n",
       "18067      16.0 2021-12-29     12             8                50   \n",
       "\n",
       "       subscription_fee  \n",
       "0                   199  \n",
       "1                   199  \n",
       "2                   199  \n",
       "3                   199  \n",
       "4                   199  \n",
       "...                 ...  \n",
       "18063                 0  \n",
       "18064                 0  \n",
       "18065                 0  \n",
       "18066                 0  \n",
       "18067                 0  \n",
       "\n",
       "[18068 rows x 12 columns]"
      ]
     },
     "execution_count": 21,
     "metadata": {},
     "output_type": "execute_result"
    }
   ],
   "source": [
    "data['duration'] = np.ceil(data['duration']) \n",
    "data"
   ]
  },
  {
   "cell_type": "code",
   "execution_count": 22,
   "id": "8aa2107f",
   "metadata": {},
   "outputs": [
    {
     "data": {
      "text/html": [
       "<div>\n",
       "<style scoped>\n",
       "    .dataframe tbody tr th:only-of-type {\n",
       "        vertical-align: middle;\n",
       "    }\n",
       "\n",
       "    .dataframe tbody tr th {\n",
       "        vertical-align: top;\n",
       "    }\n",
       "\n",
       "    .dataframe thead th {\n",
       "        text-align: right;\n",
       "    }\n",
       "</style>\n",
       "<table border=\"1\" class=\"dataframe\">\n",
       "  <thead>\n",
       "    <tr style=\"text-align: right;\">\n",
       "      <th></th>\n",
       "      <th>user_id</th>\n",
       "      <th>month</th>\n",
       "      <th>distance</th>\n",
       "      <th>duration</th>\n",
       "      <th>minute_price</th>\n",
       "      <th>name</th>\n",
       "      <th>start_ride_price</th>\n",
       "      <th>subscription_fee</th>\n",
       "      <th>subscription_type</th>\n",
       "    </tr>\n",
       "  </thead>\n",
       "  <tbody>\n",
       "    <tr>\n",
       "      <th>0</th>\n",
       "      <td>1</td>\n",
       "      <td>1</td>\n",
       "      <td>7027.511294</td>\n",
       "      <td>42.0</td>\n",
       "      <td>6</td>\n",
       "      <td>2</td>\n",
       "      <td>0</td>\n",
       "      <td>199</td>\n",
       "      <td>ultra</td>\n",
       "    </tr>\n",
       "    <tr>\n",
       "      <th>1</th>\n",
       "      <td>1</td>\n",
       "      <td>4</td>\n",
       "      <td>754.159807</td>\n",
       "      <td>7.0</td>\n",
       "      <td>6</td>\n",
       "      <td>1</td>\n",
       "      <td>0</td>\n",
       "      <td>199</td>\n",
       "      <td>ultra</td>\n",
       "    </tr>\n",
       "    <tr>\n",
       "      <th>2</th>\n",
       "      <td>1</td>\n",
       "      <td>8</td>\n",
       "      <td>6723.470560</td>\n",
       "      <td>46.0</td>\n",
       "      <td>6</td>\n",
       "      <td>2</td>\n",
       "      <td>0</td>\n",
       "      <td>199</td>\n",
       "      <td>ultra</td>\n",
       "    </tr>\n",
       "    <tr>\n",
       "      <th>3</th>\n",
       "      <td>1</td>\n",
       "      <td>10</td>\n",
       "      <td>5809.911100</td>\n",
       "      <td>32.0</td>\n",
       "      <td>6</td>\n",
       "      <td>2</td>\n",
       "      <td>0</td>\n",
       "      <td>199</td>\n",
       "      <td>ultra</td>\n",
       "    </tr>\n",
       "    <tr>\n",
       "      <th>4</th>\n",
       "      <td>1</td>\n",
       "      <td>11</td>\n",
       "      <td>7003.499363</td>\n",
       "      <td>56.0</td>\n",
       "      <td>6</td>\n",
       "      <td>3</td>\n",
       "      <td>0</td>\n",
       "      <td>199</td>\n",
       "      <td>ultra</td>\n",
       "    </tr>\n",
       "    <tr>\n",
       "      <th>...</th>\n",
       "      <td>...</td>\n",
       "      <td>...</td>\n",
       "      <td>...</td>\n",
       "      <td>...</td>\n",
       "      <td>...</td>\n",
       "      <td>...</td>\n",
       "      <td>...</td>\n",
       "      <td>...</td>\n",
       "      <td>...</td>\n",
       "    </tr>\n",
       "    <tr>\n",
       "      <th>11326</th>\n",
       "      <td>1534</td>\n",
       "      <td>6</td>\n",
       "      <td>3409.468534</td>\n",
       "      <td>26.0</td>\n",
       "      <td>8</td>\n",
       "      <td>2</td>\n",
       "      <td>50</td>\n",
       "      <td>0</td>\n",
       "      <td>free</td>\n",
       "    </tr>\n",
       "    <tr>\n",
       "      <th>11327</th>\n",
       "      <td>1534</td>\n",
       "      <td>8</td>\n",
       "      <td>7622.453034</td>\n",
       "      <td>48.0</td>\n",
       "      <td>8</td>\n",
       "      <td>2</td>\n",
       "      <td>50</td>\n",
       "      <td>0</td>\n",
       "      <td>free</td>\n",
       "    </tr>\n",
       "    <tr>\n",
       "      <th>11328</th>\n",
       "      <td>1534</td>\n",
       "      <td>9</td>\n",
       "      <td>4928.173852</td>\n",
       "      <td>23.0</td>\n",
       "      <td>8</td>\n",
       "      <td>1</td>\n",
       "      <td>50</td>\n",
       "      <td>0</td>\n",
       "      <td>free</td>\n",
       "    </tr>\n",
       "    <tr>\n",
       "      <th>11329</th>\n",
       "      <td>1534</td>\n",
       "      <td>11</td>\n",
       "      <td>13350.015305</td>\n",
       "      <td>78.0</td>\n",
       "      <td>8</td>\n",
       "      <td>4</td>\n",
       "      <td>50</td>\n",
       "      <td>0</td>\n",
       "      <td>free</td>\n",
       "    </tr>\n",
       "    <tr>\n",
       "      <th>11330</th>\n",
       "      <td>1534</td>\n",
       "      <td>12</td>\n",
       "      <td>2371.711192</td>\n",
       "      <td>16.0</td>\n",
       "      <td>8</td>\n",
       "      <td>1</td>\n",
       "      <td>50</td>\n",
       "      <td>0</td>\n",
       "      <td>free</td>\n",
       "    </tr>\n",
       "  </tbody>\n",
       "</table>\n",
       "<p>11331 rows × 9 columns</p>\n",
       "</div>"
      ],
      "text/plain": [
       "       user_id  month      distance  duration  minute_price  name  \\\n",
       "0            1      1   7027.511294      42.0             6     2   \n",
       "1            1      4    754.159807       7.0             6     1   \n",
       "2            1      8   6723.470560      46.0             6     2   \n",
       "3            1     10   5809.911100      32.0             6     2   \n",
       "4            1     11   7003.499363      56.0             6     3   \n",
       "...        ...    ...           ...       ...           ...   ...   \n",
       "11326     1534      6   3409.468534      26.0             8     2   \n",
       "11327     1534      8   7622.453034      48.0             8     2   \n",
       "11328     1534      9   4928.173852      23.0             8     1   \n",
       "11329     1534     11  13350.015305      78.0             8     4   \n",
       "11330     1534     12   2371.711192      16.0             8     1   \n",
       "\n",
       "       start_ride_price  subscription_fee subscription_type  \n",
       "0                     0               199             ultra  \n",
       "1                     0               199             ultra  \n",
       "2                     0               199             ultra  \n",
       "3                     0               199             ultra  \n",
       "4                     0               199             ultra  \n",
       "...                 ...               ...               ...  \n",
       "11326                50                 0              free  \n",
       "11327                50                 0              free  \n",
       "11328                50                 0              free  \n",
       "11329                50                 0              free  \n",
       "11330                50                 0              free  \n",
       "\n",
       "[11331 rows x 9 columns]"
      ]
     },
     "execution_count": 22,
     "metadata": {},
     "output_type": "execute_result"
    }
   ],
   "source": [
    "pivot_data = pd.pivot_table(data, index=['user_id', 'month'], \n",
    "                            values = ['distance', 'name', \n",
    "                                      'duration', 'subscription_type', 'start_ride_price', 'subscription_fee', 'minute_price'], \n",
    "                            aggfunc={'distance': 'sum', \n",
    "                                     'name': 'count',\n",
    "                                     'duration': 'sum',\n",
    "                                     'subscription_type': 'first',\n",
    "                                     'start_ride_price': 'first',\n",
    "                                     'subscription_fee': 'first',\n",
    "                                     'minute_price': 'first'}).reset_index()\n",
    "pivot_data"
   ]
  },
  {
   "cell_type": "code",
   "execution_count": 23,
   "id": "e36f2516",
   "metadata": {},
   "outputs": [
    {
     "data": {
      "text/html": [
       "<div>\n",
       "<style scoped>\n",
       "    .dataframe tbody tr th:only-of-type {\n",
       "        vertical-align: middle;\n",
       "    }\n",
       "\n",
       "    .dataframe tbody tr th {\n",
       "        vertical-align: top;\n",
       "    }\n",
       "\n",
       "    .dataframe thead th {\n",
       "        text-align: right;\n",
       "    }\n",
       "</style>\n",
       "<table border=\"1\" class=\"dataframe\">\n",
       "  <thead>\n",
       "    <tr style=\"text-align: right;\">\n",
       "      <th></th>\n",
       "      <th>user_id</th>\n",
       "      <th>month</th>\n",
       "      <th>distance</th>\n",
       "      <th>duration</th>\n",
       "      <th>minute_price</th>\n",
       "      <th>name</th>\n",
       "      <th>start_ride_price</th>\n",
       "      <th>subscription_fee</th>\n",
       "      <th>subscription_type</th>\n",
       "      <th>revenue</th>\n",
       "    </tr>\n",
       "  </thead>\n",
       "  <tbody>\n",
       "    <tr>\n",
       "      <th>0</th>\n",
       "      <td>1</td>\n",
       "      <td>1</td>\n",
       "      <td>7027.511294</td>\n",
       "      <td>42.0</td>\n",
       "      <td>6</td>\n",
       "      <td>2</td>\n",
       "      <td>0</td>\n",
       "      <td>199</td>\n",
       "      <td>ultra</td>\n",
       "      <td>451.0</td>\n",
       "    </tr>\n",
       "    <tr>\n",
       "      <th>1</th>\n",
       "      <td>1</td>\n",
       "      <td>4</td>\n",
       "      <td>754.159807</td>\n",
       "      <td>7.0</td>\n",
       "      <td>6</td>\n",
       "      <td>1</td>\n",
       "      <td>0</td>\n",
       "      <td>199</td>\n",
       "      <td>ultra</td>\n",
       "      <td>241.0</td>\n",
       "    </tr>\n",
       "    <tr>\n",
       "      <th>2</th>\n",
       "      <td>1</td>\n",
       "      <td>8</td>\n",
       "      <td>6723.470560</td>\n",
       "      <td>46.0</td>\n",
       "      <td>6</td>\n",
       "      <td>2</td>\n",
       "      <td>0</td>\n",
       "      <td>199</td>\n",
       "      <td>ultra</td>\n",
       "      <td>475.0</td>\n",
       "    </tr>\n",
       "    <tr>\n",
       "      <th>3</th>\n",
       "      <td>1</td>\n",
       "      <td>10</td>\n",
       "      <td>5809.911100</td>\n",
       "      <td>32.0</td>\n",
       "      <td>6</td>\n",
       "      <td>2</td>\n",
       "      <td>0</td>\n",
       "      <td>199</td>\n",
       "      <td>ultra</td>\n",
       "      <td>391.0</td>\n",
       "    </tr>\n",
       "    <tr>\n",
       "      <th>4</th>\n",
       "      <td>1</td>\n",
       "      <td>11</td>\n",
       "      <td>7003.499363</td>\n",
       "      <td>56.0</td>\n",
       "      <td>6</td>\n",
       "      <td>3</td>\n",
       "      <td>0</td>\n",
       "      <td>199</td>\n",
       "      <td>ultra</td>\n",
       "      <td>535.0</td>\n",
       "    </tr>\n",
       "    <tr>\n",
       "      <th>...</th>\n",
       "      <td>...</td>\n",
       "      <td>...</td>\n",
       "      <td>...</td>\n",
       "      <td>...</td>\n",
       "      <td>...</td>\n",
       "      <td>...</td>\n",
       "      <td>...</td>\n",
       "      <td>...</td>\n",
       "      <td>...</td>\n",
       "      <td>...</td>\n",
       "    </tr>\n",
       "    <tr>\n",
       "      <th>11326</th>\n",
       "      <td>1534</td>\n",
       "      <td>6</td>\n",
       "      <td>3409.468534</td>\n",
       "      <td>26.0</td>\n",
       "      <td>8</td>\n",
       "      <td>2</td>\n",
       "      <td>50</td>\n",
       "      <td>0</td>\n",
       "      <td>free</td>\n",
       "      <td>308.0</td>\n",
       "    </tr>\n",
       "    <tr>\n",
       "      <th>11327</th>\n",
       "      <td>1534</td>\n",
       "      <td>8</td>\n",
       "      <td>7622.453034</td>\n",
       "      <td>48.0</td>\n",
       "      <td>8</td>\n",
       "      <td>2</td>\n",
       "      <td>50</td>\n",
       "      <td>0</td>\n",
       "      <td>free</td>\n",
       "      <td>484.0</td>\n",
       "    </tr>\n",
       "    <tr>\n",
       "      <th>11328</th>\n",
       "      <td>1534</td>\n",
       "      <td>9</td>\n",
       "      <td>4928.173852</td>\n",
       "      <td>23.0</td>\n",
       "      <td>8</td>\n",
       "      <td>1</td>\n",
       "      <td>50</td>\n",
       "      <td>0</td>\n",
       "      <td>free</td>\n",
       "      <td>234.0</td>\n",
       "    </tr>\n",
       "    <tr>\n",
       "      <th>11329</th>\n",
       "      <td>1534</td>\n",
       "      <td>11</td>\n",
       "      <td>13350.015305</td>\n",
       "      <td>78.0</td>\n",
       "      <td>8</td>\n",
       "      <td>4</td>\n",
       "      <td>50</td>\n",
       "      <td>0</td>\n",
       "      <td>free</td>\n",
       "      <td>824.0</td>\n",
       "    </tr>\n",
       "    <tr>\n",
       "      <th>11330</th>\n",
       "      <td>1534</td>\n",
       "      <td>12</td>\n",
       "      <td>2371.711192</td>\n",
       "      <td>16.0</td>\n",
       "      <td>8</td>\n",
       "      <td>1</td>\n",
       "      <td>50</td>\n",
       "      <td>0</td>\n",
       "      <td>free</td>\n",
       "      <td>178.0</td>\n",
       "    </tr>\n",
       "  </tbody>\n",
       "</table>\n",
       "<p>11331 rows × 10 columns</p>\n",
       "</div>"
      ],
      "text/plain": [
       "       user_id  month      distance  duration  minute_price  name  \\\n",
       "0            1      1   7027.511294      42.0             6     2   \n",
       "1            1      4    754.159807       7.0             6     1   \n",
       "2            1      8   6723.470560      46.0             6     2   \n",
       "3            1     10   5809.911100      32.0             6     2   \n",
       "4            1     11   7003.499363      56.0             6     3   \n",
       "...        ...    ...           ...       ...           ...   ...   \n",
       "11326     1534      6   3409.468534      26.0             8     2   \n",
       "11327     1534      8   7622.453034      48.0             8     2   \n",
       "11328     1534      9   4928.173852      23.0             8     1   \n",
       "11329     1534     11  13350.015305      78.0             8     4   \n",
       "11330     1534     12   2371.711192      16.0             8     1   \n",
       "\n",
       "       start_ride_price  subscription_fee subscription_type  revenue  \n",
       "0                     0               199             ultra    451.0  \n",
       "1                     0               199             ultra    241.0  \n",
       "2                     0               199             ultra    475.0  \n",
       "3                     0               199             ultra    391.0  \n",
       "4                     0               199             ultra    535.0  \n",
       "...                 ...               ...               ...      ...  \n",
       "11326                50                 0              free    308.0  \n",
       "11327                50                 0              free    484.0  \n",
       "11328                50                 0              free    234.0  \n",
       "11329                50                 0              free    824.0  \n",
       "11330                50                 0              free    178.0  \n",
       "\n",
       "[11331 rows x 10 columns]"
      ]
     },
     "execution_count": 23,
     "metadata": {},
     "output_type": "execute_result"
    }
   ],
   "source": [
    "pivot_data['revenue'] = ((pivot_data['name']*pivot_data['start_ride_price']) + (pivot_data['duration']*pivot_data['minute_price']) + pivot_data['subscription_fee'])\n",
    "pivot_data"
   ]
  },
  {
   "cell_type": "markdown",
   "id": "6fc88e4e",
   "metadata": {},
   "source": [
    "#### Шаг 6. Проверка гипотез\n",
    "\n",
    "**1. H0: пользователи с подпиской тратят столько же времени времени на поездки, как и пользователи без подписки**\n",
    "\n",
    "**H1: пользователи с подпиской тратят больше времени на поездки по сравнению с пользователями без подписки**"
   ]
  },
  {
   "cell_type": "code",
   "execution_count": 24,
   "id": "75f3c387",
   "metadata": {},
   "outputs": [
    {
     "name": "stdout",
     "output_type": "stream",
     "text": [
      "p-значение: 1.2804098316645618e-34\n",
      "Отвергаем нулевую гипотезу\n"
     ]
    }
   ],
   "source": [
    "alpha = 0.05\n",
    "\n",
    "results = st.ttest_ind(data_ultra['duration'], data_free['duration'], alternative='greater')\n",
    "\n",
    "print('p-значение:', results.pvalue) # добавьте в аргумент p-value\n",
    "\n",
    "if (results.pvalue < alpha):\n",
    "    print('Отвергаем нулевую гипотезу')\n",
    "else:\n",
    "    print('Нет оснований отвергнуть нулевую гипотезу')"
   ]
  },
  {
   "cell_type": "markdown",
   "id": "381abfbe",
   "metadata": {},
   "source": [
    "По результатам тестирования гипотезы мы можем прийти к выводу, что с большей вероятностью **пользователи с подпиской тратят больше времени на поездки** по сравнению с пользователями без подписки.\n",
    "\n",
    "**2. H0 = поездки как пользователей без подписки, так и пользователей с подпиской равны 3130 метра**\n",
    "\n",
    "**Н1 = расстояние, которое проезжают пользователи с подпиской за одну поездку, не превышает 3130 метров**"
   ]
  },
  {
   "cell_type": "code",
   "execution_count": 25,
   "id": "9f1ddd09",
   "metadata": {},
   "outputs": [
    {
     "name": "stdout",
     "output_type": "stream",
     "text": [
      "p-значение: 0.08046311521502146\n",
      "Не получилось отвергнуть нулевую гипотезу: поездки в среднем достигают запланированных показателей\n"
     ]
    }
   ],
   "source": [
    "interested_value = 3130\n",
    "\n",
    "alpha = 0.05\n",
    "\n",
    "results = st.ttest_1samp(\n",
    "    data_ultra['distance'], \n",
    "    interested_value,\n",
    "      alternative='less')\n",
    "\n",
    "print('p-значение:', results.pvalue) # добавьте в аргумент p-value\n",
    "\n",
    "if (results.pvalue < alpha):\n",
    "    print('Отвергаем нулевую гипотезу: поездка в среднем значимо меньше 3130 метров')\n",
    "else:\n",
    "    print('Не получилось отвергнуть нулевую гипотезу: поездки в среднем достигают запланированных показателей')"
   ]
  },
  {
   "cell_type": "markdown",
   "id": "70cea15f",
   "metadata": {},
   "source": [
    "Расстояние, которое проезжают пользователи с подпиской за одну поездку, достигает запланированных показателей и не превышает 3130 метров.\n",
    "\n",
    "**3. H0: средние значения трат пользователей из двух групп (пользователи с подпиской и без подписки) равны.**\n",
    "\n",
    "**H1: среднее значение трат пользователей с подпиской больше, чем среднее значение трат пользователей без подписки**"
   ]
  },
  {
   "cell_type": "code",
   "execution_count": 26,
   "id": "cf16c2f9",
   "metadata": {},
   "outputs": [],
   "source": [
    "ultra = pivot_data.query('subscription_type == \"ultra\"')\n",
    "free = pivot_data.query('subscription_type == \"free\"')"
   ]
  },
  {
   "cell_type": "code",
   "execution_count": 27,
   "id": "8b48e43c",
   "metadata": {},
   "outputs": [
    {
     "name": "stdout",
     "output_type": "stream",
     "text": [
      "p-value: 1.8850394384715216e-31\n",
      "Отвергаем нулевую гипотезу\n"
     ]
    }
   ],
   "source": [
    "alpha = 0.05\n",
    "\n",
    "results = st.ttest_ind(ultra['revenue'], free['revenue'], alternative='greater')\n",
    "\n",
    "print(f'p-value: {results.pvalue}')\n",
    "\n",
    "# проверяем p-value\n",
    "if results.pvalue < alpha:\n",
    "    print('Отвергаем нулевую гипотезу')\n",
    "else:\n",
    "    print('Нет оснований отвергнуть нулевую гипотезу')"
   ]
  },
  {
   "cell_type": "markdown",
   "id": "c83ecb44",
   "metadata": {},
   "source": [
    "По результатам тестирования гипотезы мы можем прийти к выводу, что среднее значение трат пользователей с подпиской больше, чем среднее значение трат пользователей без подписки, следовательно, пользователи с подпиской приносят больше прибыли, чем пользователи без подписки.\n",
    "\n",
    "Tехническая команда сервиса обновила сервера, с которыми взаимодействует мобильное приложение. Она надеется, что из-за этого количество обращений в техподдержку значимо снизилось. Некоторый файл содержит для каждого пользователя данные о количестве обращений до обновления и после него. Здесь нужно было бы применять гипотезу о равенстве средних для зависимых (парных) выборок и применить метод scipy.stats.ttest_rel().\n",
    "\n",
    "# Общие выводы\n",
    "\n",
    "В данном исследовании мы проанализировали данные и проверили некоторые гипотезы, которые могут помочь бизнесу вырасти и решить, стоит ли выполнять задачу продакт-менеджерам по увеличению количества пользователей с подпиской.\n",
    "\n",
    "Основываясь на данных полученных из трёх датасетов (users_go, rides_go, subscriptions_go), содержащих детальную информацию о каждой поездке каждого пользователя, мы избавились от неточностях в данных (удалили дубликаты в датафрейме users), мы предприняли следующие шаги:\n",
    "\n",
    "1. Провели исследовательский анализ данных, чтобы определить частота встречаемости городов, соотношение пользователей с подпиской и без подписки, возраст пользователей, расстояние, которое пользователь преодолел за одну поездку, продолжительность поездок.\n",
    "2. Определили среднюю пройденную дистанцию и затраченное время по двум категориям — пользователи без подписки и пользователи с подпиской.\n",
    "3. Подсчитали выручку, которую приносит каждый пользователь за отдельно взятый месяц.\n",
    "4. Вывели гипотезы и протестировали их, чтобы ответить на следующие поставленные вопросы:\n",
    "а) тратят ли пользователи с подпиской больше времени на поездки?\n",
    "б) можно ли сказать, что расстояние, которое проезжают пользователи с подпиской за одну поездку, не превышает 3130 метров? \n",
    "в) будет ли помесячная выручка от пользователей с подпиской по месяцам выше, чем выручка от пользователей без подписки\n",
    "\n",
    "Проанализировав данные о пользователях сервиса аренды самокатов GoFast и их поездках, можно сделать следующие выводы:\n",
    "\n",
    "1. Больше всего пользователей сервиса в Пятигорске (219), меньше всего в Москве (168).\n",
    "2. Больше половины пользователей (54,43%) сервиса не имеют платной подписки. Платная подписки есть лишь у 45,57% пользователей.\n",
    "3. Преимущественно сервисом пользуются люди от 22 до 28 лет. Пользователей младше 12 и старше 43 не обнаружено.\n",
    "4. Расстояние, преодолеваемое пользователями лежит в интервале от 2500 до 3500 метров. Пользователей, которые преодолевают больше 6000 метров практически не обнаружено. Имеется небольшой выброс на интервале от 0 до 1500 метров.\n",
    "5. Преимущественно поездки длятся от 5 до 30 минут. Поездок дольше, чем 35 минут практически не найдено.\n",
    "6. Пользователи с подпиской тратят больше времени на поездки по сравнению с пользователями без подписки.\n",
    "7. Расстояние, которое проезжают пользователи с подпиской за одну поездку, достигает запланированных показателей и не превышает 3130 метров.\n",
    "8. Среднее значение трат пользователей с подпиской больше, чем среднее значение трат пользователей без подписки, следовательно, пользователи с подпиской приносят больше прибыли, чем пользователи без подписки.\n",
    "\n",
    "Суммируя все вышесказанное, мы можем прийти к итоговому выводу, что пользователи с подпиской приносят больше прибыли для сервиса GoFast, поэтому задача по увеличению количества пользователей с подпиской, поставленная продакт-менеджерами, вполне обоснованная и релевантная."
   ]
  }
 ],
 "metadata": {
  "kernelspec": {
   "display_name": "Python 3 (ipykernel)",
   "language": "python",
   "name": "python3"
  },
  "language_info": {
   "codemirror_mode": {
    "name": "ipython",
    "version": 3
   },
   "file_extension": ".py",
   "mimetype": "text/x-python",
   "name": "python",
   "nbconvert_exporter": "python",
   "pygments_lexer": "ipython3",
   "version": "3.10.9"
  }
 },
 "nbformat": 4,
 "nbformat_minor": 5
}
